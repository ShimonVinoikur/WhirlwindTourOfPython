{
 "cells": [
  {
   "cell_type": "markdown",
   "id": "262ed441-1e2f-4f23-af4e-3c1c0f6dc002",
   "metadata": {},
   "source": [
    "# Pandas Test - Real life Exercise"
   ]
  },
  {
   "cell_type": "code",
   "execution_count": 272,
   "id": "e24b34ca-0a21-4dc6-92e4-4b16bcbd5a98",
   "metadata": {},
   "outputs": [],
   "source": [
    "import pandas as pd"
   ]
  },
  {
   "cell_type": "markdown",
   "id": "ad46fe63-39ad-4b03-b6b6-623586b94d45",
   "metadata": {},
   "source": [
    "For visualizations:"
   ]
  },
  {
   "cell_type": "code",
   "execution_count": 273,
   "id": "29a81f79-566f-455d-9e52-278a5128291a",
   "metadata": {},
   "outputs": [
    {
     "name": "stdout",
     "output_type": "stream",
     "text": [
      "Requirement already satisfied: plotly_express in c:\\users\\sona5\\anaconda3\\lib\\site-packages (0.4.1)Note: you may need to restart the kernel to use updated packages.\n",
      "\n",
      "Requirement already satisfied: pandas>=0.20.0 in c:\\users\\sona5\\anaconda3\\lib\\site-packages (from plotly_express) (1.4.4)\n",
      "Requirement already satisfied: statsmodels>=0.9.0 in c:\\users\\sona5\\anaconda3\\lib\\site-packages (from plotly_express) (0.13.2)\n",
      "Requirement already satisfied: patsy>=0.5 in c:\\users\\sona5\\anaconda3\\lib\\site-packages (from plotly_express) (0.5.2)\n",
      "Requirement already satisfied: numpy>=1.11 in c:\\users\\sona5\\anaconda3\\lib\\site-packages (from plotly_express) (1.21.5)\n",
      "Requirement already satisfied: scipy>=0.18 in c:\\users\\sona5\\anaconda3\\lib\\site-packages (from plotly_express) (1.9.1)\n",
      "Requirement already satisfied: plotly>=4.1.0 in c:\\users\\sona5\\anaconda3\\lib\\site-packages (from plotly_express) (5.9.0)\n",
      "Requirement already satisfied: pytz>=2020.1 in c:\\users\\sona5\\anaconda3\\lib\\site-packages (from pandas>=0.20.0->plotly_express) (2022.1)\n",
      "Requirement already satisfied: python-dateutil>=2.8.1 in c:\\users\\sona5\\anaconda3\\lib\\site-packages (from pandas>=0.20.0->plotly_express) (2.8.2)\n",
      "Requirement already satisfied: six in c:\\users\\sona5\\anaconda3\\lib\\site-packages (from patsy>=0.5->plotly_express) (1.16.0)\n",
      "Requirement already satisfied: tenacity>=6.2.0 in c:\\users\\sona5\\anaconda3\\lib\\site-packages (from plotly>=4.1.0->plotly_express) (8.0.1)\n",
      "Requirement already satisfied: packaging>=21.3 in c:\\users\\sona5\\anaconda3\\lib\\site-packages (from statsmodels>=0.9.0->plotly_express) (21.3)\n",
      "Requirement already satisfied: pyparsing!=3.0.5,>=2.0.2 in c:\\users\\sona5\\anaconda3\\lib\\site-packages (from packaging>=21.3->statsmodels>=0.9.0->plotly_express) (3.0.9)\n"
     ]
    }
   ],
   "source": [
    "%pip install plotly_express\n"
   ]
  },
  {
   "cell_type": "code",
   "execution_count": 274,
   "id": "73676598-779c-467f-83c7-a36ed53fa42e",
   "metadata": {},
   "outputs": [
    {
     "name": "stdout",
     "output_type": "stream",
     "text": [
      "Requirement already satisfied: cufflinks in c:\\users\\sona5\\anaconda3\\lib\\site-packages (0.17.3)\n",
      "Requirement already satisfied: setuptools>=34.4.1 in c:\\users\\sona5\\anaconda3\\lib\\site-packages (from cufflinks) (63.4.1)\n",
      "Requirement already satisfied: numpy>=1.9.2 in c:\\users\\sona5\\anaconda3\\lib\\site-packages (from cufflinks) (1.21.5)\n",
      "Requirement already satisfied: six>=1.9.0 in c:\\users\\sona5\\anaconda3\\lib\\site-packages (from cufflinks) (1.16.0)\n",
      "Requirement already satisfied: plotly>=4.1.1 in c:\\users\\sona5\\anaconda3\\lib\\site-packages (from cufflinks) (5.9.0)\n",
      "Requirement already satisfied: ipython>=5.3.0 in c:\\users\\sona5\\anaconda3\\lib\\site-packages (from cufflinks) (7.31.1)\n",
      "Requirement already satisfied: ipywidgets>=7.0.0 in c:\\users\\sona5\\anaconda3\\lib\\site-packages (from cufflinks) (7.6.5)\n",
      "Requirement already satisfied: colorlover>=0.2.1 in c:\\users\\sona5\\anaconda3\\lib\\site-packages (from cufflinks) (0.3.0)\n",
      "Requirement already satisfied: pandas>=0.19.2 in c:\\users\\sona5\\anaconda3\\lib\\site-packages (from cufflinks) (1.4.4)\n",
      "Requirement already satisfied: pygments in c:\\users\\sona5\\anaconda3\\lib\\site-packages (from ipython>=5.3.0->cufflinks) (2.11.2)\n",
      "Requirement already satisfied: decorator in c:\\users\\sona5\\anaconda3\\lib\\site-packages (from ipython>=5.3.0->cufflinks) (5.1.1)\n",
      "Requirement already satisfied: jedi>=0.16 in c:\\users\\sona5\\anaconda3\\lib\\site-packages (from ipython>=5.3.0->cufflinks) (0.18.1)\n",
      "Requirement already satisfied: prompt-toolkit!=3.0.0,!=3.0.1,<3.1.0,>=2.0.0 in c:\\users\\sona5\\anaconda3\\lib\\site-packages (from ipython>=5.3.0->cufflinks) (3.0.20)\n",
      "Requirement already satisfied: pickleshare in c:\\users\\sona5\\anaconda3\\lib\\site-packages (from ipython>=5.3.0->cufflinks) (0.7.5)\n",
      "Requirement already satisfied: colorama in c:\\users\\sona5\\anaconda3\\lib\\site-packages (from ipython>=5.3.0->cufflinks) (0.4.5)\n",
      "Requirement already satisfied: backcall in c:\\users\\sona5\\anaconda3\\lib\\site-packages (from ipython>=5.3.0->cufflinks) (0.2.0)\n",
      "Requirement already satisfied: traitlets>=4.2 in c:\\users\\sona5\\anaconda3\\lib\\site-packages (from ipython>=5.3.0->cufflinks) (5.1.1)\n",
      "Requirement already satisfied: matplotlib-inline in c:\\users\\sona5\\anaconda3\\lib\\site-packages (from ipython>=5.3.0->cufflinks) (0.1.6)\n",
      "Requirement already satisfied: nbformat>=4.2.0 in c:\\users\\sona5\\anaconda3\\lib\\site-packages (from ipywidgets>=7.0.0->cufflinks) (5.5.0)\n",
      "Requirement already satisfied: ipython-genutils~=0.2.0 in c:\\users\\sona5\\anaconda3\\lib\\site-packages (from ipywidgets>=7.0.0->cufflinks) (0.2.0)\n",
      "Requirement already satisfied: jupyterlab-widgets>=1.0.0 in c:\\users\\sona5\\anaconda3\\lib\\site-packages (from ipywidgets>=7.0.0->cufflinks) (1.0.0)\n",
      "Requirement already satisfied: widgetsnbextension~=3.5.0 in c:\\users\\sona5\\anaconda3\\lib\\site-packages (from ipywidgets>=7.0.0->cufflinks) (3.5.2)\n",
      "Requirement already satisfied: ipykernel>=4.5.1 in c:\\users\\sona5\\anaconda3\\lib\\site-packages (from ipywidgets>=7.0.0->cufflinks) (6.15.2)\n",
      "Requirement already satisfied: python-dateutil>=2.8.1 in c:\\users\\sona5\\anaconda3\\lib\\site-packages (from pandas>=0.19.2->cufflinks) (2.8.2)\n",
      "Requirement already satisfied: pytz>=2020.1 in c:\\users\\sona5\\anaconda3\\lib\\site-packages (from pandas>=0.19.2->cufflinks) (2022.1)\n",
      "Requirement already satisfied: tenacity>=6.2.0 in c:\\users\\sona5\\anaconda3\\lib\\site-packages (from plotly>=4.1.1->cufflinks) (8.0.1)\n",
      "Requirement already satisfied: nest-asyncio in c:\\users\\sona5\\anaconda3\\lib\\site-packages (from ipykernel>=4.5.1->ipywidgets>=7.0.0->cufflinks) (1.5.5)\n",
      "Requirement already satisfied: packaging in c:\\users\\sona5\\anaconda3\\lib\\site-packages (from ipykernel>=4.5.1->ipywidgets>=7.0.0->cufflinks) (21.3)\n",
      "Requirement already satisfied: jupyter-client>=6.1.12 in c:\\users\\sona5\\anaconda3\\lib\\site-packages (from ipykernel>=4.5.1->ipywidgets>=7.0.0->cufflinks) (7.3.4)\n",
      "Requirement already satisfied: psutil in c:\\users\\sona5\\anaconda3\\lib\\site-packages (from ipykernel>=4.5.1->ipywidgets>=7.0.0->cufflinks) (5.9.0)\n",
      "Requirement already satisfied: tornado>=6.1 in c:\\users\\sona5\\anaconda3\\lib\\site-packages (from ipykernel>=4.5.1->ipywidgets>=7.0.0->cufflinks) (6.1)\n",
      "Requirement already satisfied: debugpy>=1.0 in c:\\users\\sona5\\anaconda3\\lib\\site-packages (from ipykernel>=4.5.1->ipywidgets>=7.0.0->cufflinks) (1.5.1)\n",
      "Requirement already satisfied: pyzmq>=17 in c:\\users\\sona5\\anaconda3\\lib\\site-packages (from ipykernel>=4.5.1->ipywidgets>=7.0.0->cufflinks) (23.2.0)\n",
      "Requirement already satisfied: parso<0.9.0,>=0.8.0 in c:\\users\\sona5\\anaconda3\\lib\\site-packages (from jedi>=0.16->ipython>=5.3.0->cufflinks) (0.8.3)\n",
      "Requirement already satisfied: jsonschema>=2.6 in c:\\users\\sona5\\anaconda3\\lib\\site-packages (from nbformat>=4.2.0->ipywidgets>=7.0.0->cufflinks) (4.16.0)\n",
      "Requirement already satisfied: fastjsonschema in c:\\users\\sona5\\anaconda3\\lib\\site-packages (from nbformat>=4.2.0->ipywidgets>=7.0.0->cufflinks) (2.16.2)\n",
      "Requirement already satisfied: jupyter_core in c:\\users\\sona5\\anaconda3\\lib\\site-packages (from nbformat>=4.2.0->ipywidgets>=7.0.0->cufflinks) (4.11.1)\n",
      "Requirement already satisfied: wcwidth in c:\\users\\sona5\\anaconda3\\lib\\site-packages (from prompt-toolkit!=3.0.0,!=3.0.1,<3.1.0,>=2.0.0->ipython>=5.3.0->cufflinks) (0.2.5)\n",
      "Requirement already satisfied: notebook>=4.4.1 in c:\\users\\sona5\\anaconda3\\lib\\site-packages (from widgetsnbextension~=3.5.0->ipywidgets>=7.0.0->cufflinks) (6.4.12)\n",
      "Requirement already satisfied: attrs>=17.4.0 in c:\\users\\sona5\\anaconda3\\lib\\site-packages (from jsonschema>=2.6->nbformat>=4.2.0->ipywidgets>=7.0.0->cufflinks) (21.4.0)\n",
      "Requirement already satisfied: pyrsistent!=0.17.0,!=0.17.1,!=0.17.2,>=0.14.0 in c:\\users\\sona5\\anaconda3\\lib\\site-packages (from jsonschema>=2.6->nbformat>=4.2.0->ipywidgets>=7.0.0->cufflinks) (0.18.0)\n",
      "Requirement already satisfied: entrypoints in c:\\users\\sona5\\anaconda3\\lib\\site-packages (from jupyter-client>=6.1.12->ipykernel>=4.5.1->ipywidgets>=7.0.0->cufflinks) (0.4)\n",
      "Requirement already satisfied: pywin32>=1.0 in c:\\users\\sona5\\anaconda3\\lib\\site-packages (from jupyter_core->nbformat>=4.2.0->ipywidgets>=7.0.0->cufflinks) (302)\n",
      "Requirement already satisfied: prometheus-client in c:\\users\\sona5\\anaconda3\\lib\\site-packages (from notebook>=4.4.1->widgetsnbextension~=3.5.0->ipywidgets>=7.0.0->cufflinks) (0.14.1)\n",
      "Requirement already satisfied: argon2-cffi in c:\\users\\sona5\\anaconda3\\lib\\site-packages (from notebook>=4.4.1->widgetsnbextension~=3.5.0->ipywidgets>=7.0.0->cufflinks) (21.3.0)\n",
      "Requirement already satisfied: terminado>=0.8.3 in c:\\users\\sona5\\anaconda3\\lib\\site-packages (from notebook>=4.4.1->widgetsnbextension~=3.5.0->ipywidgets>=7.0.0->cufflinks) (0.13.1)\n",
      "Requirement already satisfied: Send2Trash>=1.8.0 in c:\\users\\sona5\\anaconda3\\lib\\site-packages (from notebook>=4.4.1->widgetsnbextension~=3.5.0->ipywidgets>=7.0.0->cufflinks) (1.8.0)\n",
      "Requirement already satisfied: jinja2 in c:\\users\\sona5\\anaconda3\\lib\\site-packages (from notebook>=4.4.1->widgetsnbextension~=3.5.0->ipywidgets>=7.0.0->cufflinks) (2.11.3)\n",
      "Requirement already satisfied: nbconvert>=5 in c:\\users\\sona5\\anaconda3\\lib\\site-packages (from notebook>=4.4.1->widgetsnbextension~=3.5.0->ipywidgets>=7.0.0->cufflinks) (6.4.4)\n",
      "Requirement already satisfied: pyparsing!=3.0.5,>=2.0.2 in c:\\users\\sona5\\anaconda3\\lib\\site-packages (from packaging->ipykernel>=4.5.1->ipywidgets>=7.0.0->cufflinks) (3.0.9)\n",
      "Requirement already satisfied: testpath in c:\\users\\sona5\\anaconda3\\lib\\site-packages (from nbconvert>=5->notebook>=4.4.1->widgetsnbextension~=3.5.0->ipywidgets>=7.0.0->cufflinks) (0.6.0)\n",
      "Requirement already satisfied: pandocfilters>=1.4.1 in c:\\users\\sona5\\anaconda3\\lib\\site-packages (from nbconvert>=5->notebook>=4.4.1->widgetsnbextension~=3.5.0->ipywidgets>=7.0.0->cufflinks) (1.5.0)\n",
      "Requirement already satisfied: defusedxml in c:\\users\\sona5\\anaconda3\\lib\\site-packages (from nbconvert>=5->notebook>=4.4.1->widgetsnbextension~=3.5.0->ipywidgets>=7.0.0->cufflinks) (0.7.1)\n",
      "Requirement already satisfied: mistune<2,>=0.8.1 in c:\\users\\sona5\\anaconda3\\lib\\site-packages (from nbconvert>=5->notebook>=4.4.1->widgetsnbextension~=3.5.0->ipywidgets>=7.0.0->cufflinks) (0.8.4)\n",
      "Requirement already satisfied: jupyterlab-pygments in c:\\users\\sona5\\anaconda3\\lib\\site-packages (from nbconvert>=5->notebook>=4.4.1->widgetsnbextension~=3.5.0->ipywidgets>=7.0.0->cufflinks) (0.1.2)\n",
      "Requirement already satisfied: bleach in c:\\users\\sona5\\anaconda3\\lib\\site-packages (from nbconvert>=5->notebook>=4.4.1->widgetsnbextension~=3.5.0->ipywidgets>=7.0.0->cufflinks) (4.1.0)\n",
      "Requirement already satisfied: beautifulsoup4 in c:\\users\\sona5\\anaconda3\\lib\\site-packages (from nbconvert>=5->notebook>=4.4.1->widgetsnbextension~=3.5.0->ipywidgets>=7.0.0->cufflinks) (4.11.1)\n",
      "Requirement already satisfied: nbclient<0.6.0,>=0.5.0 in c:\\users\\sona5\\anaconda3\\lib\\site-packages (from nbconvert>=5->notebook>=4.4.1->widgetsnbextension~=3.5.0->ipywidgets>=7.0.0->cufflinks) (0.5.13)\n",
      "Requirement already satisfied: MarkupSafe>=0.23 in c:\\users\\sona5\\anaconda3\\lib\\site-packages (from jinja2->notebook>=4.4.1->widgetsnbextension~=3.5.0->ipywidgets>=7.0.0->cufflinks) (2.0.1)\n",
      "Requirement already satisfied: pywinpty>=1.1.0 in c:\\users\\sona5\\anaconda3\\lib\\site-packages (from terminado>=0.8.3->notebook>=4.4.1->widgetsnbextension~=3.5.0->ipywidgets>=7.0.0->cufflinks) (2.0.2)\n",
      "Requirement already satisfied: argon2-cffi-bindings in c:\\users\\sona5\\anaconda3\\lib\\site-packages (from argon2-cffi->notebook>=4.4.1->widgetsnbextension~=3.5.0->ipywidgets>=7.0.0->cufflinks) (21.2.0)\n",
      "Requirement already satisfied: cffi>=1.0.1 in c:\\users\\sona5\\anaconda3\\lib\\site-packages (from argon2-cffi-bindings->argon2-cffi->notebook>=4.4.1->widgetsnbextension~=3.5.0->ipywidgets>=7.0.0->cufflinks) (1.15.1)\n",
      "Requirement already satisfied: soupsieve>1.2 in c:\\users\\sona5\\anaconda3\\lib\\site-packages (from beautifulsoup4->nbconvert>=5->notebook>=4.4.1->widgetsnbextension~=3.5.0->ipywidgets>=7.0.0->cufflinks) (2.3.1)\n",
      "Requirement already satisfied: webencodings in c:\\users\\sona5\\anaconda3\\lib\\site-packages (from bleach->nbconvert>=5->notebook>=4.4.1->widgetsnbextension~=3.5.0->ipywidgets>=7.0.0->cufflinks) (0.5.1)\n",
      "Requirement already satisfied: pycparser in c:\\users\\sona5\\anaconda3\\lib\\site-packages (from cffi>=1.0.1->argon2-cffi-bindings->argon2-cffi->notebook>=4.4.1->widgetsnbextension~=3.5.0->ipywidgets>=7.0.0->cufflinks) (2.21)\n"
     ]
    }
   ],
   "source": [
    "! pip install cufflinks"
   ]
  },
  {
   "cell_type": "code",
   "execution_count": 275,
   "id": "58bd46da-da6c-44d0-903f-19be230836e5",
   "metadata": {},
   "outputs": [
    {
     "data": {
      "text/html": [
       "        <script type=\"text/javascript\">\n",
       "        window.PlotlyConfig = {MathJaxConfig: 'local'};\n",
       "        if (window.MathJax && window.MathJax.Hub && window.MathJax.Hub.Config) {window.MathJax.Hub.Config({SVG: {font: \"STIX-Web\"}});}\n",
       "        if (typeof require !== 'undefined') {\n",
       "        require.undef(\"plotly\");\n",
       "        requirejs.config({\n",
       "            paths: {\n",
       "                'plotly': ['https://cdn.plot.ly/plotly-2.12.1.min']\n",
       "            }\n",
       "        });\n",
       "        require(['plotly'], function(Plotly) {\n",
       "            window._Plotly = Plotly;\n",
       "        });\n",
       "        }\n",
       "        </script>\n",
       "        "
      ]
     },
     "metadata": {},
     "output_type": "display_data"
    }
   ],
   "source": [
    "import cufflinks as cf; cf.go_offline()\n",
    "import plotly_express as px\n"
   ]
  },
  {
   "cell_type": "markdown",
   "id": "2685b7b6-1a31-451b-a1e8-f29c1513b697",
   "metadata": {},
   "source": [
    "## About the data"
   ]
  },
  {
   "cell_type": "markdown",
   "id": "5453d0d4-f625-41df-942e-ff2f5cf0f993",
   "metadata": {},
   "source": [
    "The data you are about to load is coming from an Ad recommentation system of the company InBrain. InBrain is a adTech company and specalize in next-level ad recommendation.  \n",
    "The company has two major products - one giving high quality recommendation while the other is giving an highly yielding recommendation. Inbrain custormers are sending requests, asking for either of the products. \n",
    "\n",
    "Once a week, the company is doing an internal quality assements, and sends a sample of its traffic requests to external annotation process, in which the annotators are trained to manually decided whether the recommended Ad is a succes or not. The data contains information about the ad (**ad_id**), the sampled week (**week_id**), the requester company (**requester**), the region of operation (**region**), the recommendation type (Quality/Yield, **recommendation_type**) and the recommendation provider algorithm (**rec_provider**). The annotators are marking whether the recommendation is meeting the Quality/Yield standards (**is_success**) and whether or not the recommendation is severly defected (**is_sever**)\n",
    "\n",
    "See a sample below:"
   ]
  },
  {
   "cell_type": "code",
   "execution_count": 276,
   "id": "71b69819-00b8-4612-bd2f-49bab7b7ab13",
   "metadata": {},
   "outputs": [
    {
     "data": {
      "text/html": [
       "<div>\n",
       "<style scoped>\n",
       "    .dataframe tbody tr th:only-of-type {\n",
       "        vertical-align: middle;\n",
       "    }\n",
       "\n",
       "    .dataframe tbody tr th {\n",
       "        vertical-align: top;\n",
       "    }\n",
       "\n",
       "    .dataframe thead th {\n",
       "        text-align: right;\n",
       "    }\n",
       "</style>\n",
       "<table border=\"1\" class=\"dataframe\">\n",
       "  <thead>\n",
       "    <tr style=\"text-align: right;\">\n",
       "      <th></th>\n",
       "      <th>week_id</th>\n",
       "      <th>ad_id</th>\n",
       "      <th>requester</th>\n",
       "      <th>region</th>\n",
       "      <th>is_success</th>\n",
       "      <th>is_sever</th>\n",
       "      <th>recommendation_type</th>\n",
       "      <th>rec_provider</th>\n",
       "    </tr>\n",
       "  </thead>\n",
       "  <tbody>\n",
       "    <tr>\n",
       "      <th>139170</th>\n",
       "      <td>2021-week_42</td>\n",
       "      <td>AD07NRLQ8G</td>\n",
       "      <td>RelayFoods</td>\n",
       "      <td>JP</td>\n",
       "      <td>yes</td>\n",
       "      <td>NaN</td>\n",
       "      <td>Qality</td>\n",
       "      <td>DNNQ</td>\n",
       "    </tr>\n",
       "    <tr>\n",
       "      <th>185281</th>\n",
       "      <td>2021-week_45</td>\n",
       "      <td>AD07FN8GGM</td>\n",
       "      <td>Tab Solutions</td>\n",
       "      <td>US</td>\n",
       "      <td>yes</td>\n",
       "      <td>NaN</td>\n",
       "      <td>Qality</td>\n",
       "      <td>RNNQ</td>\n",
       "    </tr>\n",
       "    <tr>\n",
       "      <th>150927</th>\n",
       "      <td>2021-week_43</td>\n",
       "      <td>AD08F8SYJ6</td>\n",
       "      <td>Search Million Culture</td>\n",
       "      <td>IN</td>\n",
       "      <td>yes</td>\n",
       "      <td>NaN</td>\n",
       "      <td>Qality</td>\n",
       "      <td>UserPopQ</td>\n",
       "    </tr>\n",
       "    <tr>\n",
       "      <th>356166</th>\n",
       "      <td>2022-week_06</td>\n",
       "      <td>AD08NPPGH9</td>\n",
       "      <td>Extreme DA</td>\n",
       "      <td>US</td>\n",
       "      <td>yes</td>\n",
       "      <td>NaN</td>\n",
       "      <td>Yield</td>\n",
       "      <td>ManualQ</td>\n",
       "    </tr>\n",
       "    <tr>\n",
       "      <th>13582</th>\n",
       "      <td>2021-week_33</td>\n",
       "      <td>AD07M8S7L8</td>\n",
       "      <td>Extreme DA</td>\n",
       "      <td>US</td>\n",
       "      <td>yes</td>\n",
       "      <td>NaN</td>\n",
       "      <td>Yield</td>\n",
       "      <td>DNNY</td>\n",
       "    </tr>\n",
       "  </tbody>\n",
       "</table>\n",
       "</div>"
      ],
      "text/plain": [
       "             week_id       ad_id               requester region is_success  \\\n",
       "139170  2021-week_42  AD07NRLQ8G              RelayFoods     JP        yes   \n",
       "185281  2021-week_45  AD07FN8GGM           Tab Solutions     US        yes   \n",
       "150927  2021-week_43  AD08F8SYJ6  Search Million Culture     IN        yes   \n",
       "356166  2022-week_06  AD08NPPGH9              Extreme DA     US        yes   \n",
       "13582   2021-week_33  AD07M8S7L8              Extreme DA     US        yes   \n",
       "\n",
       "       is_sever recommendation_type rec_provider  \n",
       "139170      NaN              Qality         DNNQ  \n",
       "185281      NaN              Qality         RNNQ  \n",
       "150927      NaN              Qality     UserPopQ  \n",
       "356166      NaN               Yield      ManualQ  \n",
       "13582       NaN               Yield         DNNY  "
      ]
     },
     "execution_count": 276,
     "metadata": {},
     "output_type": "execute_result"
    }
   ],
   "source": [
    "ad_df = pd.read_csv('data/Final assigment/ad_annotations.csv')\n",
    "ad_df.sample(5)"
   ]
  },
  {
   "cell_type": "code",
   "execution_count": 277,
   "id": "34b5026b-6a2d-4108-ae10-cc7cc4fa76ef",
   "metadata": {},
   "outputs": [],
   "source": [
    "most_pop_ad = ad_df.ad_id.value_counts().idxmax()"
   ]
  },
  {
   "cell_type": "code",
   "execution_count": 278,
   "id": "8762e1c3-b7bf-40a5-8e53-2e10c16ff1dd",
   "metadata": {},
   "outputs": [
    {
     "data": {
      "text/plain": [
       "'ad_id == \"AD07PFFMP9\"'"
      ]
     },
     "execution_count": 278,
     "metadata": {},
     "output_type": "execute_result"
    }
   ],
   "source": [
    "q = f'ad_id == \"{most_pop_ad}\"'\n",
    "q"
   ]
  },
  {
   "cell_type": "code",
   "execution_count": 279,
   "id": "ce93a9cd-d9be-44ff-9314-45a1082af1f5",
   "metadata": {},
   "outputs": [
    {
     "data": {
      "text/html": [
       "<div>\n",
       "<style scoped>\n",
       "    .dataframe tbody tr th:only-of-type {\n",
       "        vertical-align: middle;\n",
       "    }\n",
       "\n",
       "    .dataframe tbody tr th {\n",
       "        vertical-align: top;\n",
       "    }\n",
       "\n",
       "    .dataframe thead th {\n",
       "        text-align: right;\n",
       "    }\n",
       "</style>\n",
       "<table border=\"1\" class=\"dataframe\">\n",
       "  <thead>\n",
       "    <tr style=\"text-align: right;\">\n",
       "      <th></th>\n",
       "      <th>week_id</th>\n",
       "      <th>ad_id</th>\n",
       "      <th>requester</th>\n",
       "      <th>region</th>\n",
       "      <th>is_success</th>\n",
       "      <th>is_sever</th>\n",
       "      <th>recommendation_type</th>\n",
       "      <th>rec_provider</th>\n",
       "    </tr>\n",
       "  </thead>\n",
       "  <tbody>\n",
       "    <tr>\n",
       "      <th>7031</th>\n",
       "      <td>2021-week_33</td>\n",
       "      <td>AD07PFFMP9</td>\n",
       "      <td>Puentes Company</td>\n",
       "      <td>IN</td>\n",
       "      <td>yes</td>\n",
       "      <td>NaN</td>\n",
       "      <td>Yield</td>\n",
       "      <td>ManualQ</td>\n",
       "    </tr>\n",
       "    <tr>\n",
       "      <th>7032</th>\n",
       "      <td>2021-week_33</td>\n",
       "      <td>AD07PFFMP9</td>\n",
       "      <td>Puentes Company</td>\n",
       "      <td>IN</td>\n",
       "      <td>yes</td>\n",
       "      <td>NaN</td>\n",
       "      <td>Yield</td>\n",
       "      <td>ManualQ</td>\n",
       "    </tr>\n",
       "    <tr>\n",
       "      <th>20010</th>\n",
       "      <td>2021-week_34</td>\n",
       "      <td>AD07PFFMP9</td>\n",
       "      <td>Bizanga</td>\n",
       "      <td>IN</td>\n",
       "      <td>yes</td>\n",
       "      <td>NaN</td>\n",
       "      <td>Yield</td>\n",
       "      <td>ManualQ</td>\n",
       "    </tr>\n",
       "    <tr>\n",
       "      <th>20011</th>\n",
       "      <td>2021-week_34</td>\n",
       "      <td>AD07PFFMP9</td>\n",
       "      <td>Puentes Company</td>\n",
       "      <td>IN</td>\n",
       "      <td>yes</td>\n",
       "      <td>NaN</td>\n",
       "      <td>Yield</td>\n",
       "      <td>ManualQ</td>\n",
       "    </tr>\n",
       "    <tr>\n",
       "      <th>35214</th>\n",
       "      <td>2021-week_35</td>\n",
       "      <td>AD07PFFMP9</td>\n",
       "      <td>Bizanga</td>\n",
       "      <td>IN</td>\n",
       "      <td>yes</td>\n",
       "      <td>NaN</td>\n",
       "      <td>Yield</td>\n",
       "      <td>ManualQ</td>\n",
       "    </tr>\n",
       "    <tr>\n",
       "      <th>...</th>\n",
       "      <td>...</td>\n",
       "      <td>...</td>\n",
       "      <td>...</td>\n",
       "      <td>...</td>\n",
       "      <td>...</td>\n",
       "      <td>...</td>\n",
       "      <td>...</td>\n",
       "      <td>...</td>\n",
       "    </tr>\n",
       "    <tr>\n",
       "      <th>363533</th>\n",
       "      <td>2022-week_52</td>\n",
       "      <td>AD07PFFMP9</td>\n",
       "      <td>MoJoe Brewing Company</td>\n",
       "      <td>IN</td>\n",
       "      <td>yes</td>\n",
       "      <td>NaN</td>\n",
       "      <td>Yield</td>\n",
       "      <td>ManualQ</td>\n",
       "    </tr>\n",
       "    <tr>\n",
       "      <th>363534</th>\n",
       "      <td>2022-week_52</td>\n",
       "      <td>AD07PFFMP9</td>\n",
       "      <td>MoJoe Brewing Company</td>\n",
       "      <td>IN</td>\n",
       "      <td>yes</td>\n",
       "      <td>NaN</td>\n",
       "      <td>Yield</td>\n",
       "      <td>ManualQ</td>\n",
       "    </tr>\n",
       "    <tr>\n",
       "      <th>363535</th>\n",
       "      <td>2022-week_52</td>\n",
       "      <td>AD07PFFMP9</td>\n",
       "      <td>Bizanga</td>\n",
       "      <td>IN</td>\n",
       "      <td>yes</td>\n",
       "      <td>NaN</td>\n",
       "      <td>Yield</td>\n",
       "      <td>ManualQ</td>\n",
       "    </tr>\n",
       "    <tr>\n",
       "      <th>363536</th>\n",
       "      <td>2022-week_52</td>\n",
       "      <td>AD07PFFMP9</td>\n",
       "      <td>MoJoe Brewing Company</td>\n",
       "      <td>IN</td>\n",
       "      <td>yes</td>\n",
       "      <td>NaN</td>\n",
       "      <td>Yield</td>\n",
       "      <td>ManualQ</td>\n",
       "    </tr>\n",
       "    <tr>\n",
       "      <th>365817</th>\n",
       "      <td>2022-week_52</td>\n",
       "      <td>AD07PFFMP9</td>\n",
       "      <td>Allthetopbananas.com</td>\n",
       "      <td>IN</td>\n",
       "      <td>yes</td>\n",
       "      <td>NaN</td>\n",
       "      <td>Qality</td>\n",
       "      <td>ManualQ</td>\n",
       "    </tr>\n",
       "  </tbody>\n",
       "</table>\n",
       "<p>247 rows × 8 columns</p>\n",
       "</div>"
      ],
      "text/plain": [
       "             week_id       ad_id              requester region is_success  \\\n",
       "7031    2021-week_33  AD07PFFMP9        Puentes Company     IN        yes   \n",
       "7032    2021-week_33  AD07PFFMP9        Puentes Company     IN        yes   \n",
       "20010   2021-week_34  AD07PFFMP9                Bizanga     IN        yes   \n",
       "20011   2021-week_34  AD07PFFMP9        Puentes Company     IN        yes   \n",
       "35214   2021-week_35  AD07PFFMP9                Bizanga     IN        yes   \n",
       "...              ...         ...                    ...    ...        ...   \n",
       "363533  2022-week_52  AD07PFFMP9  MoJoe Brewing Company     IN        yes   \n",
       "363534  2022-week_52  AD07PFFMP9  MoJoe Brewing Company     IN        yes   \n",
       "363535  2022-week_52  AD07PFFMP9                Bizanga     IN        yes   \n",
       "363536  2022-week_52  AD07PFFMP9  MoJoe Brewing Company     IN        yes   \n",
       "365817  2022-week_52  AD07PFFMP9   Allthetopbananas.com     IN        yes   \n",
       "\n",
       "       is_sever recommendation_type rec_provider  \n",
       "7031        NaN               Yield      ManualQ  \n",
       "7032        NaN               Yield      ManualQ  \n",
       "20010       NaN               Yield      ManualQ  \n",
       "20011       NaN               Yield      ManualQ  \n",
       "35214       NaN               Yield      ManualQ  \n",
       "...         ...                 ...          ...  \n",
       "363533      NaN               Yield      ManualQ  \n",
       "363534      NaN               Yield      ManualQ  \n",
       "363535      NaN               Yield      ManualQ  \n",
       "363536      NaN               Yield      ManualQ  \n",
       "365817      NaN              Qality      ManualQ  \n",
       "\n",
       "[247 rows x 8 columns]"
      ]
     },
     "execution_count": 279,
     "metadata": {},
     "output_type": "execute_result"
    }
   ],
   "source": [
    "ad_df.query('ad_id == @most_pop_ad')"
   ]
  },
  {
   "cell_type": "markdown",
   "id": "f4413766-e8bf-4f14-94e0-f58cfb88bb07",
   "metadata": {},
   "source": [
    "Your job, as the new and only data scientist of the company, is to get familiar with the the data, show week-over-week trends and produce insightfull graphs as a preparation to a full blown BI dashboard."
   ]
  },
  {
   "cell_type": "markdown",
   "id": "97faa00a-e0e3-47c0-bb8e-b3f72e1f0cb1",
   "metadata": {},
   "source": [
    "## Questions"
   ]
  },
  {
   "cell_type": "markdown",
   "id": "c0ed5ec1-d7b3-49a6-bf12-29420eab3a67",
   "metadata": {},
   "source": [
    "### Data Modifications"
   ]
  },
  {
   "cell_type": "markdown",
   "id": "8db18aad-c8b8-4fd4-994f-c008f279e1f6",
   "metadata": {},
   "source": [
    "1. Add a column with the sample year\n",
    "1. Add a column with the sample quarter (google how to)\n",
    "1. Add a new success column with values 1 and 0 for yes and no \n",
    "1. Are there any NaNs in the is_sever column? Count how many and create a new column with NaNs filled as False. Check that indeed the new column contaion no NaNs. \n",
    "1. Capitlize (first letter only) the is_success column (Inplace)"
   ]
  },
  {
   "cell_type": "code",
   "execution_count": 280,
   "id": "b65ad380-ba32-493e-ae14-b1a36e5b589b",
   "metadata": {},
   "outputs": [
    {
     "data": {
      "text/plain": [
       "0    2021\n",
       "1    2021\n",
       "2    2021\n",
       "3    2021\n",
       "4    2021\n",
       "Name: year, dtype: object"
      ]
     },
     "execution_count": 280,
     "metadata": {},
     "output_type": "execute_result"
    }
   ],
   "source": [
    "#1. Add a column with the sample year\n",
    "ad_df['year']=ad_df.week_id.str[:4]\n",
    "ad_df.year.head()"
   ]
  },
  {
   "cell_type": "code",
   "execution_count": 281,
   "id": "e306721d-c34b-4764-ae95-abf9ca7e38ac",
   "metadata": {},
   "outputs": [
    {
     "data": {
      "text/plain": [
       "0    33\n",
       "1    33\n",
       "2    33\n",
       "3    33\n",
       "4    33\n",
       "Name: week, dtype: object"
      ]
     },
     "execution_count": 281,
     "metadata": {},
     "output_type": "execute_result"
    }
   ],
   "source": [
    "#1. Add a column with the sample quarter (google how to)\n",
    "ad_df['week']=ad_df.week_id.str[-2:]\n",
    "ad_df.week.head()"
   ]
  },
  {
   "cell_type": "code",
   "execution_count": 282,
   "id": "6adc2a16-01ea-492c-a4b8-ba5606178fd8",
   "metadata": {},
   "outputs": [],
   "source": [
    "ad_df['week']=ad_df['week'].astype(int)"
   ]
  },
  {
   "cell_type": "code",
   "execution_count": 283,
   "id": "798ea8f2-baff-415f-9630-baee71e0aa18",
   "metadata": {},
   "outputs": [
    {
     "data": {
      "text/plain": [
       "0    3\n",
       "1    3\n",
       "2    3\n",
       "3    3\n",
       "4    3\n",
       "Name: qurter, dtype: int32"
      ]
     },
     "execution_count": 283,
     "metadata": {},
     "output_type": "execute_result"
    }
   ],
   "source": [
    "ad_df['qurter']= (  (ad_df['week']-1)  //13)+1\n",
    "ad_df.qurter.head()\n"
   ]
  },
  {
   "cell_type": "code",
   "execution_count": 284,
   "id": "55fe6a66-1264-4ab3-8d4e-7565da741988",
   "metadata": {},
   "outputs": [
    {
     "data": {
      "text/plain": [
       "4    186900\n",
       "3    100645\n",
       "1     86243\n",
       "Name: qurter, dtype: int64"
      ]
     },
     "execution_count": 284,
     "metadata": {},
     "output_type": "execute_result"
    }
   ],
   "source": [
    "ad_df.qurter.value_counts()"
   ]
  },
  {
   "cell_type": "code",
   "execution_count": 285,
   "id": "ae816257-2416-473e-a391-300dcfff8db0",
   "metadata": {},
   "outputs": [],
   "source": [
    "#1. Are there any NaNs in the is_sever column? Count how many and create a new column with NaNs filled as False. \n",
    "#Check that indeed the new column contaion no NaNs. \n"
   ]
  },
  {
   "cell_type": "code",
   "execution_count": 286,
   "id": "d56a6077-35c1-4ead-8a0b-7bf9b4b811f5",
   "metadata": {},
   "outputs": [],
   "source": [
    "ad_df['new_sucecss']=(ad_df.is_success == 'yes').astype(int)"
   ]
  },
  {
   "cell_type": "code",
   "execution_count": 287,
   "id": "5f3e1e53-f8fc-4c91-b5c6-3d624ebe0d4b",
   "metadata": {},
   "outputs": [
    {
     "data": {
      "text/plain": [
       "1    304206\n",
       "0     69582\n",
       "Name: new_sucecss, dtype: int64"
      ]
     },
     "execution_count": 287,
     "metadata": {},
     "output_type": "execute_result"
    }
   ],
   "source": [
    "ad_df.new_sucecss.value_counts()"
   ]
  },
  {
   "cell_type": "code",
   "execution_count": 288,
   "id": "9b696bba-bb0e-4028-b12f-9a46a4a12c0a",
   "metadata": {},
   "outputs": [
    {
     "data": {
      "text/plain": [
       "True"
      ]
     },
     "execution_count": 288,
     "metadata": {},
     "output_type": "execute_result"
    }
   ],
   "source": [
    "ad_df.is_sever.isnull().any()"
   ]
  },
  {
   "cell_type": "code",
   "execution_count": 289,
   "id": "7f3cd17d-14e7-4f71-aa4c-3209f5285b5a",
   "metadata": {},
   "outputs": [
    {
     "data": {
      "text/plain": [
       "304195"
      ]
     },
     "execution_count": 289,
     "metadata": {},
     "output_type": "execute_result"
    }
   ],
   "source": [
    "ad_df.is_sever.isnull().sum()"
   ]
  },
  {
   "cell_type": "code",
   "execution_count": 290,
   "id": "5f36925d-9e9c-41a9-aa52-19b5536bec23",
   "metadata": {},
   "outputs": [],
   "source": [
    "ad_df['New_is_sever']=ad_df.is_sever.fillna('False').astype('bool')"
   ]
  },
  {
   "cell_type": "code",
   "execution_count": 291,
   "id": "7fbf2a76-7b35-401e-b4c3-fb724db52e0a",
   "metadata": {},
   "outputs": [
    {
     "data": {
      "text/plain": [
       "True     348884\n",
       "False     24904\n",
       "Name: New_is_sever, dtype: int64"
      ]
     },
     "execution_count": 291,
     "metadata": {},
     "output_type": "execute_result"
    }
   ],
   "source": [
    "ad_df.New_is_sever.value_counts()"
   ]
  },
  {
   "cell_type": "code",
   "execution_count": 292,
   "id": "d0c5eb2f-1afe-41e3-a0e0-3a58ffeade05",
   "metadata": {},
   "outputs": [],
   "source": [
    "#1. Capitlize (first letter only) the is_success column (Inplace)"
   ]
  },
  {
   "cell_type": "code",
   "execution_count": 293,
   "id": "dd243871-66c7-48e3-8b23-04f679ce46d8",
   "metadata": {},
   "outputs": [
    {
     "data": {
      "text/plain": [
       "Yes    304206\n",
       "No      69582\n",
       "Name: is_success, dtype: int64"
      ]
     },
     "execution_count": 293,
     "metadata": {},
     "output_type": "execute_result"
    }
   ],
   "source": [
    "ad_df.is_success = ad_df.is_success.str.capitalize()\n",
    "ad_df.is_success.value_counts()\n"
   ]
  },
  {
   "cell_type": "markdown",
   "id": "e1a4707e-5673-4bec-bf9a-51aaf633b09f",
   "metadata": {},
   "source": [
    "### Subset selection"
   ]
  },
  {
   "cell_type": "markdown",
   "id": "6e4087a0-8706-471d-ae78-d9c47534f6b8",
   "metadata": {},
   "source": [
    "for each question, sub-select the data by using the conditional selection (`[]`) and the `.query` API. Use `.shape` on the subselection to obtain the result.  \n",
    "For example:\n",
    "`df.query('some_condition').shape`"
   ]
  },
  {
   "cell_type": "markdown",
   "id": "df326ef2-83c4-400f-bb51-f47db2401ee3",
   "metadata": {},
   "source": [
    "1. How many requests are there in US region? \n",
    "1. How many **successful** requests are there in US region? \n",
    "1. How many **successful** requests are there in US region, on week 52?\n",
    "1. How many requests where delivered by DNNQ, RNNY and UserPopQ together? \n",
    "1. How many requests where delivered by rule based providers? \n",
    "1. Select only the requests from 2021 - How many are there? \n",
    "1. Select the reqeusts from week 30 to week 40 - How many are there? \n",
    "1. Select all the data that comes from the most popular Ad\n",
    "1. Select all the data that comes from the least popular provider\n",
    "1. Select the data in which is_sever is None. How big is it? \n",
    "1. Select the data in which the requester is a 3 word company\n",
    "1. Select the data in which the requester is a 3 word company, and the ad_id has the letter 6 in it\n",
    "1. Select the data in which the requester is a 3 word company, and the multiplication of all the numbers in the ad_id is bigger than 30"
   ]
  },
  {
   "cell_type": "code",
   "execution_count": 294,
   "id": "c6b438d8-9801-4f6d-9d57-a21c2e74d46e",
   "metadata": {},
   "outputs": [],
   "source": [
    "#1. How many requests are there in US region? "
   ]
  },
  {
   "cell_type": "code",
   "execution_count": 295,
   "id": "3effca95-56f1-45ca-8d72-decfcd831d43",
   "metadata": {},
   "outputs": [
    {
     "data": {
      "text/plain": [
       "region\n",
       "US    103846\n",
       "Name: region, dtype: int64"
      ]
     },
     "execution_count": 295,
     "metadata": {},
     "output_type": "execute_result"
    }
   ],
   "source": [
    "aaaa=ad_df.groupby(['region'])\n",
    "aaaa['region'].value_counts().loc['US']\n"
   ]
  },
  {
   "cell_type": "code",
   "execution_count": 296,
   "id": "bbea74fb-6891-4ed4-b428-0f6aed9eac5f",
   "metadata": {},
   "outputs": [],
   "source": [
    "#2. How many **successful** requests are there in US region? \n"
   ]
  },
  {
   "cell_type": "code",
   "execution_count": 297,
   "id": "816ae30f-997b-4eeb-bb2e-f526cefd1e90",
   "metadata": {},
   "outputs": [
    {
     "data": {
      "text/plain": [
       "88918"
      ]
     },
     "execution_count": 297,
     "metadata": {},
     "output_type": "execute_result"
    }
   ],
   "source": [
    "aaaa=ad_df.is_success=='Yes'\n",
    "temp=ad_df.loc[aaaa]\n",
    "temp[temp.region=='US'].shape[0]\n"
   ]
  },
  {
   "cell_type": "code",
   "execution_count": 298,
   "id": "5372c40a-c9ce-42d3-8898-8254f2dd51b6",
   "metadata": {},
   "outputs": [
    {
     "data": {
      "text/plain": [
       "3342"
      ]
     },
     "execution_count": 298,
     "metadata": {},
     "output_type": "execute_result"
    }
   ],
   "source": [
    "3#. How many **successful** requests are there in US region, on week 52?\n",
    "aaaa=(ad_df.is_success=='Yes') & (ad_df.week==52)\n",
    "temp=ad_df.loc[aaaa]\n",
    "temp[temp.region=='US'].shape[0]"
   ]
  },
  {
   "cell_type": "code",
   "execution_count": 299,
   "id": "efce16a0-0397-4821-a63c-e8482ff76d3c",
   "metadata": {},
   "outputs": [],
   "source": [
    "#1. How many requests where delivered by DNNQ, RNNY and UserPopQ together? \n",
    "aaaa=(ad_df.rec_provider=='DNNQ') | (ad_df.rec_provider=='RNNY') | (ad_df.rec_provider=='UserPopQ') \n",
    "temp=ad_df.loc[aaaa]"
   ]
  },
  {
   "cell_type": "code",
   "execution_count": 300,
   "id": "965b94ee-e3e2-46ef-9ce3-9d4b01f713ad",
   "metadata": {},
   "outputs": [
    {
     "data": {
      "text/plain": [
       "200093"
      ]
     },
     "execution_count": 300,
     "metadata": {},
     "output_type": "execute_result"
    }
   ],
   "source": [
    "temp.shape[0]"
   ]
  },
  {
   "cell_type": "code",
   "execution_count": 301,
   "id": "7ff7ef80-bbe7-42d7-9f0a-e4d5c4da54e3",
   "metadata": {},
   "outputs": [],
   "source": [
    "#1. How many requests where delivered by rule based providers? \n"
   ]
  },
  {
   "cell_type": "code",
   "execution_count": 302,
   "id": "03560f85-2708-486a-8510-5a17e279b587",
   "metadata": {},
   "outputs": [
    {
     "ename": "AttributeError",
     "evalue": "'DataFrame' object has no attribute 'yaer'",
     "output_type": "error",
     "traceback": [
      "\u001b[1;31m---------------------------------------------------------------------------\u001b[0m",
      "\u001b[1;31mAttributeError\u001b[0m                            Traceback (most recent call last)",
      "\u001b[1;32m~\\AppData\\Local\\Temp\\ipykernel_12780\\331888761.py\u001b[0m in \u001b[0;36m<module>\u001b[1;34m\u001b[0m\n\u001b[0;32m      1\u001b[0m \u001b[1;31m#1. Select only the requests from 2021 - How many are there?\u001b[0m\u001b[1;33m\u001b[0m\u001b[1;33m\u001b[0m\u001b[0m\n\u001b[1;32m----> 2\u001b[1;33m \u001b[0maaaa\u001b[0m\u001b[1;33m=\u001b[0m\u001b[0mad_df\u001b[0m\u001b[1;33m.\u001b[0m\u001b[0myaer\u001b[0m\u001b[1;33m==\u001b[0m\u001b[1;34m'2021'\u001b[0m\u001b[1;33m\u001b[0m\u001b[1;33m\u001b[0m\u001b[0m\n\u001b[0m\u001b[0;32m      3\u001b[0m \u001b[0mtemp\u001b[0m\u001b[1;33m=\u001b[0m\u001b[0mad_df\u001b[0m\u001b[1;33m.\u001b[0m\u001b[0mloc\u001b[0m\u001b[1;33m[\u001b[0m\u001b[0maaaa\u001b[0m\u001b[1;33m]\u001b[0m\u001b[1;33m.\u001b[0m\u001b[0mshape\u001b[0m\u001b[1;33m[\u001b[0m\u001b[1;36m0\u001b[0m\u001b[1;33m]\u001b[0m\u001b[1;33m\u001b[0m\u001b[1;33m\u001b[0m\u001b[0m\n",
      "\u001b[1;32m~\\anaconda3\\lib\\site-packages\\pandas\\core\\generic.py\u001b[0m in \u001b[0;36m__getattr__\u001b[1;34m(self, name)\u001b[0m\n\u001b[0;32m   5573\u001b[0m         ):\n\u001b[0;32m   5574\u001b[0m             \u001b[1;32mreturn\u001b[0m \u001b[0mself\u001b[0m\u001b[1;33m[\u001b[0m\u001b[0mname\u001b[0m\u001b[1;33m]\u001b[0m\u001b[1;33m\u001b[0m\u001b[1;33m\u001b[0m\u001b[0m\n\u001b[1;32m-> 5575\u001b[1;33m         \u001b[1;32mreturn\u001b[0m \u001b[0mobject\u001b[0m\u001b[1;33m.\u001b[0m\u001b[0m__getattribute__\u001b[0m\u001b[1;33m(\u001b[0m\u001b[0mself\u001b[0m\u001b[1;33m,\u001b[0m \u001b[0mname\u001b[0m\u001b[1;33m)\u001b[0m\u001b[1;33m\u001b[0m\u001b[1;33m\u001b[0m\u001b[0m\n\u001b[0m\u001b[0;32m   5576\u001b[0m \u001b[1;33m\u001b[0m\u001b[0m\n\u001b[0;32m   5577\u001b[0m     \u001b[1;32mdef\u001b[0m \u001b[0m__setattr__\u001b[0m\u001b[1;33m(\u001b[0m\u001b[0mself\u001b[0m\u001b[1;33m,\u001b[0m \u001b[0mname\u001b[0m\u001b[1;33m:\u001b[0m \u001b[0mstr\u001b[0m\u001b[1;33m,\u001b[0m \u001b[0mvalue\u001b[0m\u001b[1;33m)\u001b[0m \u001b[1;33m->\u001b[0m \u001b[1;32mNone\u001b[0m\u001b[1;33m:\u001b[0m\u001b[1;33m\u001b[0m\u001b[1;33m\u001b[0m\u001b[0m\n",
      "\u001b[1;31mAttributeError\u001b[0m: 'DataFrame' object has no attribute 'yaer'"
     ]
    }
   ],
   "source": [
    "#1. Select only the requests from 2021 - How many are there? \n",
    "aaaa=ad_df.yaer=='2021'\n",
    "temp=ad_df.loc[aaaa].shape[0]\n"
   ]
  },
  {
   "cell_type": "code",
   "execution_count": 303,
   "id": "a6242e4f-a16d-4cfe-b6d0-51ce40cb70d5",
   "metadata": {},
   "outputs": [
    {
     "data": {
      "text/plain": [
       "115051"
      ]
     },
     "execution_count": 303,
     "metadata": {},
     "output_type": "execute_result"
    }
   ],
   "source": [
    "#1. Select the reqeusts from week 30 to week 40 - How many are there? \n",
    "temp_df=ad_df.set_index('week')\n",
    "temp_df.loc[33:40]\n",
    "temp_df.loc[33:40].shape[0]\n"
   ]
  },
  {
   "cell_type": "code",
   "execution_count": 304,
   "id": "b6510373-3100-4c97-9559-55fed2a9b960",
   "metadata": {},
   "outputs": [
    {
     "data": {
      "text/plain": [
       "ad_id\n",
       "AD07PFFMP9    247\n",
       "AD098SWYF6    239\n",
       "AD08C8RR8J    138\n",
       "AD0886VY87     99\n",
       "AD08888888     96\n",
       "             ... \n",
       "AD07KR8PNY      1\n",
       "AD07KR8QJ8      1\n",
       "AD07KR8QSQ      1\n",
       "AD07KR8QWZ      1\n",
       "AD07ZFY86L      1\n",
       "Name: ad_id, Length: 300727, dtype: int64"
      ]
     },
     "execution_count": 304,
     "metadata": {},
     "output_type": "execute_result"
    }
   ],
   "source": [
    "#1. Select all the data that comes from the most popular \n",
    "aaaa=ad_df.groupby(['ad_id'])\n",
    "aaaa['ad_id'].count().sort_values(ascending=False)\n",
    "\n"
   ]
  },
  {
   "cell_type": "code",
   "execution_count": 305,
   "id": "c804d4ee-838f-4ae7-ac24-45573e27dc52",
   "metadata": {},
   "outputs": [
    {
     "data": {
      "text/plain": [
       "rec_provider\n",
       "UserPopSelectionY        21\n",
       "RuleBased               182\n",
       "BooksQ                 1720\n",
       "ManualY                1982\n",
       "UserPopSelectionQ      2417\n",
       "BooksY                 4150\n",
       "XGBY                   4276\n",
       "XGBQ                  12250\n",
       "RNNY                  12732\n",
       "ManualQ               13844\n",
       "RNNQ                  20983\n",
       "RuleBasedY            28154\n",
       "UserPopY              38600\n",
       "DNNY                  45116\n",
       "UserPopQ              69937\n",
       "DNNQ                 117424\n",
       "Name: rec_provider, dtype: int64"
      ]
     },
     "execution_count": 305,
     "metadata": {},
     "output_type": "execute_result"
    }
   ],
   "source": [
    "#1. Select all the data that comes from the least popular provider\n",
    "aaaa=ad_df.groupby(['rec_provider'])\n",
    "aaaa['rec_provider'].count().sort_values(ascending=True)\n"
   ]
  },
  {
   "cell_type": "code",
   "execution_count": 306,
   "id": "e3ac2277-6693-42f7-804f-7a9d779da10d",
   "metadata": {},
   "outputs": [
    {
     "data": {
      "text/html": [
       "<div>\n",
       "<style scoped>\n",
       "    .dataframe tbody tr th:only-of-type {\n",
       "        vertical-align: middle;\n",
       "    }\n",
       "\n",
       "    .dataframe tbody tr th {\n",
       "        vertical-align: top;\n",
       "    }\n",
       "\n",
       "    .dataframe thead th {\n",
       "        text-align: right;\n",
       "    }\n",
       "</style>\n",
       "<table border=\"1\" class=\"dataframe\">\n",
       "  <thead>\n",
       "    <tr style=\"text-align: right;\">\n",
       "      <th></th>\n",
       "      <th>week_id</th>\n",
       "      <th>ad_id</th>\n",
       "      <th>requester</th>\n",
       "      <th>region</th>\n",
       "      <th>is_success</th>\n",
       "      <th>is_sever</th>\n",
       "      <th>recommendation_type</th>\n",
       "      <th>rec_provider</th>\n",
       "      <th>year</th>\n",
       "      <th>week</th>\n",
       "      <th>qurter</th>\n",
       "      <th>new_sucecss</th>\n",
       "      <th>New_is_sever</th>\n",
       "    </tr>\n",
       "  </thead>\n",
       "  <tbody>\n",
       "    <tr>\n",
       "      <th>352263</th>\n",
       "      <td>2022-week_06</td>\n",
       "      <td>AD0088UP8R</td>\n",
       "      <td>MoJoe Brewing Company</td>\n",
       "      <td>JP</td>\n",
       "      <td>Yes</td>\n",
       "      <td>NaN</td>\n",
       "      <td>Yield</td>\n",
       "      <td>UserPopSelectionY</td>\n",
       "      <td>2022</td>\n",
       "      <td>6</td>\n",
       "      <td>1</td>\n",
       "      <td>1</td>\n",
       "      <td>True</td>\n",
       "    </tr>\n",
       "    <tr>\n",
       "      <th>352326</th>\n",
       "      <td>2022-week_06</td>\n",
       "      <td>AD09C8KC8Z</td>\n",
       "      <td>MoJoe Brewing Company</td>\n",
       "      <td>JP</td>\n",
       "      <td>Yes</td>\n",
       "      <td>NaN</td>\n",
       "      <td>Yield</td>\n",
       "      <td>UserPopSelectionY</td>\n",
       "      <td>2022</td>\n",
       "      <td>6</td>\n",
       "      <td>1</td>\n",
       "      <td>1</td>\n",
       "      <td>True</td>\n",
       "    </tr>\n",
       "    <tr>\n",
       "      <th>352578</th>\n",
       "      <td>2022-week_06</td>\n",
       "      <td>AD078DT6GJ</td>\n",
       "      <td>MoJoe Brewing Company</td>\n",
       "      <td>JP</td>\n",
       "      <td>Yes</td>\n",
       "      <td>NaN</td>\n",
       "      <td>Yield</td>\n",
       "      <td>UserPopSelectionY</td>\n",
       "      <td>2022</td>\n",
       "      <td>6</td>\n",
       "      <td>1</td>\n",
       "      <td>1</td>\n",
       "      <td>True</td>\n",
       "    </tr>\n",
       "    <tr>\n",
       "      <th>352595</th>\n",
       "      <td>2022-week_06</td>\n",
       "      <td>AD09C8P789</td>\n",
       "      <td>MoJoe Brewing Company</td>\n",
       "      <td>JP</td>\n",
       "      <td>Yes</td>\n",
       "      <td>NaN</td>\n",
       "      <td>Yield</td>\n",
       "      <td>UserPopSelectionY</td>\n",
       "      <td>2022</td>\n",
       "      <td>6</td>\n",
       "      <td>1</td>\n",
       "      <td>1</td>\n",
       "      <td>True</td>\n",
       "    </tr>\n",
       "    <tr>\n",
       "      <th>352703</th>\n",
       "      <td>2022-week_06</td>\n",
       "      <td>AD00UF8VOF</td>\n",
       "      <td>MoJoe Brewing Company</td>\n",
       "      <td>JP</td>\n",
       "      <td>Yes</td>\n",
       "      <td>NaN</td>\n",
       "      <td>Yield</td>\n",
       "      <td>UserPopSelectionY</td>\n",
       "      <td>2022</td>\n",
       "      <td>6</td>\n",
       "      <td>1</td>\n",
       "      <td>1</td>\n",
       "      <td>True</td>\n",
       "    </tr>\n",
       "    <tr>\n",
       "      <th>352714</th>\n",
       "      <td>2022-week_06</td>\n",
       "      <td>AD098CXHRF</td>\n",
       "      <td>MoJoe Brewing Company</td>\n",
       "      <td>JP</td>\n",
       "      <td>Yes</td>\n",
       "      <td>NaN</td>\n",
       "      <td>Yield</td>\n",
       "      <td>UserPopSelectionY</td>\n",
       "      <td>2022</td>\n",
       "      <td>6</td>\n",
       "      <td>1</td>\n",
       "      <td>1</td>\n",
       "      <td>True</td>\n",
       "    </tr>\n",
       "    <tr>\n",
       "      <th>352738</th>\n",
       "      <td>2022-week_06</td>\n",
       "      <td>AD0086GLW0</td>\n",
       "      <td>MoJoe Brewing Company</td>\n",
       "      <td>JP</td>\n",
       "      <td>Yes</td>\n",
       "      <td>NaN</td>\n",
       "      <td>Yield</td>\n",
       "      <td>UserPopSelectionY</td>\n",
       "      <td>2022</td>\n",
       "      <td>6</td>\n",
       "      <td>1</td>\n",
       "      <td>1</td>\n",
       "      <td>True</td>\n",
       "    </tr>\n",
       "    <tr>\n",
       "      <th>352740</th>\n",
       "      <td>2022-week_06</td>\n",
       "      <td>AD08QMJ888</td>\n",
       "      <td>MoJoe Brewing Company</td>\n",
       "      <td>JP</td>\n",
       "      <td>Yes</td>\n",
       "      <td>NaN</td>\n",
       "      <td>Yield</td>\n",
       "      <td>UserPopSelectionY</td>\n",
       "      <td>2022</td>\n",
       "      <td>6</td>\n",
       "      <td>1</td>\n",
       "      <td>1</td>\n",
       "      <td>True</td>\n",
       "    </tr>\n",
       "    <tr>\n",
       "      <th>352745</th>\n",
       "      <td>2022-week_06</td>\n",
       "      <td>AD07H9GM98</td>\n",
       "      <td>MoJoe Brewing Company</td>\n",
       "      <td>JP</td>\n",
       "      <td>Yes</td>\n",
       "      <td>NaN</td>\n",
       "      <td>Yield</td>\n",
       "      <td>UserPopSelectionY</td>\n",
       "      <td>2022</td>\n",
       "      <td>6</td>\n",
       "      <td>1</td>\n",
       "      <td>1</td>\n",
       "      <td>True</td>\n",
       "    </tr>\n",
       "    <tr>\n",
       "      <th>352803</th>\n",
       "      <td>2022-week_06</td>\n",
       "      <td>AD09G9YKC8</td>\n",
       "      <td>MoJoe Brewing Company</td>\n",
       "      <td>JP</td>\n",
       "      <td>No</td>\n",
       "      <td>False</td>\n",
       "      <td>Yield</td>\n",
       "      <td>UserPopSelectionY</td>\n",
       "      <td>2022</td>\n",
       "      <td>6</td>\n",
       "      <td>1</td>\n",
       "      <td>0</td>\n",
       "      <td>False</td>\n",
       "    </tr>\n",
       "    <tr>\n",
       "      <th>352896</th>\n",
       "      <td>2022-week_06</td>\n",
       "      <td>AD009PDCHK</td>\n",
       "      <td>MoJoe Brewing Company</td>\n",
       "      <td>JP</td>\n",
       "      <td>Yes</td>\n",
       "      <td>NaN</td>\n",
       "      <td>Yield</td>\n",
       "      <td>UserPopSelectionY</td>\n",
       "      <td>2022</td>\n",
       "      <td>6</td>\n",
       "      <td>1</td>\n",
       "      <td>1</td>\n",
       "      <td>True</td>\n",
       "    </tr>\n",
       "    <tr>\n",
       "      <th>352996</th>\n",
       "      <td>2022-week_06</td>\n",
       "      <td>AD078L8CHR</td>\n",
       "      <td>MoJoe Brewing Company</td>\n",
       "      <td>JP</td>\n",
       "      <td>No</td>\n",
       "      <td>False</td>\n",
       "      <td>Yield</td>\n",
       "      <td>UserPopSelectionY</td>\n",
       "      <td>2022</td>\n",
       "      <td>6</td>\n",
       "      <td>1</td>\n",
       "      <td>0</td>\n",
       "      <td>False</td>\n",
       "    </tr>\n",
       "    <tr>\n",
       "      <th>353173</th>\n",
       "      <td>2022-week_06</td>\n",
       "      <td>AD008Z6PXK</td>\n",
       "      <td>MoJoe Brewing Company</td>\n",
       "      <td>JP</td>\n",
       "      <td>Yes</td>\n",
       "      <td>NaN</td>\n",
       "      <td>Yield</td>\n",
       "      <td>UserPopSelectionY</td>\n",
       "      <td>2022</td>\n",
       "      <td>6</td>\n",
       "      <td>1</td>\n",
       "      <td>1</td>\n",
       "      <td>True</td>\n",
       "    </tr>\n",
       "    <tr>\n",
       "      <th>353326</th>\n",
       "      <td>2022-week_06</td>\n",
       "      <td>AD06ZY9YJC</td>\n",
       "      <td>MoJoe Brewing Company</td>\n",
       "      <td>JP</td>\n",
       "      <td>Yes</td>\n",
       "      <td>NaN</td>\n",
       "      <td>Yield</td>\n",
       "      <td>UserPopSelectionY</td>\n",
       "      <td>2022</td>\n",
       "      <td>6</td>\n",
       "      <td>1</td>\n",
       "      <td>1</td>\n",
       "      <td>True</td>\n",
       "    </tr>\n",
       "    <tr>\n",
       "      <th>353442</th>\n",
       "      <td>2022-week_06</td>\n",
       "      <td>AD07MW988W</td>\n",
       "      <td>MoJoe Brewing Company</td>\n",
       "      <td>JP</td>\n",
       "      <td>Yes</td>\n",
       "      <td>NaN</td>\n",
       "      <td>Yield</td>\n",
       "      <td>UserPopSelectionY</td>\n",
       "      <td>2022</td>\n",
       "      <td>6</td>\n",
       "      <td>1</td>\n",
       "      <td>1</td>\n",
       "      <td>True</td>\n",
       "    </tr>\n",
       "    <tr>\n",
       "      <th>353456</th>\n",
       "      <td>2022-week_06</td>\n",
       "      <td>AD078P688Q</td>\n",
       "      <td>MoJoe Brewing Company</td>\n",
       "      <td>JP</td>\n",
       "      <td>Yes</td>\n",
       "      <td>NaN</td>\n",
       "      <td>Yield</td>\n",
       "      <td>UserPopSelectionY</td>\n",
       "      <td>2022</td>\n",
       "      <td>6</td>\n",
       "      <td>1</td>\n",
       "      <td>1</td>\n",
       "      <td>True</td>\n",
       "    </tr>\n",
       "    <tr>\n",
       "      <th>353478</th>\n",
       "      <td>2022-week_06</td>\n",
       "      <td>AD078FSPSY</td>\n",
       "      <td>MoJoe Brewing Company</td>\n",
       "      <td>JP</td>\n",
       "      <td>No</td>\n",
       "      <td>True</td>\n",
       "      <td>Yield</td>\n",
       "      <td>UserPopSelectionY</td>\n",
       "      <td>2022</td>\n",
       "      <td>6</td>\n",
       "      <td>1</td>\n",
       "      <td>0</td>\n",
       "      <td>True</td>\n",
       "    </tr>\n",
       "    <tr>\n",
       "      <th>353524</th>\n",
       "      <td>2022-week_06</td>\n",
       "      <td>AD07DZX78K</td>\n",
       "      <td>MoJoe Brewing Company</td>\n",
       "      <td>JP</td>\n",
       "      <td>Yes</td>\n",
       "      <td>NaN</td>\n",
       "      <td>Yield</td>\n",
       "      <td>UserPopSelectionY</td>\n",
       "      <td>2022</td>\n",
       "      <td>6</td>\n",
       "      <td>1</td>\n",
       "      <td>1</td>\n",
       "      <td>True</td>\n",
       "    </tr>\n",
       "    <tr>\n",
       "      <th>353551</th>\n",
       "      <td>2022-week_06</td>\n",
       "      <td>AD07GPW9QV</td>\n",
       "      <td>MoJoe Brewing Company</td>\n",
       "      <td>JP</td>\n",
       "      <td>Yes</td>\n",
       "      <td>NaN</td>\n",
       "      <td>Yield</td>\n",
       "      <td>UserPopSelectionY</td>\n",
       "      <td>2022</td>\n",
       "      <td>6</td>\n",
       "      <td>1</td>\n",
       "      <td>1</td>\n",
       "      <td>True</td>\n",
       "    </tr>\n",
       "    <tr>\n",
       "      <th>353781</th>\n",
       "      <td>2022-week_06</td>\n",
       "      <td>AD07FS86NR</td>\n",
       "      <td>MoJoe Brewing Company</td>\n",
       "      <td>JP</td>\n",
       "      <td>Yes</td>\n",
       "      <td>NaN</td>\n",
       "      <td>Yield</td>\n",
       "      <td>UserPopSelectionY</td>\n",
       "      <td>2022</td>\n",
       "      <td>6</td>\n",
       "      <td>1</td>\n",
       "      <td>1</td>\n",
       "      <td>True</td>\n",
       "    </tr>\n",
       "    <tr>\n",
       "      <th>353845</th>\n",
       "      <td>2022-week_06</td>\n",
       "      <td>AD08H8MJRC</td>\n",
       "      <td>MoJoe Brewing Company</td>\n",
       "      <td>JP</td>\n",
       "      <td>Yes</td>\n",
       "      <td>NaN</td>\n",
       "      <td>Yield</td>\n",
       "      <td>UserPopSelectionY</td>\n",
       "      <td>2022</td>\n",
       "      <td>6</td>\n",
       "      <td>1</td>\n",
       "      <td>1</td>\n",
       "      <td>True</td>\n",
       "    </tr>\n",
       "  </tbody>\n",
       "</table>\n",
       "</div>"
      ],
      "text/plain": [
       "             week_id       ad_id              requester region is_success  \\\n",
       "352263  2022-week_06  AD0088UP8R  MoJoe Brewing Company     JP        Yes   \n",
       "352326  2022-week_06  AD09C8KC8Z  MoJoe Brewing Company     JP        Yes   \n",
       "352578  2022-week_06  AD078DT6GJ  MoJoe Brewing Company     JP        Yes   \n",
       "352595  2022-week_06  AD09C8P789  MoJoe Brewing Company     JP        Yes   \n",
       "352703  2022-week_06  AD00UF8VOF  MoJoe Brewing Company     JP        Yes   \n",
       "352714  2022-week_06  AD098CXHRF  MoJoe Brewing Company     JP        Yes   \n",
       "352738  2022-week_06  AD0086GLW0  MoJoe Brewing Company     JP        Yes   \n",
       "352740  2022-week_06  AD08QMJ888  MoJoe Brewing Company     JP        Yes   \n",
       "352745  2022-week_06  AD07H9GM98  MoJoe Brewing Company     JP        Yes   \n",
       "352803  2022-week_06  AD09G9YKC8  MoJoe Brewing Company     JP         No   \n",
       "352896  2022-week_06  AD009PDCHK  MoJoe Brewing Company     JP        Yes   \n",
       "352996  2022-week_06  AD078L8CHR  MoJoe Brewing Company     JP         No   \n",
       "353173  2022-week_06  AD008Z6PXK  MoJoe Brewing Company     JP        Yes   \n",
       "353326  2022-week_06  AD06ZY9YJC  MoJoe Brewing Company     JP        Yes   \n",
       "353442  2022-week_06  AD07MW988W  MoJoe Brewing Company     JP        Yes   \n",
       "353456  2022-week_06  AD078P688Q  MoJoe Brewing Company     JP        Yes   \n",
       "353478  2022-week_06  AD078FSPSY  MoJoe Brewing Company     JP         No   \n",
       "353524  2022-week_06  AD07DZX78K  MoJoe Brewing Company     JP        Yes   \n",
       "353551  2022-week_06  AD07GPW9QV  MoJoe Brewing Company     JP        Yes   \n",
       "353781  2022-week_06  AD07FS86NR  MoJoe Brewing Company     JP        Yes   \n",
       "353845  2022-week_06  AD08H8MJRC  MoJoe Brewing Company     JP        Yes   \n",
       "\n",
       "       is_sever recommendation_type       rec_provider  year  week  qurter  \\\n",
       "352263      NaN               Yield  UserPopSelectionY  2022     6       1   \n",
       "352326      NaN               Yield  UserPopSelectionY  2022     6       1   \n",
       "352578      NaN               Yield  UserPopSelectionY  2022     6       1   \n",
       "352595      NaN               Yield  UserPopSelectionY  2022     6       1   \n",
       "352703      NaN               Yield  UserPopSelectionY  2022     6       1   \n",
       "352714      NaN               Yield  UserPopSelectionY  2022     6       1   \n",
       "352738      NaN               Yield  UserPopSelectionY  2022     6       1   \n",
       "352740      NaN               Yield  UserPopSelectionY  2022     6       1   \n",
       "352745      NaN               Yield  UserPopSelectionY  2022     6       1   \n",
       "352803    False               Yield  UserPopSelectionY  2022     6       1   \n",
       "352896      NaN               Yield  UserPopSelectionY  2022     6       1   \n",
       "352996    False               Yield  UserPopSelectionY  2022     6       1   \n",
       "353173      NaN               Yield  UserPopSelectionY  2022     6       1   \n",
       "353326      NaN               Yield  UserPopSelectionY  2022     6       1   \n",
       "353442      NaN               Yield  UserPopSelectionY  2022     6       1   \n",
       "353456      NaN               Yield  UserPopSelectionY  2022     6       1   \n",
       "353478     True               Yield  UserPopSelectionY  2022     6       1   \n",
       "353524      NaN               Yield  UserPopSelectionY  2022     6       1   \n",
       "353551      NaN               Yield  UserPopSelectionY  2022     6       1   \n",
       "353781      NaN               Yield  UserPopSelectionY  2022     6       1   \n",
       "353845      NaN               Yield  UserPopSelectionY  2022     6       1   \n",
       "\n",
       "        new_sucecss  New_is_sever  \n",
       "352263            1          True  \n",
       "352326            1          True  \n",
       "352578            1          True  \n",
       "352595            1          True  \n",
       "352703            1          True  \n",
       "352714            1          True  \n",
       "352738            1          True  \n",
       "352740            1          True  \n",
       "352745            1          True  \n",
       "352803            0         False  \n",
       "352896            1          True  \n",
       "352996            0         False  \n",
       "353173            1          True  \n",
       "353326            1          True  \n",
       "353442            1          True  \n",
       "353456            1          True  \n",
       "353478            0          True  \n",
       "353524            1          True  \n",
       "353551            1          True  \n",
       "353781            1          True  \n",
       "353845            1          True  "
      ]
     },
     "execution_count": 306,
     "metadata": {},
     "output_type": "execute_result"
    }
   ],
   "source": [
    "aaaa=ad_df.rec_provider=='UserPopSelectionY' \n",
    "ad_df.loc[aaaa]"
   ]
  },
  {
   "cell_type": "code",
   "execution_count": 307,
   "id": "3f91d2e2-7272-485f-82c4-73262700294f",
   "metadata": {},
   "outputs": [
    {
     "data": {
      "text/plain": [
       "304195"
      ]
     },
     "execution_count": 307,
     "metadata": {},
     "output_type": "execute_result"
    }
   ],
   "source": [
    "#1. Select the data in which is_sever is None. How big is it? \n",
    "aaaa=ad_df['is_sever'].isna()\n",
    "ad_df.loc[aaaa].shape[0]"
   ]
  },
  {
   "cell_type": "code",
   "execution_count": 308,
   "id": "54996b22-858f-4eff-96d0-56cf8486c683",
   "metadata": {},
   "outputs": [
    {
     "data": {
      "text/plain": [
       "118141"
      ]
     },
     "execution_count": 308,
     "metadata": {},
     "output_type": "execute_result"
    }
   ],
   "source": [
    "#1. Select the data in which the requester is a 3 word company\n",
    "aaaa=ad_df['requester'].str.split().apply(len)==3\n",
    "ad_df.loc[aaaa].shape[0]"
   ]
  },
  {
   "cell_type": "code",
   "execution_count": 309,
   "id": "991157fa-89c2-404b-975e-6dca74419113",
   "metadata": {},
   "outputs": [
    {
     "data": {
      "text/plain": [
       "24197"
      ]
     },
     "execution_count": 309,
     "metadata": {},
     "output_type": "execute_result"
    }
   ],
   "source": [
    "#1. Select the data in which the requester is a 3 word company, and the ad_id has the letter 6 in it\n",
    "aaaa=(ad_df['requester'].str.split().apply(len)==3) & (ad_df['ad_id'].str.contains(\"6\"))\n",
    "ad_df.loc[aaaa].shape[0]"
   ]
  },
  {
   "cell_type": "code",
   "execution_count": 310,
   "id": "81c35929-5235-492c-b3d8-4f3b28c95de1",
   "metadata": {},
   "outputs": [],
   "source": [
    "#1. Select the data in which the requester is a 3 word company, and the multiplication of all the numbers in the ad_id is bigger than 30"
   ]
  },
  {
   "cell_type": "code",
   "execution_count": 311,
   "id": "5044efe1-e8dc-4933-ab1b-54033625e8a7",
   "metadata": {},
   "outputs": [],
   "source": [
    " def is_prod_bigger_than_30(ad_id):\n",
    "    digits= [int(c) for c in ad_id if c.isdigit()]\n",
    "    prod=1\n",
    "    for d in digits:\n",
    "        prod*=d\n",
    "    return prod>30"
   ]
  },
  {
   "cell_type": "code",
   "execution_count": 312,
   "id": "5a83dcaf-2b0a-4230-b58e-22697f20c201",
   "metadata": {},
   "outputs": [
    {
     "data": {
      "text/html": [
       "<div>\n",
       "<style scoped>\n",
       "    .dataframe tbody tr th:only-of-type {\n",
       "        vertical-align: middle;\n",
       "    }\n",
       "\n",
       "    .dataframe tbody tr th {\n",
       "        vertical-align: top;\n",
       "    }\n",
       "\n",
       "    .dataframe thead th {\n",
       "        text-align: right;\n",
       "    }\n",
       "</style>\n",
       "<table border=\"1\" class=\"dataframe\">\n",
       "  <thead>\n",
       "    <tr style=\"text-align: right;\">\n",
       "      <th></th>\n",
       "      <th>week_id</th>\n",
       "      <th>ad_id</th>\n",
       "      <th>requester</th>\n",
       "      <th>region</th>\n",
       "      <th>is_success</th>\n",
       "      <th>is_sever</th>\n",
       "      <th>recommendation_type</th>\n",
       "      <th>rec_provider</th>\n",
       "      <th>year</th>\n",
       "      <th>week</th>\n",
       "      <th>qurter</th>\n",
       "      <th>new_sucecss</th>\n",
       "      <th>New_is_sever</th>\n",
       "    </tr>\n",
       "  </thead>\n",
       "  <tbody>\n",
       "    <tr>\n",
       "      <th>2</th>\n",
       "      <td>2021-week_33</td>\n",
       "      <td>AD08PDP6Y9</td>\n",
       "      <td>Search Million Culture</td>\n",
       "      <td>DE</td>\n",
       "      <td>Yes</td>\n",
       "      <td>NaN</td>\n",
       "      <td>Qality</td>\n",
       "      <td>DNNQ</td>\n",
       "      <td>2021</td>\n",
       "      <td>33</td>\n",
       "      <td>3</td>\n",
       "      <td>1</td>\n",
       "      <td>True</td>\n",
       "    </tr>\n",
       "    <tr>\n",
       "      <th>3</th>\n",
       "      <td>2021-week_33</td>\n",
       "      <td>AD89608808</td>\n",
       "      <td>Search Million Culture</td>\n",
       "      <td>DE</td>\n",
       "      <td>Yes</td>\n",
       "      <td>NaN</td>\n",
       "      <td>Qality</td>\n",
       "      <td>BooksQ</td>\n",
       "      <td>2021</td>\n",
       "      <td>33</td>\n",
       "      <td>3</td>\n",
       "      <td>1</td>\n",
       "      <td>True</td>\n",
       "    </tr>\n",
       "    <tr>\n",
       "      <th>4</th>\n",
       "      <td>2021-week_33</td>\n",
       "      <td>AD07CMVHP6</td>\n",
       "      <td>Search Million Culture</td>\n",
       "      <td>DE</td>\n",
       "      <td>Yes</td>\n",
       "      <td>NaN</td>\n",
       "      <td>Qality</td>\n",
       "      <td>DNNQ</td>\n",
       "      <td>2021</td>\n",
       "      <td>33</td>\n",
       "      <td>3</td>\n",
       "      <td>1</td>\n",
       "      <td>True</td>\n",
       "    </tr>\n",
       "    <tr>\n",
       "      <th>11</th>\n",
       "      <td>2021-week_33</td>\n",
       "      <td>AD88967068</td>\n",
       "      <td>Search Million Culture</td>\n",
       "      <td>DE</td>\n",
       "      <td>Yes</td>\n",
       "      <td>NaN</td>\n",
       "      <td>Qality</td>\n",
       "      <td>BooksQ</td>\n",
       "      <td>2021</td>\n",
       "      <td>33</td>\n",
       "      <td>3</td>\n",
       "      <td>1</td>\n",
       "      <td>True</td>\n",
       "    </tr>\n",
       "    <tr>\n",
       "      <th>41</th>\n",
       "      <td>2021-week_33</td>\n",
       "      <td>AD07L6JC8W</td>\n",
       "      <td>MoJoe Brewing Company</td>\n",
       "      <td>DE</td>\n",
       "      <td>Yes</td>\n",
       "      <td>NaN</td>\n",
       "      <td>Yield</td>\n",
       "      <td>DNNY</td>\n",
       "      <td>2021</td>\n",
       "      <td>33</td>\n",
       "      <td>3</td>\n",
       "      <td>1</td>\n",
       "      <td>True</td>\n",
       "    </tr>\n",
       "    <tr>\n",
       "      <th>...</th>\n",
       "      <td>...</td>\n",
       "      <td>...</td>\n",
       "      <td>...</td>\n",
       "      <td>...</td>\n",
       "      <td>...</td>\n",
       "      <td>...</td>\n",
       "      <td>...</td>\n",
       "      <td>...</td>\n",
       "      <td>...</td>\n",
       "      <td>...</td>\n",
       "      <td>...</td>\n",
       "      <td>...</td>\n",
       "      <td>...</td>\n",
       "    </tr>\n",
       "    <tr>\n",
       "      <th>373364</th>\n",
       "      <td>2022-week_52</td>\n",
       "      <td>AD06XJR86M</td>\n",
       "      <td>MoJoe Brewing Company</td>\n",
       "      <td>US</td>\n",
       "      <td>Yes</td>\n",
       "      <td>NaN</td>\n",
       "      <td>Yield</td>\n",
       "      <td>RuleBasedY</td>\n",
       "      <td>2022</td>\n",
       "      <td>52</td>\n",
       "      <td>4</td>\n",
       "      <td>1</td>\n",
       "      <td>True</td>\n",
       "    </tr>\n",
       "    <tr>\n",
       "      <th>373394</th>\n",
       "      <td>2022-week_52</td>\n",
       "      <td>AD08Y6R9WV</td>\n",
       "      <td>MoJoe Brewing Company</td>\n",
       "      <td>US</td>\n",
       "      <td>Yes</td>\n",
       "      <td>NaN</td>\n",
       "      <td>Yield</td>\n",
       "      <td>DNNY</td>\n",
       "      <td>2022</td>\n",
       "      <td>52</td>\n",
       "      <td>4</td>\n",
       "      <td>1</td>\n",
       "      <td>True</td>\n",
       "    </tr>\n",
       "    <tr>\n",
       "      <th>373511</th>\n",
       "      <td>2022-week_52</td>\n",
       "      <td>AD09C68T8Y</td>\n",
       "      <td>MoJoe Brewing Company</td>\n",
       "      <td>US</td>\n",
       "      <td>Yes</td>\n",
       "      <td>NaN</td>\n",
       "      <td>Yield</td>\n",
       "      <td>DNNY</td>\n",
       "      <td>2022</td>\n",
       "      <td>52</td>\n",
       "      <td>4</td>\n",
       "      <td>1</td>\n",
       "      <td>True</td>\n",
       "    </tr>\n",
       "    <tr>\n",
       "      <th>373691</th>\n",
       "      <td>2022-week_52</td>\n",
       "      <td>AD08M86WW8</td>\n",
       "      <td>MoJoe Brewing Company</td>\n",
       "      <td>US</td>\n",
       "      <td>Yes</td>\n",
       "      <td>NaN</td>\n",
       "      <td>Yield</td>\n",
       "      <td>DNNY</td>\n",
       "      <td>2022</td>\n",
       "      <td>52</td>\n",
       "      <td>4</td>\n",
       "      <td>1</td>\n",
       "      <td>True</td>\n",
       "    </tr>\n",
       "    <tr>\n",
       "      <th>373722</th>\n",
       "      <td>2022-week_52</td>\n",
       "      <td>AD09C8X6VY</td>\n",
       "      <td>Search Million Culture</td>\n",
       "      <td>US</td>\n",
       "      <td>Yes</td>\n",
       "      <td>NaN</td>\n",
       "      <td>Qality</td>\n",
       "      <td>DNNQ</td>\n",
       "      <td>2022</td>\n",
       "      <td>52</td>\n",
       "      <td>4</td>\n",
       "      <td>1</td>\n",
       "      <td>True</td>\n",
       "    </tr>\n",
       "  </tbody>\n",
       "</table>\n",
       "<p>24197 rows × 13 columns</p>\n",
       "</div>"
      ],
      "text/plain": [
       "             week_id       ad_id               requester region is_success  \\\n",
       "2       2021-week_33  AD08PDP6Y9  Search Million Culture     DE        Yes   \n",
       "3       2021-week_33  AD89608808  Search Million Culture     DE        Yes   \n",
       "4       2021-week_33  AD07CMVHP6  Search Million Culture     DE        Yes   \n",
       "11      2021-week_33  AD88967068  Search Million Culture     DE        Yes   \n",
       "41      2021-week_33  AD07L6JC8W   MoJoe Brewing Company     DE        Yes   \n",
       "...              ...         ...                     ...    ...        ...   \n",
       "373364  2022-week_52  AD06XJR86M   MoJoe Brewing Company     US        Yes   \n",
       "373394  2022-week_52  AD08Y6R9WV   MoJoe Brewing Company     US        Yes   \n",
       "373511  2022-week_52  AD09C68T8Y   MoJoe Brewing Company     US        Yes   \n",
       "373691  2022-week_52  AD08M86WW8   MoJoe Brewing Company     US        Yes   \n",
       "373722  2022-week_52  AD09C8X6VY  Search Million Culture     US        Yes   \n",
       "\n",
       "       is_sever recommendation_type rec_provider  year  week  qurter  \\\n",
       "2           NaN              Qality         DNNQ  2021    33       3   \n",
       "3           NaN              Qality       BooksQ  2021    33       3   \n",
       "4           NaN              Qality         DNNQ  2021    33       3   \n",
       "11          NaN              Qality       BooksQ  2021    33       3   \n",
       "41          NaN               Yield         DNNY  2021    33       3   \n",
       "...         ...                 ...          ...   ...   ...     ...   \n",
       "373364      NaN               Yield   RuleBasedY  2022    52       4   \n",
       "373394      NaN               Yield         DNNY  2022    52       4   \n",
       "373511      NaN               Yield         DNNY  2022    52       4   \n",
       "373691      NaN               Yield         DNNY  2022    52       4   \n",
       "373722      NaN              Qality         DNNQ  2022    52       4   \n",
       "\n",
       "        new_sucecss  New_is_sever  \n",
       "2                 1          True  \n",
       "3                 1          True  \n",
       "4                 1          True  \n",
       "11                1          True  \n",
       "41                1          True  \n",
       "...             ...           ...  \n",
       "373364            1          True  \n",
       "373394            1          True  \n",
       "373511            1          True  \n",
       "373691            1          True  \n",
       "373722            1          True  \n",
       "\n",
       "[24197 rows x 13 columns]"
      ]
     },
     "execution_count": 312,
     "metadata": {},
     "output_type": "execute_result"
    }
   ],
   "source": [
    "aa=a= (ad_df['requester'].str.split().apply(len)==3) & (ad_df.ad_id.apply(is_prod_bigger_than_30) )\n",
    "ad_df.loc[aaaa]"
   ]
  },
  {
   "cell_type": "markdown",
   "id": "11d8b056-c777-490a-b26d-949ee8755561",
   "metadata": {},
   "source": [
    "### Analysis"
   ]
  },
  {
   "cell_type": "markdown",
   "id": "ccae8707-2c86-424a-bd55-73496219adbe",
   "metadata": {},
   "source": [
    "1. How many weeks available in the data? Are there any missing weeks? \n",
    "2. How many regions available in the data? Are there any missing weeks per region? \n",
    "3. How many ads are being sent to annotation in each region per week?\n",
    "4. How many None values are there in is_sever column? \n",
    "5. Are ads being sent more than one time in a given week? what is the ad_id that was sent the most in a given week? (e.g. ad X where sent 50 times in week Y)\n",
    "6. Are there ads that are being sent in more than one week?\n",
    "   1. Which is the ad that was sent in most amount of weeks (e.g. ad X where sent in Y different weeks)\n",
    "   2. What are the weeks that the ad from above was sent in? \n",
    "   3. Is there an Ad that was succsefull in one week, but not succesfful in a different week? Show one.\n",
    "7. When is_sever is None, what is the number of successful requests? What is the number of non-successful requests? What do you learn from it about the reason for Nones in the first place? \n",
    "8. Per each region, What is the Quality/Yield traffic proportion WoW? \n",
    "9. How many different reqeusters are there? \n",
    "10. Which are the different rec_proivders?\n",
    "11. Are there different rec providers per region? \n",
    "12. Are there different rec providers per rec type?\n",
    "13. What are the notation rules distinguishing between quality vs yielding providers?\n",
    "14. Which is the most successful region of operation? \n",
    "15. Which is the most successful rec provider per each region? \n",
    "16. Present a table with a success rate, sever defects rate and CI (for each metric) per region\n",
    "17. Present a table with a success rate, sever defects rate and CI (for each metric) per rec provider\n",
    "18. Present a table with a success rate, sever defects rate and CI (for each metric) per region and rec provider combinations\n",
    "19. Present a table with a success rate, sever defects rate and CI (for each metric) per rec type (Q/Y)\n",
    "20. Present a table with a success rate, sever defects rate and CI (for each metric) per rec type and region\n",
    "21. Present WoW table/graph with success rate and CI (see image below) per region\n",
    "22. Present WoW table/graph with success rate and CI (see image below) per region and rec type\n",
    "23. Present WoW table/graph with success rate and CI (see image below) per region and rec provider\n",
    "24. Which are the requester to which we succeed the most?\n",
    "25. Which are the requester to which we produce the most critical defects?\n",
    "26. What is the overall success rate trend over time? \n",
    "27. What is the overall sever defect rate trend over time? \n",
    "28. Preset a WoW graph showing the number of requests per customer in each region (hint: [use stacked bars](https://plotly.com/python/bar-charts/)), from it:\n",
    "  29. Identify major traffic shape changes (addition/removal) of major clients\n",
    "30. Preset a WoW graph showing the **requests proportion** per customer in each region (hint: [use stacked bars](https://plotly.com/python/bar-charts/)), from it:\n",
    "  31. Identify major traffic shape changes (addition/removal) of major clients\n"
   ]
  },
  {
   "cell_type": "code",
   "execution_count": 246,
   "id": "170a52e7-f5dd-4066-82cb-58cc479871e8",
   "metadata": {},
   "outputs": [
    {
     "data": {
      "text/plain": [
       "array([33, 34, 35, 36, 37, 38, 39, 40, 41, 42, 43, 44, 45, 46, 47, 48, 49,\n",
       "       50, 51,  1,  2,  3,  4,  5,  6, 52])"
      ]
     },
     "execution_count": 246,
     "metadata": {},
     "output_type": "execute_result"
    }
   ],
   "source": [
    "#1. How many weeks available in the data? Are there any missing weeks? \n",
    "ad_df.week.unique()"
   ]
  },
  {
   "cell_type": "code",
   "execution_count": 248,
   "id": "6a546406-f587-45f5-8715-1fac9d6a4891",
   "metadata": {},
   "outputs": [
    {
     "data": {
      "text/plain": [
       "array(['DE', 'GB', 'IN', 'JP', 'US'], dtype=object)"
      ]
     },
     "execution_count": 248,
     "metadata": {},
     "output_type": "execute_result"
    }
   ],
   "source": [
    "#2. How many regions available in the data? Are there any missing weeks per region? \n",
    "ad_df.region.unique()"
   ]
  },
  {
   "cell_type": "code",
   "execution_count": 249,
   "id": "e38bff87-dc4f-420f-85a9-08530e0dc266",
   "metadata": {},
   "outputs": [],
   "source": [
    "aaa = ad_df.groupby(\"region\")[\"week\"]"
   ]
  },
  {
   "cell_type": "code",
   "execution_count": 253,
   "id": "68649d0f-7280-44d1-9e3b-4c81d9b502d5",
   "metadata": {},
   "outputs": [
    {
     "data": {
      "text/plain": [
       "region  week  recommendation_type\n",
       "DE      1     Qality                 2026\n",
       "              Yield                   376\n",
       "        2     Qality                 2027\n",
       "              Yield                   367\n",
       "        3     Qality                 1881\n",
       "                                     ... \n",
       "US      50    Yield                  2126\n",
       "        51    Qality                 1208\n",
       "              Yield                  2788\n",
       "        52    Qality                 1299\n",
       "              Yield                  2699\n",
       "Name: ad_id, Length: 258, dtype: int64"
      ]
     },
     "execution_count": 253,
     "metadata": {},
     "output_type": "execute_result"
    }
   ],
   "source": [
    "#3. How many ads are being sent to annotation in each region per week?\n",
    "ad_df.groupby(['region','week','recommendation_type']).ad_id.count()\n"
   ]
  },
  {
   "cell_type": "code",
   "execution_count": 48,
   "id": "f9c6a868-873f-4ed5-ad44-60cfb68bb1e3",
   "metadata": {},
   "outputs": [
    {
     "data": {
      "text/plain": [
       "304195"
      ]
     },
     "execution_count": 48,
     "metadata": {},
     "output_type": "execute_result"
    }
   ],
   "source": [
    "#4. How many None values are there in is_sever column? \n",
    "ad_df.is_sever.isnull().sum()\n"
   ]
  },
  {
   "cell_type": "code",
   "execution_count": 319,
   "id": "83387c1e-bbc5-4ada-8d8b-6dea8e9ce468",
   "metadata": {},
   "outputs": [
    {
     "data": {
      "text/plain": [
       "ad_id       week\n",
       "AD00000088  37      1\n",
       "Name: week, dtype: int64"
      ]
     },
     "execution_count": 319,
     "metadata": {},
     "output_type": "execute_result"
    }
   ],
   "source": [
    "#5. Are ads being sent more than one time in a given week? what is the ad_id that was sent the most in a given week? (e.g. ad X where sent 50 times in week Y)\n",
    "max_ad = ad_df.groupby([\"ad_id\",\"week\"])[\"week\"].value_counts().idxmax()\n",
    "\n",
    "ad_df.groupby([\"ad_id\",\"week\"])[\"week\"].count().sort_values(ascending=True).head(1)\n"
   ]
  },
  {
   "cell_type": "code",
   "execution_count": 50,
   "id": "e8c53c6a-14a9-4869-84c3-4c23b67e99c8",
   "metadata": {},
   "outputs": [
    {
     "data": {
      "text/plain": [
       "ad_id       week\n",
       "AD00000088  37      1\n",
       "AD000000WF  3       1\n",
       "AD00000876  34      1\n",
       "AD00000888  2       1\n",
       "            43      1\n",
       "                   ..\n",
       "AD98988898  5       1\n",
       "            43      1\n",
       "AD99798888  42      1\n",
       "ADOO8X898E  41      1\n",
       "            50      1\n",
       "Name: ad_id, Length: 358763, dtype: int64"
      ]
     },
     "execution_count": 50,
     "metadata": {},
     "output_type": "execute_result"
    }
   ],
   "source": [
    " 6Are there ads that are being sent in more than one week?\n",
    "#   1. Which is the ad that was sent in most amount of weeks (e.g. ad X where sent in Y different weeks)\n",
    " #  2. What are the weeks that the ad from above was sent in? \n",
    "  # 3. Is there an Ad that was succsefull in one week, but not succesfful in a different week? Show one.\n",
    "group_by_carrier = ad_df.groupby(['ad_id','week'])\n",
    "group_by_carrier.ad_id.size()\n",
    "\n"
   ]
  },
  {
   "cell_type": "code",
   "execution_count": 254,
   "id": "8cfe9aad-8209-4f77-b720-ab3d0ea52d10",
   "metadata": {},
   "outputs": [
    {
     "data": {
      "text/html": [
       "<div>\n",
       "<style scoped>\n",
       "    .dataframe tbody tr th:only-of-type {\n",
       "        vertical-align: middle;\n",
       "    }\n",
       "\n",
       "    .dataframe tbody tr th {\n",
       "        vertical-align: top;\n",
       "    }\n",
       "\n",
       "    .dataframe thead th {\n",
       "        text-align: right;\n",
       "    }\n",
       "</style>\n",
       "<table border=\"1\" class=\"dataframe\">\n",
       "  <thead>\n",
       "    <tr style=\"text-align: right;\">\n",
       "      <th></th>\n",
       "      <th>ad_id</th>\n",
       "      <th>week</th>\n",
       "      <th>Duplicates</th>\n",
       "    </tr>\n",
       "  </thead>\n",
       "  <tbody>\n",
       "    <tr>\n",
       "      <th>5</th>\n",
       "      <td>AD000088DW</td>\n",
       "      <td>3</td>\n",
       "      <td>2</td>\n",
       "    </tr>\n",
       "    <tr>\n",
       "      <th>17</th>\n",
       "      <td>AD0000C78C</td>\n",
       "      <td>39</td>\n",
       "      <td>2</td>\n",
       "    </tr>\n",
       "    <tr>\n",
       "      <th>18</th>\n",
       "      <td>AD0000C78C</td>\n",
       "      <td>40</td>\n",
       "      <td>2</td>\n",
       "    </tr>\n",
       "    <tr>\n",
       "      <th>19</th>\n",
       "      <td>AD0000C78C</td>\n",
       "      <td>42</td>\n",
       "      <td>2</td>\n",
       "    </tr>\n",
       "    <tr>\n",
       "      <th>20</th>\n",
       "      <td>AD0000C78C</td>\n",
       "      <td>52</td>\n",
       "      <td>3</td>\n",
       "    </tr>\n",
       "    <tr>\n",
       "      <th>...</th>\n",
       "      <td>...</td>\n",
       "      <td>...</td>\n",
       "      <td>...</td>\n",
       "    </tr>\n",
       "    <tr>\n",
       "      <th>9141</th>\n",
       "      <td>AD88967096</td>\n",
       "      <td>3</td>\n",
       "      <td>2</td>\n",
       "    </tr>\n",
       "    <tr>\n",
       "      <th>9156</th>\n",
       "      <td>AD89888888</td>\n",
       "      <td>34</td>\n",
       "      <td>2</td>\n",
       "    </tr>\n",
       "    <tr>\n",
       "      <th>9160</th>\n",
       "      <td>AD89888888</td>\n",
       "      <td>42</td>\n",
       "      <td>2</td>\n",
       "    </tr>\n",
       "    <tr>\n",
       "      <th>9163</th>\n",
       "      <td>AD89888889</td>\n",
       "      <td>35</td>\n",
       "      <td>2</td>\n",
       "    </tr>\n",
       "    <tr>\n",
       "      <th>9172</th>\n",
       "      <td>AD98898880</td>\n",
       "      <td>49</td>\n",
       "      <td>2</td>\n",
       "    </tr>\n",
       "  </tbody>\n",
       "</table>\n",
       "<p>2088 rows × 3 columns</p>\n",
       "</div>"
      ],
      "text/plain": [
       "           ad_id  week  Duplicates\n",
       "5     AD000088DW     3           2\n",
       "17    AD0000C78C    39           2\n",
       "18    AD0000C78C    40           2\n",
       "19    AD0000C78C    42           2\n",
       "20    AD0000C78C    52           3\n",
       "...          ...   ...         ...\n",
       "9141  AD88967096     3           2\n",
       "9156  AD89888888    34           2\n",
       "9160  AD89888888    42           2\n",
       "9163  AD89888889    35           2\n",
       "9172  AD98898880    49           2\n",
       "\n",
       "[2088 rows x 3 columns]"
      ]
     },
     "execution_count": 254,
     "metadata": {},
     "output_type": "execute_result"
    }
   ],
   "source": [
    "#Are there ads that are being sent in more than one week?\n",
    "aaa = ['ad_id', 'week']\n",
    "temp=ad_df[ad_df.duplicated(aaa)].groupby(aaa).size().reset_index(name='Duplicates')\n",
    "temp.query('Duplicates > 1')\n"
   ]
  },
  {
   "cell_type": "code",
   "execution_count": null,
   "id": "73d0659d-9f47-4e13-a6b4-4c58e2f528db",
   "metadata": {},
   "outputs": [],
   "source": [
    "#Which is the ad that was sent in most amount of weeks (e.g. ad X where sent in Y different weeks)\n",
    "ad_df.groupby(['ad_id','week']).agg(lambda x: x.value_counts().index[0])\n"
   ]
  },
  {
   "cell_type": "code",
   "execution_count": null,
   "id": "eb350e63-4b91-4dd7-ba35-e108ad349558",
   "metadata": {},
   "outputs": [],
   "source": [
    "#7.When is_sever is None, what is the number of successful requests? \n",
    "aaaa=ad_df['is_sever'].isna()\n",
    "df=ad_df.loc[aaaa]\n",
    "df.is_success.value_counts()\n"
   ]
  },
  {
   "cell_type": "code",
   "execution_count": 52,
   "id": "0137edfa-72cf-4c86-8255-369db1dd70b3",
   "metadata": {},
   "outputs": [
    {
     "name": "stdout",
     "output_type": "stream",
     "text": [
      "region  recommendation_type\n",
      "DE      Qality                 80.890040\n",
      "        Yield                  19.109960\n",
      "GB      Qality                 83.634195\n",
      "        Yield                  16.365805\n",
      "IN      Qality                 49.128124\n",
      "        Yield                  50.871876\n",
      "JP      Qality                 85.206717\n",
      "        Yield                  14.793283\n",
      "US      Qality                 39.051095\n",
      "        Yield                  60.948905\n",
      "dtype: float64\n"
     ]
    }
   ],
   "source": [
    "#8. Per each region, What is the Quality/Yield traffic proportion WoW? \n",
    "temp=ad_df.groupby(['region', 'recommendation_type']).size()\n",
    "percentage=temp.groupby(level=0).apply(lambda x:100*x/(x.sum()))\n",
    "print(percentage)\n"
   ]
  },
  {
   "cell_type": "code",
   "execution_count": 256,
   "id": "d5c6974f-6edd-4362-bfaa-a94401b8d072",
   "metadata": {},
   "outputs": [
    {
     "data": {
      "text/plain": [
       "36"
      ]
     },
     "execution_count": 256,
     "metadata": {},
     "output_type": "execute_result"
    }
   ],
   "source": [
    "#9. How many different reqeusters are there? \n",
    "ad_df.requester.unique().size\n"
   ]
  },
  {
   "cell_type": "code",
   "execution_count": 257,
   "id": "59e6086c-d512-4ae0-a60d-14578e538432",
   "metadata": {},
   "outputs": [
    {
     "data": {
      "text/plain": [
       "region                        \n",
       "DE      Search Million Culture    23657\n",
       "        RelayFoods                17313\n",
       "        MoJoe Brewing Company      8616\n",
       "        iDreamsky Technology       3542\n",
       "        SOLOMO365                  2435\n",
       "GB      Search Million Culture    28002\n",
       "        RelayFoods                15920\n",
       "        Fancy                     13678\n",
       "        MoJoe Brewing Company      9530\n",
       "        iDreamsky Technology       3919\n",
       "IN      Puentes Company           29427\n",
       "        Search Million Culture    21365\n",
       "        RelayFoods                17352\n",
       "        MoJoe Brewing Company      7191\n",
       "        iDreamsky Technology       1995\n",
       "JP      RelayFoods                24574\n",
       "        Search Million Culture     7906\n",
       "        MoJoe Brewing Company      3549\n",
       "        LocalVox Media             1724\n",
       "        Tab Solutions              1366\n",
       "US      Extreme DA                57215\n",
       "        Fancy                     18668\n",
       "        Tab Solutions              9790\n",
       "        Search Million Culture     5610\n",
       "        Sensor Tower               3503\n",
       "Name: requester, dtype: int64"
      ]
     },
     "execution_count": 257,
     "metadata": {},
     "output_type": "execute_result"
    }
   ],
   "source": [
    "#Which are the top 5 requesters per region?\n",
    "ad_df.groupby(['region']).apply(lambda g:g.requester.value_counts().head(5))\n"
   ]
  },
  {
   "cell_type": "code",
   "execution_count": 320,
   "id": "9364ae20-77d0-49ae-8746-35f1a579f8ae",
   "metadata": {},
   "outputs": [
    {
     "data": {
      "text/plain": [
       "array(['DNNQ', 'DNNY', 'BooksQ', 'UserPopQ', 'UserPopY', 'RuleBasedY',\n",
       "       'ManualY', 'ManualQ', 'BooksY', 'XGBQ', 'XGBY', 'RNNQ', 'RNNY',\n",
       "       'RuleBased', 'UserPopSelectionQ', 'UserPopSelectionY'],\n",
       "      dtype=object)"
      ]
     },
     "execution_count": 320,
     "metadata": {},
     "output_type": "execute_result"
    }
   ],
   "source": [
    "#  Which are the different rec_proivders?\n",
    "ad_df.rec_provider.unique()\n"
   ]
  },
  {
   "cell_type": "code",
   "execution_count": 262,
   "id": "6b92c90d-5545-4419-a85c-67951fd6c8cb",
   "metadata": {},
   "outputs": [
    {
     "data": {
      "text/plain": [
       "region\n",
       "DE    [DNNQ, DNNY, BooksQ, UserPopQ, UserPopY, RuleB...\n",
       "GB    [DNNY, XGBQ, DNNQ, XGBY, RNNQ, UserPopQ, Manua...\n",
       "IN    [UserPopY, RuleBasedY, UserPopQ, ManualY, Manu...\n",
       "JP    [ManualQ, UserPopQ, RuleBasedY, DNNQ, ManualY,...\n",
       "US    [DNNY, ManualQ, DNNQ, UserPopY, XGBY, RNNY, Ma...\n",
       "dtype: object"
      ]
     },
     "execution_count": 262,
     "metadata": {},
     "output_type": "execute_result"
    }
   ],
   "source": [
    "# Are there different rec providers per region?\n",
    "ad_df.groupby([ 'region']).apply(lambda g:g.rec_provider.unique())\n"
   ]
  },
  {
   "cell_type": "code",
   "execution_count": 321,
   "id": "5a662aef-37a5-41dc-8685-cdccc996a95e",
   "metadata": {},
   "outputs": [
    {
     "data": {
      "text/plain": [
       "region\n",
       "DE     9\n",
       "GB    12\n",
       "IN     6\n",
       "JP     9\n",
       "US    14\n",
       "Name: rec_provider, dtype: int64"
      ]
     },
     "execution_count": 321,
     "metadata": {},
     "output_type": "execute_result"
    }
   ],
   "source": [
    "#12. Are there different rec providers per rec type?\n",
    "ad_df.groupby(\"region\")['rec_provider'].nunique()\n"
   ]
  },
  {
   "cell_type": "code",
   "execution_count": 322,
   "id": "617a8d5b-ac32-41c5-be67-654cc600badc",
   "metadata": {},
   "outputs": [
    {
     "data": {
      "text/plain": [
       "region  recommendation_type\n",
       "DE      Qality                 5\n",
       "        Yield                  6\n",
       "GB      Qality                 7\n",
       "        Yield                  7\n",
       "IN      Qality                 4\n",
       "        Yield                  4\n",
       "JP      Qality                 5\n",
       "        Yield                  6\n",
       "US      Qality                 8\n",
       "        Yield                  8\n",
       "Name: rec_provider, dtype: int64"
      ]
     },
     "execution_count": 322,
     "metadata": {},
     "output_type": "execute_result"
    }
   ],
   "source": [
    "#13. What are the notation rules distinguishing between quality vs yielding providers?\n",
    "ad_df.groupby([\"region\",'recommendation_type' ])[\"rec_provider\"].nunique()\n"
   ]
  },
  {
   "cell_type": "code",
   "execution_count": 58,
   "id": "ec67f360-6581-4c8d-96ac-d5c2a5926a29",
   "metadata": {},
   "outputs": [],
   "source": [
    "#14. Which is the most successful region of operation? \n"
   ]
  },
  {
   "cell_type": "code",
   "execution_count": 59,
   "id": "596ed2c3-777d-4f28-aac3-6fa4c2308929",
   "metadata": {},
   "outputs": [
    {
     "name": "stdout",
     "output_type": "stream",
     "text": [
      "region  rec_provider     \n",
      "DE      BooksQ                2.176046\n",
      "        BooksY                2.021648\n",
      "        DNNQ                 52.162375\n",
      "        DNNY                  8.712225\n",
      "        ManualQ               1.556846\n",
      "        ManualY               0.973029\n",
      "        RuleBasedY            2.595815\n",
      "        UserPopQ             24.412564\n",
      "        UserPopY              5.389453\n",
      "GB      DNNQ                 47.810421\n",
      "        DNNY                  8.764340\n",
      "        ManualQ               2.595681\n",
      "        ManualY               0.666394\n",
      "        RNNQ                 13.700231\n",
      "        RNNY                  1.865420\n",
      "        RuleBased             0.048202\n",
      "        RuleBasedY            2.228140\n",
      "        UserPopQ              8.171455\n",
      "        UserPopY              1.978695\n",
      "        XGBQ                 11.009351\n",
      "        XGBY                  1.161670\n",
      "IN      ManualQ               6.365298\n",
      "        ManualY               0.270582\n",
      "        RuleBased             0.008418\n",
      "        RuleBasedY           16.964908\n",
      "        UserPopQ             45.968925\n",
      "        UserPopY             30.421868\n",
      "JP      DNNQ                 59.033800\n",
      "        DNNY                  9.270425\n",
      "        ManualQ               1.674394\n",
      "        ManualY               0.300286\n",
      "        RuleBasedY            1.506234\n",
      "        UserPopQ             19.050136\n",
      "        UserPopSelectionQ     5.806328\n",
      "        UserPopSelectionY     0.050448\n",
      "        UserPopY              3.307949\n",
      "US      BooksQ                0.353408\n",
      "        BooksY                2.785856\n",
      "        DNNQ                 19.973807\n",
      "        DNNY                 27.509004\n",
      "        ManualQ               4.556747\n",
      "        ManualY               0.456445\n",
      "        RNNQ                  9.257940\n",
      "        RNNY                 10.769794\n",
      "        RuleBased             0.130000\n",
      "        RuleBasedY            9.588236\n",
      "        UserPopQ              1.754521\n",
      "        UserPopY              6.676232\n",
      "        XGBQ                  2.998671\n",
      "        XGBY                  3.189338\n",
      "dtype: float64\n"
     ]
    }
   ],
   "source": [
    "#15. Which is the most successful rec provider per each region? \n",
    "#aaa=ad_df.groupby('region').apply(lambda c: c.rec_provider.value_counts() .head(1))\n",
    "\n"
   ]
  },
  {
   "cell_type": "code",
   "execution_count": 61,
   "id": "fa7f0c3f-4233-4f7f-b35f-a4f6cb23a705",
   "metadata": {},
   "outputs": [
    {
     "name": "stdout",
     "output_type": "stream",
     "text": [
      "region  rec_provider     \n",
      "DE      BooksQ                2.176046\n",
      "        BooksY                2.021648\n",
      "        DNNQ                 52.162375\n",
      "        DNNY                  8.712225\n",
      "        ManualQ               1.556846\n",
      "        ManualY               0.973029\n",
      "        RuleBasedY            2.595815\n",
      "        UserPopQ             24.412564\n",
      "        UserPopY              5.389453\n",
      "GB      DNNQ                 47.810421\n",
      "        DNNY                  8.764340\n",
      "        ManualQ               2.595681\n",
      "        ManualY               0.666394\n",
      "        RNNQ                 13.700231\n",
      "        RNNY                  1.865420\n",
      "        RuleBased             0.048202\n",
      "        RuleBasedY            2.228140\n",
      "        UserPopQ              8.171455\n",
      "        UserPopY              1.978695\n",
      "        XGBQ                 11.009351\n",
      "        XGBY                  1.161670\n",
      "IN      ManualQ               6.365298\n",
      "        ManualY               0.270582\n",
      "        RuleBased             0.008418\n",
      "        RuleBasedY           16.964908\n",
      "        UserPopQ             45.968925\n",
      "        UserPopY             30.421868\n",
      "JP      DNNQ                 59.033800\n",
      "        DNNY                  9.270425\n",
      "        ManualQ               1.674394\n",
      "        ManualY               0.300286\n",
      "        RuleBasedY            1.506234\n",
      "        UserPopQ             19.050136\n",
      "        UserPopSelectionQ     5.806328\n",
      "        UserPopSelectionY     0.050448\n",
      "        UserPopY              3.307949\n",
      "US      BooksQ                0.353408\n",
      "        BooksY                2.785856\n",
      "        DNNQ                 19.973807\n",
      "        DNNY                 27.509004\n",
      "        ManualQ               4.556747\n",
      "        ManualY               0.456445\n",
      "        RNNQ                  9.257940\n",
      "        RNNY                 10.769794\n",
      "        RuleBased             0.130000\n",
      "        RuleBasedY            9.588236\n",
      "        UserPopQ              1.754521\n",
      "        UserPopY              6.676232\n",
      "        XGBQ                  2.998671\n",
      "        XGBY                  3.189338\n",
      "dtype: float64\n"
     ]
    }
   ],
   "source": [
    "#16. Present a table with a success rate, sever defects rate and CI (for each metric) per region\n"
   ]
  },
  {
   "cell_type": "code",
   "execution_count": 62,
   "id": "b0f8de23-7d40-4bcd-a77d-e1379dacb5bb",
   "metadata": {},
   "outputs": [],
   "source": [
    "#17. Present a table with a success rate, sever defects rate and CI (for each metric) per rec provider\n"
   ]
  },
  {
   "cell_type": "code",
   "execution_count": 323,
   "id": "914f7c0f-a437-40e9-bb62-56279dbc628c",
   "metadata": {},
   "outputs": [
    {
     "ename": "KeyError",
     "evalue": "\"Columns not found: 'sever_yes', 'success_yes'\"",
     "output_type": "error",
     "traceback": [
      "\u001b[1;31m---------------------------------------------------------------------------\u001b[0m",
      "\u001b[1;31mKeyError\u001b[0m                                  Traceback (most recent call last)",
      "\u001b[1;32m~\\AppData\\Local\\Temp\\ipykernel_12780\\106558022.py\u001b[0m in \u001b[0;36m<module>\u001b[1;34m\u001b[0m\n\u001b[0;32m      1\u001b[0m \u001b[1;31m#18. Present a table with a success rate, sever defects rate and CI (for each metric) per region and rec provider combinations\u001b[0m\u001b[1;33m\u001b[0m\u001b[1;33m\u001b[0m\u001b[0m\n\u001b[1;32m----> 2\u001b[1;33m \u001b[0mad_df\u001b[0m\u001b[1;33m.\u001b[0m\u001b[0mgroupby\u001b[0m\u001b[1;33m(\u001b[0m\u001b[1;34m'rec_provider'\u001b[0m\u001b[1;33m)\u001b[0m\u001b[1;33m[\u001b[0m\u001b[1;33m[\u001b[0m\u001b[1;34m'success_yes'\u001b[0m\u001b[1;33m,\u001b[0m\u001b[1;34m'sever_yes'\u001b[0m\u001b[1;33m]\u001b[0m\u001b[1;33m]\u001b[0m\u001b[1;33m.\u001b[0m\u001b[0mapply\u001b[0m\u001b[1;33m(\u001b[0m\u001b[1;32mlambda\u001b[0m \u001b[0mx\u001b[0m \u001b[1;33m:\u001b[0m \u001b[1;33m(\u001b[0m\u001b[1;36m100\u001b[0m\u001b[1;33m*\u001b[0m\u001b[0mx\u001b[0m\u001b[1;33m.\u001b[0m\u001b[0msum\u001b[0m\u001b[1;33m(\u001b[0m\u001b[1;33m)\u001b[0m\u001b[1;33m/\u001b[0m\u001b[0mx\u001b[0m\u001b[1;33m.\u001b[0m\u001b[0mcount\u001b[0m\u001b[1;33m(\u001b[0m\u001b[1;33m)\u001b[0m\u001b[1;33m)\u001b[0m\u001b[1;33m)\u001b[0m\u001b[1;33m\u001b[0m\u001b[1;33m\u001b[0m\u001b[0m\n\u001b[0m",
      "\u001b[1;32m~\\anaconda3\\lib\\site-packages\\pandas\\core\\groupby\\generic.py\u001b[0m in \u001b[0;36m__getitem__\u001b[1;34m(self, key)\u001b[0m\n\u001b[0;32m   1336\u001b[0m                 \u001b[0mstacklevel\u001b[0m\u001b[1;33m=\u001b[0m\u001b[0mfind_stack_level\u001b[0m\u001b[1;33m(\u001b[0m\u001b[1;33m)\u001b[0m\u001b[1;33m,\u001b[0m\u001b[1;33m\u001b[0m\u001b[1;33m\u001b[0m\u001b[0m\n\u001b[0;32m   1337\u001b[0m             )\n\u001b[1;32m-> 1338\u001b[1;33m         \u001b[1;32mreturn\u001b[0m \u001b[0msuper\u001b[0m\u001b[1;33m(\u001b[0m\u001b[1;33m)\u001b[0m\u001b[1;33m.\u001b[0m\u001b[0m__getitem__\u001b[0m\u001b[1;33m(\u001b[0m\u001b[0mkey\u001b[0m\u001b[1;33m)\u001b[0m\u001b[1;33m\u001b[0m\u001b[1;33m\u001b[0m\u001b[0m\n\u001b[0m\u001b[0;32m   1339\u001b[0m \u001b[1;33m\u001b[0m\u001b[0m\n\u001b[0;32m   1340\u001b[0m     \u001b[1;32mdef\u001b[0m \u001b[0m_gotitem\u001b[0m\u001b[1;33m(\u001b[0m\u001b[0mself\u001b[0m\u001b[1;33m,\u001b[0m \u001b[0mkey\u001b[0m\u001b[1;33m,\u001b[0m \u001b[0mndim\u001b[0m\u001b[1;33m:\u001b[0m \u001b[0mint\u001b[0m\u001b[1;33m,\u001b[0m \u001b[0msubset\u001b[0m\u001b[1;33m=\u001b[0m\u001b[1;32mNone\u001b[0m\u001b[1;33m)\u001b[0m\u001b[1;33m:\u001b[0m\u001b[1;33m\u001b[0m\u001b[1;33m\u001b[0m\u001b[0m\n",
      "\u001b[1;32m~\\anaconda3\\lib\\site-packages\\pandas\\core\\base.py\u001b[0m in \u001b[0;36m__getitem__\u001b[1;34m(self, key)\u001b[0m\n\u001b[0;32m    238\u001b[0m             \u001b[1;32mif\u001b[0m \u001b[0mlen\u001b[0m\u001b[1;33m(\u001b[0m\u001b[0mself\u001b[0m\u001b[1;33m.\u001b[0m\u001b[0mobj\u001b[0m\u001b[1;33m.\u001b[0m\u001b[0mcolumns\u001b[0m\u001b[1;33m.\u001b[0m\u001b[0mintersection\u001b[0m\u001b[1;33m(\u001b[0m\u001b[0mkey\u001b[0m\u001b[1;33m)\u001b[0m\u001b[1;33m)\u001b[0m \u001b[1;33m!=\u001b[0m \u001b[0mlen\u001b[0m\u001b[1;33m(\u001b[0m\u001b[0mset\u001b[0m\u001b[1;33m(\u001b[0m\u001b[0mkey\u001b[0m\u001b[1;33m)\u001b[0m\u001b[1;33m)\u001b[0m\u001b[1;33m:\u001b[0m\u001b[1;33m\u001b[0m\u001b[1;33m\u001b[0m\u001b[0m\n\u001b[0;32m    239\u001b[0m                 \u001b[0mbad_keys\u001b[0m \u001b[1;33m=\u001b[0m \u001b[0mlist\u001b[0m\u001b[1;33m(\u001b[0m\u001b[0mset\u001b[0m\u001b[1;33m(\u001b[0m\u001b[0mkey\u001b[0m\u001b[1;33m)\u001b[0m\u001b[1;33m.\u001b[0m\u001b[0mdifference\u001b[0m\u001b[1;33m(\u001b[0m\u001b[0mself\u001b[0m\u001b[1;33m.\u001b[0m\u001b[0mobj\u001b[0m\u001b[1;33m.\u001b[0m\u001b[0mcolumns\u001b[0m\u001b[1;33m)\u001b[0m\u001b[1;33m)\u001b[0m\u001b[1;33m\u001b[0m\u001b[1;33m\u001b[0m\u001b[0m\n\u001b[1;32m--> 240\u001b[1;33m                 \u001b[1;32mraise\u001b[0m \u001b[0mKeyError\u001b[0m\u001b[1;33m(\u001b[0m\u001b[1;34mf\"Columns not found: {str(bad_keys)[1:-1]}\"\u001b[0m\u001b[1;33m)\u001b[0m\u001b[1;33m\u001b[0m\u001b[1;33m\u001b[0m\u001b[0m\n\u001b[0m\u001b[0;32m    241\u001b[0m             \u001b[1;32mreturn\u001b[0m \u001b[0mself\u001b[0m\u001b[1;33m.\u001b[0m\u001b[0m_gotitem\u001b[0m\u001b[1;33m(\u001b[0m\u001b[0mlist\u001b[0m\u001b[1;33m(\u001b[0m\u001b[0mkey\u001b[0m\u001b[1;33m)\u001b[0m\u001b[1;33m,\u001b[0m \u001b[0mndim\u001b[0m\u001b[1;33m=\u001b[0m\u001b[1;36m2\u001b[0m\u001b[1;33m)\u001b[0m\u001b[1;33m\u001b[0m\u001b[1;33m\u001b[0m\u001b[0m\n\u001b[0;32m    242\u001b[0m \u001b[1;33m\u001b[0m\u001b[0m\n",
      "\u001b[1;31mKeyError\u001b[0m: \"Columns not found: 'sever_yes', 'success_yes'\""
     ]
    }
   ],
   "source": [
    "#18. Present a table with a success rate, sever defects rate and CI (for each metric) per region and rec provider combinations\n",
    "ad_.groupby('rec_provider')[['success_yes','sever_yes']].apply(lambda x : (100*x.sum()/x.count()))\n"
   ]
  },
  {
   "cell_type": "code",
   "execution_count": null,
   "id": "cd4ca6df-b083-44e8-ba54-ef97462c6e0d",
   "metadata": {},
   "outputs": [],
   "source": [
    "#19. Present a table with a success rate, sever defects rate and CI (for each metric) per rec type (Q/Y)\n"
   ]
  },
  {
   "cell_type": "code",
   "execution_count": null,
   "id": "561fd6d5-a61a-44e9-a397-ac1838aba777",
   "metadata": {},
   "outputs": [],
   "source": [
    "#20. Present a table with a success rate, sever defects rate and CI (for each metric) per rec type and region\n"
   ]
  },
  {
   "cell_type": "code",
   "execution_count": null,
   "id": "dc0ec48d-57af-45d0-8497-a1bd7ad3c4d5",
   "metadata": {},
   "outputs": [],
   "source": [
    "#21. Present WoW table/graph with success rate and CI (see image below) per region\n"
   ]
  },
  {
   "cell_type": "code",
   "execution_count": 270,
   "id": "9b10ff4c-7b71-4a4d-8d07-6fbf6cd6c83f",
   "metadata": {
    "tags": []
   },
   "outputs": [],
   "source": [
    "#22. Present WoW table/graph with success rate and CI (see image below) per region and rec type\n"
   ]
  },
  {
   "cell_type": "code",
   "execution_count": 271,
   "id": "13ae4f95-2b2e-43ab-8f0f-2a83392189ee",
   "metadata": {},
   "outputs": [],
   "source": [
    "#23. Present WoW table/graph with success rate and CI (see image below) per region and rec provider\n",
    "\n"
   ]
  },
  {
   "cell_type": "code",
   "execution_count": null,
   "id": "ac814d51-711e-4e6a-8019-24b4a33badc4",
   "metadata": {},
   "outputs": [],
   "source": [
    "#24. Which are the requester to which we succeed the most?\n"
   ]
  },
  {
   "cell_type": "code",
   "execution_count": null,
   "id": "f358b099-b500-49a8-935a-0e4785cacd5c",
   "metadata": {},
   "outputs": [],
   "source": [
    "#25. Which are the requester to which we produce the most critical defects?\n"
   ]
  },
  {
   "cell_type": "code",
   "execution_count": null,
   "id": "a36057b2-dfb1-4582-bd2d-37f8f3389d74",
   "metadata": {},
   "outputs": [],
   "source": [
    "#26. What is the overall success rate trend over time? \n"
   ]
  },
  {
   "cell_type": "code",
   "execution_count": null,
   "id": "33fee243-79d9-4ecb-ac26-37dd8c4ccc6c",
   "metadata": {},
   "outputs": [],
   "source": [
    "#27. What is the overall sever defect rate trend over time? \n"
   ]
  },
  {
   "cell_type": "code",
   "execution_count": null,
   "id": "b7c10057-5cc2-49cb-ab3c-c753fa2e9640",
   "metadata": {},
   "outputs": [],
   "source": [
    "#28. Preset a WoW graph showing the number of requests per customer in each region \n",
    "#(hint: [use stacked bars](https://plotly.com/python/bar-charts/)), from it:\n"
   ]
  },
  {
   "cell_type": "code",
   "execution_count": 329,
   "id": "54fc1e65-8d0f-4666-a751-b1ada33b4252",
   "metadata": {},
   "outputs": [
    {
     "data": {
      "application/vnd.plotly.v1+json": {
       "config": {
        "plotlyServerURL": "https://plot.ly"
       },
       "data": [
        {
         "alignmentgroup": "True",
         "hovertemplate": "requester=Bizanga<br>region=DE<br>week_id=%{x}<br>count=%{y}<extra></extra>",
         "legendgroup": "Bizanga",
         "marker": {
          "color": "#636efa",
          "pattern": {
           "shape": ""
          }
         },
         "name": "Bizanga",
         "offsetgroup": "Bizanga",
         "orientation": "v",
         "showlegend": true,
         "textposition": "auto",
         "type": "bar",
         "x": [
          "2021-week_33",
          "2021-week_34",
          "2021-week_35",
          "2021-week_36",
          "2021-week_37",
          "2021-week_38",
          "2021-week_39",
          "2021-week_40",
          "2021-week_41",
          "2021-week_42",
          "2021-week_43",
          "2021-week_44",
          "2021-week_45",
          "2021-week_46",
          "2021-week_47",
          "2021-week_48",
          "2021-week_49",
          "2021-week_50",
          "2021-week_51",
          "2022-week_01",
          "2022-week_02",
          "2022-week_03",
          "2022-week_04",
          "2022-week_05",
          "2022-week_06",
          "2022-week_52"
         ],
         "xaxis": "x",
         "y": [
          7,
          5,
          4,
          5,
          5,
          10,
          6,
          5,
          10,
          2,
          5,
          2,
          5,
          1,
          4,
          2,
          11,
          2,
          4,
          2,
          2,
          1,
          1,
          2,
          1,
          3
         ],
         "yaxis": "y"
        },
        {
         "alignmentgroup": "True",
         "hovertemplate": "requester=Bizanga<br>region=GB<br>week_id=%{x}<br>count=%{y}<extra></extra>",
         "legendgroup": "Bizanga",
         "marker": {
          "color": "#636efa",
          "pattern": {
           "shape": ""
          }
         },
         "name": "Bizanga",
         "offsetgroup": "Bizanga",
         "orientation": "v",
         "showlegend": false,
         "textposition": "auto",
         "type": "bar",
         "x": [
          "2021-week_33",
          "2021-week_34",
          "2021-week_35",
          "2021-week_36",
          "2021-week_37",
          "2021-week_38",
          "2021-week_39",
          "2021-week_40",
          "2021-week_41",
          "2021-week_42",
          "2021-week_43",
          "2021-week_44",
          "2021-week_45",
          "2021-week_46",
          "2021-week_47",
          "2021-week_48",
          "2021-week_49",
          "2021-week_50",
          "2021-week_51",
          "2022-week_01",
          "2022-week_02",
          "2022-week_03",
          "2022-week_04",
          "2022-week_05",
          "2022-week_06",
          "2022-week_52"
         ],
         "xaxis": "x2",
         "y": [
          38,
          47,
          35,
          38,
          32,
          36,
          34,
          31,
          40,
          49,
          38,
          23,
          21,
          25,
          32,
          34,
          31,
          34,
          38,
          47,
          34,
          25,
          26,
          20,
          22,
          39
         ],
         "yaxis": "y2"
        },
        {
         "alignmentgroup": "True",
         "hovertemplate": "requester=Bizanga<br>region=IN<br>week_id=%{x}<br>count=%{y}<extra></extra>",
         "legendgroup": "Bizanga",
         "marker": {
          "color": "#636efa",
          "pattern": {
           "shape": ""
          }
         },
         "name": "Bizanga",
         "offsetgroup": "Bizanga",
         "orientation": "v",
         "showlegend": false,
         "textposition": "auto",
         "type": "bar",
         "x": [
          "2021-week_33",
          "2021-week_34",
          "2021-week_35",
          "2021-week_36",
          "2021-week_37",
          "2021-week_38",
          "2021-week_39",
          "2021-week_40",
          "2021-week_41",
          "2021-week_42",
          "2021-week_43",
          "2021-week_44",
          "2021-week_45",
          "2021-week_46",
          "2021-week_47",
          "2021-week_48",
          "2021-week_49",
          "2021-week_50",
          "2021-week_51",
          "2022-week_01",
          "2022-week_02",
          "2022-week_03",
          "2022-week_04",
          "2022-week_05",
          "2022-week_06",
          "2022-week_52"
         ],
         "xaxis": "x3",
         "y": [
          18,
          20,
          25,
          20,
          23,
          27,
          26,
          25,
          24,
          30,
          18,
          28,
          32,
          61,
          62,
          49,
          65,
          61,
          45,
          55,
          54,
          38,
          22,
          22,
          30,
          50
         ],
         "yaxis": "y3"
        },
        {
         "alignmentgroup": "True",
         "hovertemplate": "requester=Bizanga<br>region=JP<br>week_id=%{x}<br>count=%{y}<extra></extra>",
         "legendgroup": "Bizanga",
         "marker": {
          "color": "#636efa",
          "pattern": {
           "shape": ""
          }
         },
         "name": "Bizanga",
         "offsetgroup": "Bizanga",
         "orientation": "v",
         "showlegend": false,
         "textposition": "auto",
         "type": "bar",
         "x": [
          "2021-week_35",
          "2021-week_40",
          "2021-week_41"
         ],
         "xaxis": "x4",
         "y": [
          1,
          1,
          1
         ],
         "yaxis": "y4"
        },
        {
         "alignmentgroup": "True",
         "hovertemplate": "requester=Bizanga<br>region=US<br>week_id=%{x}<br>count=%{y}<extra></extra>",
         "legendgroup": "Bizanga",
         "marker": {
          "color": "#636efa",
          "pattern": {
           "shape": ""
          }
         },
         "name": "Bizanga",
         "offsetgroup": "Bizanga",
         "orientation": "v",
         "showlegend": false,
         "textposition": "auto",
         "type": "bar",
         "x": [
          "2021-week_33",
          "2021-week_34",
          "2021-week_35",
          "2021-week_36",
          "2021-week_37",
          "2021-week_38",
          "2021-week_39",
          "2021-week_40",
          "2021-week_41",
          "2021-week_42",
          "2021-week_43",
          "2021-week_44",
          "2021-week_45",
          "2021-week_46",
          "2021-week_47",
          "2021-week_48",
          "2021-week_49",
          "2021-week_50",
          "2022-week_01",
          "2022-week_02",
          "2022-week_03",
          "2022-week_04",
          "2022-week_05",
          "2022-week_06",
          "2022-week_52"
         ],
         "xaxis": "x5",
         "y": [
          40,
          27,
          17,
          13,
          17,
          5,
          3,
          2,
          11,
          18,
          10,
          6,
          3,
          2,
          4,
          5,
          3,
          1,
          3,
          2,
          1,
          5,
          5,
          3,
          5
         ],
         "yaxis": "y5"
        },
        {
         "alignmentgroup": "True",
         "hovertemplate": "requester=Crescendo Networks<br>region=DE<br>week_id=%{x}<br>count=%{y}<extra></extra>",
         "legendgroup": "Crescendo Networks",
         "marker": {
          "color": "#EF553B",
          "pattern": {
           "shape": ""
          }
         },
         "name": "Crescendo Networks",
         "offsetgroup": "Crescendo Networks",
         "orientation": "v",
         "showlegend": true,
         "textposition": "auto",
         "type": "bar",
         "x": [
          "2021-week_33",
          "2021-week_34",
          "2021-week_35",
          "2021-week_36",
          "2021-week_37",
          "2021-week_38",
          "2021-week_39",
          "2021-week_40",
          "2021-week_41",
          "2021-week_42",
          "2021-week_43",
          "2021-week_44",
          "2021-week_45",
          "2021-week_46",
          "2021-week_47",
          "2021-week_48",
          "2021-week_49",
          "2021-week_50",
          "2021-week_51",
          "2022-week_01",
          "2022-week_02",
          "2022-week_03",
          "2022-week_04",
          "2022-week_05",
          "2022-week_06",
          "2022-week_52"
         ],
         "xaxis": "x",
         "y": [
          9,
          30,
          9,
          27,
          17,
          25,
          23,
          42,
          25,
          13,
          12,
          17,
          17,
          77,
          14,
          18,
          23,
          29,
          31,
          12,
          15,
          9,
          18,
          17,
          9,
          35
         ],
         "yaxis": "y"
        },
        {
         "alignmentgroup": "True",
         "hovertemplate": "requester=Crescendo Networks<br>region=GB<br>week_id=%{x}<br>count=%{y}<extra></extra>",
         "legendgroup": "Crescendo Networks",
         "marker": {
          "color": "#EF553B",
          "pattern": {
           "shape": ""
          }
         },
         "name": "Crescendo Networks",
         "offsetgroup": "Crescendo Networks",
         "orientation": "v",
         "showlegend": false,
         "textposition": "auto",
         "type": "bar",
         "x": [
          "2021-week_33",
          "2021-week_34",
          "2021-week_35",
          "2021-week_36",
          "2021-week_37",
          "2021-week_38",
          "2021-week_39",
          "2021-week_40",
          "2021-week_41",
          "2021-week_42",
          "2021-week_43",
          "2021-week_44",
          "2021-week_45",
          "2021-week_46",
          "2021-week_47",
          "2021-week_48",
          "2021-week_49",
          "2021-week_50",
          "2021-week_51",
          "2022-week_01",
          "2022-week_02",
          "2022-week_03",
          "2022-week_04",
          "2022-week_05",
          "2022-week_06",
          "2022-week_52"
         ],
         "xaxis": "x2",
         "y": [
          16,
          18,
          11,
          29,
          24,
          19,
          17,
          21,
          20,
          11,
          9,
          13,
          7,
          56,
          16,
          14,
          16,
          13,
          24,
          11,
          14,
          8,
          10,
          7,
          10,
          28
         ],
         "yaxis": "y2"
        },
        {
         "alignmentgroup": "True",
         "hovertemplate": "requester=Crescendo Networks<br>region=IN<br>week_id=%{x}<br>count=%{y}<extra></extra>",
         "legendgroup": "Crescendo Networks",
         "marker": {
          "color": "#EF553B",
          "pattern": {
           "shape": ""
          }
         },
         "name": "Crescendo Networks",
         "offsetgroup": "Crescendo Networks",
         "orientation": "v",
         "showlegend": false,
         "textposition": "auto",
         "type": "bar",
         "x": [
          "2021-week_33",
          "2021-week_34",
          "2021-week_35",
          "2021-week_36",
          "2021-week_37",
          "2021-week_38",
          "2021-week_39",
          "2021-week_40",
          "2021-week_41",
          "2021-week_42",
          "2021-week_43",
          "2021-week_44",
          "2021-week_45",
          "2021-week_46",
          "2021-week_47",
          "2021-week_48",
          "2021-week_49",
          "2021-week_50",
          "2021-week_51",
          "2022-week_01",
          "2022-week_02",
          "2022-week_03",
          "2022-week_04",
          "2022-week_05",
          "2022-week_06",
          "2022-week_52"
         ],
         "xaxis": "x3",
         "y": [
          7,
          19,
          25,
          25,
          28,
          26,
          28,
          175,
          35,
          23,
          32,
          33,
          23,
          17,
          11,
          20,
          20,
          11,
          22,
          12,
          17,
          18,
          12,
          14,
          9,
          21
         ],
         "yaxis": "y3"
        },
        {
         "alignmentgroup": "True",
         "hovertemplate": "requester=Crescendo Networks<br>region=JP<br>week_id=%{x}<br>count=%{y}<extra></extra>",
         "legendgroup": "Crescendo Networks",
         "marker": {
          "color": "#EF553B",
          "pattern": {
           "shape": ""
          }
         },
         "name": "Crescendo Networks",
         "offsetgroup": "Crescendo Networks",
         "orientation": "v",
         "showlegend": false,
         "textposition": "auto",
         "type": "bar",
         "x": [
          "2021-week_33",
          "2021-week_34",
          "2021-week_35",
          "2021-week_36",
          "2021-week_37",
          "2021-week_38",
          "2021-week_39",
          "2021-week_40",
          "2021-week_41",
          "2021-week_43",
          "2021-week_44",
          "2021-week_45",
          "2021-week_46",
          "2021-week_47",
          "2021-week_48",
          "2021-week_49",
          "2021-week_50",
          "2022-week_01",
          "2022-week_03",
          "2022-week_04",
          "2022-week_05",
          "2022-week_06",
          "2022-week_52"
         ],
         "xaxis": "x4",
         "y": [
          8,
          13,
          13,
          12,
          10,
          14,
          8,
          15,
          10,
          3,
          2,
          1,
          3,
          12,
          1,
          3,
          3,
          3,
          2,
          4,
          6,
          1,
          6
         ],
         "yaxis": "y4"
        },
        {
         "alignmentgroup": "True",
         "hovertemplate": "requester=Crescendo Networks<br>region=US<br>week_id=%{x}<br>count=%{y}<extra></extra>",
         "legendgroup": "Crescendo Networks",
         "marker": {
          "color": "#EF553B",
          "pattern": {
           "shape": ""
          }
         },
         "name": "Crescendo Networks",
         "offsetgroup": "Crescendo Networks",
         "orientation": "v",
         "showlegend": false,
         "textposition": "auto",
         "type": "bar",
         "x": [
          "2021-week_33",
          "2021-week_34",
          "2021-week_35",
          "2021-week_36",
          "2021-week_37",
          "2021-week_38",
          "2021-week_39",
          "2021-week_40",
          "2021-week_41",
          "2021-week_42",
          "2021-week_43",
          "2021-week_44",
          "2021-week_46",
          "2021-week_47",
          "2021-week_48",
          "2021-week_49",
          "2021-week_50",
          "2021-week_51",
          "2022-week_02",
          "2022-week_05",
          "2022-week_06",
          "2022-week_52"
         ],
         "xaxis": "x5",
         "y": [
          4,
          2,
          11,
          13,
          10,
          9,
          2,
          2,
          2,
          2,
          3,
          2,
          3,
          1,
          1,
          2,
          1,
          3,
          3,
          4,
          1,
          1
         ],
         "yaxis": "y5"
        },
        {
         "alignmentgroup": "True",
         "hovertemplate": "requester=Extreme DA<br>region=DE<br>week_id=%{x}<br>count=%{y}<extra></extra>",
         "legendgroup": "Extreme DA",
         "marker": {
          "color": "#00cc96",
          "pattern": {
           "shape": ""
          }
         },
         "name": "Extreme DA",
         "offsetgroup": "Extreme DA",
         "orientation": "v",
         "showlegend": true,
         "textposition": "auto",
         "type": "bar",
         "x": [
          "2021-week_33",
          "2021-week_34",
          "2021-week_35",
          "2021-week_36",
          "2021-week_37",
          "2021-week_38",
          "2021-week_39",
          "2021-week_40",
          "2021-week_41",
          "2021-week_43",
          "2021-week_44",
          "2021-week_45",
          "2021-week_46",
          "2021-week_47",
          "2021-week_48",
          "2021-week_49",
          "2021-week_50",
          "2021-week_51",
          "2022-week_01",
          "2022-week_02",
          "2022-week_03",
          "2022-week_04",
          "2022-week_05",
          "2022-week_06",
          "2022-week_52"
         ],
         "xaxis": "x",
         "y": [
          4,
          4,
          1,
          1,
          2,
          1,
          1,
          3,
          4,
          2,
          1,
          8,
          4,
          2,
          6,
          9,
          5,
          11,
          8,
          1,
          5,
          8,
          7,
          8,
          9
         ],
         "yaxis": "y"
        },
        {
         "alignmentgroup": "True",
         "hovertemplate": "requester=Extreme DA<br>region=GB<br>week_id=%{x}<br>count=%{y}<extra></extra>",
         "legendgroup": "Extreme DA",
         "marker": {
          "color": "#00cc96",
          "pattern": {
           "shape": ""
          }
         },
         "name": "Extreme DA",
         "offsetgroup": "Extreme DA",
         "orientation": "v",
         "showlegend": false,
         "textposition": "auto",
         "type": "bar",
         "x": [
          "2021-week_33",
          "2021-week_34",
          "2021-week_35",
          "2021-week_36",
          "2021-week_37",
          "2021-week_38",
          "2021-week_39",
          "2021-week_40",
          "2021-week_41",
          "2021-week_42",
          "2021-week_43",
          "2021-week_44",
          "2021-week_45",
          "2021-week_46",
          "2021-week_47",
          "2021-week_48",
          "2021-week_49",
          "2021-week_50",
          "2021-week_51",
          "2022-week_01",
          "2022-week_02",
          "2022-week_03",
          "2022-week_04",
          "2022-week_05",
          "2022-week_06",
          "2022-week_52"
         ],
         "xaxis": "x2",
         "y": [
          1,
          3,
          2,
          1,
          3,
          2,
          2,
          2,
          3,
          3,
          1,
          2,
          2,
          3,
          6,
          6,
          14,
          6,
          8,
          9,
          11,
          3,
          7,
          4,
          5,
          8
         ],
         "yaxis": "y2"
        },
        {
         "alignmentgroup": "True",
         "hovertemplate": "requester=Extreme DA<br>region=JP<br>week_id=%{x}<br>count=%{y}<extra></extra>",
         "legendgroup": "Extreme DA",
         "marker": {
          "color": "#00cc96",
          "pattern": {
           "shape": ""
          }
         },
         "name": "Extreme DA",
         "offsetgroup": "Extreme DA",
         "orientation": "v",
         "showlegend": false,
         "textposition": "auto",
         "type": "bar",
         "x": [
          "2021-week_34",
          "2021-week_36",
          "2021-week_40"
         ],
         "xaxis": "x4",
         "y": [
          1,
          1,
          1
         ],
         "yaxis": "y4"
        },
        {
         "alignmentgroup": "True",
         "hovertemplate": "requester=Extreme DA<br>region=US<br>week_id=%{x}<br>count=%{y}<extra></extra>",
         "legendgroup": "Extreme DA",
         "marker": {
          "color": "#00cc96",
          "pattern": {
           "shape": ""
          }
         },
         "name": "Extreme DA",
         "offsetgroup": "Extreme DA",
         "orientation": "v",
         "showlegend": false,
         "textposition": "auto",
         "type": "bar",
         "x": [
          "2021-week_33",
          "2021-week_34",
          "2021-week_35",
          "2021-week_36",
          "2021-week_37",
          "2021-week_38",
          "2021-week_39",
          "2021-week_40",
          "2021-week_41",
          "2021-week_42",
          "2021-week_43",
          "2021-week_44",
          "2021-week_45",
          "2021-week_46",
          "2021-week_47",
          "2021-week_48",
          "2021-week_49",
          "2021-week_50",
          "2021-week_51",
          "2022-week_01",
          "2022-week_02",
          "2022-week_03",
          "2022-week_04",
          "2022-week_05",
          "2022-week_06",
          "2022-week_52"
         ],
         "xaxis": "x5",
         "y": [
          500,
          1270,
          1377,
          1330,
          1266,
          2117,
          2448,
          2366,
          2277,
          2056,
          2246,
          2398,
          2650,
          2814,
          2994,
          2622,
          1781,
          1983,
          2707,
          2890,
          2824,
          2502,
          2414,
          2453,
          2388,
          2542
         ],
         "yaxis": "y5"
        },
        {
         "alignmentgroup": "True",
         "hovertemplate": "requester=Fry Multimedia<br>region=DE<br>week_id=%{x}<br>count=%{y}<extra></extra>",
         "legendgroup": "Fry Multimedia",
         "marker": {
          "color": "#ab63fa",
          "pattern": {
           "shape": ""
          }
         },
         "name": "Fry Multimedia",
         "offsetgroup": "Fry Multimedia",
         "orientation": "v",
         "showlegend": true,
         "textposition": "auto",
         "type": "bar",
         "x": [
          "2021-week_33",
          "2021-week_34",
          "2021-week_35",
          "2021-week_36",
          "2021-week_37",
          "2021-week_38",
          "2021-week_39",
          "2021-week_40",
          "2021-week_41",
          "2021-week_42",
          "2021-week_43",
          "2021-week_44",
          "2021-week_45",
          "2021-week_46",
          "2021-week_47",
          "2021-week_48",
          "2021-week_49",
          "2021-week_50",
          "2021-week_51",
          "2022-week_01",
          "2022-week_02",
          "2022-week_03",
          "2022-week_04",
          "2022-week_05",
          "2022-week_06",
          "2022-week_52"
         ],
         "xaxis": "x",
         "y": [
          82,
          91,
          84,
          95,
          94,
          97,
          77,
          118,
          125,
          68,
          64,
          70,
          58,
          64,
          78,
          91,
          58,
          46,
          54,
          96,
          74,
          85,
          81,
          70,
          96,
          38
         ],
         "yaxis": "y"
        },
        {
         "alignmentgroup": "True",
         "hovertemplate": "requester=Fry Multimedia<br>region=GB<br>week_id=%{x}<br>count=%{y}<extra></extra>",
         "legendgroup": "Fry Multimedia",
         "marker": {
          "color": "#ab63fa",
          "pattern": {
           "shape": ""
          }
         },
         "name": "Fry Multimedia",
         "offsetgroup": "Fry Multimedia",
         "orientation": "v",
         "showlegend": false,
         "textposition": "auto",
         "type": "bar",
         "x": [
          "2021-week_33",
          "2021-week_34",
          "2021-week_35",
          "2021-week_36",
          "2021-week_37",
          "2021-week_38",
          "2021-week_39",
          "2021-week_40",
          "2021-week_41",
          "2021-week_42",
          "2021-week_43",
          "2021-week_44",
          "2021-week_45",
          "2021-week_46",
          "2021-week_47",
          "2021-week_48",
          "2021-week_49",
          "2021-week_50",
          "2021-week_51",
          "2022-week_01",
          "2022-week_02",
          "2022-week_03",
          "2022-week_04",
          "2022-week_05",
          "2022-week_06",
          "2022-week_52"
         ],
         "xaxis": "x2",
         "y": [
          84,
          83,
          99,
          70,
          88,
          75,
          79,
          96,
          100,
          91,
          84,
          82,
          76,
          68,
          81,
          103,
          113,
          83,
          86,
          106,
          98,
          83,
          59,
          45,
          50,
          57
         ],
         "yaxis": "y2"
        },
        {
         "alignmentgroup": "True",
         "hovertemplate": "requester=Fry Multimedia<br>region=IN<br>week_id=%{x}<br>count=%{y}<extra></extra>",
         "legendgroup": "Fry Multimedia",
         "marker": {
          "color": "#ab63fa",
          "pattern": {
           "shape": ""
          }
         },
         "name": "Fry Multimedia",
         "offsetgroup": "Fry Multimedia",
         "orientation": "v",
         "showlegend": false,
         "textposition": "auto",
         "type": "bar",
         "x": [
          "2021-week_33",
          "2021-week_34",
          "2021-week_35",
          "2021-week_36",
          "2021-week_37",
          "2021-week_38",
          "2021-week_39",
          "2021-week_40",
          "2021-week_41",
          "2021-week_42",
          "2021-week_43",
          "2021-week_44",
          "2021-week_45",
          "2021-week_46",
          "2021-week_47",
          "2021-week_48",
          "2021-week_49",
          "2021-week_51",
          "2022-week_01",
          "2022-week_02",
          "2022-week_03",
          "2022-week_04",
          "2022-week_05",
          "2022-week_06",
          "2022-week_52"
         ],
         "xaxis": "x3",
         "y": [
          22,
          22,
          32,
          24,
          26,
          18,
          19,
          24,
          19,
          16,
          12,
          15,
          6,
          1,
          3,
          3,
          4,
          1,
          22,
          51,
          22,
          20,
          15,
          12,
          5
         ],
         "yaxis": "y3"
        },
        {
         "alignmentgroup": "True",
         "hovertemplate": "requester=Fry Multimedia<br>region=JP<br>week_id=%{x}<br>count=%{y}<extra></extra>",
         "legendgroup": "Fry Multimedia",
         "marker": {
          "color": "#ab63fa",
          "pattern": {
           "shape": ""
          }
         },
         "name": "Fry Multimedia",
         "offsetgroup": "Fry Multimedia",
         "orientation": "v",
         "showlegend": false,
         "textposition": "auto",
         "type": "bar",
         "x": [
          "2021-week_33",
          "2021-week_34",
          "2021-week_35",
          "2021-week_36",
          "2021-week_37",
          "2021-week_38",
          "2021-week_39",
          "2021-week_40",
          "2021-week_41",
          "2021-week_42",
          "2021-week_43",
          "2021-week_44",
          "2021-week_46",
          "2021-week_47",
          "2021-week_48",
          "2021-week_49",
          "2021-week_50",
          "2022-week_01",
          "2022-week_02",
          "2022-week_03",
          "2022-week_04",
          "2022-week_05",
          "2022-week_06",
          "2022-week_52"
         ],
         "xaxis": "x4",
         "y": [
          20,
          39,
          30,
          35,
          33,
          29,
          29,
          21,
          29,
          9,
          6,
          4,
          2,
          3,
          6,
          3,
          1,
          8,
          7,
          5,
          8,
          4,
          10,
          3
         ],
         "yaxis": "y4"
        },
        {
         "alignmentgroup": "True",
         "hovertemplate": "requester=Fry Multimedia<br>region=US<br>week_id=%{x}<br>count=%{y}<extra></extra>",
         "legendgroup": "Fry Multimedia",
         "marker": {
          "color": "#ab63fa",
          "pattern": {
           "shape": ""
          }
         },
         "name": "Fry Multimedia",
         "offsetgroup": "Fry Multimedia",
         "orientation": "v",
         "showlegend": false,
         "textposition": "auto",
         "type": "bar",
         "x": [
          "2021-week_33",
          "2021-week_34",
          "2021-week_35",
          "2021-week_36",
          "2021-week_37",
          "2021-week_38",
          "2021-week_39",
          "2021-week_40",
          "2021-week_41",
          "2021-week_42",
          "2021-week_43",
          "2021-week_44",
          "2021-week_45",
          "2021-week_46",
          "2021-week_47",
          "2021-week_48",
          "2021-week_49",
          "2021-week_50",
          "2022-week_01",
          "2022-week_02",
          "2022-week_03",
          "2022-week_04",
          "2022-week_05",
          "2022-week_06",
          "2022-week_52"
         ],
         "xaxis": "x5",
         "y": [
          17,
          20,
          13,
          23,
          16,
          7,
          6,
          4,
          9,
          9,
          8,
          9,
          6,
          5,
          5,
          6,
          3,
          3,
          3,
          8,
          8,
          5,
          9,
          7,
          1
         ],
         "yaxis": "y5"
        },
        {
         "alignmentgroup": "True",
         "hovertemplate": "requester=G-mode<br>region=DE<br>week_id=%{x}<br>count=%{y}<extra></extra>",
         "legendgroup": "G-mode",
         "marker": {
          "color": "#FFA15A",
          "pattern": {
           "shape": ""
          }
         },
         "name": "G-mode",
         "offsetgroup": "G-mode",
         "orientation": "v",
         "showlegend": true,
         "textposition": "auto",
         "type": "bar",
         "x": [
          "2021-week_33",
          "2021-week_34",
          "2021-week_35",
          "2021-week_36",
          "2021-week_37",
          "2021-week_38",
          "2021-week_39",
          "2021-week_40",
          "2021-week_41",
          "2021-week_42",
          "2021-week_43",
          "2021-week_44",
          "2021-week_45",
          "2021-week_46",
          "2021-week_47",
          "2021-week_48",
          "2021-week_49",
          "2021-week_50",
          "2021-week_51",
          "2022-week_01",
          "2022-week_02",
          "2022-week_03",
          "2022-week_04",
          "2022-week_05",
          "2022-week_06",
          "2022-week_52"
         ],
         "xaxis": "x",
         "y": [
          11,
          14,
          9,
          16,
          15,
          6,
          19,
          22,
          14,
          6,
          4,
          5,
          12,
          9,
          14,
          10,
          9,
          8,
          15,
          3,
          7,
          4,
          7,
          7,
          5,
          8
         ],
         "yaxis": "y"
        },
        {
         "alignmentgroup": "True",
         "hovertemplate": "requester=G-mode<br>region=GB<br>week_id=%{x}<br>count=%{y}<extra></extra>",
         "legendgroup": "G-mode",
         "marker": {
          "color": "#FFA15A",
          "pattern": {
           "shape": ""
          }
         },
         "name": "G-mode",
         "offsetgroup": "G-mode",
         "orientation": "v",
         "showlegend": false,
         "textposition": "auto",
         "type": "bar",
         "x": [
          "2021-week_33",
          "2021-week_34",
          "2021-week_35",
          "2021-week_36",
          "2021-week_37",
          "2021-week_38",
          "2021-week_39",
          "2021-week_40",
          "2021-week_41",
          "2021-week_42",
          "2021-week_43",
          "2021-week_44",
          "2021-week_45",
          "2021-week_46",
          "2021-week_47",
          "2021-week_48",
          "2021-week_49",
          "2021-week_50",
          "2021-week_51",
          "2022-week_01",
          "2022-week_02",
          "2022-week_03",
          "2022-week_04",
          "2022-week_05",
          "2022-week_06",
          "2022-week_52"
         ],
         "xaxis": "x2",
         "y": [
          10,
          7,
          6,
          20,
          17,
          9,
          12,
          20,
          17,
          8,
          9,
          11,
          16,
          14,
          13,
          12,
          13,
          6,
          19,
          6,
          19,
          10,
          8,
          5,
          6,
          28
         ],
         "yaxis": "y2"
        },
        {
         "alignmentgroup": "True",
         "hovertemplate": "requester=G-mode<br>region=IN<br>week_id=%{x}<br>count=%{y}<extra></extra>",
         "legendgroup": "G-mode",
         "marker": {
          "color": "#FFA15A",
          "pattern": {
           "shape": ""
          }
         },
         "name": "G-mode",
         "offsetgroup": "G-mode",
         "orientation": "v",
         "showlegend": false,
         "textposition": "auto",
         "type": "bar",
         "x": [
          "2021-week_33",
          "2021-week_34",
          "2021-week_35",
          "2021-week_36",
          "2021-week_37",
          "2021-week_38",
          "2021-week_39",
          "2021-week_40",
          "2021-week_41",
          "2021-week_42",
          "2021-week_43",
          "2021-week_44",
          "2021-week_45",
          "2021-week_46",
          "2021-week_47",
          "2021-week_48",
          "2021-week_49",
          "2021-week_50",
          "2021-week_51",
          "2022-week_01",
          "2022-week_02",
          "2022-week_03",
          "2022-week_04",
          "2022-week_05",
          "2022-week_06",
          "2022-week_52"
         ],
         "xaxis": "x3",
         "y": [
          14,
          12,
          23,
          38,
          32,
          22,
          29,
          25,
          45,
          21,
          17,
          18,
          25,
          19,
          12,
          23,
          24,
          17,
          25,
          19,
          21,
          19,
          20,
          16,
          8,
          20
         ],
         "yaxis": "y3"
        },
        {
         "alignmentgroup": "True",
         "hovertemplate": "requester=G-mode<br>region=JP<br>week_id=%{x}<br>count=%{y}<extra></extra>",
         "legendgroup": "G-mode",
         "marker": {
          "color": "#FFA15A",
          "pattern": {
           "shape": ""
          }
         },
         "name": "G-mode",
         "offsetgroup": "G-mode",
         "orientation": "v",
         "showlegend": false,
         "textposition": "auto",
         "type": "bar",
         "x": [
          "2021-week_33",
          "2021-week_34",
          "2021-week_35",
          "2021-week_36",
          "2021-week_37",
          "2021-week_38",
          "2021-week_39",
          "2021-week_40",
          "2021-week_41",
          "2021-week_42",
          "2021-week_43",
          "2021-week_44",
          "2021-week_45",
          "2021-week_46",
          "2021-week_47",
          "2021-week_48",
          "2021-week_49",
          "2021-week_50",
          "2022-week_01",
          "2022-week_02",
          "2022-week_03",
          "2022-week_04",
          "2022-week_05",
          "2022-week_06",
          "2022-week_52"
         ],
         "xaxis": "x4",
         "y": [
          3,
          5,
          5,
          7,
          9,
          6,
          9,
          4,
          4,
          1,
          1,
          3,
          9,
          1,
          2,
          7,
          12,
          3,
          5,
          1,
          1,
          5,
          5,
          2,
          13
         ],
         "yaxis": "y4"
        },
        {
         "alignmentgroup": "True",
         "hovertemplate": "requester=G-mode<br>region=US<br>week_id=%{x}<br>count=%{y}<extra></extra>",
         "legendgroup": "G-mode",
         "marker": {
          "color": "#FFA15A",
          "pattern": {
           "shape": ""
          }
         },
         "name": "G-mode",
         "offsetgroup": "G-mode",
         "orientation": "v",
         "showlegend": false,
         "textposition": "auto",
         "type": "bar",
         "x": [
          "2021-week_35",
          "2021-week_37",
          "2021-week_49"
         ],
         "xaxis": "x5",
         "y": [
          1,
          4,
          1
         ],
         "yaxis": "y5"
        },
        {
         "alignmentgroup": "True",
         "hovertemplate": "requester=LocalVox Media<br>region=DE<br>week_id=%{x}<br>count=%{y}<extra></extra>",
         "legendgroup": "LocalVox Media",
         "marker": {
          "color": "#19d3f3",
          "pattern": {
           "shape": ""
          }
         },
         "name": "LocalVox Media",
         "offsetgroup": "LocalVox Media",
         "orientation": "v",
         "showlegend": true,
         "textposition": "auto",
         "type": "bar",
         "x": [
          "2021-week_33",
          "2021-week_34",
          "2021-week_35",
          "2021-week_36",
          "2021-week_37",
          "2021-week_38",
          "2021-week_39",
          "2021-week_40",
          "2021-week_41",
          "2021-week_42",
          "2021-week_43",
          "2021-week_44",
          "2021-week_45",
          "2021-week_46",
          "2021-week_47",
          "2021-week_48",
          "2021-week_49",
          "2021-week_50",
          "2021-week_51",
          "2022-week_01",
          "2022-week_02",
          "2022-week_03",
          "2022-week_04",
          "2022-week_05",
          "2022-week_06",
          "2022-week_52"
         ],
         "xaxis": "x",
         "y": [
          49,
          39,
          32,
          37,
          39,
          49,
          41,
          51,
          49,
          37,
          33,
          60,
          74,
          61,
          75,
          58,
          65,
          59,
          72,
          59,
          35,
          36,
          37,
          33,
          35,
          70
         ],
         "yaxis": "y"
        },
        {
         "alignmentgroup": "True",
         "hovertemplate": "requester=LocalVox Media<br>region=GB<br>week_id=%{x}<br>count=%{y}<extra></extra>",
         "legendgroup": "LocalVox Media",
         "marker": {
          "color": "#19d3f3",
          "pattern": {
           "shape": ""
          }
         },
         "name": "LocalVox Media",
         "offsetgroup": "LocalVox Media",
         "orientation": "v",
         "showlegend": false,
         "textposition": "auto",
         "type": "bar",
         "x": [
          "2021-week_33",
          "2021-week_34",
          "2021-week_35",
          "2021-week_36",
          "2021-week_37",
          "2021-week_38",
          "2021-week_39",
          "2021-week_40",
          "2021-week_41",
          "2021-week_42",
          "2021-week_43",
          "2021-week_44",
          "2021-week_45",
          "2021-week_46",
          "2021-week_47",
          "2021-week_48",
          "2021-week_49",
          "2021-week_50",
          "2021-week_51",
          "2022-week_01",
          "2022-week_02",
          "2022-week_03",
          "2022-week_04",
          "2022-week_05",
          "2022-week_06",
          "2022-week_52"
         ],
         "xaxis": "x2",
         "y": [
          46,
          48,
          44,
          31,
          43,
          42,
          29,
          36,
          58,
          40,
          33,
          52,
          48,
          63,
          52,
          43,
          60,
          40,
          57,
          49,
          34,
          31,
          32,
          28,
          23,
          66
         ],
         "yaxis": "y2"
        },
        {
         "alignmentgroup": "True",
         "hovertemplate": "requester=LocalVox Media<br>region=IN<br>week_id=%{x}<br>count=%{y}<extra></extra>",
         "legendgroup": "LocalVox Media",
         "marker": {
          "color": "#19d3f3",
          "pattern": {
           "shape": ""
          }
         },
         "name": "LocalVox Media",
         "offsetgroup": "LocalVox Media",
         "orientation": "v",
         "showlegend": false,
         "textposition": "auto",
         "type": "bar",
         "x": [
          "2021-week_33",
          "2021-week_34",
          "2021-week_35",
          "2021-week_36",
          "2021-week_37",
          "2021-week_38",
          "2021-week_39",
          "2021-week_40",
          "2021-week_41",
          "2021-week_42",
          "2021-week_43",
          "2021-week_44",
          "2021-week_45",
          "2021-week_46",
          "2021-week_47",
          "2021-week_48",
          "2021-week_49",
          "2021-week_50",
          "2021-week_51",
          "2022-week_01",
          "2022-week_02",
          "2022-week_03",
          "2022-week_04",
          "2022-week_05",
          "2022-week_06",
          "2022-week_52"
         ],
         "xaxis": "x3",
         "y": [
          30,
          43,
          29,
          29,
          51,
          38,
          65,
          73,
          48,
          47,
          39,
          59,
          56,
          50,
          51,
          57,
          67,
          41,
          75,
          47,
          52,
          33,
          35,
          32,
          25,
          36
         ],
         "yaxis": "y3"
        },
        {
         "alignmentgroup": "True",
         "hovertemplate": "requester=LocalVox Media<br>region=JP<br>week_id=%{x}<br>count=%{y}<extra></extra>",
         "legendgroup": "LocalVox Media",
         "marker": {
          "color": "#19d3f3",
          "pattern": {
           "shape": ""
          }
         },
         "name": "LocalVox Media",
         "offsetgroup": "LocalVox Media",
         "orientation": "v",
         "showlegend": false,
         "textposition": "auto",
         "type": "bar",
         "x": [
          "2021-week_33",
          "2021-week_34",
          "2021-week_35",
          "2021-week_36",
          "2021-week_37",
          "2021-week_38",
          "2021-week_39",
          "2021-week_40",
          "2021-week_41",
          "2021-week_42",
          "2021-week_43",
          "2021-week_44",
          "2021-week_45",
          "2021-week_46",
          "2021-week_47",
          "2021-week_48",
          "2021-week_49",
          "2021-week_50",
          "2022-week_01",
          "2022-week_02",
          "2022-week_03",
          "2022-week_04",
          "2022-week_05",
          "2022-week_06",
          "2022-week_52"
         ],
         "xaxis": "x4",
         "y": [
          47,
          115,
          82,
          79,
          79,
          73,
          46,
          55,
          58,
          27,
          18,
          29,
          60,
          48,
          71,
          95,
          114,
          91,
          72,
          87,
          52,
          60,
          54,
          51,
          161
         ],
         "yaxis": "y4"
        },
        {
         "alignmentgroup": "True",
         "hovertemplate": "requester=LocalVox Media<br>region=US<br>week_id=%{x}<br>count=%{y}<extra></extra>",
         "legendgroup": "LocalVox Media",
         "marker": {
          "color": "#19d3f3",
          "pattern": {
           "shape": ""
          }
         },
         "name": "LocalVox Media",
         "offsetgroup": "LocalVox Media",
         "orientation": "v",
         "showlegend": false,
         "textposition": "auto",
         "type": "bar",
         "x": [
          "2021-week_33",
          "2021-week_34",
          "2021-week_35",
          "2021-week_36",
          "2021-week_37",
          "2021-week_38",
          "2021-week_39",
          "2021-week_40",
          "2021-week_41",
          "2021-week_42",
          "2021-week_43",
          "2021-week_44",
          "2021-week_45",
          "2021-week_46",
          "2021-week_47",
          "2021-week_48",
          "2021-week_49",
          "2021-week_50",
          "2021-week_51",
          "2022-week_01",
          "2022-week_02",
          "2022-week_03",
          "2022-week_04",
          "2022-week_05",
          "2022-week_06",
          "2022-week_52"
         ],
         "xaxis": "x5",
         "y": [
          47,
          55,
          36,
          45,
          42,
          27,
          16,
          16,
          13,
          11,
          12,
          8,
          11,
          14,
          9,
          10,
          12,
          12,
          9,
          5,
          9,
          8,
          7,
          11,
          12,
          9
         ],
         "yaxis": "y5"
        },
        {
         "alignmentgroup": "True",
         "hovertemplate": "requester=MoJoe Brewing Company<br>region=DE<br>week_id=%{x}<br>count=%{y}<extra></extra>",
         "legendgroup": "MoJoe Brewing Company",
         "marker": {
          "color": "#FF6692",
          "pattern": {
           "shape": ""
          }
         },
         "name": "MoJoe Brewing Company",
         "offsetgroup": "MoJoe Brewing Company",
         "orientation": "v",
         "showlegend": true,
         "textposition": "auto",
         "type": "bar",
         "x": [
          "2021-week_33",
          "2021-week_34",
          "2021-week_35",
          "2021-week_36",
          "2021-week_37",
          "2021-week_38",
          "2021-week_39",
          "2021-week_40",
          "2021-week_41",
          "2021-week_42",
          "2021-week_43",
          "2021-week_44",
          "2021-week_45",
          "2021-week_46",
          "2021-week_47",
          "2021-week_48",
          "2021-week_49",
          "2021-week_50",
          "2021-week_51",
          "2022-week_01",
          "2022-week_02",
          "2022-week_03",
          "2022-week_04",
          "2022-week_05",
          "2022-week_06",
          "2022-week_52"
         ],
         "xaxis": "x",
         "y": [
          374,
          296,
          455,
          383,
          395,
          354,
          362,
          374,
          291,
          196,
          254,
          286,
          229,
          353,
          203,
          513,
          285,
          477,
          236,
          251,
          269,
          398,
          236,
          315,
          252,
          579
         ],
         "yaxis": "y"
        },
        {
         "alignmentgroup": "True",
         "hovertemplate": "requester=MoJoe Brewing Company<br>region=GB<br>week_id=%{x}<br>count=%{y}<extra></extra>",
         "legendgroup": "MoJoe Brewing Company",
         "marker": {
          "color": "#FF6692",
          "pattern": {
           "shape": ""
          }
         },
         "name": "MoJoe Brewing Company",
         "offsetgroup": "MoJoe Brewing Company",
         "orientation": "v",
         "showlegend": false,
         "textposition": "auto",
         "type": "bar",
         "x": [
          "2021-week_33",
          "2021-week_34",
          "2021-week_35",
          "2021-week_36",
          "2021-week_37",
          "2021-week_38",
          "2021-week_39",
          "2021-week_40",
          "2021-week_41",
          "2021-week_42",
          "2021-week_43",
          "2021-week_44",
          "2021-week_45",
          "2021-week_46",
          "2021-week_47",
          "2021-week_48",
          "2021-week_49",
          "2021-week_50",
          "2021-week_51",
          "2022-week_01",
          "2022-week_02",
          "2022-week_03",
          "2022-week_04",
          "2022-week_05",
          "2022-week_06",
          "2022-week_52"
         ],
         "xaxis": "x2",
         "y": [
          360,
          274,
          413,
          296,
          373,
          299,
          347,
          333,
          274,
          242,
          345,
          280,
          250,
          448,
          249,
          615,
          315,
          547,
          302,
          346,
          382,
          570,
          296,
          415,
          228,
          731
         ],
         "yaxis": "y2"
        },
        {
         "alignmentgroup": "True",
         "hovertemplate": "requester=MoJoe Brewing Company<br>region=IN<br>week_id=%{x}<br>count=%{y}<extra></extra>",
         "legendgroup": "MoJoe Brewing Company",
         "marker": {
          "color": "#FF6692",
          "pattern": {
           "shape": ""
          }
         },
         "name": "MoJoe Brewing Company",
         "offsetgroup": "MoJoe Brewing Company",
         "orientation": "v",
         "showlegend": false,
         "textposition": "auto",
         "type": "bar",
         "x": [
          "2021-week_33",
          "2021-week_34",
          "2021-week_35",
          "2021-week_36",
          "2021-week_37",
          "2021-week_38",
          "2021-week_39",
          "2021-week_40",
          "2021-week_41",
          "2021-week_42",
          "2021-week_43",
          "2021-week_44",
          "2021-week_45",
          "2021-week_46",
          "2021-week_47",
          "2021-week_48",
          "2021-week_49",
          "2021-week_50",
          "2021-week_51",
          "2022-week_01",
          "2022-week_02",
          "2022-week_03",
          "2022-week_04",
          "2022-week_05",
          "2022-week_06",
          "2022-week_52"
         ],
         "xaxis": "x3",
         "y": [
          126,
          139,
          137,
          137,
          116,
          135,
          118,
          62,
          64,
          54,
          245,
          174,
          239,
          466,
          310,
          658,
          411,
          593,
          348,
          413,
          408,
          316,
          272,
          300,
          296,
          654
         ],
         "yaxis": "y3"
        },
        {
         "alignmentgroup": "True",
         "hovertemplate": "requester=MoJoe Brewing Company<br>region=JP<br>week_id=%{x}<br>count=%{y}<extra></extra>",
         "legendgroup": "MoJoe Brewing Company",
         "marker": {
          "color": "#FF6692",
          "pattern": {
           "shape": ""
          }
         },
         "name": "MoJoe Brewing Company",
         "offsetgroup": "MoJoe Brewing Company",
         "orientation": "v",
         "showlegend": false,
         "textposition": "auto",
         "type": "bar",
         "x": [
          "2021-week_33",
          "2021-week_34",
          "2021-week_35",
          "2021-week_36",
          "2021-week_37",
          "2021-week_38",
          "2021-week_39",
          "2021-week_40",
          "2021-week_41",
          "2021-week_42",
          "2021-week_43",
          "2021-week_44",
          "2021-week_45",
          "2021-week_46",
          "2021-week_47",
          "2021-week_48",
          "2021-week_49",
          "2021-week_50",
          "2022-week_01",
          "2022-week_02",
          "2022-week_03",
          "2022-week_04",
          "2022-week_05",
          "2022-week_06",
          "2022-week_52"
         ],
         "xaxis": "x4",
         "y": [
          217,
          260,
          310,
          289,
          345,
          224,
          239,
          197,
          140,
          36,
          67,
          55,
          51,
          87,
          56,
          124,
          100,
          104,
          82,
          66,
          94,
          67,
          75,
          81,
          183
         ],
         "yaxis": "y4"
        },
        {
         "alignmentgroup": "True",
         "hovertemplate": "requester=MoJoe Brewing Company<br>region=US<br>week_id=%{x}<br>count=%{y}<extra></extra>",
         "legendgroup": "MoJoe Brewing Company",
         "marker": {
          "color": "#FF6692",
          "pattern": {
           "shape": ""
          }
         },
         "name": "MoJoe Brewing Company",
         "offsetgroup": "MoJoe Brewing Company",
         "orientation": "v",
         "showlegend": false,
         "textposition": "auto",
         "type": "bar",
         "x": [
          "2021-week_33",
          "2021-week_34",
          "2021-week_35",
          "2021-week_36",
          "2021-week_37",
          "2021-week_38",
          "2021-week_39",
          "2021-week_40",
          "2021-week_41",
          "2021-week_42",
          "2021-week_43",
          "2021-week_44",
          "2021-week_45",
          "2021-week_46",
          "2021-week_47",
          "2021-week_48",
          "2021-week_49",
          "2021-week_50",
          "2021-week_51",
          "2022-week_01",
          "2022-week_02",
          "2022-week_03",
          "2022-week_04",
          "2022-week_05",
          "2022-week_06",
          "2022-week_52"
         ],
         "xaxis": "x5",
         "y": [
          276,
          165,
          178,
          173,
          163,
          78,
          89,
          87,
          57,
          71,
          66,
          64,
          47,
          63,
          62,
          68,
          69,
          73,
          32,
          44,
          33,
          78,
          64,
          69,
          63,
          92
         ],
         "yaxis": "y5"
        },
        {
         "alignmentgroup": "True",
         "hovertemplate": "requester=Modanisa<br>region=DE<br>week_id=%{x}<br>count=%{y}<extra></extra>",
         "legendgroup": "Modanisa",
         "marker": {
          "color": "#B6E880",
          "pattern": {
           "shape": ""
          }
         },
         "name": "Modanisa",
         "offsetgroup": "Modanisa",
         "orientation": "v",
         "showlegend": true,
         "textposition": "auto",
         "type": "bar",
         "x": [
          "2021-week_33",
          "2021-week_34",
          "2021-week_35",
          "2021-week_36",
          "2021-week_37",
          "2021-week_38",
          "2021-week_39",
          "2021-week_40",
          "2021-week_41",
          "2021-week_42",
          "2021-week_43",
          "2021-week_44",
          "2021-week_45",
          "2021-week_46",
          "2021-week_47",
          "2021-week_48",
          "2021-week_49",
          "2021-week_50",
          "2021-week_51",
          "2022-week_01",
          "2022-week_02",
          "2022-week_03",
          "2022-week_04",
          "2022-week_05",
          "2022-week_06",
          "2022-week_52"
         ],
         "xaxis": "x",
         "y": [
          28,
          20,
          17,
          26,
          23,
          19,
          77,
          42,
          103,
          74,
          80,
          49,
          38,
          35,
          50,
          47,
          39,
          33,
          39,
          20,
          11,
          21,
          19,
          29,
          18,
          31
         ],
         "yaxis": "y"
        },
        {
         "alignmentgroup": "True",
         "hovertemplate": "requester=Modanisa<br>region=GB<br>week_id=%{x}<br>count=%{y}<extra></extra>",
         "legendgroup": "Modanisa",
         "marker": {
          "color": "#B6E880",
          "pattern": {
           "shape": ""
          }
         },
         "name": "Modanisa",
         "offsetgroup": "Modanisa",
         "orientation": "v",
         "showlegend": false,
         "textposition": "auto",
         "type": "bar",
         "x": [
          "2021-week_33",
          "2021-week_34",
          "2021-week_35",
          "2021-week_36",
          "2021-week_37",
          "2021-week_38",
          "2021-week_39",
          "2021-week_40",
          "2021-week_41",
          "2021-week_42",
          "2021-week_43",
          "2021-week_44",
          "2021-week_45",
          "2021-week_46",
          "2021-week_47",
          "2021-week_48",
          "2021-week_49",
          "2021-week_50",
          "2021-week_51",
          "2022-week_01",
          "2022-week_02",
          "2022-week_03",
          "2022-week_04",
          "2022-week_05",
          "2022-week_06",
          "2022-week_52"
         ],
         "xaxis": "x2",
         "y": [
          15,
          14,
          20,
          14,
          9,
          10,
          124,
          208,
          165,
          116,
          199,
          92,
          11,
          13,
          13,
          11,
          16,
          11,
          8,
          12,
          5,
          7,
          5,
          6,
          3,
          10
         ],
         "yaxis": "y2"
        },
        {
         "alignmentgroup": "True",
         "hovertemplate": "requester=Modanisa<br>region=IN<br>week_id=%{x}<br>count=%{y}<extra></extra>",
         "legendgroup": "Modanisa",
         "marker": {
          "color": "#B6E880",
          "pattern": {
           "shape": ""
          }
         },
         "name": "Modanisa",
         "offsetgroup": "Modanisa",
         "orientation": "v",
         "showlegend": false,
         "textposition": "auto",
         "type": "bar",
         "x": [
          "2021-week_33",
          "2021-week_34",
          "2021-week_35",
          "2021-week_36",
          "2021-week_37",
          "2021-week_38",
          "2021-week_39",
          "2021-week_40",
          "2021-week_41",
          "2021-week_42",
          "2021-week_43",
          "2021-week_44",
          "2021-week_45",
          "2021-week_46",
          "2021-week_47",
          "2021-week_48",
          "2021-week_49",
          "2021-week_50",
          "2021-week_51",
          "2022-week_01",
          "2022-week_02",
          "2022-week_03",
          "2022-week_04",
          "2022-week_05",
          "2022-week_06",
          "2022-week_52"
         ],
         "xaxis": "x3",
         "y": [
          21,
          21,
          22,
          17,
          25,
          30,
          153,
          77,
          84,
          110,
          136,
          67,
          32,
          28,
          33,
          18,
          18,
          15,
          14,
          24,
          24,
          12,
          15,
          10,
          9,
          12
         ],
         "yaxis": "y3"
        },
        {
         "alignmentgroup": "True",
         "hovertemplate": "requester=Modanisa<br>region=JP<br>week_id=%{x}<br>count=%{y}<extra></extra>",
         "legendgroup": "Modanisa",
         "marker": {
          "color": "#B6E880",
          "pattern": {
           "shape": ""
          }
         },
         "name": "Modanisa",
         "offsetgroup": "Modanisa",
         "orientation": "v",
         "showlegend": false,
         "textposition": "auto",
         "type": "bar",
         "x": [
          "2021-week_33",
          "2021-week_34",
          "2021-week_35",
          "2021-week_36",
          "2021-week_37",
          "2021-week_38",
          "2021-week_39",
          "2021-week_40",
          "2021-week_41",
          "2021-week_42",
          "2021-week_43",
          "2021-week_44",
          "2021-week_45",
          "2021-week_46",
          "2021-week_47",
          "2021-week_48",
          "2021-week_49",
          "2021-week_50",
          "2022-week_01",
          "2022-week_02",
          "2022-week_03",
          "2022-week_04",
          "2022-week_05",
          "2022-week_06",
          "2022-week_52"
         ],
         "xaxis": "x4",
         "y": [
          13,
          19,
          25,
          29,
          23,
          14,
          25,
          12,
          20,
          5,
          4,
          5,
          4,
          7,
          3,
          8,
          10,
          11,
          6,
          1,
          6,
          1,
          4,
          1,
          9
         ],
         "yaxis": "y4"
        },
        {
         "alignmentgroup": "True",
         "hovertemplate": "requester=Modanisa<br>region=US<br>week_id=%{x}<br>count=%{y}<extra></extra>",
         "legendgroup": "Modanisa",
         "marker": {
          "color": "#B6E880",
          "pattern": {
           "shape": ""
          }
         },
         "name": "Modanisa",
         "offsetgroup": "Modanisa",
         "orientation": "v",
         "showlegend": false,
         "textposition": "auto",
         "type": "bar",
         "x": [
          "2021-week_33",
          "2021-week_34",
          "2021-week_35",
          "2021-week_36",
          "2021-week_37",
          "2021-week_38",
          "2021-week_39",
          "2021-week_40",
          "2021-week_41",
          "2021-week_42",
          "2021-week_43",
          "2021-week_44",
          "2021-week_45",
          "2021-week_46",
          "2021-week_47",
          "2021-week_48",
          "2021-week_49",
          "2021-week_50",
          "2021-week_51",
          "2022-week_01",
          "2022-week_02",
          "2022-week_03",
          "2022-week_05",
          "2022-week_06",
          "2022-week_52"
         ],
         "xaxis": "x5",
         "y": [
          53,
          43,
          25,
          17,
          13,
          11,
          17,
          17,
          10,
          22,
          19,
          15,
          5,
          10,
          6,
          10,
          7,
          13,
          2,
          2,
          7,
          4,
          10,
          6,
          7
         ],
         "yaxis": "y5"
        },
        {
         "alignmentgroup": "True",
         "hovertemplate": "requester=RelayFoods<br>region=DE<br>week_id=%{x}<br>count=%{y}<extra></extra>",
         "legendgroup": "RelayFoods",
         "marker": {
          "color": "#FF97FF",
          "pattern": {
           "shape": ""
          }
         },
         "name": "RelayFoods",
         "offsetgroup": "RelayFoods",
         "orientation": "v",
         "showlegend": true,
         "textposition": "auto",
         "type": "bar",
         "x": [
          "2021-week_33",
          "2021-week_34",
          "2021-week_35",
          "2021-week_36",
          "2021-week_37",
          "2021-week_38",
          "2021-week_39",
          "2021-week_40",
          "2021-week_41",
          "2021-week_42",
          "2021-week_43",
          "2021-week_44",
          "2021-week_45",
          "2021-week_46",
          "2021-week_47",
          "2021-week_48",
          "2021-week_49",
          "2021-week_50",
          "2021-week_51",
          "2022-week_01",
          "2022-week_02",
          "2022-week_03",
          "2022-week_04",
          "2022-week_05",
          "2022-week_06",
          "2022-week_52"
         ],
         "xaxis": "x",
         "y": [
          307,
          88,
          73,
          66,
          78,
          94,
          69,
          69,
          105,
          1003,
          906,
          1057,
          1305,
          957,
          1052,
          935,
          1136,
          1011,
          1282,
          798,
          699,
          764,
          875,
          740,
          771,
          1073
         ],
         "yaxis": "y"
        },
        {
         "alignmentgroup": "True",
         "hovertemplate": "requester=RelayFoods<br>region=GB<br>week_id=%{x}<br>count=%{y}<extra></extra>",
         "legendgroup": "RelayFoods",
         "marker": {
          "color": "#FF97FF",
          "pattern": {
           "shape": ""
          }
         },
         "name": "RelayFoods",
         "offsetgroup": "RelayFoods",
         "orientation": "v",
         "showlegend": false,
         "textposition": "auto",
         "type": "bar",
         "x": [
          "2021-week_33",
          "2021-week_34",
          "2021-week_35",
          "2021-week_36",
          "2021-week_37",
          "2021-week_38",
          "2021-week_39",
          "2021-week_40",
          "2021-week_41",
          "2021-week_42",
          "2021-week_43",
          "2021-week_44",
          "2021-week_45",
          "2021-week_46",
          "2021-week_47",
          "2021-week_48",
          "2021-week_49",
          "2021-week_50",
          "2021-week_51",
          "2022-week_01",
          "2022-week_02",
          "2022-week_03",
          "2022-week_04",
          "2022-week_05",
          "2022-week_06",
          "2022-week_52"
         ],
         "xaxis": "x2",
         "y": [
          351,
          218,
          190,
          242,
          187,
          215,
          160,
          177,
          222,
          760,
          743,
          836,
          1097,
          929,
          932,
          768,
          950,
          894,
          1074,
          742,
          781,
          743,
          705,
          548,
          569,
          887
         ],
         "yaxis": "y2"
        },
        {
         "alignmentgroup": "True",
         "hovertemplate": "requester=RelayFoods<br>region=IN<br>week_id=%{x}<br>count=%{y}<extra></extra>",
         "legendgroup": "RelayFoods",
         "marker": {
          "color": "#FF97FF",
          "pattern": {
           "shape": ""
          }
         },
         "name": "RelayFoods",
         "offsetgroup": "RelayFoods",
         "orientation": "v",
         "showlegend": false,
         "textposition": "auto",
         "type": "bar",
         "x": [
          "2021-week_34",
          "2021-week_35",
          "2021-week_36",
          "2021-week_37",
          "2021-week_38",
          "2021-week_39",
          "2021-week_40",
          "2021-week_41",
          "2021-week_42",
          "2021-week_43",
          "2021-week_44",
          "2021-week_45",
          "2021-week_46",
          "2021-week_47",
          "2021-week_48",
          "2021-week_49",
          "2021-week_50",
          "2021-week_51",
          "2022-week_01",
          "2022-week_02",
          "2022-week_03",
          "2022-week_04",
          "2022-week_05",
          "2022-week_06",
          "2022-week_52"
         ],
         "xaxis": "x3",
         "y": [
          137,
          223,
          239,
          233,
          242,
          200,
          87,
          144,
          545,
          506,
          644,
          1146,
          1112,
          1243,
          1018,
          1126,
          1097,
          1221,
          1098,
          1114,
          771,
          675,
          650,
          731,
          1150
         ],
         "yaxis": "y3"
        },
        {
         "alignmentgroup": "True",
         "hovertemplate": "requester=RelayFoods<br>region=JP<br>week_id=%{x}<br>count=%{y}<extra></extra>",
         "legendgroup": "RelayFoods",
         "marker": {
          "color": "#FF97FF",
          "pattern": {
           "shape": ""
          }
         },
         "name": "RelayFoods",
         "offsetgroup": "RelayFoods",
         "orientation": "v",
         "showlegend": false,
         "textposition": "auto",
         "type": "bar",
         "x": [
          "2021-week_33",
          "2021-week_34",
          "2021-week_35",
          "2021-week_36",
          "2021-week_37",
          "2021-week_38",
          "2021-week_39",
          "2021-week_40",
          "2021-week_41",
          "2021-week_42",
          "2021-week_43",
          "2021-week_44",
          "2021-week_45",
          "2021-week_46",
          "2021-week_47",
          "2021-week_48",
          "2021-week_49",
          "2021-week_50",
          "2022-week_01",
          "2022-week_02",
          "2022-week_03",
          "2022-week_04",
          "2022-week_05",
          "2022-week_06",
          "2022-week_52"
         ],
         "xaxis": "x4",
         "y": [
          627,
          297,
          348,
          291,
          303,
          319,
          234,
          264,
          279,
          1232,
          1172,
          1214,
          1339,
          1403,
          1426,
          1345,
          1303,
          1357,
          1163,
          1153,
          1159,
          1178,
          1204,
          1205,
          2759
         ],
         "yaxis": "y4"
        },
        {
         "alignmentgroup": "True",
         "hovertemplate": "requester=RelayFoods<br>region=US<br>week_id=%{x}<br>count=%{y}<extra></extra>",
         "legendgroup": "RelayFoods",
         "marker": {
          "color": "#FF97FF",
          "pattern": {
           "shape": ""
          }
         },
         "name": "RelayFoods",
         "offsetgroup": "RelayFoods",
         "orientation": "v",
         "showlegend": false,
         "textposition": "auto",
         "type": "bar",
         "x": [
          "2021-week_33",
          "2021-week_34",
          "2021-week_35",
          "2021-week_36",
          "2021-week_37",
          "2021-week_38",
          "2021-week_39",
          "2021-week_40",
          "2021-week_41",
          "2021-week_42",
          "2021-week_43",
          "2021-week_44",
          "2021-week_45",
          "2021-week_46",
          "2021-week_47",
          "2021-week_48",
          "2021-week_49",
          "2021-week_50",
          "2021-week_51",
          "2022-week_01",
          "2022-week_02",
          "2022-week_03",
          "2022-week_04",
          "2022-week_05",
          "2022-week_06",
          "2022-week_52"
         ],
         "xaxis": "x5",
         "y": [
          284,
          165,
          155,
          162,
          158,
          99,
          92,
          66,
          64,
          196,
          140,
          140,
          137,
          145,
          139,
          119,
          126,
          144,
          88,
          73,
          85,
          108,
          123,
          108,
          127,
          100
         ],
         "yaxis": "y5"
        },
        {
         "alignmentgroup": "True",
         "hovertemplate": "requester=SOLOMO365<br>region=DE<br>week_id=%{x}<br>count=%{y}<extra></extra>",
         "legendgroup": "SOLOMO365",
         "marker": {
          "color": "#FECB52",
          "pattern": {
           "shape": ""
          }
         },
         "name": "SOLOMO365",
         "offsetgroup": "SOLOMO365",
         "orientation": "v",
         "showlegend": true,
         "textposition": "auto",
         "type": "bar",
         "x": [
          "2021-week_33",
          "2021-week_34",
          "2021-week_35",
          "2021-week_36",
          "2021-week_37",
          "2021-week_38",
          "2021-week_39",
          "2021-week_40"
         ],
         "xaxis": "x",
         "y": [
          316,
          365,
          333,
          329,
          319,
          367,
          321,
          85
         ],
         "yaxis": "y"
        },
        {
         "alignmentgroup": "True",
         "hovertemplate": "requester=SOLOMO365<br>region=GB<br>week_id=%{x}<br>count=%{y}<extra></extra>",
         "legendgroup": "SOLOMO365",
         "marker": {
          "color": "#FECB52",
          "pattern": {
           "shape": ""
          }
         },
         "name": "SOLOMO365",
         "offsetgroup": "SOLOMO365",
         "orientation": "v",
         "showlegend": false,
         "textposition": "auto",
         "type": "bar",
         "x": [
          "2021-week_33",
          "2021-week_34",
          "2021-week_35",
          "2021-week_36",
          "2021-week_37",
          "2021-week_38",
          "2021-week_39",
          "2021-week_40"
         ],
         "xaxis": "x2",
         "y": [
          480,
          503,
          526,
          473,
          481,
          467,
          399,
          131
         ],
         "yaxis": "y2"
        },
        {
         "alignmentgroup": "True",
         "hovertemplate": "requester=Search Million Culture<br>region=DE<br>week_id=%{x}<br>count=%{y}<extra></extra>",
         "legendgroup": "Search Million Culture",
         "marker": {
          "color": "#636efa",
          "pattern": {
           "shape": ""
          }
         },
         "name": "Search Million Culture",
         "offsetgroup": "Search Million Culture",
         "orientation": "v",
         "showlegend": true,
         "textposition": "auto",
         "type": "bar",
         "x": [
          "2021-week_33",
          "2021-week_34",
          "2021-week_35",
          "2021-week_36",
          "2021-week_37",
          "2021-week_38",
          "2021-week_39",
          "2021-week_40",
          "2021-week_41",
          "2021-week_42",
          "2021-week_43",
          "2021-week_44",
          "2021-week_45",
          "2021-week_46",
          "2021-week_47",
          "2021-week_48",
          "2021-week_49",
          "2021-week_50",
          "2021-week_51",
          "2022-week_01",
          "2022-week_02",
          "2022-week_03",
          "2022-week_04",
          "2022-week_05",
          "2022-week_06",
          "2022-week_52"
         ],
         "xaxis": "x",
         "y": [
          1139,
          1300,
          1205,
          1189,
          1232,
          1192,
          1126,
          1298,
          1364,
          854,
          849,
          580,
          412,
          450,
          510,
          563,
          610,
          591,
          503,
          1043,
          1172,
          958,
          988,
          1068,
          1079,
          382
         ],
         "yaxis": "y"
        },
        {
         "alignmentgroup": "True",
         "hovertemplate": "requester=Search Million Culture<br>region=GB<br>week_id=%{x}<br>count=%{y}<extra></extra>",
         "legendgroup": "Search Million Culture",
         "marker": {
          "color": "#636efa",
          "pattern": {
           "shape": ""
          }
         },
         "name": "Search Million Culture",
         "offsetgroup": "Search Million Culture",
         "orientation": "v",
         "showlegend": false,
         "textposition": "auto",
         "type": "bar",
         "x": [
          "2021-week_33",
          "2021-week_34",
          "2021-week_35",
          "2021-week_36",
          "2021-week_37",
          "2021-week_38",
          "2021-week_39",
          "2021-week_40",
          "2021-week_41",
          "2021-week_42",
          "2021-week_43",
          "2021-week_44",
          "2021-week_45",
          "2021-week_46",
          "2021-week_47",
          "2021-week_48",
          "2021-week_49",
          "2021-week_50",
          "2021-week_51",
          "2022-week_01",
          "2022-week_02",
          "2022-week_03",
          "2022-week_04",
          "2022-week_05",
          "2022-week_06",
          "2022-week_52"
         ],
         "xaxis": "x2",
         "y": [
          1153,
          1403,
          1254,
          1257,
          1143,
          1162,
          1132,
          1245,
          1338,
          1168,
          1044,
          942,
          735,
          795,
          796,
          1009,
          1159,
          1077,
          1021,
          1374,
          1327,
          1050,
          982,
          919,
          797,
          720
         ],
         "yaxis": "y2"
        },
        {
         "alignmentgroup": "True",
         "hovertemplate": "requester=Search Million Culture<br>region=IN<br>week_id=%{x}<br>count=%{y}<extra></extra>",
         "legendgroup": "Search Million Culture",
         "marker": {
          "color": "#636efa",
          "pattern": {
           "shape": ""
          }
         },
         "name": "Search Million Culture",
         "offsetgroup": "Search Million Culture",
         "orientation": "v",
         "showlegend": false,
         "textposition": "auto",
         "type": "bar",
         "x": [
          "2021-week_33",
          "2021-week_34",
          "2021-week_35",
          "2021-week_36",
          "2021-week_37",
          "2021-week_38",
          "2021-week_39",
          "2021-week_40",
          "2021-week_41",
          "2021-week_42",
          "2021-week_43",
          "2021-week_44",
          "2021-week_45",
          "2021-week_46",
          "2021-week_47",
          "2021-week_48",
          "2021-week_49",
          "2021-week_50",
          "2021-week_51",
          "2022-week_01",
          "2022-week_02",
          "2022-week_03",
          "2022-week_04",
          "2022-week_05",
          "2022-week_06",
          "2022-week_52"
         ],
         "xaxis": "x3",
         "y": [
          1540,
          1551,
          1493,
          1479,
          1453,
          1489,
          1383,
          1395,
          1326,
          1220,
          1172,
          930,
          28,
          37,
          27,
          15,
          42,
          31,
          36,
          30,
          42,
          934,
          1267,
          1260,
          1158,
          27
         ],
         "yaxis": "y3"
        },
        {
         "alignmentgroup": "True",
         "hovertemplate": "requester=Search Million Culture<br>region=JP<br>week_id=%{x}<br>count=%{y}<extra></extra>",
         "legendgroup": "Search Million Culture",
         "marker": {
          "color": "#636efa",
          "pattern": {
           "shape": ""
          }
         },
         "name": "Search Million Culture",
         "offsetgroup": "Search Million Culture",
         "orientation": "v",
         "showlegend": false,
         "textposition": "auto",
         "type": "bar",
         "x": [
          "2021-week_33",
          "2021-week_34",
          "2021-week_35",
          "2021-week_36",
          "2021-week_37",
          "2021-week_38",
          "2021-week_39",
          "2021-week_40",
          "2021-week_41",
          "2021-week_42",
          "2021-week_43",
          "2021-week_44",
          "2021-week_45",
          "2021-week_46",
          "2021-week_47",
          "2021-week_48",
          "2021-week_49",
          "2021-week_50",
          "2022-week_01",
          "2022-week_02",
          "2022-week_03",
          "2022-week_04",
          "2022-week_05",
          "2022-week_06",
          "2022-week_52"
         ],
         "xaxis": "x4",
         "y": [
          589,
          785,
          644,
          707,
          714,
          662,
          641,
          598,
          580,
          195,
          164,
          128,
          12,
          5,
          4,
          12,
          13,
          10,
          234,
          280,
          227,
          236,
          225,
          230,
          11
         ],
         "yaxis": "y4"
        },
        {
         "alignmentgroup": "True",
         "hovertemplate": "requester=Search Million Culture<br>region=US<br>week_id=%{x}<br>count=%{y}<extra></extra>",
         "legendgroup": "Search Million Culture",
         "marker": {
          "color": "#636efa",
          "pattern": {
           "shape": ""
          }
         },
         "name": "Search Million Culture",
         "offsetgroup": "Search Million Culture",
         "orientation": "v",
         "showlegend": false,
         "textposition": "auto",
         "type": "bar",
         "x": [
          "2021-week_33",
          "2021-week_34",
          "2021-week_35",
          "2021-week_36",
          "2021-week_37",
          "2021-week_38",
          "2021-week_39",
          "2021-week_40",
          "2021-week_41",
          "2021-week_42",
          "2021-week_43",
          "2021-week_44",
          "2021-week_45",
          "2021-week_46",
          "2021-week_47",
          "2021-week_48",
          "2021-week_49",
          "2021-week_50",
          "2021-week_51",
          "2022-week_01",
          "2022-week_02",
          "2022-week_03",
          "2022-week_04",
          "2022-week_05",
          "2022-week_06",
          "2022-week_52"
         ],
         "xaxis": "x5",
         "y": [
          635,
          572,
          439,
          461,
          487,
          283,
          245,
          227,
          230,
          300,
          235,
          133,
          45,
          53,
          55,
          63,
          81,
          70,
          44,
          116,
          131,
          173,
          182,
          142,
          163,
          45
         ],
         "yaxis": "y5"
        },
        {
         "alignmentgroup": "True",
         "hovertemplate": "requester=aPriori Technologies<br>region=DE<br>week_id=%{x}<br>count=%{y}<extra></extra>",
         "legendgroup": "aPriori Technologies",
         "marker": {
          "color": "#EF553B",
          "pattern": {
           "shape": ""
          }
         },
         "name": "aPriori Technologies",
         "offsetgroup": "aPriori Technologies",
         "orientation": "v",
         "showlegend": true,
         "textposition": "auto",
         "type": "bar",
         "x": [
          "2021-week_33",
          "2021-week_34",
          "2021-week_35",
          "2021-week_36",
          "2021-week_37",
          "2021-week_38",
          "2021-week_39",
          "2021-week_40",
          "2021-week_41",
          "2021-week_42",
          "2021-week_43",
          "2021-week_44",
          "2021-week_45",
          "2021-week_46",
          "2021-week_47",
          "2021-week_48",
          "2021-week_49",
          "2021-week_50",
          "2021-week_51",
          "2022-week_01",
          "2022-week_02",
          "2022-week_03",
          "2022-week_04",
          "2022-week_05",
          "2022-week_06",
          "2022-week_52"
         ],
         "xaxis": "x",
         "y": [
          7,
          17,
          19,
          12,
          10,
          16,
          10,
          8,
          18,
          6,
          15,
          7,
          17,
          34,
          28,
          15,
          17,
          18,
          22,
          9,
          3,
          7,
          11,
          9,
          10,
          25
         ],
         "yaxis": "y"
        },
        {
         "alignmentgroup": "True",
         "hovertemplate": "requester=aPriori Technologies<br>region=GB<br>week_id=%{x}<br>count=%{y}<extra></extra>",
         "legendgroup": "aPriori Technologies",
         "marker": {
          "color": "#EF553B",
          "pattern": {
           "shape": ""
          }
         },
         "name": "aPriori Technologies",
         "offsetgroup": "aPriori Technologies",
         "orientation": "v",
         "showlegend": false,
         "textposition": "auto",
         "type": "bar",
         "x": [
          "2021-week_33",
          "2021-week_34",
          "2021-week_35",
          "2021-week_36",
          "2021-week_37",
          "2021-week_38",
          "2021-week_39",
          "2021-week_40",
          "2021-week_41",
          "2021-week_42",
          "2021-week_43",
          "2021-week_44",
          "2021-week_45",
          "2021-week_46",
          "2021-week_47",
          "2021-week_48",
          "2021-week_49",
          "2021-week_50",
          "2021-week_51",
          "2022-week_01",
          "2022-week_02",
          "2022-week_03",
          "2022-week_04",
          "2022-week_05",
          "2022-week_06",
          "2022-week_52"
         ],
         "xaxis": "x2",
         "y": [
          9,
          5,
          5,
          15,
          6,
          4,
          13,
          8,
          17,
          5,
          7,
          5,
          17,
          21,
          15,
          8,
          11,
          12,
          13,
          14,
          8,
          2,
          6,
          9,
          6,
          19
         ],
         "yaxis": "y2"
        },
        {
         "alignmentgroup": "True",
         "hovertemplate": "requester=aPriori Technologies<br>region=IN<br>week_id=%{x}<br>count=%{y}<extra></extra>",
         "legendgroup": "aPriori Technologies",
         "marker": {
          "color": "#EF553B",
          "pattern": {
           "shape": ""
          }
         },
         "name": "aPriori Technologies",
         "offsetgroup": "aPriori Technologies",
         "orientation": "v",
         "showlegend": false,
         "textposition": "auto",
         "type": "bar",
         "x": [
          "2021-week_33",
          "2021-week_34",
          "2021-week_35",
          "2021-week_36",
          "2021-week_37",
          "2021-week_38",
          "2021-week_39",
          "2021-week_40",
          "2021-week_41",
          "2021-week_42",
          "2021-week_43",
          "2021-week_44",
          "2021-week_45",
          "2021-week_46",
          "2021-week_47",
          "2021-week_48",
          "2021-week_49",
          "2021-week_50",
          "2021-week_51",
          "2022-week_01",
          "2022-week_02",
          "2022-week_03",
          "2022-week_04",
          "2022-week_05",
          "2022-week_06",
          "2022-week_52"
         ],
         "xaxis": "x3",
         "y": [
          18,
          15,
          24,
          9,
          15,
          11,
          26,
          45,
          9,
          19,
          16,
          14,
          15,
          17,
          22,
          21,
          19,
          18,
          18,
          19,
          15,
          15,
          9,
          13,
          12,
          13
         ],
         "yaxis": "y3"
        },
        {
         "alignmentgroup": "True",
         "hovertemplate": "requester=aPriori Technologies<br>region=JP<br>week_id=%{x}<br>count=%{y}<extra></extra>",
         "legendgroup": "aPriori Technologies",
         "marker": {
          "color": "#EF553B",
          "pattern": {
           "shape": ""
          }
         },
         "name": "aPriori Technologies",
         "offsetgroup": "aPriori Technologies",
         "orientation": "v",
         "showlegend": false,
         "textposition": "auto",
         "type": "bar",
         "x": [
          "2021-week_33",
          "2021-week_34",
          "2021-week_35",
          "2021-week_37",
          "2021-week_38",
          "2021-week_39",
          "2021-week_40",
          "2021-week_41",
          "2021-week_42",
          "2021-week_44",
          "2021-week_46",
          "2021-week_47",
          "2021-week_49",
          "2021-week_50",
          "2022-week_01",
          "2022-week_02",
          "2022-week_03",
          "2022-week_04",
          "2022-week_05",
          "2022-week_52"
         ],
         "xaxis": "x4",
         "y": [
          4,
          5,
          3,
          3,
          2,
          3,
          3,
          5,
          1,
          3,
          2,
          6,
          2,
          2,
          3,
          3,
          1,
          3,
          2,
          2
         ],
         "yaxis": "y4"
        },
        {
         "alignmentgroup": "True",
         "hovertemplate": "requester=aPriori Technologies<br>region=US<br>week_id=%{x}<br>count=%{y}<extra></extra>",
         "legendgroup": "aPriori Technologies",
         "marker": {
          "color": "#EF553B",
          "pattern": {
           "shape": ""
          }
         },
         "name": "aPriori Technologies",
         "offsetgroup": "aPriori Technologies",
         "orientation": "v",
         "showlegend": false,
         "textposition": "auto",
         "type": "bar",
         "x": [
          "2021-week_33",
          "2021-week_35",
          "2021-week_36",
          "2021-week_37",
          "2021-week_38",
          "2021-week_39",
          "2021-week_41",
          "2021-week_42",
          "2021-week_43",
          "2021-week_44",
          "2021-week_45",
          "2021-week_47",
          "2021-week_48",
          "2021-week_49",
          "2021-week_50",
          "2022-week_01",
          "2022-week_04",
          "2022-week_06",
          "2022-week_52"
         ],
         "xaxis": "x5",
         "y": [
          5,
          6,
          7,
          5,
          2,
          5,
          2,
          2,
          3,
          4,
          4,
          1,
          3,
          1,
          1,
          2,
          1,
          1,
          2
         ],
         "yaxis": "y5"
        },
        {
         "alignmentgroup": "True",
         "hovertemplate": "requester=iDreamsky Technology<br>region=DE<br>week_id=%{x}<br>count=%{y}<extra></extra>",
         "legendgroup": "iDreamsky Technology",
         "marker": {
          "color": "#00cc96",
          "pattern": {
           "shape": ""
          }
         },
         "name": "iDreamsky Technology",
         "offsetgroup": "iDreamsky Technology",
         "orientation": "v",
         "showlegend": true,
         "textposition": "auto",
         "type": "bar",
         "x": [
          "2021-week_33",
          "2021-week_34",
          "2021-week_35",
          "2021-week_36",
          "2021-week_37",
          "2021-week_38",
          "2021-week_39",
          "2021-week_40",
          "2021-week_41",
          "2021-week_42",
          "2021-week_43",
          "2021-week_44",
          "2021-week_45",
          "2021-week_46",
          "2021-week_47",
          "2021-week_48",
          "2021-week_49",
          "2021-week_50",
          "2021-week_51",
          "2022-week_01",
          "2022-week_02",
          "2022-week_03",
          "2022-week_04",
          "2022-week_05",
          "2022-week_06",
          "2022-week_52"
         ],
         "xaxis": "x",
         "y": [
          62,
          90,
          152,
          210,
          163,
          160,
          195,
          178,
          144,
          67,
          81,
          92,
          123,
          288,
          360,
          149,
          110,
          117,
          128,
          98,
          102,
          87,
          76,
          73,
          117,
          120
         ],
         "yaxis": "y"
        },
        {
         "alignmentgroup": "True",
         "hovertemplate": "requester=iDreamsky Technology<br>region=GB<br>week_id=%{x}<br>count=%{y}<extra></extra>",
         "legendgroup": "iDreamsky Technology",
         "marker": {
          "color": "#00cc96",
          "pattern": {
           "shape": ""
          }
         },
         "name": "iDreamsky Technology",
         "offsetgroup": "iDreamsky Technology",
         "orientation": "v",
         "showlegend": false,
         "textposition": "auto",
         "type": "bar",
         "x": [
          "2021-week_33",
          "2021-week_34",
          "2021-week_35",
          "2021-week_36",
          "2021-week_37",
          "2021-week_38",
          "2021-week_39",
          "2021-week_40",
          "2021-week_41",
          "2021-week_42",
          "2021-week_43",
          "2021-week_44",
          "2021-week_45",
          "2021-week_46",
          "2021-week_47",
          "2021-week_48",
          "2021-week_49",
          "2021-week_50",
          "2021-week_51",
          "2022-week_01",
          "2022-week_02",
          "2022-week_03",
          "2022-week_04",
          "2022-week_05",
          "2022-week_06",
          "2022-week_52"
         ],
         "xaxis": "x2",
         "y": [
          62,
          84,
          137,
          137,
          154,
          174,
          169,
          167,
          119,
          93,
          80,
          104,
          138,
          258,
          712,
          237,
          130,
          120,
          137,
          137,
          111,
          89,
          87,
          77,
          65,
          141
         ],
         "yaxis": "y2"
        },
        {
         "alignmentgroup": "True",
         "hovertemplate": "requester=iDreamsky Technology<br>region=IN<br>week_id=%{x}<br>count=%{y}<extra></extra>",
         "legendgroup": "iDreamsky Technology",
         "marker": {
          "color": "#00cc96",
          "pattern": {
           "shape": ""
          }
         },
         "name": "iDreamsky Technology",
         "offsetgroup": "iDreamsky Technology",
         "orientation": "v",
         "showlegend": false,
         "textposition": "auto",
         "type": "bar",
         "x": [
          "2021-week_33",
          "2021-week_34",
          "2021-week_35",
          "2021-week_36",
          "2021-week_37",
          "2021-week_38",
          "2021-week_39",
          "2021-week_40",
          "2021-week_41",
          "2021-week_42",
          "2021-week_43",
          "2021-week_44",
          "2021-week_45",
          "2021-week_46",
          "2021-week_47",
          "2021-week_48",
          "2021-week_49",
          "2021-week_50",
          "2021-week_51",
          "2022-week_01",
          "2022-week_02",
          "2022-week_03",
          "2022-week_04",
          "2022-week_05",
          "2022-week_06",
          "2022-week_52"
         ],
         "xaxis": "x3",
         "y": [
          36,
          54,
          83,
          79,
          98,
          132,
          154,
          158,
          120,
          62,
          56,
          56,
          82,
          63,
          84,
          72,
          69,
          74,
          59,
          78,
          73,
          60,
          39,
          44,
          47,
          63
         ],
         "yaxis": "y3"
        },
        {
         "alignmentgroup": "True",
         "hovertemplate": "requester=iDreamsky Technology<br>region=JP<br>week_id=%{x}<br>count=%{y}<extra></extra>",
         "legendgroup": "iDreamsky Technology",
         "marker": {
          "color": "#00cc96",
          "pattern": {
           "shape": ""
          }
         },
         "name": "iDreamsky Technology",
         "offsetgroup": "iDreamsky Technology",
         "orientation": "v",
         "showlegend": false,
         "textposition": "auto",
         "type": "bar",
         "x": [
          "2021-week_33",
          "2021-week_34",
          "2021-week_35",
          "2021-week_36",
          "2021-week_37",
          "2021-week_38",
          "2021-week_39",
          "2021-week_40",
          "2021-week_41",
          "2021-week_42",
          "2021-week_43",
          "2021-week_44",
          "2021-week_45",
          "2021-week_46",
          "2021-week_47",
          "2021-week_48",
          "2021-week_49",
          "2021-week_50",
          "2022-week_01",
          "2022-week_02",
          "2022-week_03",
          "2022-week_04",
          "2022-week_05",
          "2022-week_06",
          "2022-week_52"
         ],
         "xaxis": "x4",
         "y": [
          82,
          23,
          64,
          65,
          62,
          193,
          89,
          55,
          43,
          5,
          31,
          18,
          15,
          6,
          30,
          16,
          16,
          27,
          21,
          14,
          25,
          16,
          18,
          11,
          30
         ],
         "yaxis": "y4"
        },
        {
         "alignmentgroup": "True",
         "hovertemplate": "requester=iDreamsky Technology<br>region=US<br>week_id=%{x}<br>count=%{y}<extra></extra>",
         "legendgroup": "iDreamsky Technology",
         "marker": {
          "color": "#00cc96",
          "pattern": {
           "shape": ""
          }
         },
         "name": "iDreamsky Technology",
         "offsetgroup": "iDreamsky Technology",
         "orientation": "v",
         "showlegend": false,
         "textposition": "auto",
         "type": "bar",
         "x": [
          "2021-week_33",
          "2021-week_34",
          "2021-week_35",
          "2021-week_36",
          "2021-week_37",
          "2021-week_38",
          "2021-week_39",
          "2021-week_40",
          "2021-week_41",
          "2021-week_42",
          "2021-week_43",
          "2021-week_44",
          "2021-week_45",
          "2021-week_46",
          "2021-week_47",
          "2021-week_48",
          "2021-week_49",
          "2021-week_50",
          "2021-week_51",
          "2022-week_01",
          "2022-week_02",
          "2022-week_03",
          "2022-week_04",
          "2022-week_05",
          "2022-week_06",
          "2022-week_52"
         ],
         "xaxis": "x5",
         "y": [
          72,
          53,
          78,
          115,
          124,
          76,
          50,
          58,
          45,
          38,
          24,
          24,
          18,
          30,
          72,
          48,
          31,
          24,
          14,
          15,
          14,
          24,
          17,
          23,
          27,
          23
         ],
         "yaxis": "y5"
        },
        {
         "alignmentgroup": "True",
         "hovertemplate": "requester=Allthetopbananas.com<br>region=DE<br>week_id=%{x}<br>count=%{y}<extra></extra>",
         "legendgroup": "Allthetopbananas.com",
         "marker": {
          "color": "#ab63fa",
          "pattern": {
           "shape": ""
          }
         },
         "name": "Allthetopbananas.com",
         "offsetgroup": "Allthetopbananas.com",
         "orientation": "v",
         "showlegend": true,
         "textposition": "auto",
         "type": "bar",
         "x": [
          "2021-week_40",
          "2021-week_41",
          "2021-week_42",
          "2021-week_43",
          "2021-week_44",
          "2021-week_45",
          "2021-week_46",
          "2021-week_47",
          "2021-week_49",
          "2021-week_50",
          "2021-week_51",
          "2022-week_01",
          "2022-week_02",
          "2022-week_04",
          "2022-week_05",
          "2022-week_06",
          "2022-week_52"
         ],
         "xaxis": "x",
         "y": [
          1,
          2,
          1,
          1,
          4,
          7,
          4,
          2,
          2,
          4,
          5,
          2,
          2,
          2,
          5,
          3,
          4
         ],
         "yaxis": "y"
        },
        {
         "alignmentgroup": "True",
         "hovertemplate": "requester=Allthetopbananas.com<br>region=GB<br>week_id=%{x}<br>count=%{y}<extra></extra>",
         "legendgroup": "Allthetopbananas.com",
         "marker": {
          "color": "#ab63fa",
          "pattern": {
           "shape": ""
          }
         },
         "name": "Allthetopbananas.com",
         "offsetgroup": "Allthetopbananas.com",
         "orientation": "v",
         "showlegend": false,
         "textposition": "auto",
         "type": "bar",
         "x": [
          "2021-week_33",
          "2021-week_35",
          "2021-week_36",
          "2021-week_37",
          "2021-week_38",
          "2021-week_39",
          "2021-week_40",
          "2021-week_41",
          "2021-week_42",
          "2021-week_43",
          "2021-week_44",
          "2021-week_45",
          "2021-week_46",
          "2021-week_47",
          "2021-week_48",
          "2021-week_49",
          "2021-week_50",
          "2022-week_01",
          "2022-week_02",
          "2022-week_03",
          "2022-week_04",
          "2022-week_52"
         ],
         "xaxis": "x2",
         "y": [
          2,
          1,
          2,
          4,
          3,
          1,
          5,
          2,
          1,
          1,
          1,
          1,
          2,
          1,
          2,
          4,
          1,
          2,
          1,
          5,
          4,
          4
         ],
         "yaxis": "y2"
        },
        {
         "alignmentgroup": "True",
         "hovertemplate": "requester=Allthetopbananas.com<br>region=IN<br>week_id=%{x}<br>count=%{y}<extra></extra>",
         "legendgroup": "Allthetopbananas.com",
         "marker": {
          "color": "#ab63fa",
          "pattern": {
           "shape": ""
          }
         },
         "name": "Allthetopbananas.com",
         "offsetgroup": "Allthetopbananas.com",
         "orientation": "v",
         "showlegend": false,
         "textposition": "auto",
         "type": "bar",
         "x": [
          "2021-week_33",
          "2021-week_34",
          "2021-week_35",
          "2021-week_36",
          "2021-week_37",
          "2021-week_38",
          "2021-week_39",
          "2021-week_40",
          "2021-week_41",
          "2021-week_42",
          "2021-week_43",
          "2021-week_44",
          "2021-week_45",
          "2021-week_46",
          "2021-week_47",
          "2021-week_48",
          "2021-week_49",
          "2021-week_50",
          "2021-week_51",
          "2022-week_01",
          "2022-week_02",
          "2022-week_03",
          "2022-week_04",
          "2022-week_06",
          "2022-week_52"
         ],
         "xaxis": "x3",
         "y": [
          4,
          3,
          5,
          9,
          6,
          10,
          5,
          8,
          6,
          2,
          1,
          5,
          7,
          5,
          2,
          5,
          2,
          3,
          1,
          2,
          4,
          3,
          2,
          1,
          6
         ],
         "yaxis": "y3"
        },
        {
         "alignmentgroup": "True",
         "hovertemplate": "requester=Allthetopbananas.com<br>region=US<br>week_id=%{x}<br>count=%{y}<extra></extra>",
         "legendgroup": "Allthetopbananas.com",
         "marker": {
          "color": "#ab63fa",
          "pattern": {
           "shape": ""
          }
         },
         "name": "Allthetopbananas.com",
         "offsetgroup": "Allthetopbananas.com",
         "orientation": "v",
         "showlegend": false,
         "textposition": "auto",
         "type": "bar",
         "x": [
          "2021-week_33",
          "2021-week_35",
          "2021-week_36",
          "2021-week_37",
          "2021-week_38",
          "2021-week_45"
         ],
         "xaxis": "x5",
         "y": [
          1,
          1,
          3,
          1,
          1,
          1
         ],
         "yaxis": "y5"
        },
        {
         "alignmentgroup": "True",
         "hovertemplate": "requester=Fancy<br>region=GB<br>week_id=%{x}<br>count=%{y}<extra></extra>",
         "legendgroup": "Fancy",
         "marker": {
          "color": "#FFA15A",
          "pattern": {
           "shape": ""
          }
         },
         "name": "Fancy",
         "offsetgroup": "Fancy",
         "orientation": "v",
         "showlegend": true,
         "textposition": "auto",
         "type": "bar",
         "x": [
          "2021-week_33",
          "2021-week_34",
          "2021-week_35",
          "2021-week_36",
          "2021-week_37",
          "2021-week_38",
          "2021-week_39",
          "2021-week_40",
          "2021-week_41",
          "2021-week_42",
          "2021-week_43",
          "2021-week_44",
          "2021-week_45",
          "2021-week_46",
          "2021-week_47",
          "2021-week_48",
          "2021-week_49",
          "2021-week_50",
          "2021-week_51",
          "2022-week_01",
          "2022-week_02",
          "2022-week_03",
          "2022-week_04",
          "2022-week_05",
          "2022-week_06",
          "2022-week_52"
         ],
         "xaxis": "x2",
         "y": [
          523,
          454,
          453,
          568,
          468,
          466,
          486,
          528,
          599,
          374,
          432,
          529,
          619,
          449,
          242,
          333,
          351,
          352,
          385,
          333,
          360,
          541,
          924,
          1081,
          1389,
          439
         ],
         "yaxis": "y2"
        },
        {
         "alignmentgroup": "True",
         "hovertemplate": "requester=Fancy<br>region=US<br>week_id=%{x}<br>count=%{y}<extra></extra>",
         "legendgroup": "Fancy",
         "marker": {
          "color": "#FFA15A",
          "pattern": {
           "shape": ""
          }
         },
         "name": "Fancy",
         "offsetgroup": "Fancy",
         "orientation": "v",
         "showlegend": false,
         "textposition": "auto",
         "type": "bar",
         "x": [
          "2021-week_33",
          "2021-week_34",
          "2021-week_35",
          "2021-week_36",
          "2021-week_37",
          "2021-week_38",
          "2021-week_39",
          "2021-week_40",
          "2021-week_41",
          "2021-week_42",
          "2021-week_43",
          "2021-week_44",
          "2021-week_45",
          "2021-week_46",
          "2021-week_47",
          "2021-week_48",
          "2021-week_49",
          "2021-week_50",
          "2021-week_51",
          "2022-week_01",
          "2022-week_02",
          "2022-week_03",
          "2022-week_04",
          "2022-week_05",
          "2022-week_06",
          "2022-week_52"
         ],
         "xaxis": "x5",
         "y": [
          408,
          302,
          428,
          496,
          714,
          697,
          588,
          671,
          849,
          770,
          798,
          764,
          712,
          575,
          331,
          679,
          1297,
          1257,
          788,
          637,
          656,
          772,
          855,
          884,
          866,
          874
         ],
         "yaxis": "y5"
        },
        {
         "alignmentgroup": "True",
         "hovertemplate": "requester=Mission Street Manufacturing<br>region=GB<br>week_id=%{x}<br>count=%{y}<extra></extra>",
         "legendgroup": "Mission Street Manufacturing",
         "marker": {
          "color": "#19d3f3",
          "pattern": {
           "shape": ""
          }
         },
         "name": "Mission Street Manufacturing",
         "offsetgroup": "Mission Street Manufacturing",
         "orientation": "v",
         "showlegend": true,
         "textposition": "auto",
         "type": "bar",
         "x": [
          "2021-week_33",
          "2021-week_34",
          "2021-week_35",
          "2021-week_36",
          "2021-week_37",
          "2021-week_38",
          "2021-week_39",
          "2021-week_40",
          "2021-week_41",
          "2021-week_42",
          "2021-week_43",
          "2021-week_44",
          "2021-week_45",
          "2021-week_46",
          "2021-week_47",
          "2021-week_48",
          "2021-week_49",
          "2021-week_50",
          "2021-week_51",
          "2022-week_01",
          "2022-week_02",
          "2022-week_03",
          "2022-week_04",
          "2022-week_05",
          "2022-week_06",
          "2022-week_52"
         ],
         "xaxis": "x2",
         "y": [
          2,
          3,
          5,
          1,
          1,
          5,
          2,
          2,
          3,
          2,
          1,
          6,
          4,
          3,
          5,
          4,
          8,
          3,
          4,
          3,
          3,
          4,
          1,
          3,
          4,
          4
         ],
         "yaxis": "y2"
        },
        {
         "alignmentgroup": "True",
         "hovertemplate": "requester=Mission Street Manufacturing<br>region=US<br>week_id=%{x}<br>count=%{y}<extra></extra>",
         "legendgroup": "Mission Street Manufacturing",
         "marker": {
          "color": "#19d3f3",
          "pattern": {
           "shape": ""
          }
         },
         "name": "Mission Street Manufacturing",
         "offsetgroup": "Mission Street Manufacturing",
         "orientation": "v",
         "showlegend": false,
         "textposition": "auto",
         "type": "bar",
         "x": [
          "2021-week_33",
          "2021-week_34",
          "2021-week_35",
          "2021-week_36",
          "2021-week_37",
          "2021-week_38",
          "2021-week_39",
          "2021-week_40",
          "2021-week_41",
          "2021-week_42",
          "2021-week_43",
          "2021-week_44",
          "2021-week_45",
          "2021-week_46",
          "2021-week_47",
          "2021-week_48",
          "2021-week_49",
          "2021-week_50",
          "2021-week_51",
          "2022-week_01",
          "2022-week_03",
          "2022-week_06"
         ],
         "xaxis": "x5",
         "y": [
          12,
          7,
          10,
          4,
          4,
          4,
          4,
          3,
          3,
          4,
          5,
          7,
          5,
          5,
          3,
          2,
          5,
          3,
          1,
          2,
          3,
          4
         ],
         "yaxis": "y5"
        },
        {
         "alignmentgroup": "True",
         "hovertemplate": "requester=OpenDesks, Inc.<br>region=DE<br>week_id=%{x}<br>count=%{y}<extra></extra>",
         "legendgroup": "OpenDesks, Inc.",
         "marker": {
          "color": "#FF6692",
          "pattern": {
           "shape": ""
          }
         },
         "name": "OpenDesks, Inc.",
         "offsetgroup": "OpenDesks, Inc.",
         "orientation": "v",
         "showlegend": true,
         "textposition": "auto",
         "type": "bar",
         "x": [
          "2021-week_34",
          "2021-week_36",
          "2021-week_38",
          "2021-week_39",
          "2021-week_41",
          "2021-week_45",
          "2021-week_46",
          "2021-week_47",
          "2021-week_48",
          "2021-week_49",
          "2021-week_50",
          "2021-week_51",
          "2022-week_01",
          "2022-week_03",
          "2022-week_04",
          "2022-week_05",
          "2022-week_06",
          "2022-week_52"
         ],
         "xaxis": "x",
         "y": [
          1,
          2,
          1,
          1,
          2,
          1,
          11,
          7,
          4,
          4,
          2,
          4,
          1,
          2,
          1,
          1,
          1,
          4
         ],
         "yaxis": "y"
        },
        {
         "alignmentgroup": "True",
         "hovertemplate": "requester=OpenDesks, Inc.<br>region=GB<br>week_id=%{x}<br>count=%{y}<extra></extra>",
         "legendgroup": "OpenDesks, Inc.",
         "marker": {
          "color": "#FF6692",
          "pattern": {
           "shape": ""
          }
         },
         "name": "OpenDesks, Inc.",
         "offsetgroup": "OpenDesks, Inc.",
         "orientation": "v",
         "showlegend": false,
         "textposition": "auto",
         "type": "bar",
         "x": [
          "2021-week_33",
          "2021-week_34",
          "2021-week_36",
          "2021-week_37",
          "2021-week_38",
          "2021-week_39",
          "2021-week_40",
          "2021-week_41",
          "2021-week_42",
          "2021-week_44",
          "2021-week_45",
          "2021-week_46",
          "2021-week_47",
          "2021-week_48",
          "2021-week_49",
          "2021-week_50",
          "2021-week_51",
          "2022-week_02",
          "2022-week_03",
          "2022-week_04",
          "2022-week_05",
          "2022-week_06",
          "2022-week_52"
         ],
         "xaxis": "x2",
         "y": [
          3,
          1,
          1,
          2,
          1,
          1,
          1,
          5,
          1,
          1,
          2,
          17,
          15,
          5,
          3,
          1,
          3,
          1,
          1,
          1,
          1,
          1,
          4
         ],
         "yaxis": "y2"
        },
        {
         "alignmentgroup": "True",
         "hovertemplate": "requester=OpenDesks, Inc.<br>region=IN<br>week_id=%{x}<br>count=%{y}<extra></extra>",
         "legendgroup": "OpenDesks, Inc.",
         "marker": {
          "color": "#FF6692",
          "pattern": {
           "shape": ""
          }
         },
         "name": "OpenDesks, Inc.",
         "offsetgroup": "OpenDesks, Inc.",
         "orientation": "v",
         "showlegend": false,
         "textposition": "auto",
         "type": "bar",
         "x": [
          "2021-week_33",
          "2021-week_34",
          "2021-week_35",
          "2021-week_36",
          "2021-week_37",
          "2021-week_38",
          "2021-week_39",
          "2021-week_40",
          "2021-week_41",
          "2021-week_42",
          "2021-week_43",
          "2021-week_44",
          "2021-week_45",
          "2021-week_46",
          "2021-week_47",
          "2021-week_48",
          "2021-week_49",
          "2021-week_50",
          "2021-week_51",
          "2022-week_01",
          "2022-week_02",
          "2022-week_03",
          "2022-week_04",
          "2022-week_05",
          "2022-week_06",
          "2022-week_52"
         ],
         "xaxis": "x3",
         "y": [
          2,
          4,
          7,
          15,
          11,
          15,
          25,
          32,
          19,
          26,
          16,
          25,
          20,
          14,
          13,
          11,
          15,
          9,
          24,
          20,
          23,
          14,
          11,
          10,
          11,
          20
         ],
         "yaxis": "y3"
        },
        {
         "alignmentgroup": "True",
         "hovertemplate": "requester=OpenDesks, Inc.<br>region=JP<br>week_id=%{x}<br>count=%{y}<extra></extra>",
         "legendgroup": "OpenDesks, Inc.",
         "marker": {
          "color": "#FF6692",
          "pattern": {
           "shape": ""
          }
         },
         "name": "OpenDesks, Inc.",
         "offsetgroup": "OpenDesks, Inc.",
         "orientation": "v",
         "showlegend": false,
         "textposition": "auto",
         "type": "bar",
         "x": [
          "2021-week_33",
          "2021-week_39",
          "2021-week_46",
          "2021-week_48",
          "2022-week_52"
         ],
         "xaxis": "x4",
         "y": [
          1,
          1,
          1,
          1,
          2
         ],
         "yaxis": "y4"
        },
        {
         "alignmentgroup": "True",
         "hovertemplate": "requester=OpenDesks, Inc.<br>region=US<br>week_id=%{x}<br>count=%{y}<extra></extra>",
         "legendgroup": "OpenDesks, Inc.",
         "marker": {
          "color": "#FF6692",
          "pattern": {
           "shape": ""
          }
         },
         "name": "OpenDesks, Inc.",
         "offsetgroup": "OpenDesks, Inc.",
         "orientation": "v",
         "showlegend": false,
         "textposition": "auto",
         "type": "bar",
         "x": [
          "2021-week_36",
          "2021-week_38",
          "2021-week_39",
          "2021-week_40",
          "2021-week_42",
          "2021-week_44",
          "2021-week_47"
         ],
         "xaxis": "x5",
         "y": [
          1,
          1,
          1,
          1,
          1,
          1,
          2
         ],
         "yaxis": "y5"
        },
        {
         "alignmentgroup": "True",
         "hovertemplate": "requester=VarVee<br>region=DE<br>week_id=%{x}<br>count=%{y}<extra></extra>",
         "legendgroup": "VarVee",
         "marker": {
          "color": "#B6E880",
          "pattern": {
           "shape": ""
          }
         },
         "name": "VarVee",
         "offsetgroup": "VarVee",
         "orientation": "v",
         "showlegend": true,
         "textposition": "auto",
         "type": "bar",
         "x": [
          "2021-week_36",
          "2021-week_37",
          "2021-week_38",
          "2021-week_39",
          "2021-week_40",
          "2021-week_41",
          "2021-week_42",
          "2021-week_43",
          "2021-week_44",
          "2021-week_45",
          "2021-week_46",
          "2021-week_47",
          "2021-week_48",
          "2021-week_50",
          "2021-week_51",
          "2022-week_04",
          "2022-week_06",
          "2022-week_52"
         ],
         "xaxis": "x",
         "y": [
          3,
          12,
          9,
          10,
          6,
          9,
          7,
          4,
          4,
          7,
          2,
          6,
          7,
          3,
          4,
          2,
          1,
          1
         ],
         "yaxis": "y"
        },
        {
         "alignmentgroup": "True",
         "hovertemplate": "requester=VarVee<br>region=GB<br>week_id=%{x}<br>count=%{y}<extra></extra>",
         "legendgroup": "VarVee",
         "marker": {
          "color": "#B6E880",
          "pattern": {
           "shape": ""
          }
         },
         "name": "VarVee",
         "offsetgroup": "VarVee",
         "orientation": "v",
         "showlegend": false,
         "textposition": "auto",
         "type": "bar",
         "x": [
          "2021-week_33",
          "2021-week_34",
          "2021-week_35",
          "2021-week_36",
          "2021-week_37",
          "2021-week_38",
          "2021-week_39",
          "2021-week_40",
          "2021-week_41",
          "2021-week_42",
          "2021-week_43",
          "2021-week_44",
          "2021-week_45",
          "2021-week_46",
          "2021-week_47",
          "2021-week_48",
          "2022-week_02",
          "2022-week_03",
          "2022-week_04",
          "2022-week_05",
          "2022-week_06"
         ],
         "xaxis": "x2",
         "y": [
          25,
          22,
          7,
          12,
          24,
          32,
          21,
          22,
          25,
          12,
          13,
          27,
          20,
          11,
          14,
          14,
          3,
          2,
          2,
          2,
          4
         ],
         "yaxis": "y2"
        },
        {
         "alignmentgroup": "True",
         "hovertemplate": "requester=VarVee<br>region=IN<br>week_id=%{x}<br>count=%{y}<extra></extra>",
         "legendgroup": "VarVee",
         "marker": {
          "color": "#B6E880",
          "pattern": {
           "shape": ""
          }
         },
         "name": "VarVee",
         "offsetgroup": "VarVee",
         "orientation": "v",
         "showlegend": false,
         "textposition": "auto",
         "type": "bar",
         "x": [
          "2022-week_03",
          "2022-week_04",
          "2022-week_05"
         ],
         "xaxis": "x3",
         "y": [
          1,
          2,
          1
         ],
         "yaxis": "y3"
        },
        {
         "alignmentgroup": "True",
         "hovertemplate": "requester=VarVee<br>region=JP<br>week_id=%{x}<br>count=%{y}<extra></extra>",
         "legendgroup": "VarVee",
         "marker": {
          "color": "#B6E880",
          "pattern": {
           "shape": ""
          }
         },
         "name": "VarVee",
         "offsetgroup": "VarVee",
         "orientation": "v",
         "showlegend": false,
         "textposition": "auto",
         "type": "bar",
         "x": [
          "2021-week_34",
          "2021-week_35",
          "2021-week_36",
          "2021-week_37",
          "2021-week_38",
          "2021-week_39",
          "2021-week_40",
          "2021-week_41",
          "2021-week_42",
          "2021-week_43",
          "2021-week_44",
          "2021-week_45",
          "2021-week_46",
          "2021-week_47",
          "2021-week_49",
          "2021-week_50",
          "2022-week_01",
          "2022-week_02",
          "2022-week_03",
          "2022-week_04",
          "2022-week_05",
          "2022-week_06",
          "2022-week_52"
         ],
         "xaxis": "x4",
         "y": [
          37,
          55,
          74,
          63,
          58,
          40,
          39,
          45,
          9,
          19,
          10,
          21,
          20,
          16,
          1,
          3,
          1,
          2,
          4,
          3,
          2,
          5,
          3
         ],
         "yaxis": "y4"
        },
        {
         "alignmentgroup": "True",
         "hovertemplate": "requester=VarVee<br>region=US<br>week_id=%{x}<br>count=%{y}<extra></extra>",
         "legendgroup": "VarVee",
         "marker": {
          "color": "#B6E880",
          "pattern": {
           "shape": ""
          }
         },
         "name": "VarVee",
         "offsetgroup": "VarVee",
         "orientation": "v",
         "showlegend": false,
         "textposition": "auto",
         "type": "bar",
         "x": [
          "2021-week_33",
          "2021-week_34",
          "2021-week_35",
          "2021-week_36",
          "2021-week_37",
          "2021-week_38",
          "2021-week_39",
          "2021-week_40",
          "2021-week_41",
          "2021-week_42",
          "2021-week_43",
          "2021-week_44",
          "2021-week_45",
          "2021-week_46",
          "2021-week_47",
          "2021-week_48",
          "2021-week_49",
          "2021-week_50",
          "2021-week_51",
          "2022-week_01",
          "2022-week_02",
          "2022-week_03",
          "2022-week_04",
          "2022-week_05",
          "2022-week_52"
         ],
         "xaxis": "x5",
         "y": [
          8,
          8,
          8,
          10,
          8,
          4,
          2,
          2,
          1,
          6,
          7,
          5,
          4,
          2,
          3,
          4,
          6,
          3,
          2,
          3,
          5,
          4,
          6,
          6,
          2
         ],
         "yaxis": "y5"
        },
        {
         "alignmentgroup": "True",
         "hovertemplate": "requester=Cuiker<br>region=DE<br>week_id=%{x}<br>count=%{y}<extra></extra>",
         "legendgroup": "Cuiker",
         "marker": {
          "color": "#FF97FF",
          "pattern": {
           "shape": ""
          }
         },
         "name": "Cuiker",
         "offsetgroup": "Cuiker",
         "orientation": "v",
         "showlegend": true,
         "textposition": "auto",
         "type": "bar",
         "x": [
          "2021-week_43",
          "2021-week_46",
          "2021-week_49",
          "2021-week_50",
          "2021-week_51",
          "2022-week_02"
         ],
         "xaxis": "x",
         "y": [
          1,
          1,
          1,
          1,
          1,
          1
         ],
         "yaxis": "y"
        },
        {
         "alignmentgroup": "True",
         "hovertemplate": "requester=Cuiker<br>region=GB<br>week_id=%{x}<br>count=%{y}<extra></extra>",
         "legendgroup": "Cuiker",
         "marker": {
          "color": "#FF97FF",
          "pattern": {
           "shape": ""
          }
         },
         "name": "Cuiker",
         "offsetgroup": "Cuiker",
         "orientation": "v",
         "showlegend": false,
         "textposition": "auto",
         "type": "bar",
         "x": [
          "2021-week_35"
         ],
         "xaxis": "x2",
         "y": [
          1
         ],
         "yaxis": "y2"
        },
        {
         "alignmentgroup": "True",
         "hovertemplate": "requester=Cuiker<br>region=IN<br>week_id=%{x}<br>count=%{y}<extra></extra>",
         "legendgroup": "Cuiker",
         "marker": {
          "color": "#FF97FF",
          "pattern": {
           "shape": ""
          }
         },
         "name": "Cuiker",
         "offsetgroup": "Cuiker",
         "orientation": "v",
         "showlegend": false,
         "textposition": "auto",
         "type": "bar",
         "x": [
          "2021-week_33",
          "2021-week_34",
          "2021-week_36",
          "2021-week_41",
          "2021-week_45",
          "2021-week_47",
          "2021-week_49",
          "2021-week_50",
          "2022-week_01",
          "2022-week_03",
          "2022-week_06",
          "2022-week_52"
         ],
         "xaxis": "x3",
         "y": [
          1,
          1,
          1,
          1,
          1,
          1,
          2,
          1,
          1,
          1,
          1,
          1
         ],
         "yaxis": "y3"
        },
        {
         "alignmentgroup": "True",
         "hovertemplate": "requester=Cuiker<br>region=JP<br>week_id=%{x}<br>count=%{y}<extra></extra>",
         "legendgroup": "Cuiker",
         "marker": {
          "color": "#FF97FF",
          "pattern": {
           "shape": ""
          }
         },
         "name": "Cuiker",
         "offsetgroup": "Cuiker",
         "orientation": "v",
         "showlegend": false,
         "textposition": "auto",
         "type": "bar",
         "x": [
          "2021-week_47"
         ],
         "xaxis": "x4",
         "y": [
          1
         ],
         "yaxis": "y4"
        },
        {
         "alignmentgroup": "True",
         "hovertemplate": "requester=Cuiker<br>region=US<br>week_id=%{x}<br>count=%{y}<extra></extra>",
         "legendgroup": "Cuiker",
         "marker": {
          "color": "#FF97FF",
          "pattern": {
           "shape": ""
          }
         },
         "name": "Cuiker",
         "offsetgroup": "Cuiker",
         "orientation": "v",
         "showlegend": false,
         "textposition": "auto",
         "type": "bar",
         "x": [
          "2021-week_42"
         ],
         "xaxis": "x5",
         "y": [
          1
         ],
         "yaxis": "y5"
        },
        {
         "alignmentgroup": "True",
         "hovertemplate": "requester=Puentes Company<br>region=IN<br>week_id=%{x}<br>count=%{y}<extra></extra>",
         "legendgroup": "Puentes Company",
         "marker": {
          "color": "#FECB52",
          "pattern": {
           "shape": ""
          }
         },
         "name": "Puentes Company",
         "offsetgroup": "Puentes Company",
         "orientation": "v",
         "showlegend": true,
         "textposition": "auto",
         "type": "bar",
         "x": [
          "2021-week_33",
          "2021-week_34",
          "2021-week_35",
          "2021-week_36",
          "2021-week_37",
          "2021-week_38",
          "2021-week_39",
          "2021-week_40",
          "2021-week_41",
          "2021-week_42",
          "2021-week_43",
          "2021-week_44",
          "2021-week_45",
          "2021-week_46",
          "2021-week_47",
          "2021-week_48",
          "2021-week_49",
          "2021-week_50",
          "2021-week_51",
          "2022-week_01",
          "2022-week_02",
          "2022-week_03",
          "2022-week_04",
          "2022-week_05",
          "2022-week_06",
          "2022-week_52"
         ],
         "xaxis": "x3",
         "y": [
          1357,
          1178,
          1081,
          1092,
          1066,
          980,
          981,
          1005,
          1268,
          1036,
          910,
          1104,
          1487,
          1338,
          1305,
          1173,
          1309,
          1224,
          1329,
          1343,
          1307,
          950,
          848,
          812,
          839,
          1105
         ],
         "yaxis": "y3"
        },
        {
         "alignmentgroup": "True",
         "hovertemplate": "requester=FlagTap<br>region=US<br>week_id=%{x}<br>count=%{y}<extra></extra>",
         "legendgroup": "FlagTap",
         "marker": {
          "color": "#636efa",
          "pattern": {
           "shape": ""
          }
         },
         "name": "FlagTap",
         "offsetgroup": "FlagTap",
         "orientation": "v",
         "showlegend": true,
         "textposition": "auto",
         "type": "bar",
         "x": [
          "2021-week_33"
         ],
         "xaxis": "x5",
         "y": [
          2
         ],
         "yaxis": "y5"
        },
        {
         "alignmentgroup": "True",
         "hovertemplate": "requester=Glory Medical<br>region=US<br>week_id=%{x}<br>count=%{y}<extra></extra>",
         "legendgroup": "Glory Medical",
         "marker": {
          "color": "#EF553B",
          "pattern": {
           "shape": ""
          }
         },
         "name": "Glory Medical",
         "offsetgroup": "Glory Medical",
         "orientation": "v",
         "showlegend": true,
         "textposition": "auto",
         "type": "bar",
         "x": [
          "2021-week_33",
          "2021-week_34",
          "2021-week_35",
          "2021-week_36",
          "2021-week_37",
          "2021-week_38",
          "2021-week_39",
          "2021-week_40",
          "2021-week_41",
          "2021-week_42",
          "2021-week_43",
          "2021-week_44",
          "2021-week_46",
          "2021-week_47",
          "2021-week_48",
          "2021-week_49",
          "2021-week_50",
          "2021-week_51",
          "2022-week_01",
          "2022-week_02",
          "2022-week_03",
          "2022-week_05",
          "2022-week_52"
         ],
         "xaxis": "x5",
         "y": [
          49,
          11,
          2,
          9,
          3,
          5,
          3,
          3,
          1,
          1,
          1,
          5,
          2,
          3,
          4,
          6,
          5,
          4,
          2,
          2,
          1,
          2,
          1
         ],
         "yaxis": "y5"
        },
        {
         "alignmentgroup": "True",
         "hovertemplate": "requester=Joules Clothing<br>region=US<br>week_id=%{x}<br>count=%{y}<extra></extra>",
         "legendgroup": "Joules Clothing",
         "marker": {
          "color": "#00cc96",
          "pattern": {
           "shape": ""
          }
         },
         "name": "Joules Clothing",
         "offsetgroup": "Joules Clothing",
         "orientation": "v",
         "showlegend": true,
         "textposition": "auto",
         "type": "bar",
         "x": [
          "2021-week_33",
          "2021-week_34",
          "2021-week_35",
          "2021-week_36",
          "2021-week_38",
          "2021-week_41",
          "2021-week_42",
          "2021-week_44",
          "2021-week_45",
          "2021-week_46",
          "2021-week_47",
          "2022-week_02"
         ],
         "xaxis": "x5",
         "y": [
          4,
          1,
          5,
          3,
          1,
          1,
          2,
          3,
          1,
          2,
          1,
          1
         ],
         "yaxis": "y5"
        },
        {
         "alignmentgroup": "True",
         "hovertemplate": "requester=Metranome<br>region=US<br>week_id=%{x}<br>count=%{y}<extra></extra>",
         "legendgroup": "Metranome",
         "marker": {
          "color": "#ab63fa",
          "pattern": {
           "shape": ""
          }
         },
         "name": "Metranome",
         "offsetgroup": "Metranome",
         "orientation": "v",
         "showlegend": true,
         "textposition": "auto",
         "type": "bar",
         "x": [
          "2021-week_33",
          "2021-week_34",
          "2021-week_35",
          "2021-week_36",
          "2021-week_37",
          "2021-week_38",
          "2021-week_39",
          "2021-week_40",
          "2021-week_44",
          "2021-week_46",
          "2021-week_49",
          "2021-week_50",
          "2021-week_51",
          "2022-week_04",
          "2022-week_05",
          "2022-week_06",
          "2022-week_52"
         ],
         "xaxis": "x5",
         "y": [
          4,
          3,
          4,
          5,
          1,
          1,
          2,
          2,
          1,
          1,
          2,
          2,
          1,
          2,
          1,
          1,
          1
         ],
         "yaxis": "y5"
        },
        {
         "alignmentgroup": "True",
         "hovertemplate": "requester=PageBites<br>region=US<br>week_id=%{x}<br>count=%{y}<extra></extra>",
         "legendgroup": "PageBites",
         "marker": {
          "color": "#FFA15A",
          "pattern": {
           "shape": ""
          }
         },
         "name": "PageBites",
         "offsetgroup": "PageBites",
         "orientation": "v",
         "showlegend": true,
         "textposition": "auto",
         "type": "bar",
         "x": [
          "2021-week_33",
          "2021-week_34",
          "2021-week_35",
          "2021-week_36",
          "2021-week_37",
          "2021-week_38",
          "2021-week_39",
          "2021-week_40",
          "2021-week_41",
          "2021-week_42",
          "2021-week_43",
          "2021-week_44",
          "2022-week_02",
          "2022-week_03",
          "2022-week_04",
          "2022-week_05",
          "2022-week_06"
         ],
         "xaxis": "x5",
         "y": [
          23,
          10,
          16,
          12,
          18,
          11,
          7,
          1,
          7,
          8,
          4,
          3,
          2,
          3,
          3,
          3,
          4
         ],
         "yaxis": "y5"
        },
        {
         "alignmentgroup": "True",
         "hovertemplate": "requester=Pole Star<br>region=DE<br>week_id=%{x}<br>count=%{y}<extra></extra>",
         "legendgroup": "Pole Star",
         "marker": {
          "color": "#19d3f3",
          "pattern": {
           "shape": ""
          }
         },
         "name": "Pole Star",
         "offsetgroup": "Pole Star",
         "orientation": "v",
         "showlegend": true,
         "textposition": "auto",
         "type": "bar",
         "x": [
          "2021-week_41",
          "2021-week_43",
          "2021-week_45",
          "2021-week_46",
          "2022-week_02",
          "2022-week_03",
          "2022-week_04",
          "2022-week_05",
          "2022-week_06"
         ],
         "xaxis": "x",
         "y": [
          3,
          1,
          6,
          3,
          1,
          1,
          3,
          6,
          12
         ],
         "yaxis": "y"
        },
        {
         "alignmentgroup": "True",
         "hovertemplate": "requester=Pole Star<br>region=GB<br>week_id=%{x}<br>count=%{y}<extra></extra>",
         "legendgroup": "Pole Star",
         "marker": {
          "color": "#19d3f3",
          "pattern": {
           "shape": ""
          }
         },
         "name": "Pole Star",
         "offsetgroup": "Pole Star",
         "orientation": "v",
         "showlegend": false,
         "textposition": "auto",
         "type": "bar",
         "x": [
          "2021-week_41",
          "2021-week_44",
          "2021-week_45",
          "2021-week_46",
          "2022-week_02",
          "2022-week_03",
          "2022-week_04",
          "2022-week_05",
          "2022-week_06"
         ],
         "xaxis": "x2",
         "y": [
          2,
          2,
          8,
          7,
          1,
          1,
          11,
          4,
          4
         ],
         "yaxis": "y2"
        },
        {
         "alignmentgroup": "True",
         "hovertemplate": "requester=Pole Star<br>region=IN<br>week_id=%{x}<br>count=%{y}<extra></extra>",
         "legendgroup": "Pole Star",
         "marker": {
          "color": "#19d3f3",
          "pattern": {
           "shape": ""
          }
         },
         "name": "Pole Star",
         "offsetgroup": "Pole Star",
         "orientation": "v",
         "showlegend": false,
         "textposition": "auto",
         "type": "bar",
         "x": [
          "2021-week_41",
          "2021-week_45",
          "2021-week_46",
          "2022-week_01",
          "2022-week_02",
          "2022-week_04",
          "2022-week_05",
          "2022-week_06"
         ],
         "xaxis": "x3",
         "y": [
          2,
          3,
          2,
          1,
          1,
          2,
          3,
          1
         ],
         "yaxis": "y3"
        },
        {
         "alignmentgroup": "True",
         "hovertemplate": "requester=Pole Star<br>region=JP<br>week_id=%{x}<br>count=%{y}<extra></extra>",
         "legendgroup": "Pole Star",
         "marker": {
          "color": "#19d3f3",
          "pattern": {
           "shape": ""
          }
         },
         "name": "Pole Star",
         "offsetgroup": "Pole Star",
         "orientation": "v",
         "showlegend": false,
         "textposition": "auto",
         "type": "bar",
         "x": [
          "2021-week_41",
          "2021-week_44",
          "2021-week_45",
          "2021-week_46",
          "2022-week_01",
          "2022-week_03",
          "2022-week_04",
          "2022-week_05",
          "2022-week_06"
         ],
         "xaxis": "x4",
         "y": [
          10,
          5,
          7,
          4,
          1,
          2,
          5,
          7,
          6
         ],
         "yaxis": "y4"
        },
        {
         "alignmentgroup": "True",
         "hovertemplate": "requester=Pole Star<br>region=US<br>week_id=%{x}<br>count=%{y}<extra></extra>",
         "legendgroup": "Pole Star",
         "marker": {
          "color": "#19d3f3",
          "pattern": {
           "shape": ""
          }
         },
         "name": "Pole Star",
         "offsetgroup": "Pole Star",
         "orientation": "v",
         "showlegend": false,
         "textposition": "auto",
         "type": "bar",
         "x": [
          "2021-week_33",
          "2021-week_34",
          "2021-week_37",
          "2021-week_38",
          "2021-week_39",
          "2021-week_40",
          "2021-week_42",
          "2021-week_43",
          "2021-week_44",
          "2021-week_45",
          "2021-week_49",
          "2021-week_50",
          "2021-week_51",
          "2022-week_01",
          "2022-week_02",
          "2022-week_03",
          "2022-week_04",
          "2022-week_06",
          "2022-week_52"
         ],
         "xaxis": "x5",
         "y": [
          44,
          25,
          1,
          1,
          2,
          1,
          3,
          2,
          2,
          1,
          2,
          1,
          1,
          3,
          2,
          1,
          1,
          1,
          2
         ],
         "yaxis": "y5"
        },
        {
         "alignmentgroup": "True",
         "hovertemplate": "requester=Sensor Tower<br>region=US<br>week_id=%{x}<br>count=%{y}<extra></extra>",
         "legendgroup": "Sensor Tower",
         "marker": {
          "color": "#FF6692",
          "pattern": {
           "shape": ""
          }
         },
         "name": "Sensor Tower",
         "offsetgroup": "Sensor Tower",
         "orientation": "v",
         "showlegend": true,
         "textposition": "auto",
         "type": "bar",
         "x": [
          "2021-week_33",
          "2021-week_34",
          "2021-week_35",
          "2021-week_36",
          "2021-week_37",
          "2021-week_38",
          "2021-week_39",
          "2021-week_40",
          "2021-week_41",
          "2021-week_42",
          "2021-week_43",
          "2021-week_44",
          "2021-week_45",
          "2021-week_46",
          "2021-week_47",
          "2021-week_48",
          "2021-week_49",
          "2021-week_50",
          "2021-week_51",
          "2022-week_01",
          "2022-week_02",
          "2022-week_03",
          "2022-week_04",
          "2022-week_05",
          "2022-week_06",
          "2022-week_52"
         ],
         "xaxis": "x5",
         "y": [
          521,
          485,
          450,
          270,
          185,
          125,
          111,
          93,
          97,
          98,
          80,
          77,
          83,
          62,
          64,
          80,
          107,
          70,
          43,
          50,
          43,
          64,
          62,
          56,
          60,
          67
         ],
         "yaxis": "y5"
        },
        {
         "alignmentgroup": "True",
         "hovertemplate": "requester=Tab Solutions<br>region=DE<br>week_id=%{x}<br>count=%{y}<extra></extra>",
         "legendgroup": "Tab Solutions",
         "marker": {
          "color": "#B6E880",
          "pattern": {
           "shape": ""
          }
         },
         "name": "Tab Solutions",
         "offsetgroup": "Tab Solutions",
         "orientation": "v",
         "showlegend": true,
         "textposition": "auto",
         "type": "bar",
         "x": [
          "2021-week_39",
          "2021-week_40",
          "2021-week_41",
          "2021-week_42",
          "2021-week_43",
          "2021-week_44",
          "2021-week_45"
         ],
         "xaxis": "x",
         "y": [
          69,
          97,
          131,
          62,
          86,
          95,
          83
         ],
         "yaxis": "y"
        },
        {
         "alignmentgroup": "True",
         "hovertemplate": "requester=Tab Solutions<br>region=GB<br>week_id=%{x}<br>count=%{y}<extra></extra>",
         "legendgroup": "Tab Solutions",
         "marker": {
          "color": "#B6E880",
          "pattern": {
           "shape": ""
          }
         },
         "name": "Tab Solutions",
         "offsetgroup": "Tab Solutions",
         "orientation": "v",
         "showlegend": false,
         "textposition": "auto",
         "type": "bar",
         "x": [
          "2021-week_37",
          "2021-week_38",
          "2021-week_39",
          "2021-week_40",
          "2021-week_41",
          "2021-week_42",
          "2021-week_43",
          "2021-week_44",
          "2021-week_45"
         ],
         "xaxis": "x2",
         "y": [
          122,
          167,
          178,
          178,
          192,
          190,
          161,
          184,
          143
         ],
         "yaxis": "y2"
        },
        {
         "alignmentgroup": "True",
         "hovertemplate": "requester=Tab Solutions<br>region=JP<br>week_id=%{x}<br>count=%{y}<extra></extra>",
         "legendgroup": "Tab Solutions",
         "marker": {
          "color": "#B6E880",
          "pattern": {
           "shape": ""
          }
         },
         "name": "Tab Solutions",
         "offsetgroup": "Tab Solutions",
         "orientation": "v",
         "showlegend": false,
         "textposition": "auto",
         "type": "bar",
         "x": [
          "2021-week_39",
          "2021-week_40",
          "2021-week_41",
          "2021-week_42",
          "2021-week_43",
          "2021-week_44",
          "2021-week_45"
         ],
         "xaxis": "x4",
         "y": [
          229,
          353,
          349,
          79,
          113,
          137,
          106
         ],
         "yaxis": "y4"
        },
        {
         "alignmentgroup": "True",
         "hovertemplate": "requester=Tab Solutions<br>region=US<br>week_id=%{x}<br>count=%{y}<extra></extra>",
         "legendgroup": "Tab Solutions",
         "marker": {
          "color": "#B6E880",
          "pattern": {
           "shape": ""
          }
         },
         "name": "Tab Solutions",
         "offsetgroup": "Tab Solutions",
         "orientation": "v",
         "showlegend": false,
         "textposition": "auto",
         "type": "bar",
         "x": [
          "2021-week_33",
          "2021-week_34",
          "2021-week_35",
          "2021-week_36",
          "2021-week_37",
          "2021-week_38",
          "2021-week_39",
          "2021-week_40",
          "2021-week_41",
          "2021-week_42",
          "2021-week_43",
          "2021-week_44",
          "2021-week_45",
          "2021-week_46",
          "2021-week_47",
          "2021-week_48",
          "2021-week_49",
          "2021-week_50",
          "2021-week_51",
          "2022-week_01",
          "2022-week_02",
          "2022-week_03",
          "2022-week_04",
          "2022-week_05",
          "2022-week_06",
          "2022-week_52"
         ],
         "xaxis": "x5",
         "y": [
          965,
          781,
          716,
          799,
          725,
          407,
          287,
          348,
          295,
          359,
          318,
          308,
          262,
          206,
          239,
          284,
          449,
          325,
          256,
          158,
          182,
          214,
          238,
          200,
          246,
          223
         ],
         "yaxis": "y5"
        },
        {
         "alignmentgroup": "True",
         "hovertemplate": "requester=Cue<br>region=US<br>week_id=%{x}<br>count=%{y}<extra></extra>",
         "legendgroup": "Cue",
         "marker": {
          "color": "#FF97FF",
          "pattern": {
           "shape": ""
          }
         },
         "name": "Cue",
         "offsetgroup": "Cue",
         "orientation": "v",
         "showlegend": true,
         "textposition": "auto",
         "type": "bar",
         "x": [
          "2021-week_34",
          "2021-week_38",
          "2021-week_40"
         ],
         "xaxis": "x5",
         "y": [
          1,
          2,
          1
         ],
         "yaxis": "y5"
        },
        {
         "alignmentgroup": "True",
         "hovertemplate": "requester=Altammune<br>region=US<br>week_id=%{x}<br>count=%{y}<extra></extra>",
         "legendgroup": "Altammune",
         "marker": {
          "color": "#FECB52",
          "pattern": {
           "shape": ""
          }
         },
         "name": "Altammune",
         "offsetgroup": "Altammune",
         "orientation": "v",
         "showlegend": true,
         "textposition": "auto",
         "type": "bar",
         "x": [
          "2021-week_35",
          "2021-week_38",
          "2021-week_40",
          "2021-week_42"
         ],
         "xaxis": "x5",
         "y": [
          1,
          1,
          2,
          1
         ],
         "yaxis": "y5"
        },
        {
         "alignmentgroup": "True",
         "hovertemplate": "requester=Doctorfun Entertainment, Ltd<br>region=US<br>week_id=%{x}<br>count=%{y}<extra></extra>",
         "legendgroup": "Doctorfun Entertainment, Ltd",
         "marker": {
          "color": "#636efa",
          "pattern": {
           "shape": ""
          }
         },
         "name": "Doctorfun Entertainment, Ltd",
         "offsetgroup": "Doctorfun Entertainment, Ltd",
         "orientation": "v",
         "showlegend": true,
         "textposition": "auto",
         "type": "bar",
         "x": [
          "2021-week_35",
          "2021-week_36",
          "2021-week_37",
          "2021-week_38",
          "2021-week_39",
          "2021-week_40",
          "2021-week_41",
          "2021-week_42",
          "2021-week_43",
          "2021-week_44",
          "2021-week_45",
          "2021-week_46",
          "2021-week_48",
          "2021-week_49",
          "2021-week_51",
          "2022-week_01",
          "2022-week_02",
          "2022-week_03",
          "2022-week_04",
          "2022-week_05",
          "2022-week_06",
          "2022-week_52"
         ],
         "xaxis": "x5",
         "y": [
          4,
          7,
          13,
          15,
          18,
          14,
          18,
          25,
          14,
          13,
          1,
          1,
          2,
          3,
          1,
          1,
          7,
          11,
          12,
          11,
          12,
          1
         ],
         "yaxis": "y5"
        },
        {
         "alignmentgroup": "True",
         "hovertemplate": "requester=Earth Networks<br>region=GB<br>week_id=%{x}<br>count=%{y}<extra></extra>",
         "legendgroup": "Earth Networks",
         "marker": {
          "color": "#EF553B",
          "pattern": {
           "shape": ""
          }
         },
         "name": "Earth Networks",
         "offsetgroup": "Earth Networks",
         "orientation": "v",
         "showlegend": true,
         "textposition": "auto",
         "type": "bar",
         "x": [
          "2021-week_36",
          "2021-week_41"
         ],
         "xaxis": "x2",
         "y": [
          2,
          1
         ],
         "yaxis": "y2"
        },
        {
         "alignmentgroup": "True",
         "hovertemplate": "requester=Earth Networks<br>region=US<br>week_id=%{x}<br>count=%{y}<extra></extra>",
         "legendgroup": "Earth Networks",
         "marker": {
          "color": "#EF553B",
          "pattern": {
           "shape": ""
          }
         },
         "name": "Earth Networks",
         "offsetgroup": "Earth Networks",
         "orientation": "v",
         "showlegend": false,
         "textposition": "auto",
         "type": "bar",
         "x": [
          "2021-week_35"
         ],
         "xaxis": "x5",
         "y": [
          1
         ],
         "yaxis": "y5"
        },
        {
         "alignmentgroup": "True",
         "hovertemplate": "requester=Derceto<br>region=US<br>week_id=%{x}<br>count=%{y}<extra></extra>",
         "legendgroup": "Derceto",
         "marker": {
          "color": "#00cc96",
          "pattern": {
           "shape": ""
          }
         },
         "name": "Derceto",
         "offsetgroup": "Derceto",
         "orientation": "v",
         "showlegend": true,
         "textposition": "auto",
         "type": "bar",
         "x": [
          "2021-week_37"
         ],
         "xaxis": "x5",
         "y": [
          1
         ],
         "yaxis": "y5"
        },
        {
         "alignmentgroup": "True",
         "hovertemplate": "requester=Marketo Japan<br>region=US<br>week_id=%{x}<br>count=%{y}<extra></extra>",
         "legendgroup": "Marketo Japan",
         "marker": {
          "color": "#ab63fa",
          "pattern": {
           "shape": ""
          }
         },
         "name": "Marketo Japan",
         "offsetgroup": "Marketo Japan",
         "orientation": "v",
         "showlegend": true,
         "textposition": "auto",
         "type": "bar",
         "x": [
          "2021-week_37"
         ],
         "xaxis": "x5",
         "y": [
          1
         ],
         "yaxis": "y5"
        },
        {
         "alignmentgroup": "True",
         "hovertemplate": "requester=Jun Group<br>region=GB<br>week_id=%{x}<br>count=%{y}<extra></extra>",
         "legendgroup": "Jun Group",
         "marker": {
          "color": "#FFA15A",
          "pattern": {
           "shape": ""
          }
         },
         "name": "Jun Group",
         "offsetgroup": "Jun Group",
         "orientation": "v",
         "showlegend": true,
         "textposition": "auto",
         "type": "bar",
         "x": [
          "2021-week_51"
         ],
         "xaxis": "x2",
         "y": [
          1
         ],
         "yaxis": "y2"
        },
        {
         "alignmentgroup": "True",
         "hovertemplate": "requester=Jun Group<br>region=US<br>week_id=%{x}<br>count=%{y}<extra></extra>",
         "legendgroup": "Jun Group",
         "marker": {
          "color": "#FFA15A",
          "pattern": {
           "shape": ""
          }
         },
         "name": "Jun Group",
         "offsetgroup": "Jun Group",
         "orientation": "v",
         "showlegend": false,
         "textposition": "auto",
         "type": "bar",
         "x": [
          "2021-week_44",
          "2022-week_04"
         ],
         "xaxis": "x5",
         "y": [
          1,
          2
         ],
         "yaxis": "y5"
        },
        {
         "alignmentgroup": "True",
         "hovertemplate": "requester=PureSafe water systems<br>region=US<br>week_id=%{x}<br>count=%{y}<extra></extra>",
         "legendgroup": "PureSafe water systems",
         "marker": {
          "color": "#19d3f3",
          "pattern": {
           "shape": ""
          }
         },
         "name": "PureSafe water systems",
         "offsetgroup": "PureSafe water systems",
         "orientation": "v",
         "showlegend": true,
         "textposition": "auto",
         "type": "bar",
         "x": [
          "2022-week_05"
         ],
         "xaxis": "x5",
         "y": [
          1
         ],
         "yaxis": "y5"
        }
       ],
       "layout": {
        "annotations": [
         {
          "font": {},
          "showarrow": false,
          "text": "region=DE",
          "x": 0.09200000000000001,
          "xanchor": "center",
          "xref": "paper",
          "y": 1,
          "yanchor": "bottom",
          "yref": "paper"
         },
         {
          "font": {},
          "showarrow": false,
          "text": "region=GB",
          "x": 0.29600000000000004,
          "xanchor": "center",
          "xref": "paper",
          "y": 1,
          "yanchor": "bottom",
          "yref": "paper"
         },
         {
          "font": {},
          "showarrow": false,
          "text": "region=IN",
          "x": 0.5,
          "xanchor": "center",
          "xref": "paper",
          "y": 1,
          "yanchor": "bottom",
          "yref": "paper"
         },
         {
          "font": {},
          "showarrow": false,
          "text": "region=JP",
          "x": 0.7040000000000002,
          "xanchor": "center",
          "xref": "paper",
          "y": 1,
          "yanchor": "bottom",
          "yref": "paper"
         },
         {
          "font": {},
          "showarrow": false,
          "text": "region=US",
          "x": 0.908,
          "xanchor": "center",
          "xref": "paper",
          "y": 1,
          "yanchor": "bottom",
          "yref": "paper"
         }
        ],
        "autosize": true,
        "barmode": "relative",
        "legend": {
         "title": {
          "text": "requester"
         },
         "tracegroupgap": 0
        },
        "margin": {
         "t": 60
        },
        "template": {
         "data": {
          "bar": [
           {
            "error_x": {
             "color": "#2a3f5f"
            },
            "error_y": {
             "color": "#2a3f5f"
            },
            "marker": {
             "line": {
              "color": "#E5ECF6",
              "width": 0.5
             },
             "pattern": {
              "fillmode": "overlay",
              "size": 10,
              "solidity": 0.2
             }
            },
            "type": "bar"
           }
          ],
          "barpolar": [
           {
            "marker": {
             "line": {
              "color": "#E5ECF6",
              "width": 0.5
             },
             "pattern": {
              "fillmode": "overlay",
              "size": 10,
              "solidity": 0.2
             }
            },
            "type": "barpolar"
           }
          ],
          "carpet": [
           {
            "aaxis": {
             "endlinecolor": "#2a3f5f",
             "gridcolor": "white",
             "linecolor": "white",
             "minorgridcolor": "white",
             "startlinecolor": "#2a3f5f"
            },
            "baxis": {
             "endlinecolor": "#2a3f5f",
             "gridcolor": "white",
             "linecolor": "white",
             "minorgridcolor": "white",
             "startlinecolor": "#2a3f5f"
            },
            "type": "carpet"
           }
          ],
          "choropleth": [
           {
            "colorbar": {
             "outlinewidth": 0,
             "ticks": ""
            },
            "type": "choropleth"
           }
          ],
          "contour": [
           {
            "colorbar": {
             "outlinewidth": 0,
             "ticks": ""
            },
            "colorscale": [
             [
              0,
              "#0d0887"
             ],
             [
              0.1111111111111111,
              "#46039f"
             ],
             [
              0.2222222222222222,
              "#7201a8"
             ],
             [
              0.3333333333333333,
              "#9c179e"
             ],
             [
              0.4444444444444444,
              "#bd3786"
             ],
             [
              0.5555555555555556,
              "#d8576b"
             ],
             [
              0.6666666666666666,
              "#ed7953"
             ],
             [
              0.7777777777777778,
              "#fb9f3a"
             ],
             [
              0.8888888888888888,
              "#fdca26"
             ],
             [
              1,
              "#f0f921"
             ]
            ],
            "type": "contour"
           }
          ],
          "contourcarpet": [
           {
            "colorbar": {
             "outlinewidth": 0,
             "ticks": ""
            },
            "type": "contourcarpet"
           }
          ],
          "heatmap": [
           {
            "colorbar": {
             "outlinewidth": 0,
             "ticks": ""
            },
            "colorscale": [
             [
              0,
              "#0d0887"
             ],
             [
              0.1111111111111111,
              "#46039f"
             ],
             [
              0.2222222222222222,
              "#7201a8"
             ],
             [
              0.3333333333333333,
              "#9c179e"
             ],
             [
              0.4444444444444444,
              "#bd3786"
             ],
             [
              0.5555555555555556,
              "#d8576b"
             ],
             [
              0.6666666666666666,
              "#ed7953"
             ],
             [
              0.7777777777777778,
              "#fb9f3a"
             ],
             [
              0.8888888888888888,
              "#fdca26"
             ],
             [
              1,
              "#f0f921"
             ]
            ],
            "type": "heatmap"
           }
          ],
          "heatmapgl": [
           {
            "colorbar": {
             "outlinewidth": 0,
             "ticks": ""
            },
            "colorscale": [
             [
              0,
              "#0d0887"
             ],
             [
              0.1111111111111111,
              "#46039f"
             ],
             [
              0.2222222222222222,
              "#7201a8"
             ],
             [
              0.3333333333333333,
              "#9c179e"
             ],
             [
              0.4444444444444444,
              "#bd3786"
             ],
             [
              0.5555555555555556,
              "#d8576b"
             ],
             [
              0.6666666666666666,
              "#ed7953"
             ],
             [
              0.7777777777777778,
              "#fb9f3a"
             ],
             [
              0.8888888888888888,
              "#fdca26"
             ],
             [
              1,
              "#f0f921"
             ]
            ],
            "type": "heatmapgl"
           }
          ],
          "histogram": [
           {
            "marker": {
             "pattern": {
              "fillmode": "overlay",
              "size": 10,
              "solidity": 0.2
             }
            },
            "type": "histogram"
           }
          ],
          "histogram2d": [
           {
            "colorbar": {
             "outlinewidth": 0,
             "ticks": ""
            },
            "colorscale": [
             [
              0,
              "#0d0887"
             ],
             [
              0.1111111111111111,
              "#46039f"
             ],
             [
              0.2222222222222222,
              "#7201a8"
             ],
             [
              0.3333333333333333,
              "#9c179e"
             ],
             [
              0.4444444444444444,
              "#bd3786"
             ],
             [
              0.5555555555555556,
              "#d8576b"
             ],
             [
              0.6666666666666666,
              "#ed7953"
             ],
             [
              0.7777777777777778,
              "#fb9f3a"
             ],
             [
              0.8888888888888888,
              "#fdca26"
             ],
             [
              1,
              "#f0f921"
             ]
            ],
            "type": "histogram2d"
           }
          ],
          "histogram2dcontour": [
           {
            "colorbar": {
             "outlinewidth": 0,
             "ticks": ""
            },
            "colorscale": [
             [
              0,
              "#0d0887"
             ],
             [
              0.1111111111111111,
              "#46039f"
             ],
             [
              0.2222222222222222,
              "#7201a8"
             ],
             [
              0.3333333333333333,
              "#9c179e"
             ],
             [
              0.4444444444444444,
              "#bd3786"
             ],
             [
              0.5555555555555556,
              "#d8576b"
             ],
             [
              0.6666666666666666,
              "#ed7953"
             ],
             [
              0.7777777777777778,
              "#fb9f3a"
             ],
             [
              0.8888888888888888,
              "#fdca26"
             ],
             [
              1,
              "#f0f921"
             ]
            ],
            "type": "histogram2dcontour"
           }
          ],
          "mesh3d": [
           {
            "colorbar": {
             "outlinewidth": 0,
             "ticks": ""
            },
            "type": "mesh3d"
           }
          ],
          "parcoords": [
           {
            "line": {
             "colorbar": {
              "outlinewidth": 0,
              "ticks": ""
             }
            },
            "type": "parcoords"
           }
          ],
          "pie": [
           {
            "automargin": true,
            "type": "pie"
           }
          ],
          "scatter": [
           {
            "fillpattern": {
             "fillmode": "overlay",
             "size": 10,
             "solidity": 0.2
            },
            "type": "scatter"
           }
          ],
          "scatter3d": [
           {
            "line": {
             "colorbar": {
              "outlinewidth": 0,
              "ticks": ""
             }
            },
            "marker": {
             "colorbar": {
              "outlinewidth": 0,
              "ticks": ""
             }
            },
            "type": "scatter3d"
           }
          ],
          "scattercarpet": [
           {
            "marker": {
             "colorbar": {
              "outlinewidth": 0,
              "ticks": ""
             }
            },
            "type": "scattercarpet"
           }
          ],
          "scattergeo": [
           {
            "marker": {
             "colorbar": {
              "outlinewidth": 0,
              "ticks": ""
             }
            },
            "type": "scattergeo"
           }
          ],
          "scattergl": [
           {
            "marker": {
             "colorbar": {
              "outlinewidth": 0,
              "ticks": ""
             }
            },
            "type": "scattergl"
           }
          ],
          "scattermapbox": [
           {
            "marker": {
             "colorbar": {
              "outlinewidth": 0,
              "ticks": ""
             }
            },
            "type": "scattermapbox"
           }
          ],
          "scatterpolar": [
           {
            "marker": {
             "colorbar": {
              "outlinewidth": 0,
              "ticks": ""
             }
            },
            "type": "scatterpolar"
           }
          ],
          "scatterpolargl": [
           {
            "marker": {
             "colorbar": {
              "outlinewidth": 0,
              "ticks": ""
             }
            },
            "type": "scatterpolargl"
           }
          ],
          "scatterternary": [
           {
            "marker": {
             "colorbar": {
              "outlinewidth": 0,
              "ticks": ""
             }
            },
            "type": "scatterternary"
           }
          ],
          "surface": [
           {
            "colorbar": {
             "outlinewidth": 0,
             "ticks": ""
            },
            "colorscale": [
             [
              0,
              "#0d0887"
             ],
             [
              0.1111111111111111,
              "#46039f"
             ],
             [
              0.2222222222222222,
              "#7201a8"
             ],
             [
              0.3333333333333333,
              "#9c179e"
             ],
             [
              0.4444444444444444,
              "#bd3786"
             ],
             [
              0.5555555555555556,
              "#d8576b"
             ],
             [
              0.6666666666666666,
              "#ed7953"
             ],
             [
              0.7777777777777778,
              "#fb9f3a"
             ],
             [
              0.8888888888888888,
              "#fdca26"
             ],
             [
              1,
              "#f0f921"
             ]
            ],
            "type": "surface"
           }
          ],
          "table": [
           {
            "cells": {
             "fill": {
              "color": "#EBF0F8"
             },
             "line": {
              "color": "white"
             }
            },
            "header": {
             "fill": {
              "color": "#C8D4E3"
             },
             "line": {
              "color": "white"
             }
            },
            "type": "table"
           }
          ]
         },
         "layout": {
          "annotationdefaults": {
           "arrowcolor": "#2a3f5f",
           "arrowhead": 0,
           "arrowwidth": 1
          },
          "autotypenumbers": "strict",
          "coloraxis": {
           "colorbar": {
            "outlinewidth": 0,
            "ticks": ""
           }
          },
          "colorscale": {
           "diverging": [
            [
             0,
             "#8e0152"
            ],
            [
             0.1,
             "#c51b7d"
            ],
            [
             0.2,
             "#de77ae"
            ],
            [
             0.3,
             "#f1b6da"
            ],
            [
             0.4,
             "#fde0ef"
            ],
            [
             0.5,
             "#f7f7f7"
            ],
            [
             0.6,
             "#e6f5d0"
            ],
            [
             0.7,
             "#b8e186"
            ],
            [
             0.8,
             "#7fbc41"
            ],
            [
             0.9,
             "#4d9221"
            ],
            [
             1,
             "#276419"
            ]
           ],
           "sequential": [
            [
             0,
             "#0d0887"
            ],
            [
             0.1111111111111111,
             "#46039f"
            ],
            [
             0.2222222222222222,
             "#7201a8"
            ],
            [
             0.3333333333333333,
             "#9c179e"
            ],
            [
             0.4444444444444444,
             "#bd3786"
            ],
            [
             0.5555555555555556,
             "#d8576b"
            ],
            [
             0.6666666666666666,
             "#ed7953"
            ],
            [
             0.7777777777777778,
             "#fb9f3a"
            ],
            [
             0.8888888888888888,
             "#fdca26"
            ],
            [
             1,
             "#f0f921"
            ]
           ],
           "sequentialminus": [
            [
             0,
             "#0d0887"
            ],
            [
             0.1111111111111111,
             "#46039f"
            ],
            [
             0.2222222222222222,
             "#7201a8"
            ],
            [
             0.3333333333333333,
             "#9c179e"
            ],
            [
             0.4444444444444444,
             "#bd3786"
            ],
            [
             0.5555555555555556,
             "#d8576b"
            ],
            [
             0.6666666666666666,
             "#ed7953"
            ],
            [
             0.7777777777777778,
             "#fb9f3a"
            ],
            [
             0.8888888888888888,
             "#fdca26"
            ],
            [
             1,
             "#f0f921"
            ]
           ]
          },
          "colorway": [
           "#636efa",
           "#EF553B",
           "#00cc96",
           "#ab63fa",
           "#FFA15A",
           "#19d3f3",
           "#FF6692",
           "#B6E880",
           "#FF97FF",
           "#FECB52"
          ],
          "font": {
           "color": "#2a3f5f"
          },
          "geo": {
           "bgcolor": "white",
           "lakecolor": "white",
           "landcolor": "#E5ECF6",
           "showlakes": true,
           "showland": true,
           "subunitcolor": "white"
          },
          "hoverlabel": {
           "align": "left"
          },
          "hovermode": "closest",
          "mapbox": {
           "style": "light"
          },
          "paper_bgcolor": "white",
          "plot_bgcolor": "#E5ECF6",
          "polar": {
           "angularaxis": {
            "gridcolor": "white",
            "linecolor": "white",
            "ticks": ""
           },
           "bgcolor": "#E5ECF6",
           "radialaxis": {
            "gridcolor": "white",
            "linecolor": "white",
            "ticks": ""
           }
          },
          "scene": {
           "xaxis": {
            "backgroundcolor": "#E5ECF6",
            "gridcolor": "white",
            "gridwidth": 2,
            "linecolor": "white",
            "showbackground": true,
            "ticks": "",
            "zerolinecolor": "white"
           },
           "yaxis": {
            "backgroundcolor": "#E5ECF6",
            "gridcolor": "white",
            "gridwidth": 2,
            "linecolor": "white",
            "showbackground": true,
            "ticks": "",
            "zerolinecolor": "white"
           },
           "zaxis": {
            "backgroundcolor": "#E5ECF6",
            "gridcolor": "white",
            "gridwidth": 2,
            "linecolor": "white",
            "showbackground": true,
            "ticks": "",
            "zerolinecolor": "white"
           }
          },
          "shapedefaults": {
           "line": {
            "color": "#2a3f5f"
           }
          },
          "ternary": {
           "aaxis": {
            "gridcolor": "white",
            "linecolor": "white",
            "ticks": ""
           },
           "baxis": {
            "gridcolor": "white",
            "linecolor": "white",
            "ticks": ""
           },
           "bgcolor": "#E5ECF6",
           "caxis": {
            "gridcolor": "white",
            "linecolor": "white",
            "ticks": ""
           }
          },
          "title": {
           "x": 0.05
          },
          "xaxis": {
           "automargin": true,
           "gridcolor": "white",
           "linecolor": "white",
           "ticks": "",
           "title": {
            "standoff": 15
           },
           "zerolinecolor": "white",
           "zerolinewidth": 2
          },
          "yaxis": {
           "automargin": true,
           "gridcolor": "white",
           "linecolor": "white",
           "ticks": "",
           "title": {
            "standoff": 15
           },
           "zerolinecolor": "white",
           "zerolinewidth": 2
          }
         }
        },
        "xaxis": {
         "anchor": "y",
         "autorange": true,
         "domain": [
          0,
          0.18400000000000002
         ],
         "range": [
          -0.5,
          25.5
         ],
         "title": {
          "text": "week_id"
         },
         "type": "category"
        },
        "xaxis2": {
         "anchor": "y2",
         "autorange": true,
         "domain": [
          0.20400000000000001,
          0.388
         ],
         "matches": "x",
         "range": [
          -0.5,
          25.5
         ],
         "title": {
          "text": "week_id"
         },
         "type": "category"
        },
        "xaxis3": {
         "anchor": "y3",
         "autorange": true,
         "domain": [
          0.40800000000000003,
          0.5920000000000001
         ],
         "matches": "x",
         "range": [
          -0.5,
          25.5
         ],
         "title": {
          "text": "week_id"
         },
         "type": "category"
        },
        "xaxis4": {
         "anchor": "y4",
         "autorange": true,
         "domain": [
          0.6120000000000001,
          0.7960000000000002
         ],
         "matches": "x",
         "range": [
          -0.5,
          25.5
         ],
         "title": {
          "text": "week_id"
         },
         "type": "category"
        },
        "xaxis5": {
         "anchor": "y5",
         "autorange": true,
         "domain": [
          0.8160000000000001,
          1
         ],
         "matches": "x",
         "range": [
          -0.5,
          25.5
         ],
         "title": {
          "text": "week_id"
         },
         "type": "category"
        },
        "yaxis": {
         "anchor": "x",
         "autorange": true,
         "domain": [
          0,
          1
         ],
         "range": [
          0,
          4227.368421052632
         ],
         "title": {
          "text": "count"
         },
         "type": "linear"
        },
        "yaxis2": {
         "anchor": "x2",
         "autorange": true,
         "domain": [
          0,
          1
         ],
         "matches": "y",
         "range": [
          0,
          4227.368421052632
         ],
         "showticklabels": false,
         "type": "linear"
        },
        "yaxis3": {
         "anchor": "x3",
         "autorange": true,
         "domain": [
          0,
          1
         ],
         "matches": "y",
         "range": [
          0,
          4227.368421052632
         ],
         "showticklabels": false,
         "type": "linear"
        },
        "yaxis4": {
         "anchor": "x4",
         "autorange": true,
         "domain": [
          0,
          1
         ],
         "matches": "y",
         "range": [
          0,
          4227.368421052632
         ],
         "showticklabels": false,
         "type": "linear"
        },
        "yaxis5": {
         "anchor": "x5",
         "autorange": true,
         "domain": [
          0,
          1
         ],
         "matches": "y",
         "range": [
          0,
          4227.368421052632
         ],
         "showticklabels": false,
         "type": "linear"
        }
       }
      },
      "image/png": "[encoded data removed]",
      "text/html": [
       "<div>                            <div id=\"ab8682fe-0736-4bb2-ac28-0aa803bb31d8\" class=\"plotly-graph-div\" style=\"height:525px; width:100%;\"></div>            <script type=\"text/javascript\">                require([\"plotly\"], function(Plotly) {                    window.PLOTLYENV=window.PLOTLYENV || {};                                    if (document.getElementById(\"ab8682fe-0736-4bb2-ac28-0aa803bb31d8\")) {                    Plotly.newPlot(                        \"ab8682fe-0736-4bb2-ac28-0aa803bb31d8\",                        [{\"alignmentgroup\":\"True\",\"hovertemplate\":\"requester=Bizanga<br>region=DE<br>week_id=%{x}<br>count=%{y}<extra></extra>\",\"legendgroup\":\"Bizanga\",\"marker\":{\"color\":\"#636efa\",\"pattern\":{\"shape\":\"\"}},\"name\":\"Bizanga\",\"offsetgroup\":\"Bizanga\",\"orientation\":\"v\",\"showlegend\":true,\"textposition\":\"auto\",\"x\":[\"2021-week_33\",\"2021-week_34\",\"2021-week_35\",\"2021-week_36\",\"2021-week_37\",\"2021-week_38\",\"2021-week_39\",\"2021-week_40\",\"2021-week_41\",\"2021-week_42\",\"2021-week_43\",\"2021-week_44\",\"2021-week_45\",\"2021-week_46\",\"2021-week_47\",\"2021-week_48\",\"2021-week_49\",\"2021-week_50\",\"2021-week_51\",\"2022-week_01\",\"2022-week_02\",\"2022-week_03\",\"2022-week_04\",\"2022-week_05\",\"2022-week_06\",\"2022-week_52\"],\"xaxis\":\"x\",\"y\":[7,5,4,5,5,10,6,5,10,2,5,2,5,1,4,2,11,2,4,2,2,1,1,2,1,3],\"yaxis\":\"y\",\"type\":\"bar\"},{\"alignmentgroup\":\"True\",\"hovertemplate\":\"requester=Bizanga<br>region=GB<br>week_id=%{x}<br>count=%{y}<extra></extra>\",\"legendgroup\":\"Bizanga\",\"marker\":{\"color\":\"#636efa\",\"pattern\":{\"shape\":\"\"}},\"name\":\"Bizanga\",\"offsetgroup\":\"Bizanga\",\"orientation\":\"v\",\"showlegend\":false,\"textposition\":\"auto\",\"x\":[\"2021-week_33\",\"2021-week_34\",\"2021-week_35\",\"2021-week_36\",\"2021-week_37\",\"2021-week_38\",\"2021-week_39\",\"2021-week_40\",\"2021-week_41\",\"2021-week_42\",\"2021-week_43\",\"2021-week_44\",\"2021-week_45\",\"2021-week_46\",\"2021-week_47\",\"2021-week_48\",\"2021-week_49\",\"2021-week_50\",\"2021-week_51\",\"2022-week_01\",\"2022-week_02\",\"2022-week_03\",\"2022-week_04\",\"2022-week_05\",\"2022-week_06\",\"2022-week_52\"],\"xaxis\":\"x2\",\"y\":[38,47,35,38,32,36,34,31,40,49,38,23,21,25,32,34,31,34,38,47,34,25,26,20,22,39],\"yaxis\":\"y2\",\"type\":\"bar\"},{\"alignmentgroup\":\"True\",\"hovertemplate\":\"requester=Bizanga<br>region=IN<br>week_id=%{x}<br>count=%{y}<extra></extra>\",\"legendgroup\":\"Bizanga\",\"marker\":{\"color\":\"#636efa\",\"pattern\":{\"shape\":\"\"}},\"name\":\"Bizanga\",\"offsetgroup\":\"Bizanga\",\"orientation\":\"v\",\"showlegend\":false,\"textposition\":\"auto\",\"x\":[\"2021-week_33\",\"2021-week_34\",\"2021-week_35\",\"2021-week_36\",\"2021-week_37\",\"2021-week_38\",\"2021-week_39\",\"2021-week_40\",\"2021-week_41\",\"2021-week_42\",\"2021-week_43\",\"2021-week_44\",\"2021-week_45\",\"2021-week_46\",\"2021-week_47\",\"2021-week_48\",\"2021-week_49\",\"2021-week_50\",\"2021-week_51\",\"2022-week_01\",\"2022-week_02\",\"2022-week_03\",\"2022-week_04\",\"2022-week_05\",\"2022-week_06\",\"2022-week_52\"],\"xaxis\":\"x3\",\"y\":[18,20,25,20,23,27,26,25,24,30,18,28,32,61,62,49,65,61,45,55,54,38,22,22,30,50],\"yaxis\":\"y3\",\"type\":\"bar\"},{\"alignmentgroup\":\"True\",\"hovertemplate\":\"requester=Bizanga<br>region=JP<br>week_id=%{x}<br>count=%{y}<extra></extra>\",\"legendgroup\":\"Bizanga\",\"marker\":{\"color\":\"#636efa\",\"pattern\":{\"shape\":\"\"}},\"name\":\"Bizanga\",\"offsetgroup\":\"Bizanga\",\"orientation\":\"v\",\"showlegend\":false,\"textposition\":\"auto\",\"x\":[\"2021-week_35\",\"2021-week_40\",\"2021-week_41\"],\"xaxis\":\"x4\",\"y\":[1,1,1],\"yaxis\":\"y4\",\"type\":\"bar\"},{\"alignmentgroup\":\"True\",\"hovertemplate\":\"requester=Bizanga<br>region=US<br>week_id=%{x}<br>count=%{y}<extra></extra>\",\"legendgroup\":\"Bizanga\",\"marker\":{\"color\":\"#636efa\",\"pattern\":{\"shape\":\"\"}},\"name\":\"Bizanga\",\"offsetgroup\":\"Bizanga\",\"orientation\":\"v\",\"showlegend\":false,\"textposition\":\"auto\",\"x\":[\"2021-week_33\",\"2021-week_34\",\"2021-week_35\",\"2021-week_36\",\"2021-week_37\",\"2021-week_38\",\"2021-week_39\",\"2021-week_40\",\"2021-week_41\",\"2021-week_42\",\"2021-week_43\",\"2021-week_44\",\"2021-week_45\",\"2021-week_46\",\"2021-week_47\",\"2021-week_48\",\"2021-week_49\",\"2021-week_50\",\"2022-week_01\",\"2022-week_02\",\"2022-week_03\",\"2022-week_04\",\"2022-week_05\",\"2022-week_06\",\"2022-week_52\"],\"xaxis\":\"x5\",\"y\":[40,27,17,13,17,5,3,2,11,18,10,6,3,2,4,5,3,1,3,2,1,5,5,3,5],\"yaxis\":\"y5\",\"type\":\"bar\"},{\"alignmentgroup\":\"True\",\"hovertemplate\":\"requester=Crescendo Networks<br>region=DE<br>week_id=%{x}<br>count=%{y}<extra></extra>\",\"legendgroup\":\"Crescendo Networks\",\"marker\":{\"color\":\"#EF553B\",\"pattern\":{\"shape\":\"\"}},\"name\":\"Crescendo Networks\",\"offsetgroup\":\"Crescendo Networks\",\"orientation\":\"v\",\"showlegend\":true,\"textposition\":\"auto\",\"x\":[\"2021-week_33\",\"2021-week_34\",\"2021-week_35\",\"2021-week_36\",\"2021-week_37\",\"2021-week_38\",\"2021-week_39\",\"2021-week_40\",\"2021-week_41\",\"2021-week_42\",\"2021-week_43\",\"2021-week_44\",\"2021-week_45\",\"2021-week_46\",\"2021-week_47\",\"2021-week_48\",\"2021-week_49\",\"2021-week_50\",\"2021-week_51\",\"2022-week_01\",\"2022-week_02\",\"2022-week_03\",\"2022-week_04\",\"2022-week_05\",\"2022-week_06\",\"2022-week_52\"],\"xaxis\":\"x\",\"y\":[9,30,9,27,17,25,23,42,25,13,12,17,17,77,14,18,23,29,31,12,15,9,18,17,9,35],\"yaxis\":\"y\",\"type\":\"bar\"},{\"alignmentgroup\":\"True\",\"hovertemplate\":\"requester=Crescendo Networks<br>region=GB<br>week_id=%{x}<br>count=%{y}<extra></extra>\",\"legendgroup\":\"Crescendo Networks\",\"marker\":{\"color\":\"#EF553B\",\"pattern\":{\"shape\":\"\"}},\"name\":\"Crescendo Networks\",\"offsetgroup\":\"Crescendo Networks\",\"orientation\":\"v\",\"showlegend\":false,\"textposition\":\"auto\",\"x\":[\"2021-week_33\",\"2021-week_34\",\"2021-week_35\",\"2021-week_36\",\"2021-week_37\",\"2021-week_38\",\"2021-week_39\",\"2021-week_40\",\"2021-week_41\",\"2021-week_42\",\"2021-week_43\",\"2021-week_44\",\"2021-week_45\",\"2021-week_46\",\"2021-week_47\",\"2021-week_48\",\"2021-week_49\",\"2021-week_50\",\"2021-week_51\",\"2022-week_01\",\"2022-week_02\",\"2022-week_03\",\"2022-week_04\",\"2022-week_05\",\"2022-week_06\",\"2022-week_52\"],\"xaxis\":\"x2\",\"y\":[16,18,11,29,24,19,17,21,20,11,9,13,7,56,16,14,16,13,24,11,14,8,10,7,10,28],\"yaxis\":\"y2\",\"type\":\"bar\"},{\"alignmentgroup\":\"True\",\"hovertemplate\":\"requester=Crescendo Networks<br>region=IN<br>week_id=%{x}<br>count=%{y}<extra></extra>\",\"legendgroup\":\"Crescendo Networks\",\"marker\":{\"color\":\"#EF553B\",\"pattern\":{\"shape\":\"\"}},\"name\":\"Crescendo Networks\",\"offsetgroup\":\"Crescendo Networks\",\"orientation\":\"v\",\"showlegend\":false,\"textposition\":\"auto\",\"x\":[\"2021-week_33\",\"2021-week_34\",\"2021-week_35\",\"2021-week_36\",\"2021-week_37\",\"2021-week_38\",\"2021-week_39\",\"2021-week_40\",\"2021-week_41\",\"2021-week_42\",\"2021-week_43\",\"2021-week_44\",\"2021-week_45\",\"2021-week_46\",\"2021-week_47\",\"2021-week_48\",\"2021-week_49\",\"2021-week_50\",\"2021-week_51\",\"2022-week_01\",\"2022-week_02\",\"2022-week_03\",\"2022-week_04\",\"2022-week_05\",\"2022-week_06\",\"2022-week_52\"],\"xaxis\":\"x3\",\"y\":[7,19,25,25,28,26,28,175,35,23,32,33,23,17,11,20,20,11,22,12,17,18,12,14,9,21],\"yaxis\":\"y3\",\"type\":\"bar\"},{\"alignmentgroup\":\"True\",\"hovertemplate\":\"requester=Crescendo Networks<br>region=JP<br>week_id=%{x}<br>count=%{y}<extra></extra>\",\"legendgroup\":\"Crescendo Networks\",\"marker\":{\"color\":\"#EF553B\",\"pattern\":{\"shape\":\"\"}},\"name\":\"Crescendo Networks\",\"offsetgroup\":\"Crescendo Networks\",\"orientation\":\"v\",\"showlegend\":false,\"textposition\":\"auto\",\"x\":[\"2021-week_33\",\"2021-week_34\",\"2021-week_35\",\"2021-week_36\",\"2021-week_37\",\"2021-week_38\",\"2021-week_39\",\"2021-week_40\",\"2021-week_41\",\"2021-week_43\",\"2021-week_44\",\"2021-week_45\",\"2021-week_46\",\"2021-week_47\",\"2021-week_48\",\"2021-week_49\",\"2021-week_50\",\"2022-week_01\",\"2022-week_03\",\"2022-week_04\",\"2022-week_05\",\"2022-week_06\",\"2022-week_52\"],\"xaxis\":\"x4\",\"y\":[8,13,13,12,10,14,8,15,10,3,2,1,3,12,1,3,3,3,2,4,6,1,6],\"yaxis\":\"y4\",\"type\":\"bar\"},{\"alignmentgroup\":\"True\",\"hovertemplate\":\"requester=Crescendo Networks<br>region=US<br>week_id=%{x}<br>count=%{y}<extra></extra>\",\"legendgroup\":\"Crescendo Networks\",\"marker\":{\"color\":\"#EF553B\",\"pattern\":{\"shape\":\"\"}},\"name\":\"Crescendo Networks\",\"offsetgroup\":\"Crescendo Networks\",\"orientation\":\"v\",\"showlegend\":false,\"textposition\":\"auto\",\"x\":[\"2021-week_33\",\"2021-week_34\",\"2021-week_35\",\"2021-week_36\",\"2021-week_37\",\"2021-week_38\",\"2021-week_39\",\"2021-week_40\",\"2021-week_41\",\"2021-week_42\",\"2021-week_43\",\"2021-week_44\",\"2021-week_46\",\"2021-week_47\",\"2021-week_48\",\"2021-week_49\",\"2021-week_50\",\"2021-week_51\",\"2022-week_02\",\"2022-week_05\",\"2022-week_06\",\"2022-week_52\"],\"xaxis\":\"x5\",\"y\":[4,2,11,13,10,9,2,2,2,2,3,2,3,1,1,2,1,3,3,4,1,1],\"yaxis\":\"y5\",\"type\":\"bar\"},{\"alignmentgroup\":\"True\",\"hovertemplate\":\"requester=Extreme DA<br>region=DE<br>week_id=%{x}<br>count=%{y}<extra></extra>\",\"legendgroup\":\"Extreme DA\",\"marker\":{\"color\":\"#00cc96\",\"pattern\":{\"shape\":\"\"}},\"name\":\"Extreme DA\",\"offsetgroup\":\"Extreme DA\",\"orientation\":\"v\",\"showlegend\":true,\"textposition\":\"auto\",\"x\":[\"2021-week_33\",\"2021-week_34\",\"2021-week_35\",\"2021-week_36\",\"2021-week_37\",\"2021-week_38\",\"2021-week_39\",\"2021-week_40\",\"2021-week_41\",\"2021-week_43\",\"2021-week_44\",\"2021-week_45\",\"2021-week_46\",\"2021-week_47\",\"2021-week_48\",\"2021-week_49\",\"2021-week_50\",\"2021-week_51\",\"2022-week_01\",\"2022-week_02\",\"2022-week_03\",\"2022-week_04\",\"2022-week_05\",\"2022-week_06\",\"2022-week_52\"],\"xaxis\":\"x\",\"y\":[4,4,1,1,2,1,1,3,4,2,1,8,4,2,6,9,5,11,8,1,5,8,7,8,9],\"yaxis\":\"y\",\"type\":\"bar\"},{\"alignmentgroup\":\"True\",\"hovertemplate\":\"requester=Extreme DA<br>region=GB<br>week_id=%{x}<br>count=%{y}<extra></extra>\",\"legendgroup\":\"Extreme DA\",\"marker\":{\"color\":\"#00cc96\",\"pattern\":{\"shape\":\"\"}},\"name\":\"Extreme DA\",\"offsetgroup\":\"Extreme DA\",\"orientation\":\"v\",\"showlegend\":false,\"textposition\":\"auto\",\"x\":[\"2021-week_33\",\"2021-week_34\",\"2021-week_35\",\"2021-week_36\",\"2021-week_37\",\"2021-week_38\",\"2021-week_39\",\"2021-week_40\",\"2021-week_41\",\"2021-week_42\",\"2021-week_43\",\"2021-week_44\",\"2021-week_45\",\"2021-week_46\",\"2021-week_47\",\"2021-week_48\",\"2021-week_49\",\"2021-week_50\",\"2021-week_51\",\"2022-week_01\",\"2022-week_02\",\"2022-week_03\",\"2022-week_04\",\"2022-week_05\",\"2022-week_06\",\"2022-week_52\"],\"xaxis\":\"x2\",\"y\":[1,3,2,1,3,2,2,2,3,3,1,2,2,3,6,6,14,6,8,9,11,3,7,4,5,8],\"yaxis\":\"y2\",\"type\":\"bar\"},{\"alignmentgroup\":\"True\",\"hovertemplate\":\"requester=Extreme DA<br>region=JP<br>week_id=%{x}<br>count=%{y}<extra></extra>\",\"legendgroup\":\"Extreme DA\",\"marker\":{\"color\":\"#00cc96\",\"pattern\":{\"shape\":\"\"}},\"name\":\"Extreme DA\",\"offsetgroup\":\"Extreme DA\",\"orientation\":\"v\",\"showlegend\":false,\"textposition\":\"auto\",\"x\":[\"2021-week_34\",\"2021-week_36\",\"2021-week_40\"],\"xaxis\":\"x4\",\"y\":[1,1,1],\"yaxis\":\"y4\",\"type\":\"bar\"},{\"alignmentgroup\":\"True\",\"hovertemplate\":\"requester=Extreme DA<br>region=US<br>week_id=%{x}<br>count=%{y}<extra></extra>\",\"legendgroup\":\"Extreme DA\",\"marker\":{\"color\":\"#00cc96\",\"pattern\":{\"shape\":\"\"}},\"name\":\"Extreme DA\",\"offsetgroup\":\"Extreme DA\",\"orientation\":\"v\",\"showlegend\":false,\"textposition\":\"auto\",\"x\":[\"2021-week_33\",\"2021-week_34\",\"2021-week_35\",\"2021-week_36\",\"2021-week_37\",\"2021-week_38\",\"2021-week_39\",\"2021-week_40\",\"2021-week_41\",\"2021-week_42\",\"2021-week_43\",\"2021-week_44\",\"2021-week_45\",\"2021-week_46\",\"2021-week_47\",\"2021-week_48\",\"2021-week_49\",\"2021-week_50\",\"2021-week_51\",\"2022-week_01\",\"2022-week_02\",\"2022-week_03\",\"2022-week_04\",\"2022-week_05\",\"2022-week_06\",\"2022-week_52\"],\"xaxis\":\"x5\",\"y\":[500,1270,1377,1330,1266,2117,2448,2366,2277,2056,2246,2398,2650,2814,2994,2622,1781,1983,2707,2890,2824,2502,2414,2453,2388,2542],\"yaxis\":\"y5\",\"type\":\"bar\"},{\"alignmentgroup\":\"True\",\"hovertemplate\":\"requester=Fry Multimedia<br>region=DE<br>week_id=%{x}<br>count=%{y}<extra></extra>\",\"legendgroup\":\"Fry Multimedia\",\"marker\":{\"color\":\"#ab63fa\",\"pattern\":{\"shape\":\"\"}},\"name\":\"Fry Multimedia\",\"offsetgroup\":\"Fry Multimedia\",\"orientation\":\"v\",\"showlegend\":true,\"textposition\":\"auto\",\"x\":[\"2021-week_33\",\"2021-week_34\",\"2021-week_35\",\"2021-week_36\",\"2021-week_37\",\"2021-week_38\",\"2021-week_39\",\"2021-week_40\",\"2021-week_41\",\"2021-week_42\",\"2021-week_43\",\"2021-week_44\",\"2021-week_45\",\"2021-week_46\",\"2021-week_47\",\"2021-week_48\",\"2021-week_49\",\"2021-week_50\",\"2021-week_51\",\"2022-week_01\",\"2022-week_02\",\"2022-week_03\",\"2022-week_04\",\"2022-week_05\",\"2022-week_06\",\"2022-week_52\"],\"xaxis\":\"x\",\"y\":[82,91,84,95,94,97,77,118,125,68,64,70,58,64,78,91,58,46,54,96,74,85,81,70,96,38],\"yaxis\":\"y\",\"type\":\"bar\"},{\"alignmentgroup\":\"True\",\"hovertemplate\":\"requester=Fry Multimedia<br>region=GB<br>week_id=%{x}<br>count=%{y}<extra></extra>\",\"legendgroup\":\"Fry Multimedia\",\"marker\":{\"color\":\"#ab63fa\",\"pattern\":{\"shape\":\"\"}},\"name\":\"Fry Multimedia\",\"offsetgroup\":\"Fry Multimedia\",\"orientation\":\"v\",\"showlegend\":false,\"textposition\":\"auto\",\"x\":[\"2021-week_33\",\"2021-week_34\",\"2021-week_35\",\"2021-week_36\",\"2021-week_37\",\"2021-week_38\",\"2021-week_39\",\"2021-week_40\",\"2021-week_41\",\"2021-week_42\",\"2021-week_43\",\"2021-week_44\",\"2021-week_45\",\"2021-week_46\",\"2021-week_47\",\"2021-week_48\",\"2021-week_49\",\"2021-week_50\",\"2021-week_51\",\"2022-week_01\",\"2022-week_02\",\"2022-week_03\",\"2022-week_04\",\"2022-week_05\",\"2022-week_06\",\"2022-week_52\"],\"xaxis\":\"x2\",\"y\":[84,83,99,70,88,75,79,96,100,91,84,82,76,68,81,103,113,83,86,106,98,83,59,45,50,57],\"yaxis\":\"y2\",\"type\":\"bar\"},{\"alignmentgroup\":\"True\",\"hovertemplate\":\"requester=Fry Multimedia<br>region=IN<br>week_id=%{x}<br>count=%{y}<extra></extra>\",\"legendgroup\":\"Fry Multimedia\",\"marker\":{\"color\":\"#ab63fa\",\"pattern\":{\"shape\":\"\"}},\"name\":\"Fry Multimedia\",\"offsetgroup\":\"Fry Multimedia\",\"orientation\":\"v\",\"showlegend\":false,\"textposition\":\"auto\",\"x\":[\"2021-week_33\",\"2021-week_34\",\"2021-week_35\",\"2021-week_36\",\"2021-week_37\",\"2021-week_38\",\"2021-week_39\",\"2021-week_40\",\"2021-week_41\",\"2021-week_42\",\"2021-week_43\",\"2021-week_44\",\"2021-week_45\",\"2021-week_46\",\"2021-week_47\",\"2021-week_48\",\"2021-week_49\",\"2021-week_51\",\"2022-week_01\",\"2022-week_02\",\"2022-week_03\",\"2022-week_04\",\"2022-week_05\",\"2022-week_06\",\"2022-week_52\"],\"xaxis\":\"x3\",\"y\":[22,22,32,24,26,18,19,24,19,16,12,15,6,1,3,3,4,1,22,51,22,20,15,12,5],\"yaxis\":\"y3\",\"type\":\"bar\"},{\"alignmentgroup\":\"True\",\"hovertemplate\":\"requester=Fry Multimedia<br>region=JP<br>week_id=%{x}<br>count=%{y}<extra></extra>\",\"legendgroup\":\"Fry Multimedia\",\"marker\":{\"color\":\"#ab63fa\",\"pattern\":{\"shape\":\"\"}},\"name\":\"Fry Multimedia\",\"offsetgroup\":\"Fry Multimedia\",\"orientation\":\"v\",\"showlegend\":false,\"textposition\":\"auto\",\"x\":[\"2021-week_33\",\"2021-week_34\",\"2021-week_35\",\"2021-week_36\",\"2021-week_37\",\"2021-week_38\",\"2021-week_39\",\"2021-week_40\",\"2021-week_41\",\"2021-week_42\",\"2021-week_43\",\"2021-week_44\",\"2021-week_46\",\"2021-week_47\",\"2021-week_48\",\"2021-week_49\",\"2021-week_50\",\"2022-week_01\",\"2022-week_02\",\"2022-week_03\",\"2022-week_04\",\"2022-week_05\",\"2022-week_06\",\"2022-week_52\"],\"xaxis\":\"x4\",\"y\":[20,39,30,35,33,29,29,21,29,9,6,4,2,3,6,3,1,8,7,5,8,4,10,3],\"yaxis\":\"y4\",\"type\":\"bar\"},{\"alignmentgroup\":\"True\",\"hovertemplate\":\"requester=Fry Multimedia<br>region=US<br>week_id=%{x}<br>count=%{y}<extra></extra>\",\"legendgroup\":\"Fry Multimedia\",\"marker\":{\"color\":\"#ab63fa\",\"pattern\":{\"shape\":\"\"}},\"name\":\"Fry Multimedia\",\"offsetgroup\":\"Fry Multimedia\",\"orientation\":\"v\",\"showlegend\":false,\"textposition\":\"auto\",\"x\":[\"2021-week_33\",\"2021-week_34\",\"2021-week_35\",\"2021-week_36\",\"2021-week_37\",\"2021-week_38\",\"2021-week_39\",\"2021-week_40\",\"2021-week_41\",\"2021-week_42\",\"2021-week_43\",\"2021-week_44\",\"2021-week_45\",\"2021-week_46\",\"2021-week_47\",\"2021-week_48\",\"2021-week_49\",\"2021-week_50\",\"2022-week_01\",\"2022-week_02\",\"2022-week_03\",\"2022-week_04\",\"2022-week_05\",\"2022-week_06\",\"2022-week_52\"],\"xaxis\":\"x5\",\"y\":[17,20,13,23,16,7,6,4,9,9,8,9,6,5,5,6,3,3,3,8,8,5,9,7,1],\"yaxis\":\"y5\",\"type\":\"bar\"},{\"alignmentgroup\":\"True\",\"hovertemplate\":\"requester=G-mode<br>region=DE<br>week_id=%{x}<br>count=%{y}<extra></extra>\",\"legendgroup\":\"G-mode\",\"marker\":{\"color\":\"#FFA15A\",\"pattern\":{\"shape\":\"\"}},\"name\":\"G-mode\",\"offsetgroup\":\"G-mode\",\"orientation\":\"v\",\"showlegend\":true,\"textposition\":\"auto\",\"x\":[\"2021-week_33\",\"2021-week_34\",\"2021-week_35\",\"2021-week_36\",\"2021-week_37\",\"2021-week_38\",\"2021-week_39\",\"2021-week_40\",\"2021-week_41\",\"2021-week_42\",\"2021-week_43\",\"2021-week_44\",\"2021-week_45\",\"2021-week_46\",\"2021-week_47\",\"2021-week_48\",\"2021-week_49\",\"2021-week_50\",\"2021-week_51\",\"2022-week_01\",\"2022-week_02\",\"2022-week_03\",\"2022-week_04\",\"2022-week_05\",\"2022-week_06\",\"2022-week_52\"],\"xaxis\":\"x\",\"y\":[11,14,9,16,15,6,19,22,14,6,4,5,12,9,14,10,9,8,15,3,7,4,7,7,5,8],\"yaxis\":\"y\",\"type\":\"bar\"},{\"alignmentgroup\":\"True\",\"hovertemplate\":\"requester=G-mode<br>region=GB<br>week_id=%{x}<br>count=%{y}<extra></extra>\",\"legendgroup\":\"G-mode\",\"marker\":{\"color\":\"#FFA15A\",\"pattern\":{\"shape\":\"\"}},\"name\":\"G-mode\",\"offsetgroup\":\"G-mode\",\"orientation\":\"v\",\"showlegend\":false,\"textposition\":\"auto\",\"x\":[\"2021-week_33\",\"2021-week_34\",\"2021-week_35\",\"2021-week_36\",\"2021-week_37\",\"2021-week_38\",\"2021-week_39\",\"2021-week_40\",\"2021-week_41\",\"2021-week_42\",\"2021-week_43\",\"2021-week_44\",\"2021-week_45\",\"2021-week_46\",\"2021-week_47\",\"2021-week_48\",\"2021-week_49\",\"2021-week_50\",\"2021-week_51\",\"2022-week_01\",\"2022-week_02\",\"2022-week_03\",\"2022-week_04\",\"2022-week_05\",\"2022-week_06\",\"2022-week_52\"],\"xaxis\":\"x2\",\"y\":[10,7,6,20,17,9,12,20,17,8,9,11,16,14,13,12,13,6,19,6,19,10,8,5,6,28],\"yaxis\":\"y2\",\"type\":\"bar\"},{\"alignmentgroup\":\"True\",\"hovertemplate\":\"requester=G-mode<br>region=IN<br>week_id=%{x}<br>count=%{y}<extra></extra>\",\"legendgroup\":\"G-mode\",\"marker\":{\"color\":\"#FFA15A\",\"pattern\":{\"shape\":\"\"}},\"name\":\"G-mode\",\"offsetgroup\":\"G-mode\",\"orientation\":\"v\",\"showlegend\":false,\"textposition\":\"auto\",\"x\":[\"2021-week_33\",\"2021-week_34\",\"2021-week_35\",\"2021-week_36\",\"2021-week_37\",\"2021-week_38\",\"2021-week_39\",\"2021-week_40\",\"2021-week_41\",\"2021-week_42\",\"2021-week_43\",\"2021-week_44\",\"2021-week_45\",\"2021-week_46\",\"2021-week_47\",\"2021-week_48\",\"2021-week_49\",\"2021-week_50\",\"2021-week_51\",\"2022-week_01\",\"2022-week_02\",\"2022-week_03\",\"2022-week_04\",\"2022-week_05\",\"2022-week_06\",\"2022-week_52\"],\"xaxis\":\"x3\",\"y\":[14,12,23,38,32,22,29,25,45,21,17,18,25,19,12,23,24,17,25,19,21,19,20,16,8,20],\"yaxis\":\"y3\",\"type\":\"bar\"},{\"alignmentgroup\":\"True\",\"hovertemplate\":\"requester=G-mode<br>region=JP<br>week_id=%{x}<br>count=%{y}<extra></extra>\",\"legendgroup\":\"G-mode\",\"marker\":{\"color\":\"#FFA15A\",\"pattern\":{\"shape\":\"\"}},\"name\":\"G-mode\",\"offsetgroup\":\"G-mode\",\"orientation\":\"v\",\"showlegend\":false,\"textposition\":\"auto\",\"x\":[\"2021-week_33\",\"2021-week_34\",\"2021-week_35\",\"2021-week_36\",\"2021-week_37\",\"2021-week_38\",\"2021-week_39\",\"2021-week_40\",\"2021-week_41\",\"2021-week_42\",\"2021-week_43\",\"2021-week_44\",\"2021-week_45\",\"2021-week_46\",\"2021-week_47\",\"2021-week_48\",\"2021-week_49\",\"2021-week_50\",\"2022-week_01\",\"2022-week_02\",\"2022-week_03\",\"2022-week_04\",\"2022-week_05\",\"2022-week_06\",\"2022-week_52\"],\"xaxis\":\"x4\",\"y\":[3,5,5,7,9,6,9,4,4,1,1,3,9,1,2,7,12,3,5,1,1,5,5,2,13],\"yaxis\":\"y4\",\"type\":\"bar\"},{\"alignmentgroup\":\"True\",\"hovertemplate\":\"requester=G-mode<br>region=US<br>week_id=%{x}<br>count=%{y}<extra></extra>\",\"legendgroup\":\"G-mode\",\"marker\":{\"color\":\"#FFA15A\",\"pattern\":{\"shape\":\"\"}},\"name\":\"G-mode\",\"offsetgroup\":\"G-mode\",\"orientation\":\"v\",\"showlegend\":false,\"textposition\":\"auto\",\"x\":[\"2021-week_35\",\"2021-week_37\",\"2021-week_49\"],\"xaxis\":\"x5\",\"y\":[1,4,1],\"yaxis\":\"y5\",\"type\":\"bar\"},{\"alignmentgroup\":\"True\",\"hovertemplate\":\"requester=LocalVox Media<br>region=DE<br>week_id=%{x}<br>count=%{y}<extra></extra>\",\"legendgroup\":\"LocalVox Media\",\"marker\":{\"color\":\"#19d3f3\",\"pattern\":{\"shape\":\"\"}},\"name\":\"LocalVox Media\",\"offsetgroup\":\"LocalVox Media\",\"orientation\":\"v\",\"showlegend\":true,\"textposition\":\"auto\",\"x\":[\"2021-week_33\",\"2021-week_34\",\"2021-week_35\",\"2021-week_36\",\"2021-week_37\",\"2021-week_38\",\"2021-week_39\",\"2021-week_40\",\"2021-week_41\",\"2021-week_42\",\"2021-week_43\",\"2021-week_44\",\"2021-week_45\",\"2021-week_46\",\"2021-week_47\",\"2021-week_48\",\"2021-week_49\",\"2021-week_50\",\"2021-week_51\",\"2022-week_01\",\"2022-week_02\",\"2022-week_03\",\"2022-week_04\",\"2022-week_05\",\"2022-week_06\",\"2022-week_52\"],\"xaxis\":\"x\",\"y\":[49,39,32,37,39,49,41,51,49,37,33,60,74,61,75,58,65,59,72,59,35,36,37,33,35,70],\"yaxis\":\"y\",\"type\":\"bar\"},{\"alignmentgroup\":\"True\",\"hovertemplate\":\"requester=LocalVox Media<br>region=GB<br>week_id=%{x}<br>count=%{y}<extra></extra>\",\"legendgroup\":\"LocalVox Media\",\"marker\":{\"color\":\"#19d3f3\",\"pattern\":{\"shape\":\"\"}},\"name\":\"LocalVox Media\",\"offsetgroup\":\"LocalVox Media\",\"orientation\":\"v\",\"showlegend\":false,\"textposition\":\"auto\",\"x\":[\"2021-week_33\",\"2021-week_34\",\"2021-week_35\",\"2021-week_36\",\"2021-week_37\",\"2021-week_38\",\"2021-week_39\",\"2021-week_40\",\"2021-week_41\",\"2021-week_42\",\"2021-week_43\",\"2021-week_44\",\"2021-week_45\",\"2021-week_46\",\"2021-week_47\",\"2021-week_48\",\"2021-week_49\",\"2021-week_50\",\"2021-week_51\",\"2022-week_01\",\"2022-week_02\",\"2022-week_03\",\"2022-week_04\",\"2022-week_05\",\"2022-week_06\",\"2022-week_52\"],\"xaxis\":\"x2\",\"y\":[46,48,44,31,43,42,29,36,58,40,33,52,48,63,52,43,60,40,57,49,34,31,32,28,23,66],\"yaxis\":\"y2\",\"type\":\"bar\"},{\"alignmentgroup\":\"True\",\"hovertemplate\":\"requester=LocalVox Media<br>region=IN<br>week_id=%{x}<br>count=%{y}<extra></extra>\",\"legendgroup\":\"LocalVox Media\",\"marker\":{\"color\":\"#19d3f3\",\"pattern\":{\"shape\":\"\"}},\"name\":\"LocalVox Media\",\"offsetgroup\":\"LocalVox Media\",\"orientation\":\"v\",\"showlegend\":false,\"textposition\":\"auto\",\"x\":[\"2021-week_33\",\"2021-week_34\",\"2021-week_35\",\"2021-week_36\",\"2021-week_37\",\"2021-week_38\",\"2021-week_39\",\"2021-week_40\",\"2021-week_41\",\"2021-week_42\",\"2021-week_43\",\"2021-week_44\",\"2021-week_45\",\"2021-week_46\",\"2021-week_47\",\"2021-week_48\",\"2021-week_49\",\"2021-week_50\",\"2021-week_51\",\"2022-week_01\",\"2022-week_02\",\"2022-week_03\",\"2022-week_04\",\"2022-week_05\",\"2022-week_06\",\"2022-week_52\"],\"xaxis\":\"x3\",\"y\":[30,43,29,29,51,38,65,73,48,47,39,59,56,50,51,57,67,41,75,47,52,33,35,32,25,36],\"yaxis\":\"y3\",\"type\":\"bar\"},{\"alignmentgroup\":\"True\",\"hovertemplate\":\"requester=LocalVox Media<br>region=JP<br>week_id=%{x}<br>count=%{y}<extra></extra>\",\"legendgroup\":\"LocalVox Media\",\"marker\":{\"color\":\"#19d3f3\",\"pattern\":{\"shape\":\"\"}},\"name\":\"LocalVox Media\",\"offsetgroup\":\"LocalVox Media\",\"orientation\":\"v\",\"showlegend\":false,\"textposition\":\"auto\",\"x\":[\"2021-week_33\",\"2021-week_34\",\"2021-week_35\",\"2021-week_36\",\"2021-week_37\",\"2021-week_38\",\"2021-week_39\",\"2021-week_40\",\"2021-week_41\",\"2021-week_42\",\"2021-week_43\",\"2021-week_44\",\"2021-week_45\",\"2021-week_46\",\"2021-week_47\",\"2021-week_48\",\"2021-week_49\",\"2021-week_50\",\"2022-week_01\",\"2022-week_02\",\"2022-week_03\",\"2022-week_04\",\"2022-week_05\",\"2022-week_06\",\"2022-week_52\"],\"xaxis\":\"x4\",\"y\":[47,115,82,79,79,73,46,55,58,27,18,29,60,48,71,95,114,91,72,87,52,60,54,51,161],\"yaxis\":\"y4\",\"type\":\"bar\"},{\"alignmentgroup\":\"True\",\"hovertemplate\":\"requester=LocalVox Media<br>region=US<br>week_id=%{x}<br>count=%{y}<extra></extra>\",\"legendgroup\":\"LocalVox Media\",\"marker\":{\"color\":\"#19d3f3\",\"pattern\":{\"shape\":\"\"}},\"name\":\"LocalVox Media\",\"offsetgroup\":\"LocalVox Media\",\"orientation\":\"v\",\"showlegend\":false,\"textposition\":\"auto\",\"x\":[\"2021-week_33\",\"2021-week_34\",\"2021-week_35\",\"2021-week_36\",\"2021-week_37\",\"2021-week_38\",\"2021-week_39\",\"2021-week_40\",\"2021-week_41\",\"2021-week_42\",\"2021-week_43\",\"2021-week_44\",\"2021-week_45\",\"2021-week_46\",\"2021-week_47\",\"2021-week_48\",\"2021-week_49\",\"2021-week_50\",\"2021-week_51\",\"2022-week_01\",\"2022-week_02\",\"2022-week_03\",\"2022-week_04\",\"2022-week_05\",\"2022-week_06\",\"2022-week_52\"],\"xaxis\":\"x5\",\"y\":[47,55,36,45,42,27,16,16,13,11,12,8,11,14,9,10,12,12,9,5,9,8,7,11,12,9],\"yaxis\":\"y5\",\"type\":\"bar\"},{\"alignmentgroup\":\"True\",\"hovertemplate\":\"requester=MoJoe Brewing Company<br>region=DE<br>week_id=%{x}<br>count=%{y}<extra></extra>\",\"legendgroup\":\"MoJoe Brewing Company\",\"marker\":{\"color\":\"#FF6692\",\"pattern\":{\"shape\":\"\"}},\"name\":\"MoJoe Brewing Company\",\"offsetgroup\":\"MoJoe Brewing Company\",\"orientation\":\"v\",\"showlegend\":true,\"textposition\":\"auto\",\"x\":[\"2021-week_33\",\"2021-week_34\",\"2021-week_35\",\"2021-week_36\",\"2021-week_37\",\"2021-week_38\",\"2021-week_39\",\"2021-week_40\",\"2021-week_41\",\"2021-week_42\",\"2021-week_43\",\"2021-week_44\",\"2021-week_45\",\"2021-week_46\",\"2021-week_47\",\"2021-week_48\",\"2021-week_49\",\"2021-week_50\",\"2021-week_51\",\"2022-week_01\",\"2022-week_02\",\"2022-week_03\",\"2022-week_04\",\"2022-week_05\",\"2022-week_06\",\"2022-week_52\"],\"xaxis\":\"x\",\"y\":[374,296,455,383,395,354,362,374,291,196,254,286,229,353,203,513,285,477,236,251,269,398,236,315,252,579],\"yaxis\":\"y\",\"type\":\"bar\"},{\"alignmentgroup\":\"True\",\"hovertemplate\":\"requester=MoJoe Brewing Company<br>region=GB<br>week_id=%{x}<br>count=%{y}<extra></extra>\",\"legendgroup\":\"MoJoe Brewing Company\",\"marker\":{\"color\":\"#FF6692\",\"pattern\":{\"shape\":\"\"}},\"name\":\"MoJoe Brewing Company\",\"offsetgroup\":\"MoJoe Brewing Company\",\"orientation\":\"v\",\"showlegend\":false,\"textposition\":\"auto\",\"x\":[\"2021-week_33\",\"2021-week_34\",\"2021-week_35\",\"2021-week_36\",\"2021-week_37\",\"2021-week_38\",\"2021-week_39\",\"2021-week_40\",\"2021-week_41\",\"2021-week_42\",\"2021-week_43\",\"2021-week_44\",\"2021-week_45\",\"2021-week_46\",\"2021-week_47\",\"2021-week_48\",\"2021-week_49\",\"2021-week_50\",\"2021-week_51\",\"2022-week_01\",\"2022-week_02\",\"2022-week_03\",\"2022-week_04\",\"2022-week_05\",\"2022-week_06\",\"2022-week_52\"],\"xaxis\":\"x2\",\"y\":[360,274,413,296,373,299,347,333,274,242,345,280,250,448,249,615,315,547,302,346,382,570,296,415,228,731],\"yaxis\":\"y2\",\"type\":\"bar\"},{\"alignmentgroup\":\"True\",\"hovertemplate\":\"requester=MoJoe Brewing Company<br>region=IN<br>week_id=%{x}<br>count=%{y}<extra></extra>\",\"legendgroup\":\"MoJoe Brewing Company\",\"marker\":{\"color\":\"#FF6692\",\"pattern\":{\"shape\":\"\"}},\"name\":\"MoJoe Brewing Company\",\"offsetgroup\":\"MoJoe Brewing Company\",\"orientation\":\"v\",\"showlegend\":false,\"textposition\":\"auto\",\"x\":[\"2021-week_33\",\"2021-week_34\",\"2021-week_35\",\"2021-week_36\",\"2021-week_37\",\"2021-week_38\",\"2021-week_39\",\"2021-week_40\",\"2021-week_41\",\"2021-week_42\",\"2021-week_43\",\"2021-week_44\",\"2021-week_45\",\"2021-week_46\",\"2021-week_47\",\"2021-week_48\",\"2021-week_49\",\"2021-week_50\",\"2021-week_51\",\"2022-week_01\",\"2022-week_02\",\"2022-week_03\",\"2022-week_04\",\"2022-week_05\",\"2022-week_06\",\"2022-week_52\"],\"xaxis\":\"x3\",\"y\":[126,139,137,137,116,135,118,62,64,54,245,174,239,466,310,658,411,593,348,413,408,316,272,300,296,654],\"yaxis\":\"y3\",\"type\":\"bar\"},{\"alignmentgroup\":\"True\",\"hovertemplate\":\"requester=MoJoe Brewing Company<br>region=JP<br>week_id=%{x}<br>count=%{y}<extra></extra>\",\"legendgroup\":\"MoJoe Brewing Company\",\"marker\":{\"color\":\"#FF6692\",\"pattern\":{\"shape\":\"\"}},\"name\":\"MoJoe Brewing Company\",\"offsetgroup\":\"MoJoe Brewing Company\",\"orientation\":\"v\",\"showlegend\":false,\"textposition\":\"auto\",\"x\":[\"2021-week_33\",\"2021-week_34\",\"2021-week_35\",\"2021-week_36\",\"2021-week_37\",\"2021-week_38\",\"2021-week_39\",\"2021-week_40\",\"2021-week_41\",\"2021-week_42\",\"2021-week_43\",\"2021-week_44\",\"2021-week_45\",\"2021-week_46\",\"2021-week_47\",\"2021-week_48\",\"2021-week_49\",\"2021-week_50\",\"2022-week_01\",\"2022-week_02\",\"2022-week_03\",\"2022-week_04\",\"2022-week_05\",\"2022-week_06\",\"2022-week_52\"],\"xaxis\":\"x4\",\"y\":[217,260,310,289,345,224,239,197,140,36,67,55,51,87,56,124,100,104,82,66,94,67,75,81,183],\"yaxis\":\"y4\",\"type\":\"bar\"},{\"alignmentgroup\":\"True\",\"hovertemplate\":\"requester=MoJoe Brewing Company<br>region=US<br>week_id=%{x}<br>count=%{y}<extra></extra>\",\"legendgroup\":\"MoJoe Brewing Company\",\"marker\":{\"color\":\"#FF6692\",\"pattern\":{\"shape\":\"\"}},\"name\":\"MoJoe Brewing Company\",\"offsetgroup\":\"MoJoe Brewing Company\",\"orientation\":\"v\",\"showlegend\":false,\"textposition\":\"auto\",\"x\":[\"2021-week_33\",\"2021-week_34\",\"2021-week_35\",\"2021-week_36\",\"2021-week_37\",\"2021-week_38\",\"2021-week_39\",\"2021-week_40\",\"2021-week_41\",\"2021-week_42\",\"2021-week_43\",\"2021-week_44\",\"2021-week_45\",\"2021-week_46\",\"2021-week_47\",\"2021-week_48\",\"2021-week_49\",\"2021-week_50\",\"2021-week_51\",\"2022-week_01\",\"2022-week_02\",\"2022-week_03\",\"2022-week_04\",\"2022-week_05\",\"2022-week_06\",\"2022-week_52\"],\"xaxis\":\"x5\",\"y\":[276,165,178,173,163,78,89,87,57,71,66,64,47,63,62,68,69,73,32,44,33,78,64,69,63,92],\"yaxis\":\"y5\",\"type\":\"bar\"},{\"alignmentgroup\":\"True\",\"hovertemplate\":\"requester=Modanisa<br>region=DE<br>week_id=%{x}<br>count=%{y}<extra></extra>\",\"legendgroup\":\"Modanisa\",\"marker\":{\"color\":\"#B6E880\",\"pattern\":{\"shape\":\"\"}},\"name\":\"Modanisa\",\"offsetgroup\":\"Modanisa\",\"orientation\":\"v\",\"showlegend\":true,\"textposition\":\"auto\",\"x\":[\"2021-week_33\",\"2021-week_34\",\"2021-week_35\",\"2021-week_36\",\"2021-week_37\",\"2021-week_38\",\"2021-week_39\",\"2021-week_40\",\"2021-week_41\",\"2021-week_42\",\"2021-week_43\",\"2021-week_44\",\"2021-week_45\",\"2021-week_46\",\"2021-week_47\",\"2021-week_48\",\"2021-week_49\",\"2021-week_50\",\"2021-week_51\",\"2022-week_01\",\"2022-week_02\",\"2022-week_03\",\"2022-week_04\",\"2022-week_05\",\"2022-week_06\",\"2022-week_52\"],\"xaxis\":\"x\",\"y\":[28,20,17,26,23,19,77,42,103,74,80,49,38,35,50,47,39,33,39,20,11,21,19,29,18,31],\"yaxis\":\"y\",\"type\":\"bar\"},{\"alignmentgroup\":\"True\",\"hovertemplate\":\"requester=Modanisa<br>region=GB<br>week_id=%{x}<br>count=%{y}<extra></extra>\",\"legendgroup\":\"Modanisa\",\"marker\":{\"color\":\"#B6E880\",\"pattern\":{\"shape\":\"\"}},\"name\":\"Modanisa\",\"offsetgroup\":\"Modanisa\",\"orientation\":\"v\",\"showlegend\":false,\"textposition\":\"auto\",\"x\":[\"2021-week_33\",\"2021-week_34\",\"2021-week_35\",\"2021-week_36\",\"2021-week_37\",\"2021-week_38\",\"2021-week_39\",\"2021-week_40\",\"2021-week_41\",\"2021-week_42\",\"2021-week_43\",\"2021-week_44\",\"2021-week_45\",\"2021-week_46\",\"2021-week_47\",\"2021-week_48\",\"2021-week_49\",\"2021-week_50\",\"2021-week_51\",\"2022-week_01\",\"2022-week_02\",\"2022-week_03\",\"2022-week_04\",\"2022-week_05\",\"2022-week_06\",\"2022-week_52\"],\"xaxis\":\"x2\",\"y\":[15,14,20,14,9,10,124,208,165,116,199,92,11,13,13,11,16,11,8,12,5,7,5,6,3,10],\"yaxis\":\"y2\",\"type\":\"bar\"},{\"alignmentgroup\":\"True\",\"hovertemplate\":\"requester=Modanisa<br>region=IN<br>week_id=%{x}<br>count=%{y}<extra></extra>\",\"legendgroup\":\"Modanisa\",\"marker\":{\"color\":\"#B6E880\",\"pattern\":{\"shape\":\"\"}},\"name\":\"Modanisa\",\"offsetgroup\":\"Modanisa\",\"orientation\":\"v\",\"showlegend\":false,\"textposition\":\"auto\",\"x\":[\"2021-week_33\",\"2021-week_34\",\"2021-week_35\",\"2021-week_36\",\"2021-week_37\",\"2021-week_38\",\"2021-week_39\",\"2021-week_40\",\"2021-week_41\",\"2021-week_42\",\"2021-week_43\",\"2021-week_44\",\"2021-week_45\",\"2021-week_46\",\"2021-week_47\",\"2021-week_48\",\"2021-week_49\",\"2021-week_50\",\"2021-week_51\",\"2022-week_01\",\"2022-week_02\",\"2022-week_03\",\"2022-week_04\",\"2022-week_05\",\"2022-week_06\",\"2022-week_52\"],\"xaxis\":\"x3\",\"y\":[21,21,22,17,25,30,153,77,84,110,136,67,32,28,33,18,18,15,14,24,24,12,15,10,9,12],\"yaxis\":\"y3\",\"type\":\"bar\"},{\"alignmentgroup\":\"True\",\"hovertemplate\":\"requester=Modanisa<br>region=JP<br>week_id=%{x}<br>count=%{y}<extra></extra>\",\"legendgroup\":\"Modanisa\",\"marker\":{\"color\":\"#B6E880\",\"pattern\":{\"shape\":\"\"}},\"name\":\"Modanisa\",\"offsetgroup\":\"Modanisa\",\"orientation\":\"v\",\"showlegend\":false,\"textposition\":\"auto\",\"x\":[\"2021-week_33\",\"2021-week_34\",\"2021-week_35\",\"2021-week_36\",\"2021-week_37\",\"2021-week_38\",\"2021-week_39\",\"2021-week_40\",\"2021-week_41\",\"2021-week_42\",\"2021-week_43\",\"2021-week_44\",\"2021-week_45\",\"2021-week_46\",\"2021-week_47\",\"2021-week_48\",\"2021-week_49\",\"2021-week_50\",\"2022-week_01\",\"2022-week_02\",\"2022-week_03\",\"2022-week_04\",\"2022-week_05\",\"2022-week_06\",\"2022-week_52\"],\"xaxis\":\"x4\",\"y\":[13,19,25,29,23,14,25,12,20,5,4,5,4,7,3,8,10,11,6,1,6,1,4,1,9],\"yaxis\":\"y4\",\"type\":\"bar\"},{\"alignmentgroup\":\"True\",\"hovertemplate\":\"requester=Modanisa<br>region=US<br>week_id=%{x}<br>count=%{y}<extra></extra>\",\"legendgroup\":\"Modanisa\",\"marker\":{\"color\":\"#B6E880\",\"pattern\":{\"shape\":\"\"}},\"name\":\"Modanisa\",\"offsetgroup\":\"Modanisa\",\"orientation\":\"v\",\"showlegend\":false,\"textposition\":\"auto\",\"x\":[\"2021-week_33\",\"2021-week_34\",\"2021-week_35\",\"2021-week_36\",\"2021-week_37\",\"2021-week_38\",\"2021-week_39\",\"2021-week_40\",\"2021-week_41\",\"2021-week_42\",\"2021-week_43\",\"2021-week_44\",\"2021-week_45\",\"2021-week_46\",\"2021-week_47\",\"2021-week_48\",\"2021-week_49\",\"2021-week_50\",\"2021-week_51\",\"2022-week_01\",\"2022-week_02\",\"2022-week_03\",\"2022-week_05\",\"2022-week_06\",\"2022-week_52\"],\"xaxis\":\"x5\",\"y\":[53,43,25,17,13,11,17,17,10,22,19,15,5,10,6,10,7,13,2,2,7,4,10,6,7],\"yaxis\":\"y5\",\"type\":\"bar\"},{\"alignmentgroup\":\"True\",\"hovertemplate\":\"requester=RelayFoods<br>region=DE<br>week_id=%{x}<br>count=%{y}<extra></extra>\",\"legendgroup\":\"RelayFoods\",\"marker\":{\"color\":\"#FF97FF\",\"pattern\":{\"shape\":\"\"}},\"name\":\"RelayFoods\",\"offsetgroup\":\"RelayFoods\",\"orientation\":\"v\",\"showlegend\":true,\"textposition\":\"auto\",\"x\":[\"2021-week_33\",\"2021-week_34\",\"2021-week_35\",\"2021-week_36\",\"2021-week_37\",\"2021-week_38\",\"2021-week_39\",\"2021-week_40\",\"2021-week_41\",\"2021-week_42\",\"2021-week_43\",\"2021-week_44\",\"2021-week_45\",\"2021-week_46\",\"2021-week_47\",\"2021-week_48\",\"2021-week_49\",\"2021-week_50\",\"2021-week_51\",\"2022-week_01\",\"2022-week_02\",\"2022-week_03\",\"2022-week_04\",\"2022-week_05\",\"2022-week_06\",\"2022-week_52\"],\"xaxis\":\"x\",\"y\":[307,88,73,66,78,94,69,69,105,1003,906,1057,1305,957,1052,935,1136,1011,1282,798,699,764,875,740,771,1073],\"yaxis\":\"y\",\"type\":\"bar\"},{\"alignmentgroup\":\"True\",\"hovertemplate\":\"requester=RelayFoods<br>region=GB<br>week_id=%{x}<br>count=%{y}<extra></extra>\",\"legendgroup\":\"RelayFoods\",\"marker\":{\"color\":\"#FF97FF\",\"pattern\":{\"shape\":\"\"}},\"name\":\"RelayFoods\",\"offsetgroup\":\"RelayFoods\",\"orientation\":\"v\",\"showlegend\":false,\"textposition\":\"auto\",\"x\":[\"2021-week_33\",\"2021-week_34\",\"2021-week_35\",\"2021-week_36\",\"2021-week_37\",\"2021-week_38\",\"2021-week_39\",\"2021-week_40\",\"2021-week_41\",\"2021-week_42\",\"2021-week_43\",\"2021-week_44\",\"2021-week_45\",\"2021-week_46\",\"2021-week_47\",\"2021-week_48\",\"2021-week_49\",\"2021-week_50\",\"2021-week_51\",\"2022-week_01\",\"2022-week_02\",\"2022-week_03\",\"2022-week_04\",\"2022-week_05\",\"2022-week_06\",\"2022-week_52\"],\"xaxis\":\"x2\",\"y\":[351,218,190,242,187,215,160,177,222,760,743,836,1097,929,932,768,950,894,1074,742,781,743,705,548,569,887],\"yaxis\":\"y2\",\"type\":\"bar\"},{\"alignmentgroup\":\"True\",\"hovertemplate\":\"requester=RelayFoods<br>region=IN<br>week_id=%{x}<br>count=%{y}<extra></extra>\",\"legendgroup\":\"RelayFoods\",\"marker\":{\"color\":\"#FF97FF\",\"pattern\":{\"shape\":\"\"}},\"name\":\"RelayFoods\",\"offsetgroup\":\"RelayFoods\",\"orientation\":\"v\",\"showlegend\":false,\"textposition\":\"auto\",\"x\":[\"2021-week_34\",\"2021-week_35\",\"2021-week_36\",\"2021-week_37\",\"2021-week_38\",\"2021-week_39\",\"2021-week_40\",\"2021-week_41\",\"2021-week_42\",\"2021-week_43\",\"2021-week_44\",\"2021-week_45\",\"2021-week_46\",\"2021-week_47\",\"2021-week_48\",\"2021-week_49\",\"2021-week_50\",\"2021-week_51\",\"2022-week_01\",\"2022-week_02\",\"2022-week_03\",\"2022-week_04\",\"2022-week_05\",\"2022-week_06\",\"2022-week_52\"],\"xaxis\":\"x3\",\"y\":[137,223,239,233,242,200,87,144,545,506,644,1146,1112,1243,1018,1126,1097,1221,1098,1114,771,675,650,731,1150],\"yaxis\":\"y3\",\"type\":\"bar\"},{\"alignmentgroup\":\"True\",\"hovertemplate\":\"requester=RelayFoods<br>region=JP<br>week_id=%{x}<br>count=%{y}<extra></extra>\",\"legendgroup\":\"RelayFoods\",\"marker\":{\"color\":\"#FF97FF\",\"pattern\":{\"shape\":\"\"}},\"name\":\"RelayFoods\",\"offsetgroup\":\"RelayFoods\",\"orientation\":\"v\",\"showlegend\":false,\"textposition\":\"auto\",\"x\":[\"2021-week_33\",\"2021-week_34\",\"2021-week_35\",\"2021-week_36\",\"2021-week_37\",\"2021-week_38\",\"2021-week_39\",\"2021-week_40\",\"2021-week_41\",\"2021-week_42\",\"2021-week_43\",\"2021-week_44\",\"2021-week_45\",\"2021-week_46\",\"2021-week_47\",\"2021-week_48\",\"2021-week_49\",\"2021-week_50\",\"2022-week_01\",\"2022-week_02\",\"2022-week_03\",\"2022-week_04\",\"2022-week_05\",\"2022-week_06\",\"2022-week_52\"],\"xaxis\":\"x4\",\"y\":[627,297,348,291,303,319,234,264,279,1232,1172,1214,1339,1403,1426,1345,1303,1357,1163,1153,1159,1178,1204,1205,2759],\"yaxis\":\"y4\",\"type\":\"bar\"},{\"alignmentgroup\":\"True\",\"hovertemplate\":\"requester=RelayFoods<br>region=US<br>week_id=%{x}<br>count=%{y}<extra></extra>\",\"legendgroup\":\"RelayFoods\",\"marker\":{\"color\":\"#FF97FF\",\"pattern\":{\"shape\":\"\"}},\"name\":\"RelayFoods\",\"offsetgroup\":\"RelayFoods\",\"orientation\":\"v\",\"showlegend\":false,\"textposition\":\"auto\",\"x\":[\"2021-week_33\",\"2021-week_34\",\"2021-week_35\",\"2021-week_36\",\"2021-week_37\",\"2021-week_38\",\"2021-week_39\",\"2021-week_40\",\"2021-week_41\",\"2021-week_42\",\"2021-week_43\",\"2021-week_44\",\"2021-week_45\",\"2021-week_46\",\"2021-week_47\",\"2021-week_48\",\"2021-week_49\",\"2021-week_50\",\"2021-week_51\",\"2022-week_01\",\"2022-week_02\",\"2022-week_03\",\"2022-week_04\",\"2022-week_05\",\"2022-week_06\",\"2022-week_52\"],\"xaxis\":\"x5\",\"y\":[284,165,155,162,158,99,92,66,64,196,140,140,137,145,139,119,126,144,88,73,85,108,123,108,127,100],\"yaxis\":\"y5\",\"type\":\"bar\"},{\"alignmentgroup\":\"True\",\"hovertemplate\":\"requester=SOLOMO365<br>region=DE<br>week_id=%{x}<br>count=%{y}<extra></extra>\",\"legendgroup\":\"SOLOMO365\",\"marker\":{\"color\":\"#FECB52\",\"pattern\":{\"shape\":\"\"}},\"name\":\"SOLOMO365\",\"offsetgroup\":\"SOLOMO365\",\"orientation\":\"v\",\"showlegend\":true,\"textposition\":\"auto\",\"x\":[\"2021-week_33\",\"2021-week_34\",\"2021-week_35\",\"2021-week_36\",\"2021-week_37\",\"2021-week_38\",\"2021-week_39\",\"2021-week_40\"],\"xaxis\":\"x\",\"y\":[316,365,333,329,319,367,321,85],\"yaxis\":\"y\",\"type\":\"bar\"},{\"alignmentgroup\":\"True\",\"hovertemplate\":\"requester=SOLOMO365<br>region=GB<br>week_id=%{x}<br>count=%{y}<extra></extra>\",\"legendgroup\":\"SOLOMO365\",\"marker\":{\"color\":\"#FECB52\",\"pattern\":{\"shape\":\"\"}},\"name\":\"SOLOMO365\",\"offsetgroup\":\"SOLOMO365\",\"orientation\":\"v\",\"showlegend\":false,\"textposition\":\"auto\",\"x\":[\"2021-week_33\",\"2021-week_34\",\"2021-week_35\",\"2021-week_36\",\"2021-week_37\",\"2021-week_38\",\"2021-week_39\",\"2021-week_40\"],\"xaxis\":\"x2\",\"y\":[480,503,526,473,481,467,399,131],\"yaxis\":\"y2\",\"type\":\"bar\"},{\"alignmentgroup\":\"True\",\"hovertemplate\":\"requester=Search Million Culture<br>region=DE<br>week_id=%{x}<br>count=%{y}<extra></extra>\",\"legendgroup\":\"Search Million Culture\",\"marker\":{\"color\":\"#636efa\",\"pattern\":{\"shape\":\"\"}},\"name\":\"Search Million Culture\",\"offsetgroup\":\"Search Million Culture\",\"orientation\":\"v\",\"showlegend\":true,\"textposition\":\"auto\",\"x\":[\"2021-week_33\",\"2021-week_34\",\"2021-week_35\",\"2021-week_36\",\"2021-week_37\",\"2021-week_38\",\"2021-week_39\",\"2021-week_40\",\"2021-week_41\",\"2021-week_42\",\"2021-week_43\",\"2021-week_44\",\"2021-week_45\",\"2021-week_46\",\"2021-week_47\",\"2021-week_48\",\"2021-week_49\",\"2021-week_50\",\"2021-week_51\",\"2022-week_01\",\"2022-week_02\",\"2022-week_03\",\"2022-week_04\",\"2022-week_05\",\"2022-week_06\",\"2022-week_52\"],\"xaxis\":\"x\",\"y\":[1139,1300,1205,1189,1232,1192,1126,1298,1364,854,849,580,412,450,510,563,610,591,503,1043,1172,958,988,1068,1079,382],\"yaxis\":\"y\",\"type\":\"bar\"},{\"alignmentgroup\":\"True\",\"hovertemplate\":\"requester=Search Million Culture<br>region=GB<br>week_id=%{x}<br>count=%{y}<extra></extra>\",\"legendgroup\":\"Search Million Culture\",\"marker\":{\"color\":\"#636efa\",\"pattern\":{\"shape\":\"\"}},\"name\":\"Search Million Culture\",\"offsetgroup\":\"Search Million Culture\",\"orientation\":\"v\",\"showlegend\":false,\"textposition\":\"auto\",\"x\":[\"2021-week_33\",\"2021-week_34\",\"2021-week_35\",\"2021-week_36\",\"2021-week_37\",\"2021-week_38\",\"2021-week_39\",\"2021-week_40\",\"2021-week_41\",\"2021-week_42\",\"2021-week_43\",\"2021-week_44\",\"2021-week_45\",\"2021-week_46\",\"2021-week_47\",\"2021-week_48\",\"2021-week_49\",\"2021-week_50\",\"2021-week_51\",\"2022-week_01\",\"2022-week_02\",\"2022-week_03\",\"2022-week_04\",\"2022-week_05\",\"2022-week_06\",\"2022-week_52\"],\"xaxis\":\"x2\",\"y\":[1153,1403,1254,1257,1143,1162,1132,1245,1338,1168,1044,942,735,795,796,1009,1159,1077,1021,1374,1327,1050,982,919,797,720],\"yaxis\":\"y2\",\"type\":\"bar\"},{\"alignmentgroup\":\"True\",\"hovertemplate\":\"requester=Search Million Culture<br>region=IN<br>week_id=%{x}<br>count=%{y}<extra></extra>\",\"legendgroup\":\"Search Million Culture\",\"marker\":{\"color\":\"#636efa\",\"pattern\":{\"shape\":\"\"}},\"name\":\"Search Million Culture\",\"offsetgroup\":\"Search Million Culture\",\"orientation\":\"v\",\"showlegend\":false,\"textposition\":\"auto\",\"x\":[\"2021-week_33\",\"2021-week_34\",\"2021-week_35\",\"2021-week_36\",\"2021-week_37\",\"2021-week_38\",\"2021-week_39\",\"2021-week_40\",\"2021-week_41\",\"2021-week_42\",\"2021-week_43\",\"2021-week_44\",\"2021-week_45\",\"2021-week_46\",\"2021-week_47\",\"2021-week_48\",\"2021-week_49\",\"2021-week_50\",\"2021-week_51\",\"2022-week_01\",\"2022-week_02\",\"2022-week_03\",\"2022-week_04\",\"2022-week_05\",\"2022-week_06\",\"2022-week_52\"],\"xaxis\":\"x3\",\"y\":[1540,1551,1493,1479,1453,1489,1383,1395,1326,1220,1172,930,28,37,27,15,42,31,36,30,42,934,1267,1260,1158,27],\"yaxis\":\"y3\",\"type\":\"bar\"},{\"alignmentgroup\":\"True\",\"hovertemplate\":\"requester=Search Million Culture<br>region=JP<br>week_id=%{x}<br>count=%{y}<extra></extra>\",\"legendgroup\":\"Search Million Culture\",\"marker\":{\"color\":\"#636efa\",\"pattern\":{\"shape\":\"\"}},\"name\":\"Search Million Culture\",\"offsetgroup\":\"Search Million Culture\",\"orientation\":\"v\",\"showlegend\":false,\"textposition\":\"auto\",\"x\":[\"2021-week_33\",\"2021-week_34\",\"2021-week_35\",\"2021-week_36\",\"2021-week_37\",\"2021-week_38\",\"2021-week_39\",\"2021-week_40\",\"2021-week_41\",\"2021-week_42\",\"2021-week_43\",\"2021-week_44\",\"2021-week_45\",\"2021-week_46\",\"2021-week_47\",\"2021-week_48\",\"2021-week_49\",\"2021-week_50\",\"2022-week_01\",\"2022-week_02\",\"2022-week_03\",\"2022-week_04\",\"2022-week_05\",\"2022-week_06\",\"2022-week_52\"],\"xaxis\":\"x4\",\"y\":[589,785,644,707,714,662,641,598,580,195,164,128,12,5,4,12,13,10,234,280,227,236,225,230,11],\"yaxis\":\"y4\",\"type\":\"bar\"},{\"alignmentgroup\":\"True\",\"hovertemplate\":\"requester=Search Million Culture<br>region=US<br>week_id=%{x}<br>count=%{y}<extra></extra>\",\"legendgroup\":\"Search Million Culture\",\"marker\":{\"color\":\"#636efa\",\"pattern\":{\"shape\":\"\"}},\"name\":\"Search Million Culture\",\"offsetgroup\":\"Search Million Culture\",\"orientation\":\"v\",\"showlegend\":false,\"textposition\":\"auto\",\"x\":[\"2021-week_33\",\"2021-week_34\",\"2021-week_35\",\"2021-week_36\",\"2021-week_37\",\"2021-week_38\",\"2021-week_39\",\"2021-week_40\",\"2021-week_41\",\"2021-week_42\",\"2021-week_43\",\"2021-week_44\",\"2021-week_45\",\"2021-week_46\",\"2021-week_47\",\"2021-week_48\",\"2021-week_49\",\"2021-week_50\",\"2021-week_51\",\"2022-week_01\",\"2022-week_02\",\"2022-week_03\",\"2022-week_04\",\"2022-week_05\",\"2022-week_06\",\"2022-week_52\"],\"xaxis\":\"x5\",\"y\":[635,572,439,461,487,283,245,227,230,300,235,133,45,53,55,63,81,70,44,116,131,173,182,142,163,45],\"yaxis\":\"y5\",\"type\":\"bar\"},{\"alignmentgroup\":\"True\",\"hovertemplate\":\"requester=aPriori Technologies<br>region=DE<br>week_id=%{x}<br>count=%{y}<extra></extra>\",\"legendgroup\":\"aPriori Technologies\",\"marker\":{\"color\":\"#EF553B\",\"pattern\":{\"shape\":\"\"}},\"name\":\"aPriori Technologies\",\"offsetgroup\":\"aPriori Technologies\",\"orientation\":\"v\",\"showlegend\":true,\"textposition\":\"auto\",\"x\":[\"2021-week_33\",\"2021-week_34\",\"2021-week_35\",\"2021-week_36\",\"2021-week_37\",\"2021-week_38\",\"2021-week_39\",\"2021-week_40\",\"2021-week_41\",\"2021-week_42\",\"2021-week_43\",\"2021-week_44\",\"2021-week_45\",\"2021-week_46\",\"2021-week_47\",\"2021-week_48\",\"2021-week_49\",\"2021-week_50\",\"2021-week_51\",\"2022-week_01\",\"2022-week_02\",\"2022-week_03\",\"2022-week_04\",\"2022-week_05\",\"2022-week_06\",\"2022-week_52\"],\"xaxis\":\"x\",\"y\":[7,17,19,12,10,16,10,8,18,6,15,7,17,34,28,15,17,18,22,9,3,7,11,9,10,25],\"yaxis\":\"y\",\"type\":\"bar\"},{\"alignmentgroup\":\"True\",\"hovertemplate\":\"requester=aPriori Technologies<br>region=GB<br>week_id=%{x}<br>count=%{y}<extra></extra>\",\"legendgroup\":\"aPriori Technologies\",\"marker\":{\"color\":\"#EF553B\",\"pattern\":{\"shape\":\"\"}},\"name\":\"aPriori Technologies\",\"offsetgroup\":\"aPriori Technologies\",\"orientation\":\"v\",\"showlegend\":false,\"textposition\":\"auto\",\"x\":[\"2021-week_33\",\"2021-week_34\",\"2021-week_35\",\"2021-week_36\",\"2021-week_37\",\"2021-week_38\",\"2021-week_39\",\"2021-week_40\",\"2021-week_41\",\"2021-week_42\",\"2021-week_43\",\"2021-week_44\",\"2021-week_45\",\"2021-week_46\",\"2021-week_47\",\"2021-week_48\",\"2021-week_49\",\"2021-week_50\",\"2021-week_51\",\"2022-week_01\",\"2022-week_02\",\"2022-week_03\",\"2022-week_04\",\"2022-week_05\",\"2022-week_06\",\"2022-week_52\"],\"xaxis\":\"x2\",\"y\":[9,5,5,15,6,4,13,8,17,5,7,5,17,21,15,8,11,12,13,14,8,2,6,9,6,19],\"yaxis\":\"y2\",\"type\":\"bar\"},{\"alignmentgroup\":\"True\",\"hovertemplate\":\"requester=aPriori Technologies<br>region=IN<br>week_id=%{x}<br>count=%{y}<extra></extra>\",\"legendgroup\":\"aPriori Technologies\",\"marker\":{\"color\":\"#EF553B\",\"pattern\":{\"shape\":\"\"}},\"name\":\"aPriori Technologies\",\"offsetgroup\":\"aPriori Technologies\",\"orientation\":\"v\",\"showlegend\":false,\"textposition\":\"auto\",\"x\":[\"2021-week_33\",\"2021-week_34\",\"2021-week_35\",\"2021-week_36\",\"2021-week_37\",\"2021-week_38\",\"2021-week_39\",\"2021-week_40\",\"2021-week_41\",\"2021-week_42\",\"2021-week_43\",\"2021-week_44\",\"2021-week_45\",\"2021-week_46\",\"2021-week_47\",\"2021-week_48\",\"2021-week_49\",\"2021-week_50\",\"2021-week_51\",\"2022-week_01\",\"2022-week_02\",\"2022-week_03\",\"2022-week_04\",\"2022-week_05\",\"2022-week_06\",\"2022-week_52\"],\"xaxis\":\"x3\",\"y\":[18,15,24,9,15,11,26,45,9,19,16,14,15,17,22,21,19,18,18,19,15,15,9,13,12,13],\"yaxis\":\"y3\",\"type\":\"bar\"},{\"alignmentgroup\":\"True\",\"hovertemplate\":\"requester=aPriori Technologies<br>region=JP<br>week_id=%{x}<br>count=%{y}<extra></extra>\",\"legendgroup\":\"aPriori Technologies\",\"marker\":{\"color\":\"#EF553B\",\"pattern\":{\"shape\":\"\"}},\"name\":\"aPriori Technologies\",\"offsetgroup\":\"aPriori Technologies\",\"orientation\":\"v\",\"showlegend\":false,\"textposition\":\"auto\",\"x\":[\"2021-week_33\",\"2021-week_34\",\"2021-week_35\",\"2021-week_37\",\"2021-week_38\",\"2021-week_39\",\"2021-week_40\",\"2021-week_41\",\"2021-week_42\",\"2021-week_44\",\"2021-week_46\",\"2021-week_47\",\"2021-week_49\",\"2021-week_50\",\"2022-week_01\",\"2022-week_02\",\"2022-week_03\",\"2022-week_04\",\"2022-week_05\",\"2022-week_52\"],\"xaxis\":\"x4\",\"y\":[4,5,3,3,2,3,3,5,1,3,2,6,2,2,3,3,1,3,2,2],\"yaxis\":\"y4\",\"type\":\"bar\"},{\"alignmentgroup\":\"True\",\"hovertemplate\":\"requester=aPriori Technologies<br>region=US<br>week_id=%{x}<br>count=%{y}<extra></extra>\",\"legendgroup\":\"aPriori Technologies\",\"marker\":{\"color\":\"#EF553B\",\"pattern\":{\"shape\":\"\"}},\"name\":\"aPriori Technologies\",\"offsetgroup\":\"aPriori Technologies\",\"orientation\":\"v\",\"showlegend\":false,\"textposition\":\"auto\",\"x\":[\"2021-week_33\",\"2021-week_35\",\"2021-week_36\",\"2021-week_37\",\"2021-week_38\",\"2021-week_39\",\"2021-week_41\",\"2021-week_42\",\"2021-week_43\",\"2021-week_44\",\"2021-week_45\",\"2021-week_47\",\"2021-week_48\",\"2021-week_49\",\"2021-week_50\",\"2022-week_01\",\"2022-week_04\",\"2022-week_06\",\"2022-week_52\"],\"xaxis\":\"x5\",\"y\":[5,6,7,5,2,5,2,2,3,4,4,1,3,1,1,2,1,1,2],\"yaxis\":\"y5\",\"type\":\"bar\"},{\"alignmentgroup\":\"True\",\"hovertemplate\":\"requester=iDreamsky Technology<br>region=DE<br>week_id=%{x}<br>count=%{y}<extra></extra>\",\"legendgroup\":\"iDreamsky Technology\",\"marker\":{\"color\":\"#00cc96\",\"pattern\":{\"shape\":\"\"}},\"name\":\"iDreamsky Technology\",\"offsetgroup\":\"iDreamsky Technology\",\"orientation\":\"v\",\"showlegend\":true,\"textposition\":\"auto\",\"x\":[\"2021-week_33\",\"2021-week_34\",\"2021-week_35\",\"2021-week_36\",\"2021-week_37\",\"2021-week_38\",\"2021-week_39\",\"2021-week_40\",\"2021-week_41\",\"2021-week_42\",\"2021-week_43\",\"2021-week_44\",\"2021-week_45\",\"2021-week_46\",\"2021-week_47\",\"2021-week_48\",\"2021-week_49\",\"2021-week_50\",\"2021-week_51\",\"2022-week_01\",\"2022-week_02\",\"2022-week_03\",\"2022-week_04\",\"2022-week_05\",\"2022-week_06\",\"2022-week_52\"],\"xaxis\":\"x\",\"y\":[62,90,152,210,163,160,195,178,144,67,81,92,123,288,360,149,110,117,128,98,102,87,76,73,117,120],\"yaxis\":\"y\",\"type\":\"bar\"},{\"alignmentgroup\":\"True\",\"hovertemplate\":\"requester=iDreamsky Technology<br>region=GB<br>week_id=%{x}<br>count=%{y}<extra></extra>\",\"legendgroup\":\"iDreamsky Technology\",\"marker\":{\"color\":\"#00cc96\",\"pattern\":{\"shape\":\"\"}},\"name\":\"iDreamsky Technology\",\"offsetgroup\":\"iDreamsky Technology\",\"orientation\":\"v\",\"showlegend\":false,\"textposition\":\"auto\",\"x\":[\"2021-week_33\",\"2021-week_34\",\"2021-week_35\",\"2021-week_36\",\"2021-week_37\",\"2021-week_38\",\"2021-week_39\",\"2021-week_40\",\"2021-week_41\",\"2021-week_42\",\"2021-week_43\",\"2021-week_44\",\"2021-week_45\",\"2021-week_46\",\"2021-week_47\",\"2021-week_48\",\"2021-week_49\",\"2021-week_50\",\"2021-week_51\",\"2022-week_01\",\"2022-week_02\",\"2022-week_03\",\"2022-week_04\",\"2022-week_05\",\"2022-week_06\",\"2022-week_52\"],\"xaxis\":\"x2\",\"y\":[62,84,137,137,154,174,169,167,119,93,80,104,138,258,712,237,130,120,137,137,111,89,87,77,65,141],\"yaxis\":\"y2\",\"type\":\"bar\"},{\"alignmentgroup\":\"True\",\"hovertemplate\":\"requester=iDreamsky Technology<br>region=IN<br>week_id=%{x}<br>count=%{y}<extra></extra>\",\"legendgroup\":\"iDreamsky Technology\",\"marker\":{\"color\":\"#00cc96\",\"pattern\":{\"shape\":\"\"}},\"name\":\"iDreamsky Technology\",\"offsetgroup\":\"iDreamsky Technology\",\"orientation\":\"v\",\"showlegend\":false,\"textposition\":\"auto\",\"x\":[\"2021-week_33\",\"2021-week_34\",\"2021-week_35\",\"2021-week_36\",\"2021-week_37\",\"2021-week_38\",\"2021-week_39\",\"2021-week_40\",\"2021-week_41\",\"2021-week_42\",\"2021-week_43\",\"2021-week_44\",\"2021-week_45\",\"2021-week_46\",\"2021-week_47\",\"2021-week_48\",\"2021-week_49\",\"2021-week_50\",\"2021-week_51\",\"2022-week_01\",\"2022-week_02\",\"2022-week_03\",\"2022-week_04\",\"2022-week_05\",\"2022-week_06\",\"2022-week_52\"],\"xaxis\":\"x3\",\"y\":[36,54,83,79,98,132,154,158,120,62,56,56,82,63,84,72,69,74,59,78,73,60,39,44,47,63],\"yaxis\":\"y3\",\"type\":\"bar\"},{\"alignmentgroup\":\"True\",\"hovertemplate\":\"requester=iDreamsky Technology<br>region=JP<br>week_id=%{x}<br>count=%{y}<extra></extra>\",\"legendgroup\":\"iDreamsky Technology\",\"marker\":{\"color\":\"#00cc96\",\"pattern\":{\"shape\":\"\"}},\"name\":\"iDreamsky Technology\",\"offsetgroup\":\"iDreamsky Technology\",\"orientation\":\"v\",\"showlegend\":false,\"textposition\":\"auto\",\"x\":[\"2021-week_33\",\"2021-week_34\",\"2021-week_35\",\"2021-week_36\",\"2021-week_37\",\"2021-week_38\",\"2021-week_39\",\"2021-week_40\",\"2021-week_41\",\"2021-week_42\",\"2021-week_43\",\"2021-week_44\",\"2021-week_45\",\"2021-week_46\",\"2021-week_47\",\"2021-week_48\",\"2021-week_49\",\"2021-week_50\",\"2022-week_01\",\"2022-week_02\",\"2022-week_03\",\"2022-week_04\",\"2022-week_05\",\"2022-week_06\",\"2022-week_52\"],\"xaxis\":\"x4\",\"y\":[82,23,64,65,62,193,89,55,43,5,31,18,15,6,30,16,16,27,21,14,25,16,18,11,30],\"yaxis\":\"y4\",\"type\":\"bar\"},{\"alignmentgroup\":\"True\",\"hovertemplate\":\"requester=iDreamsky Technology<br>region=US<br>week_id=%{x}<br>count=%{y}<extra></extra>\",\"legendgroup\":\"iDreamsky Technology\",\"marker\":{\"color\":\"#00cc96\",\"pattern\":{\"shape\":\"\"}},\"name\":\"iDreamsky Technology\",\"offsetgroup\":\"iDreamsky Technology\",\"orientation\":\"v\",\"showlegend\":false,\"textposition\":\"auto\",\"x\":[\"2021-week_33\",\"2021-week_34\",\"2021-week_35\",\"2021-week_36\",\"2021-week_37\",\"2021-week_38\",\"2021-week_39\",\"2021-week_40\",\"2021-week_41\",\"2021-week_42\",\"2021-week_43\",\"2021-week_44\",\"2021-week_45\",\"2021-week_46\",\"2021-week_47\",\"2021-week_48\",\"2021-week_49\",\"2021-week_50\",\"2021-week_51\",\"2022-week_01\",\"2022-week_02\",\"2022-week_03\",\"2022-week_04\",\"2022-week_05\",\"2022-week_06\",\"2022-week_52\"],\"xaxis\":\"x5\",\"y\":[72,53,78,115,124,76,50,58,45,38,24,24,18,30,72,48,31,24,14,15,14,24,17,23,27,23],\"yaxis\":\"y5\",\"type\":\"bar\"},{\"alignmentgroup\":\"True\",\"hovertemplate\":\"requester=Allthetopbananas.com<br>region=DE<br>week_id=%{x}<br>count=%{y}<extra></extra>\",\"legendgroup\":\"Allthetopbananas.com\",\"marker\":{\"color\":\"#ab63fa\",\"pattern\":{\"shape\":\"\"}},\"name\":\"Allthetopbananas.com\",\"offsetgroup\":\"Allthetopbananas.com\",\"orientation\":\"v\",\"showlegend\":true,\"textposition\":\"auto\",\"x\":[\"2021-week_40\",\"2021-week_41\",\"2021-week_42\",\"2021-week_43\",\"2021-week_44\",\"2021-week_45\",\"2021-week_46\",\"2021-week_47\",\"2021-week_49\",\"2021-week_50\",\"2021-week_51\",\"2022-week_01\",\"2022-week_02\",\"2022-week_04\",\"2022-week_05\",\"2022-week_06\",\"2022-week_52\"],\"xaxis\":\"x\",\"y\":[1,2,1,1,4,7,4,2,2,4,5,2,2,2,5,3,4],\"yaxis\":\"y\",\"type\":\"bar\"},{\"alignmentgroup\":\"True\",\"hovertemplate\":\"requester=Allthetopbananas.com<br>region=GB<br>week_id=%{x}<br>count=%{y}<extra></extra>\",\"legendgroup\":\"Allthetopbananas.com\",\"marker\":{\"color\":\"#ab63fa\",\"pattern\":{\"shape\":\"\"}},\"name\":\"Allthetopbananas.com\",\"offsetgroup\":\"Allthetopbananas.com\",\"orientation\":\"v\",\"showlegend\":false,\"textposition\":\"auto\",\"x\":[\"2021-week_33\",\"2021-week_35\",\"2021-week_36\",\"2021-week_37\",\"2021-week_38\",\"2021-week_39\",\"2021-week_40\",\"2021-week_41\",\"2021-week_42\",\"2021-week_43\",\"2021-week_44\",\"2021-week_45\",\"2021-week_46\",\"2021-week_47\",\"2021-week_48\",\"2021-week_49\",\"2021-week_50\",\"2022-week_01\",\"2022-week_02\",\"2022-week_03\",\"2022-week_04\",\"2022-week_52\"],\"xaxis\":\"x2\",\"y\":[2,1,2,4,3,1,5,2,1,1,1,1,2,1,2,4,1,2,1,5,4,4],\"yaxis\":\"y2\",\"type\":\"bar\"},{\"alignmentgroup\":\"True\",\"hovertemplate\":\"requester=Allthetopbananas.com<br>region=IN<br>week_id=%{x}<br>count=%{y}<extra></extra>\",\"legendgroup\":\"Allthetopbananas.com\",\"marker\":{\"color\":\"#ab63fa\",\"pattern\":{\"shape\":\"\"}},\"name\":\"Allthetopbananas.com\",\"offsetgroup\":\"Allthetopbananas.com\",\"orientation\":\"v\",\"showlegend\":false,\"textposition\":\"auto\",\"x\":[\"2021-week_33\",\"2021-week_34\",\"2021-week_35\",\"2021-week_36\",\"2021-week_37\",\"2021-week_38\",\"2021-week_39\",\"2021-week_40\",\"2021-week_41\",\"2021-week_42\",\"2021-week_43\",\"2021-week_44\",\"2021-week_45\",\"2021-week_46\",\"2021-week_47\",\"2021-week_48\",\"2021-week_49\",\"2021-week_50\",\"2021-week_51\",\"2022-week_01\",\"2022-week_02\",\"2022-week_03\",\"2022-week_04\",\"2022-week_06\",\"2022-week_52\"],\"xaxis\":\"x3\",\"y\":[4,3,5,9,6,10,5,8,6,2,1,5,7,5,2,5,2,3,1,2,4,3,2,1,6],\"yaxis\":\"y3\",\"type\":\"bar\"},{\"alignmentgroup\":\"True\",\"hovertemplate\":\"requester=Allthetopbananas.com<br>region=US<br>week_id=%{x}<br>count=%{y}<extra></extra>\",\"legendgroup\":\"Allthetopbananas.com\",\"marker\":{\"color\":\"#ab63fa\",\"pattern\":{\"shape\":\"\"}},\"name\":\"Allthetopbananas.com\",\"offsetgroup\":\"Allthetopbananas.com\",\"orientation\":\"v\",\"showlegend\":false,\"textposition\":\"auto\",\"x\":[\"2021-week_33\",\"2021-week_35\",\"2021-week_36\",\"2021-week_37\",\"2021-week_38\",\"2021-week_45\"],\"xaxis\":\"x5\",\"y\":[1,1,3,1,1,1],\"yaxis\":\"y5\",\"type\":\"bar\"},{\"alignmentgroup\":\"True\",\"hovertemplate\":\"requester=Fancy<br>region=GB<br>week_id=%{x}<br>count=%{y}<extra></extra>\",\"legendgroup\":\"Fancy\",\"marker\":{\"color\":\"#FFA15A\",\"pattern\":{\"shape\":\"\"}},\"name\":\"Fancy\",\"offsetgroup\":\"Fancy\",\"orientation\":\"v\",\"showlegend\":true,\"textposition\":\"auto\",\"x\":[\"2021-week_33\",\"2021-week_34\",\"2021-week_35\",\"2021-week_36\",\"2021-week_37\",\"2021-week_38\",\"2021-week_39\",\"2021-week_40\",\"2021-week_41\",\"2021-week_42\",\"2021-week_43\",\"2021-week_44\",\"2021-week_45\",\"2021-week_46\",\"2021-week_47\",\"2021-week_48\",\"2021-week_49\",\"2021-week_50\",\"2021-week_51\",\"2022-week_01\",\"2022-week_02\",\"2022-week_03\",\"2022-week_04\",\"2022-week_05\",\"2022-week_06\",\"2022-week_52\"],\"xaxis\":\"x2\",\"y\":[523,454,453,568,468,466,486,528,599,374,432,529,619,449,242,333,351,352,385,333,360,541,924,1081,1389,439],\"yaxis\":\"y2\",\"type\":\"bar\"},{\"alignmentgroup\":\"True\",\"hovertemplate\":\"requester=Fancy<br>region=US<br>week_id=%{x}<br>count=%{y}<extra></extra>\",\"legendgroup\":\"Fancy\",\"marker\":{\"color\":\"#FFA15A\",\"pattern\":{\"shape\":\"\"}},\"name\":\"Fancy\",\"offsetgroup\":\"Fancy\",\"orientation\":\"v\",\"showlegend\":false,\"textposition\":\"auto\",\"x\":[\"2021-week_33\",\"2021-week_34\",\"2021-week_35\",\"2021-week_36\",\"2021-week_37\",\"2021-week_38\",\"2021-week_39\",\"2021-week_40\",\"2021-week_41\",\"2021-week_42\",\"2021-week_43\",\"2021-week_44\",\"2021-week_45\",\"2021-week_46\",\"2021-week_47\",\"2021-week_48\",\"2021-week_49\",\"2021-week_50\",\"2021-week_51\",\"2022-week_01\",\"2022-week_02\",\"2022-week_03\",\"2022-week_04\",\"2022-week_05\",\"2022-week_06\",\"2022-week_52\"],\"xaxis\":\"x5\",\"y\":[408,302,428,496,714,697,588,671,849,770,798,764,712,575,331,679,1297,1257,788,637,656,772,855,884,866,874],\"yaxis\":\"y5\",\"type\":\"bar\"},{\"alignmentgroup\":\"True\",\"hovertemplate\":\"requester=Mission Street Manufacturing<br>region=GB<br>week_id=%{x}<br>count=%{y}<extra></extra>\",\"legendgroup\":\"Mission Street Manufacturing\",\"marker\":{\"color\":\"#19d3f3\",\"pattern\":{\"shape\":\"\"}},\"name\":\"Mission Street Manufacturing\",\"offsetgroup\":\"Mission Street Manufacturing\",\"orientation\":\"v\",\"showlegend\":true,\"textposition\":\"auto\",\"x\":[\"2021-week_33\",\"2021-week_34\",\"2021-week_35\",\"2021-week_36\",\"2021-week_37\",\"2021-week_38\",\"2021-week_39\",\"2021-week_40\",\"2021-week_41\",\"2021-week_42\",\"2021-week_43\",\"2021-week_44\",\"2021-week_45\",\"2021-week_46\",\"2021-week_47\",\"2021-week_48\",\"2021-week_49\",\"2021-week_50\",\"2021-week_51\",\"2022-week_01\",\"2022-week_02\",\"2022-week_03\",\"2022-week_04\",\"2022-week_05\",\"2022-week_06\",\"2022-week_52\"],\"xaxis\":\"x2\",\"y\":[2,3,5,1,1,5,2,2,3,2,1,6,4,3,5,4,8,3,4,3,3,4,1,3,4,4],\"yaxis\":\"y2\",\"type\":\"bar\"},{\"alignmentgroup\":\"True\",\"hovertemplate\":\"requester=Mission Street Manufacturing<br>region=US<br>week_id=%{x}<br>count=%{y}<extra></extra>\",\"legendgroup\":\"Mission Street Manufacturing\",\"marker\":{\"color\":\"#19d3f3\",\"pattern\":{\"shape\":\"\"}},\"name\":\"Mission Street Manufacturing\",\"offsetgroup\":\"Mission Street Manufacturing\",\"orientation\":\"v\",\"showlegend\":false,\"textposition\":\"auto\",\"x\":[\"2021-week_33\",\"2021-week_34\",\"2021-week_35\",\"2021-week_36\",\"2021-week_37\",\"2021-week_38\",\"2021-week_39\",\"2021-week_40\",\"2021-week_41\",\"2021-week_42\",\"2021-week_43\",\"2021-week_44\",\"2021-week_45\",\"2021-week_46\",\"2021-week_47\",\"2021-week_48\",\"2021-week_49\",\"2021-week_50\",\"2021-week_51\",\"2022-week_01\",\"2022-week_03\",\"2022-week_06\"],\"xaxis\":\"x5\",\"y\":[12,7,10,4,4,4,4,3,3,4,5,7,5,5,3,2,5,3,1,2,3,4],\"yaxis\":\"y5\",\"type\":\"bar\"},{\"alignmentgroup\":\"True\",\"hovertemplate\":\"requester=OpenDesks, Inc.<br>region=DE<br>week_id=%{x}<br>count=%{y}<extra></extra>\",\"legendgroup\":\"OpenDesks, Inc.\",\"marker\":{\"color\":\"#FF6692\",\"pattern\":{\"shape\":\"\"}},\"name\":\"OpenDesks, Inc.\",\"offsetgroup\":\"OpenDesks, Inc.\",\"orientation\":\"v\",\"showlegend\":true,\"textposition\":\"auto\",\"x\":[\"2021-week_34\",\"2021-week_36\",\"2021-week_38\",\"2021-week_39\",\"2021-week_41\",\"2021-week_45\",\"2021-week_46\",\"2021-week_47\",\"2021-week_48\",\"2021-week_49\",\"2021-week_50\",\"2021-week_51\",\"2022-week_01\",\"2022-week_03\",\"2022-week_04\",\"2022-week_05\",\"2022-week_06\",\"2022-week_52\"],\"xaxis\":\"x\",\"y\":[1,2,1,1,2,1,11,7,4,4,2,4,1,2,1,1,1,4],\"yaxis\":\"y\",\"type\":\"bar\"},{\"alignmentgroup\":\"True\",\"hovertemplate\":\"requester=OpenDesks, Inc.<br>region=GB<br>week_id=%{x}<br>count=%{y}<extra></extra>\",\"legendgroup\":\"OpenDesks, Inc.\",\"marker\":{\"color\":\"#FF6692\",\"pattern\":{\"shape\":\"\"}},\"name\":\"OpenDesks, Inc.\",\"offsetgroup\":\"OpenDesks, Inc.\",\"orientation\":\"v\",\"showlegend\":false,\"textposition\":\"auto\",\"x\":[\"2021-week_33\",\"2021-week_34\",\"2021-week_36\",\"2021-week_37\",\"2021-week_38\",\"2021-week_39\",\"2021-week_40\",\"2021-week_41\",\"2021-week_42\",\"2021-week_44\",\"2021-week_45\",\"2021-week_46\",\"2021-week_47\",\"2021-week_48\",\"2021-week_49\",\"2021-week_50\",\"2021-week_51\",\"2022-week_02\",\"2022-week_03\",\"2022-week_04\",\"2022-week_05\",\"2022-week_06\",\"2022-week_52\"],\"xaxis\":\"x2\",\"y\":[3,1,1,2,1,1,1,5,1,1,2,17,15,5,3,1,3,1,1,1,1,1,4],\"yaxis\":\"y2\",\"type\":\"bar\"},{\"alignmentgroup\":\"True\",\"hovertemplate\":\"requester=OpenDesks, Inc.<br>region=IN<br>week_id=%{x}<br>count=%{y}<extra></extra>\",\"legendgroup\":\"OpenDesks, Inc.\",\"marker\":{\"color\":\"#FF6692\",\"pattern\":{\"shape\":\"\"}},\"name\":\"OpenDesks, Inc.\",\"offsetgroup\":\"OpenDesks, Inc.\",\"orientation\":\"v\",\"showlegend\":false,\"textposition\":\"auto\",\"x\":[\"2021-week_33\",\"2021-week_34\",\"2021-week_35\",\"2021-week_36\",\"2021-week_37\",\"2021-week_38\",\"2021-week_39\",\"2021-week_40\",\"2021-week_41\",\"2021-week_42\",\"2021-week_43\",\"2021-week_44\",\"2021-week_45\",\"2021-week_46\",\"2021-week_47\",\"2021-week_48\",\"2021-week_49\",\"2021-week_50\",\"2021-week_51\",\"2022-week_01\",\"2022-week_02\",\"2022-week_03\",\"2022-week_04\",\"2022-week_05\",\"2022-week_06\",\"2022-week_52\"],\"xaxis\":\"x3\",\"y\":[2,4,7,15,11,15,25,32,19,26,16,25,20,14,13,11,15,9,24,20,23,14,11,10,11,20],\"yaxis\":\"y3\",\"type\":\"bar\"},{\"alignmentgroup\":\"True\",\"hovertemplate\":\"requester=OpenDesks, Inc.<br>region=JP<br>week_id=%{x}<br>count=%{y}<extra></extra>\",\"legendgroup\":\"OpenDesks, Inc.\",\"marker\":{\"color\":\"#FF6692\",\"pattern\":{\"shape\":\"\"}},\"name\":\"OpenDesks, Inc.\",\"offsetgroup\":\"OpenDesks, Inc.\",\"orientation\":\"v\",\"showlegend\":false,\"textposition\":\"auto\",\"x\":[\"2021-week_33\",\"2021-week_39\",\"2021-week_46\",\"2021-week_48\",\"2022-week_52\"],\"xaxis\":\"x4\",\"y\":[1,1,1,1,2],\"yaxis\":\"y4\",\"type\":\"bar\"},{\"alignmentgroup\":\"True\",\"hovertemplate\":\"requester=OpenDesks, Inc.<br>region=US<br>week_id=%{x}<br>count=%{y}<extra></extra>\",\"legendgroup\":\"OpenDesks, Inc.\",\"marker\":{\"color\":\"#FF6692\",\"pattern\":{\"shape\":\"\"}},\"name\":\"OpenDesks, Inc.\",\"offsetgroup\":\"OpenDesks, Inc.\",\"orientation\":\"v\",\"showlegend\":false,\"textposition\":\"auto\",\"x\":[\"2021-week_36\",\"2021-week_38\",\"2021-week_39\",\"2021-week_40\",\"2021-week_42\",\"2021-week_44\",\"2021-week_47\"],\"xaxis\":\"x5\",\"y\":[1,1,1,1,1,1,2],\"yaxis\":\"y5\",\"type\":\"bar\"},{\"alignmentgroup\":\"True\",\"hovertemplate\":\"requester=VarVee<br>region=DE<br>week_id=%{x}<br>count=%{y}<extra></extra>\",\"legendgroup\":\"VarVee\",\"marker\":{\"color\":\"#B6E880\",\"pattern\":{\"shape\":\"\"}},\"name\":\"VarVee\",\"offsetgroup\":\"VarVee\",\"orientation\":\"v\",\"showlegend\":true,\"textposition\":\"auto\",\"x\":[\"2021-week_36\",\"2021-week_37\",\"2021-week_38\",\"2021-week_39\",\"2021-week_40\",\"2021-week_41\",\"2021-week_42\",\"2021-week_43\",\"2021-week_44\",\"2021-week_45\",\"2021-week_46\",\"2021-week_47\",\"2021-week_48\",\"2021-week_50\",\"2021-week_51\",\"2022-week_04\",\"2022-week_06\",\"2022-week_52\"],\"xaxis\":\"x\",\"y\":[3,12,9,10,6,9,7,4,4,7,2,6,7,3,4,2,1,1],\"yaxis\":\"y\",\"type\":\"bar\"},{\"alignmentgroup\":\"True\",\"hovertemplate\":\"requester=VarVee<br>region=GB<br>week_id=%{x}<br>count=%{y}<extra></extra>\",\"legendgroup\":\"VarVee\",\"marker\":{\"color\":\"#B6E880\",\"pattern\":{\"shape\":\"\"}},\"name\":\"VarVee\",\"offsetgroup\":\"VarVee\",\"orientation\":\"v\",\"showlegend\":false,\"textposition\":\"auto\",\"x\":[\"2021-week_33\",\"2021-week_34\",\"2021-week_35\",\"2021-week_36\",\"2021-week_37\",\"2021-week_38\",\"2021-week_39\",\"2021-week_40\",\"2021-week_41\",\"2021-week_42\",\"2021-week_43\",\"2021-week_44\",\"2021-week_45\",\"2021-week_46\",\"2021-week_47\",\"2021-week_48\",\"2022-week_02\",\"2022-week_03\",\"2022-week_04\",\"2022-week_05\",\"2022-week_06\"],\"xaxis\":\"x2\",\"y\":[25,22,7,12,24,32,21,22,25,12,13,27,20,11,14,14,3,2,2,2,4],\"yaxis\":\"y2\",\"type\":\"bar\"},{\"alignmentgroup\":\"True\",\"hovertemplate\":\"requester=VarVee<br>region=IN<br>week_id=%{x}<br>count=%{y}<extra></extra>\",\"legendgroup\":\"VarVee\",\"marker\":{\"color\":\"#B6E880\",\"pattern\":{\"shape\":\"\"}},\"name\":\"VarVee\",\"offsetgroup\":\"VarVee\",\"orientation\":\"v\",\"showlegend\":false,\"textposition\":\"auto\",\"x\":[\"2022-week_03\",\"2022-week_04\",\"2022-week_05\"],\"xaxis\":\"x3\",\"y\":[1,2,1],\"yaxis\":\"y3\",\"type\":\"bar\"},{\"alignmentgroup\":\"True\",\"hovertemplate\":\"requester=VarVee<br>region=JP<br>week_id=%{x}<br>count=%{y}<extra></extra>\",\"legendgroup\":\"VarVee\",\"marker\":{\"color\":\"#B6E880\",\"pattern\":{\"shape\":\"\"}},\"name\":\"VarVee\",\"offsetgroup\":\"VarVee\",\"orientation\":\"v\",\"showlegend\":false,\"textposition\":\"auto\",\"x\":[\"2021-week_34\",\"2021-week_35\",\"2021-week_36\",\"2021-week_37\",\"2021-week_38\",\"2021-week_39\",\"2021-week_40\",\"2021-week_41\",\"2021-week_42\",\"2021-week_43\",\"2021-week_44\",\"2021-week_45\",\"2021-week_46\",\"2021-week_47\",\"2021-week_49\",\"2021-week_50\",\"2022-week_01\",\"2022-week_02\",\"2022-week_03\",\"2022-week_04\",\"2022-week_05\",\"2022-week_06\",\"2022-week_52\"],\"xaxis\":\"x4\",\"y\":[37,55,74,63,58,40,39,45,9,19,10,21,20,16,1,3,1,2,4,3,2,5,3],\"yaxis\":\"y4\",\"type\":\"bar\"},{\"alignmentgroup\":\"True\",\"hovertemplate\":\"requester=VarVee<br>region=US<br>week_id=%{x}<br>count=%{y}<extra></extra>\",\"legendgroup\":\"VarVee\",\"marker\":{\"color\":\"#B6E880\",\"pattern\":{\"shape\":\"\"}},\"name\":\"VarVee\",\"offsetgroup\":\"VarVee\",\"orientation\":\"v\",\"showlegend\":false,\"textposition\":\"auto\",\"x\":[\"2021-week_33\",\"2021-week_34\",\"2021-week_35\",\"2021-week_36\",\"2021-week_37\",\"2021-week_38\",\"2021-week_39\",\"2021-week_40\",\"2021-week_41\",\"2021-week_42\",\"2021-week_43\",\"2021-week_44\",\"2021-week_45\",\"2021-week_46\",\"2021-week_47\",\"2021-week_48\",\"2021-week_49\",\"2021-week_50\",\"2021-week_51\",\"2022-week_01\",\"2022-week_02\",\"2022-week_03\",\"2022-week_04\",\"2022-week_05\",\"2022-week_52\"],\"xaxis\":\"x5\",\"y\":[8,8,8,10,8,4,2,2,1,6,7,5,4,2,3,4,6,3,2,3,5,4,6,6,2],\"yaxis\":\"y5\",\"type\":\"bar\"},{\"alignmentgroup\":\"True\",\"hovertemplate\":\"requester=Cuiker<br>region=DE<br>week_id=%{x}<br>count=%{y}<extra></extra>\",\"legendgroup\":\"Cuiker\",\"marker\":{\"color\":\"#FF97FF\",\"pattern\":{\"shape\":\"\"}},\"name\":\"Cuiker\",\"offsetgroup\":\"Cuiker\",\"orientation\":\"v\",\"showlegend\":true,\"textposition\":\"auto\",\"x\":[\"2021-week_43\",\"2021-week_46\",\"2021-week_49\",\"2021-week_50\",\"2021-week_51\",\"2022-week_02\"],\"xaxis\":\"x\",\"y\":[1,1,1,1,1,1],\"yaxis\":\"y\",\"type\":\"bar\"},{\"alignmentgroup\":\"True\",\"hovertemplate\":\"requester=Cuiker<br>region=GB<br>week_id=%{x}<br>count=%{y}<extra></extra>\",\"legendgroup\":\"Cuiker\",\"marker\":{\"color\":\"#FF97FF\",\"pattern\":{\"shape\":\"\"}},\"name\":\"Cuiker\",\"offsetgroup\":\"Cuiker\",\"orientation\":\"v\",\"showlegend\":false,\"textposition\":\"auto\",\"x\":[\"2021-week_35\"],\"xaxis\":\"x2\",\"y\":[1],\"yaxis\":\"y2\",\"type\":\"bar\"},{\"alignmentgroup\":\"True\",\"hovertemplate\":\"requester=Cuiker<br>region=IN<br>week_id=%{x}<br>count=%{y}<extra></extra>\",\"legendgroup\":\"Cuiker\",\"marker\":{\"color\":\"#FF97FF\",\"pattern\":{\"shape\":\"\"}},\"name\":\"Cuiker\",\"offsetgroup\":\"Cuiker\",\"orientation\":\"v\",\"showlegend\":false,\"textposition\":\"auto\",\"x\":[\"2021-week_33\",\"2021-week_34\",\"2021-week_36\",\"2021-week_41\",\"2021-week_45\",\"2021-week_47\",\"2021-week_49\",\"2021-week_50\",\"2022-week_01\",\"2022-week_03\",\"2022-week_06\",\"2022-week_52\"],\"xaxis\":\"x3\",\"y\":[1,1,1,1,1,1,2,1,1,1,1,1],\"yaxis\":\"y3\",\"type\":\"bar\"},{\"alignmentgroup\":\"True\",\"hovertemplate\":\"requester=Cuiker<br>region=JP<br>week_id=%{x}<br>count=%{y}<extra></extra>\",\"legendgroup\":\"Cuiker\",\"marker\":{\"color\":\"#FF97FF\",\"pattern\":{\"shape\":\"\"}},\"name\":\"Cuiker\",\"offsetgroup\":\"Cuiker\",\"orientation\":\"v\",\"showlegend\":false,\"textposition\":\"auto\",\"x\":[\"2021-week_47\"],\"xaxis\":\"x4\",\"y\":[1],\"yaxis\":\"y4\",\"type\":\"bar\"},{\"alignmentgroup\":\"True\",\"hovertemplate\":\"requester=Cuiker<br>region=US<br>week_id=%{x}<br>count=%{y}<extra></extra>\",\"legendgroup\":\"Cuiker\",\"marker\":{\"color\":\"#FF97FF\",\"pattern\":{\"shape\":\"\"}},\"name\":\"Cuiker\",\"offsetgroup\":\"Cuiker\",\"orientation\":\"v\",\"showlegend\":false,\"textposition\":\"auto\",\"x\":[\"2021-week_42\"],\"xaxis\":\"x5\",\"y\":[1],\"yaxis\":\"y5\",\"type\":\"bar\"},{\"alignmentgroup\":\"True\",\"hovertemplate\":\"requester=Puentes Company<br>region=IN<br>week_id=%{x}<br>count=%{y}<extra></extra>\",\"legendgroup\":\"Puentes Company\",\"marker\":{\"color\":\"#FECB52\",\"pattern\":{\"shape\":\"\"}},\"name\":\"Puentes Company\",\"offsetgroup\":\"Puentes Company\",\"orientation\":\"v\",\"showlegend\":true,\"textposition\":\"auto\",\"x\":[\"2021-week_33\",\"2021-week_34\",\"2021-week_35\",\"2021-week_36\",\"2021-week_37\",\"2021-week_38\",\"2021-week_39\",\"2021-week_40\",\"2021-week_41\",\"2021-week_42\",\"2021-week_43\",\"2021-week_44\",\"2021-week_45\",\"2021-week_46\",\"2021-week_47\",\"2021-week_48\",\"2021-week_49\",\"2021-week_50\",\"2021-week_51\",\"2022-week_01\",\"2022-week_02\",\"2022-week_03\",\"2022-week_04\",\"2022-week_05\",\"2022-week_06\",\"2022-week_52\"],\"xaxis\":\"x3\",\"y\":[1357,1178,1081,1092,1066,980,981,1005,1268,1036,910,1104,1487,1338,1305,1173,1309,1224,1329,1343,1307,950,848,812,839,1105],\"yaxis\":\"y3\",\"type\":\"bar\"},{\"alignmentgroup\":\"True\",\"hovertemplate\":\"requester=FlagTap<br>region=US<br>week_id=%{x}<br>count=%{y}<extra></extra>\",\"legendgroup\":\"FlagTap\",\"marker\":{\"color\":\"#636efa\",\"pattern\":{\"shape\":\"\"}},\"name\":\"FlagTap\",\"offsetgroup\":\"FlagTap\",\"orientation\":\"v\",\"showlegend\":true,\"textposition\":\"auto\",\"x\":[\"2021-week_33\"],\"xaxis\":\"x5\",\"y\":[2],\"yaxis\":\"y5\",\"type\":\"bar\"},{\"alignmentgroup\":\"True\",\"hovertemplate\":\"requester=Glory Medical<br>region=US<br>week_id=%{x}<br>count=%{y}<extra></extra>\",\"legendgroup\":\"Glory Medical\",\"marker\":{\"color\":\"#EF553B\",\"pattern\":{\"shape\":\"\"}},\"name\":\"Glory Medical\",\"offsetgroup\":\"Glory Medical\",\"orientation\":\"v\",\"showlegend\":true,\"textposition\":\"auto\",\"x\":[\"2021-week_33\",\"2021-week_34\",\"2021-week_35\",\"2021-week_36\",\"2021-week_37\",\"2021-week_38\",\"2021-week_39\",\"2021-week_40\",\"2021-week_41\",\"2021-week_42\",\"2021-week_43\",\"2021-week_44\",\"2021-week_46\",\"2021-week_47\",\"2021-week_48\",\"2021-week_49\",\"2021-week_50\",\"2021-week_51\",\"2022-week_01\",\"2022-week_02\",\"2022-week_03\",\"2022-week_05\",\"2022-week_52\"],\"xaxis\":\"x5\",\"y\":[49,11,2,9,3,5,3,3,1,1,1,5,2,3,4,6,5,4,2,2,1,2,1],\"yaxis\":\"y5\",\"type\":\"bar\"},{\"alignmentgroup\":\"True\",\"hovertemplate\":\"requester=Joules Clothing<br>region=US<br>week_id=%{x}<br>count=%{y}<extra></extra>\",\"legendgroup\":\"Joules Clothing\",\"marker\":{\"color\":\"#00cc96\",\"pattern\":{\"shape\":\"\"}},\"name\":\"Joules Clothing\",\"offsetgroup\":\"Joules Clothing\",\"orientation\":\"v\",\"showlegend\":true,\"textposition\":\"auto\",\"x\":[\"2021-week_33\",\"2021-week_34\",\"2021-week_35\",\"2021-week_36\",\"2021-week_38\",\"2021-week_41\",\"2021-week_42\",\"2021-week_44\",\"2021-week_45\",\"2021-week_46\",\"2021-week_47\",\"2022-week_02\"],\"xaxis\":\"x5\",\"y\":[4,1,5,3,1,1,2,3,1,2,1,1],\"yaxis\":\"y5\",\"type\":\"bar\"},{\"alignmentgroup\":\"True\",\"hovertemplate\":\"requester=Metranome<br>region=US<br>week_id=%{x}<br>count=%{y}<extra></extra>\",\"legendgroup\":\"Metranome\",\"marker\":{\"color\":\"#ab63fa\",\"pattern\":{\"shape\":\"\"}},\"name\":\"Metranome\",\"offsetgroup\":\"Metranome\",\"orientation\":\"v\",\"showlegend\":true,\"textposition\":\"auto\",\"x\":[\"2021-week_33\",\"2021-week_34\",\"2021-week_35\",\"2021-week_36\",\"2021-week_37\",\"2021-week_38\",\"2021-week_39\",\"2021-week_40\",\"2021-week_44\",\"2021-week_46\",\"2021-week_49\",\"2021-week_50\",\"2021-week_51\",\"2022-week_04\",\"2022-week_05\",\"2022-week_06\",\"2022-week_52\"],\"xaxis\":\"x5\",\"y\":[4,3,4,5,1,1,2,2,1,1,2,2,1,2,1,1,1],\"yaxis\":\"y5\",\"type\":\"bar\"},{\"alignmentgroup\":\"True\",\"hovertemplate\":\"requester=PageBites<br>region=US<br>week_id=%{x}<br>count=%{y}<extra></extra>\",\"legendgroup\":\"PageBites\",\"marker\":{\"color\":\"#FFA15A\",\"pattern\":{\"shape\":\"\"}},\"name\":\"PageBites\",\"offsetgroup\":\"PageBites\",\"orientation\":\"v\",\"showlegend\":true,\"textposition\":\"auto\",\"x\":[\"2021-week_33\",\"2021-week_34\",\"2021-week_35\",\"2021-week_36\",\"2021-week_37\",\"2021-week_38\",\"2021-week_39\",\"2021-week_40\",\"2021-week_41\",\"2021-week_42\",\"2021-week_43\",\"2021-week_44\",\"2022-week_02\",\"2022-week_03\",\"2022-week_04\",\"2022-week_05\",\"2022-week_06\"],\"xaxis\":\"x5\",\"y\":[23,10,16,12,18,11,7,1,7,8,4,3,2,3,3,3,4],\"yaxis\":\"y5\",\"type\":\"bar\"},{\"alignmentgroup\":\"True\",\"hovertemplate\":\"requester=Pole Star<br>region=DE<br>week_id=%{x}<br>count=%{y}<extra></extra>\",\"legendgroup\":\"Pole Star\",\"marker\":{\"color\":\"#19d3f3\",\"pattern\":{\"shape\":\"\"}},\"name\":\"Pole Star\",\"offsetgroup\":\"Pole Star\",\"orientation\":\"v\",\"showlegend\":true,\"textposition\":\"auto\",\"x\":[\"2021-week_41\",\"2021-week_43\",\"2021-week_45\",\"2021-week_46\",\"2022-week_02\",\"2022-week_03\",\"2022-week_04\",\"2022-week_05\",\"2022-week_06\"],\"xaxis\":\"x\",\"y\":[3,1,6,3,1,1,3,6,12],\"yaxis\":\"y\",\"type\":\"bar\"},{\"alignmentgroup\":\"True\",\"hovertemplate\":\"requester=Pole Star<br>region=GB<br>week_id=%{x}<br>count=%{y}<extra></extra>\",\"legendgroup\":\"Pole Star\",\"marker\":{\"color\":\"#19d3f3\",\"pattern\":{\"shape\":\"\"}},\"name\":\"Pole Star\",\"offsetgroup\":\"Pole Star\",\"orientation\":\"v\",\"showlegend\":false,\"textposition\":\"auto\",\"x\":[\"2021-week_41\",\"2021-week_44\",\"2021-week_45\",\"2021-week_46\",\"2022-week_02\",\"2022-week_03\",\"2022-week_04\",\"2022-week_05\",\"2022-week_06\"],\"xaxis\":\"x2\",\"y\":[2,2,8,7,1,1,11,4,4],\"yaxis\":\"y2\",\"type\":\"bar\"},{\"alignmentgroup\":\"True\",\"hovertemplate\":\"requester=Pole Star<br>region=IN<br>week_id=%{x}<br>count=%{y}<extra></extra>\",\"legendgroup\":\"Pole Star\",\"marker\":{\"color\":\"#19d3f3\",\"pattern\":{\"shape\":\"\"}},\"name\":\"Pole Star\",\"offsetgroup\":\"Pole Star\",\"orientation\":\"v\",\"showlegend\":false,\"textposition\":\"auto\",\"x\":[\"2021-week_41\",\"2021-week_45\",\"2021-week_46\",\"2022-week_01\",\"2022-week_02\",\"2022-week_04\",\"2022-week_05\",\"2022-week_06\"],\"xaxis\":\"x3\",\"y\":[2,3,2,1,1,2,3,1],\"yaxis\":\"y3\",\"type\":\"bar\"},{\"alignmentgroup\":\"True\",\"hovertemplate\":\"requester=Pole Star<br>region=JP<br>week_id=%{x}<br>count=%{y}<extra></extra>\",\"legendgroup\":\"Pole Star\",\"marker\":{\"color\":\"#19d3f3\",\"pattern\":{\"shape\":\"\"}},\"name\":\"Pole Star\",\"offsetgroup\":\"Pole Star\",\"orientation\":\"v\",\"showlegend\":false,\"textposition\":\"auto\",\"x\":[\"2021-week_41\",\"2021-week_44\",\"2021-week_45\",\"2021-week_46\",\"2022-week_01\",\"2022-week_03\",\"2022-week_04\",\"2022-week_05\",\"2022-week_06\"],\"xaxis\":\"x4\",\"y\":[10,5,7,4,1,2,5,7,6],\"yaxis\":\"y4\",\"type\":\"bar\"},{\"alignmentgroup\":\"True\",\"hovertemplate\":\"requester=Pole Star<br>region=US<br>week_id=%{x}<br>count=%{y}<extra></extra>\",\"legendgroup\":\"Pole Star\",\"marker\":{\"color\":\"#19d3f3\",\"pattern\":{\"shape\":\"\"}},\"name\":\"Pole Star\",\"offsetgroup\":\"Pole Star\",\"orientation\":\"v\",\"showlegend\":false,\"textposition\":\"auto\",\"x\":[\"2021-week_33\",\"2021-week_34\",\"2021-week_37\",\"2021-week_38\",\"2021-week_39\",\"2021-week_40\",\"2021-week_42\",\"2021-week_43\",\"2021-week_44\",\"2021-week_45\",\"2021-week_49\",\"2021-week_50\",\"2021-week_51\",\"2022-week_01\",\"2022-week_02\",\"2022-week_03\",\"2022-week_04\",\"2022-week_06\",\"2022-week_52\"],\"xaxis\":\"x5\",\"y\":[44,25,1,1,2,1,3,2,2,1,2,1,1,3,2,1,1,1,2],\"yaxis\":\"y5\",\"type\":\"bar\"},{\"alignmentgroup\":\"True\",\"hovertemplate\":\"requester=Sensor Tower<br>region=US<br>week_id=%{x}<br>count=%{y}<extra></extra>\",\"legendgroup\":\"Sensor Tower\",\"marker\":{\"color\":\"#FF6692\",\"pattern\":{\"shape\":\"\"}},\"name\":\"Sensor Tower\",\"offsetgroup\":\"Sensor Tower\",\"orientation\":\"v\",\"showlegend\":true,\"textposition\":\"auto\",\"x\":[\"2021-week_33\",\"2021-week_34\",\"2021-week_35\",\"2021-week_36\",\"2021-week_37\",\"2021-week_38\",\"2021-week_39\",\"2021-week_40\",\"2021-week_41\",\"2021-week_42\",\"2021-week_43\",\"2021-week_44\",\"2021-week_45\",\"2021-week_46\",\"2021-week_47\",\"2021-week_48\",\"2021-week_49\",\"2021-week_50\",\"2021-week_51\",\"2022-week_01\",\"2022-week_02\",\"2022-week_03\",\"2022-week_04\",\"2022-week_05\",\"2022-week_06\",\"2022-week_52\"],\"xaxis\":\"x5\",\"y\":[521,485,450,270,185,125,111,93,97,98,80,77,83,62,64,80,107,70,43,50,43,64,62,56,60,67],\"yaxis\":\"y5\",\"type\":\"bar\"},{\"alignmentgroup\":\"True\",\"hovertemplate\":\"requester=Tab Solutions<br>region=DE<br>week_id=%{x}<br>count=%{y}<extra></extra>\",\"legendgroup\":\"Tab Solutions\",\"marker\":{\"color\":\"#B6E880\",\"pattern\":{\"shape\":\"\"}},\"name\":\"Tab Solutions\",\"offsetgroup\":\"Tab Solutions\",\"orientation\":\"v\",\"showlegend\":true,\"textposition\":\"auto\",\"x\":[\"2021-week_39\",\"2021-week_40\",\"2021-week_41\",\"2021-week_42\",\"2021-week_43\",\"2021-week_44\",\"2021-week_45\"],\"xaxis\":\"x\",\"y\":[69,97,131,62,86,95,83],\"yaxis\":\"y\",\"type\":\"bar\"},{\"alignmentgroup\":\"True\",\"hovertemplate\":\"requester=Tab Solutions<br>region=GB<br>week_id=%{x}<br>count=%{y}<extra></extra>\",\"legendgroup\":\"Tab Solutions\",\"marker\":{\"color\":\"#B6E880\",\"pattern\":{\"shape\":\"\"}},\"name\":\"Tab Solutions\",\"offsetgroup\":\"Tab Solutions\",\"orientation\":\"v\",\"showlegend\":false,\"textposition\":\"auto\",\"x\":[\"2021-week_37\",\"2021-week_38\",\"2021-week_39\",\"2021-week_40\",\"2021-week_41\",\"2021-week_42\",\"2021-week_43\",\"2021-week_44\",\"2021-week_45\"],\"xaxis\":\"x2\",\"y\":[122,167,178,178,192,190,161,184,143],\"yaxis\":\"y2\",\"type\":\"bar\"},{\"alignmentgroup\":\"True\",\"hovertemplate\":\"requester=Tab Solutions<br>region=JP<br>week_id=%{x}<br>count=%{y}<extra></extra>\",\"legendgroup\":\"Tab Solutions\",\"marker\":{\"color\":\"#B6E880\",\"pattern\":{\"shape\":\"\"}},\"name\":\"Tab Solutions\",\"offsetgroup\":\"Tab Solutions\",\"orientation\":\"v\",\"showlegend\":false,\"textposition\":\"auto\",\"x\":[\"2021-week_39\",\"2021-week_40\",\"2021-week_41\",\"2021-week_42\",\"2021-week_43\",\"2021-week_44\",\"2021-week_45\"],\"xaxis\":\"x4\",\"y\":[229,353,349,79,113,137,106],\"yaxis\":\"y4\",\"type\":\"bar\"},{\"alignmentgroup\":\"True\",\"hovertemplate\":\"requester=Tab Solutions<br>region=US<br>week_id=%{x}<br>count=%{y}<extra></extra>\",\"legendgroup\":\"Tab Solutions\",\"marker\":{\"color\":\"#B6E880\",\"pattern\":{\"shape\":\"\"}},\"name\":\"Tab Solutions\",\"offsetgroup\":\"Tab Solutions\",\"orientation\":\"v\",\"showlegend\":false,\"textposition\":\"auto\",\"x\":[\"2021-week_33\",\"2021-week_34\",\"2021-week_35\",\"2021-week_36\",\"2021-week_37\",\"2021-week_38\",\"2021-week_39\",\"2021-week_40\",\"2021-week_41\",\"2021-week_42\",\"2021-week_43\",\"2021-week_44\",\"2021-week_45\",\"2021-week_46\",\"2021-week_47\",\"2021-week_48\",\"2021-week_49\",\"2021-week_50\",\"2021-week_51\",\"2022-week_01\",\"2022-week_02\",\"2022-week_03\",\"2022-week_04\",\"2022-week_05\",\"2022-week_06\",\"2022-week_52\"],\"xaxis\":\"x5\",\"y\":[965,781,716,799,725,407,287,348,295,359,318,308,262,206,239,284,449,325,256,158,182,214,238,200,246,223],\"yaxis\":\"y5\",\"type\":\"bar\"},{\"alignmentgroup\":\"True\",\"hovertemplate\":\"requester=Cue<br>region=US<br>week_id=%{x}<br>count=%{y}<extra></extra>\",\"legendgroup\":\"Cue\",\"marker\":{\"color\":\"#FF97FF\",\"pattern\":{\"shape\":\"\"}},\"name\":\"Cue\",\"offsetgroup\":\"Cue\",\"orientation\":\"v\",\"showlegend\":true,\"textposition\":\"auto\",\"x\":[\"2021-week_34\",\"2021-week_38\",\"2021-week_40\"],\"xaxis\":\"x5\",\"y\":[1,2,1],\"yaxis\":\"y5\",\"type\":\"bar\"},{\"alignmentgroup\":\"True\",\"hovertemplate\":\"requester=Altammune<br>region=US<br>week_id=%{x}<br>count=%{y}<extra></extra>\",\"legendgroup\":\"Altammune\",\"marker\":{\"color\":\"#FECB52\",\"pattern\":{\"shape\":\"\"}},\"name\":\"Altammune\",\"offsetgroup\":\"Altammune\",\"orientation\":\"v\",\"showlegend\":true,\"textposition\":\"auto\",\"x\":[\"2021-week_35\",\"2021-week_38\",\"2021-week_40\",\"2021-week_42\"],\"xaxis\":\"x5\",\"y\":[1,1,2,1],\"yaxis\":\"y5\",\"type\":\"bar\"},{\"alignmentgroup\":\"True\",\"hovertemplate\":\"requester=Doctorfun Entertainment, Ltd<br>region=US<br>week_id=%{x}<br>count=%{y}<extra></extra>\",\"legendgroup\":\"Doctorfun Entertainment, Ltd\",\"marker\":{\"color\":\"#636efa\",\"pattern\":{\"shape\":\"\"}},\"name\":\"Doctorfun Entertainment, Ltd\",\"offsetgroup\":\"Doctorfun Entertainment, Ltd\",\"orientation\":\"v\",\"showlegend\":true,\"textposition\":\"auto\",\"x\":[\"2021-week_35\",\"2021-week_36\",\"2021-week_37\",\"2021-week_38\",\"2021-week_39\",\"2021-week_40\",\"2021-week_41\",\"2021-week_42\",\"2021-week_43\",\"2021-week_44\",\"2021-week_45\",\"2021-week_46\",\"2021-week_48\",\"2021-week_49\",\"2021-week_51\",\"2022-week_01\",\"2022-week_02\",\"2022-week_03\",\"2022-week_04\",\"2022-week_05\",\"2022-week_06\",\"2022-week_52\"],\"xaxis\":\"x5\",\"y\":[4,7,13,15,18,14,18,25,14,13,1,1,2,3,1,1,7,11,12,11,12,1],\"yaxis\":\"y5\",\"type\":\"bar\"},{\"alignmentgroup\":\"True\",\"hovertemplate\":\"requester=Earth Networks<br>region=GB<br>week_id=%{x}<br>count=%{y}<extra></extra>\",\"legendgroup\":\"Earth Networks\",\"marker\":{\"color\":\"#EF553B\",\"pattern\":{\"shape\":\"\"}},\"name\":\"Earth Networks\",\"offsetgroup\":\"Earth Networks\",\"orientation\":\"v\",\"showlegend\":true,\"textposition\":\"auto\",\"x\":[\"2021-week_36\",\"2021-week_41\"],\"xaxis\":\"x2\",\"y\":[2,1],\"yaxis\":\"y2\",\"type\":\"bar\"},{\"alignmentgroup\":\"True\",\"hovertemplate\":\"requester=Earth Networks<br>region=US<br>week_id=%{x}<br>count=%{y}<extra></extra>\",\"legendgroup\":\"Earth Networks\",\"marker\":{\"color\":\"#EF553B\",\"pattern\":{\"shape\":\"\"}},\"name\":\"Earth Networks\",\"offsetgroup\":\"Earth Networks\",\"orientation\":\"v\",\"showlegend\":false,\"textposition\":\"auto\",\"x\":[\"2021-week_35\"],\"xaxis\":\"x5\",\"y\":[1],\"yaxis\":\"y5\",\"type\":\"bar\"},{\"alignmentgroup\":\"True\",\"hovertemplate\":\"requester=Derceto<br>region=US<br>week_id=%{x}<br>count=%{y}<extra></extra>\",\"legendgroup\":\"Derceto\",\"marker\":{\"color\":\"#00cc96\",\"pattern\":{\"shape\":\"\"}},\"name\":\"Derceto\",\"offsetgroup\":\"Derceto\",\"orientation\":\"v\",\"showlegend\":true,\"textposition\":\"auto\",\"x\":[\"2021-week_37\"],\"xaxis\":\"x5\",\"y\":[1],\"yaxis\":\"y5\",\"type\":\"bar\"},{\"alignmentgroup\":\"True\",\"hovertemplate\":\"requester=Marketo Japan<br>region=US<br>week_id=%{x}<br>count=%{y}<extra></extra>\",\"legendgroup\":\"Marketo Japan\",\"marker\":{\"color\":\"#ab63fa\",\"pattern\":{\"shape\":\"\"}},\"name\":\"Marketo Japan\",\"offsetgroup\":\"Marketo Japan\",\"orientation\":\"v\",\"showlegend\":true,\"textposition\":\"auto\",\"x\":[\"2021-week_37\"],\"xaxis\":\"x5\",\"y\":[1],\"yaxis\":\"y5\",\"type\":\"bar\"},{\"alignmentgroup\":\"True\",\"hovertemplate\":\"requester=Jun Group<br>region=GB<br>week_id=%{x}<br>count=%{y}<extra></extra>\",\"legendgroup\":\"Jun Group\",\"marker\":{\"color\":\"#FFA15A\",\"pattern\":{\"shape\":\"\"}},\"name\":\"Jun Group\",\"offsetgroup\":\"Jun Group\",\"orientation\":\"v\",\"showlegend\":true,\"textposition\":\"auto\",\"x\":[\"2021-week_51\"],\"xaxis\":\"x2\",\"y\":[1],\"yaxis\":\"y2\",\"type\":\"bar\"},{\"alignmentgroup\":\"True\",\"hovertemplate\":\"requester=Jun Group<br>region=US<br>week_id=%{x}<br>count=%{y}<extra></extra>\",\"legendgroup\":\"Jun Group\",\"marker\":{\"color\":\"#FFA15A\",\"pattern\":{\"shape\":\"\"}},\"name\":\"Jun Group\",\"offsetgroup\":\"Jun Group\",\"orientation\":\"v\",\"showlegend\":false,\"textposition\":\"auto\",\"x\":[\"2021-week_44\",\"2022-week_04\"],\"xaxis\":\"x5\",\"y\":[1,2],\"yaxis\":\"y5\",\"type\":\"bar\"},{\"alignmentgroup\":\"True\",\"hovertemplate\":\"requester=PureSafe water systems<br>region=US<br>week_id=%{x}<br>count=%{y}<extra></extra>\",\"legendgroup\":\"PureSafe water systems\",\"marker\":{\"color\":\"#19d3f3\",\"pattern\":{\"shape\":\"\"}},\"name\":\"PureSafe water systems\",\"offsetgroup\":\"PureSafe water systems\",\"orientation\":\"v\",\"showlegend\":true,\"textposition\":\"auto\",\"x\":[\"2022-week_05\"],\"xaxis\":\"x5\",\"y\":[1],\"yaxis\":\"y5\",\"type\":\"bar\"}],                        {\"template\":{\"data\":{\"histogram2dcontour\":[{\"type\":\"histogram2dcontour\",\"colorbar\":{\"outlinewidth\":0,\"ticks\":\"\"},\"colorscale\":[[0.0,\"#0d0887\"],[0.1111111111111111,\"#46039f\"],[0.2222222222222222,\"#7201a8\"],[0.3333333333333333,\"#9c179e\"],[0.4444444444444444,\"#bd3786\"],[0.5555555555555556,\"#d8576b\"],[0.6666666666666666,\"#ed7953\"],[0.7777777777777778,\"#fb9f3a\"],[0.8888888888888888,\"#fdca26\"],[1.0,\"#f0f921\"]]}],\"choropleth\":[{\"type\":\"choropleth\",\"colorbar\":{\"outlinewidth\":0,\"ticks\":\"\"}}],\"histogram2d\":[{\"type\":\"histogram2d\",\"colorbar\":{\"outlinewidth\":0,\"ticks\":\"\"},\"colorscale\":[[0.0,\"#0d0887\"],[0.1111111111111111,\"#46039f\"],[0.2222222222222222,\"#7201a8\"],[0.3333333333333333,\"#9c179e\"],[0.4444444444444444,\"#bd3786\"],[0.5555555555555556,\"#d8576b\"],[0.6666666666666666,\"#ed7953\"],[0.7777777777777778,\"#fb9f3a\"],[0.8888888888888888,\"#fdca26\"],[1.0,\"#f0f921\"]]}],\"heatmap\":[{\"type\":\"heatmap\",\"colorbar\":{\"outlinewidth\":0,\"ticks\":\"\"},\"colorscale\":[[0.0,\"#0d0887\"],[0.1111111111111111,\"#46039f\"],[0.2222222222222222,\"#7201a8\"],[0.3333333333333333,\"#9c179e\"],[0.4444444444444444,\"#bd3786\"],[0.5555555555555556,\"#d8576b\"],[0.6666666666666666,\"#ed7953\"],[0.7777777777777778,\"#fb9f3a\"],[0.8888888888888888,\"#fdca26\"],[1.0,\"#f0f921\"]]}],\"heatmapgl\":[{\"type\":\"heatmapgl\",\"colorbar\":{\"outlinewidth\":0,\"ticks\":\"\"},\"colorscale\":[[0.0,\"#0d0887\"],[0.1111111111111111,\"#46039f\"],[0.2222222222222222,\"#7201a8\"],[0.3333333333333333,\"#9c179e\"],[0.4444444444444444,\"#bd3786\"],[0.5555555555555556,\"#d8576b\"],[0.6666666666666666,\"#ed7953\"],[0.7777777777777778,\"#fb9f3a\"],[0.8888888888888888,\"#fdca26\"],[1.0,\"#f0f921\"]]}],\"contourcarpet\":[{\"type\":\"contourcarpet\",\"colorbar\":{\"outlinewidth\":0,\"ticks\":\"\"}}],\"contour\":[{\"type\":\"contour\",\"colorbar\":{\"outlinewidth\":0,\"ticks\":\"\"},\"colorscale\":[[0.0,\"#0d0887\"],[0.1111111111111111,\"#46039f\"],[0.2222222222222222,\"#7201a8\"],[0.3333333333333333,\"#9c179e\"],[0.4444444444444444,\"#bd3786\"],[0.5555555555555556,\"#d8576b\"],[0.6666666666666666,\"#ed7953\"],[0.7777777777777778,\"#fb9f3a\"],[0.8888888888888888,\"#fdca26\"],[1.0,\"#f0f921\"]]}],\"surface\":[{\"type\":\"surface\",\"colorbar\":{\"outlinewidth\":0,\"ticks\":\"\"},\"colorscale\":[[0.0,\"#0d0887\"],[0.1111111111111111,\"#46039f\"],[0.2222222222222222,\"#7201a8\"],[0.3333333333333333,\"#9c179e\"],[0.4444444444444444,\"#bd3786\"],[0.5555555555555556,\"#d8576b\"],[0.6666666666666666,\"#ed7953\"],[0.7777777777777778,\"#fb9f3a\"],[0.8888888888888888,\"#fdca26\"],[1.0,\"#f0f921\"]]}],\"mesh3d\":[{\"type\":\"mesh3d\",\"colorbar\":{\"outlinewidth\":0,\"ticks\":\"\"}}],\"scatter\":[{\"fillpattern\":{\"fillmode\":\"overlay\",\"size\":10,\"solidity\":0.2},\"type\":\"scatter\"}],\"parcoords\":[{\"type\":\"parcoords\",\"line\":{\"colorbar\":{\"outlinewidth\":0,\"ticks\":\"\"}}}],\"scatterpolargl\":[{\"type\":\"scatterpolargl\",\"marker\":{\"colorbar\":{\"outlinewidth\":0,\"ticks\":\"\"}}}],\"bar\":[{\"error_x\":{\"color\":\"#2a3f5f\"},\"error_y\":{\"color\":\"#2a3f5f\"},\"marker\":{\"line\":{\"color\":\"#E5ECF6\",\"width\":0.5},\"pattern\":{\"fillmode\":\"overlay\",\"size\":10,\"solidity\":0.2}},\"type\":\"bar\"}],\"scattergeo\":[{\"type\":\"scattergeo\",\"marker\":{\"colorbar\":{\"outlinewidth\":0,\"ticks\":\"\"}}}],\"scatterpolar\":[{\"type\":\"scatterpolar\",\"marker\":{\"colorbar\":{\"outlinewidth\":0,\"ticks\":\"\"}}}],\"histogram\":[{\"marker\":{\"pattern\":{\"fillmode\":\"overlay\",\"size\":10,\"solidity\":0.2}},\"type\":\"histogram\"}],\"scattergl\":[{\"type\":\"scattergl\",\"marker\":{\"colorbar\":{\"outlinewidth\":0,\"ticks\":\"\"}}}],\"scatter3d\":[{\"type\":\"scatter3d\",\"line\":{\"colorbar\":{\"outlinewidth\":0,\"ticks\":\"\"}},\"marker\":{\"colorbar\":{\"outlinewidth\":0,\"ticks\":\"\"}}}],\"scattermapbox\":[{\"type\":\"scattermapbox\",\"marker\":{\"colorbar\":{\"outlinewidth\":0,\"ticks\":\"\"}}}],\"scatterternary\":[{\"type\":\"scatterternary\",\"marker\":{\"colorbar\":{\"outlinewidth\":0,\"ticks\":\"\"}}}],\"scattercarpet\":[{\"type\":\"scattercarpet\",\"marker\":{\"colorbar\":{\"outlinewidth\":0,\"ticks\":\"\"}}}],\"carpet\":[{\"aaxis\":{\"endlinecolor\":\"#2a3f5f\",\"gridcolor\":\"white\",\"linecolor\":\"white\",\"minorgridcolor\":\"white\",\"startlinecolor\":\"#2a3f5f\"},\"baxis\":{\"endlinecolor\":\"#2a3f5f\",\"gridcolor\":\"white\",\"linecolor\":\"white\",\"minorgridcolor\":\"white\",\"startlinecolor\":\"#2a3f5f\"},\"type\":\"carpet\"}],\"table\":[{\"cells\":{\"fill\":{\"color\":\"#EBF0F8\"},\"line\":{\"color\":\"white\"}},\"header\":{\"fill\":{\"color\":\"#C8D4E3\"},\"line\":{\"color\":\"white\"}},\"type\":\"table\"}],\"barpolar\":[{\"marker\":{\"line\":{\"color\":\"#E5ECF6\",\"width\":0.5},\"pattern\":{\"fillmode\":\"overlay\",\"size\":10,\"solidity\":0.2}},\"type\":\"barpolar\"}],\"pie\":[{\"automargin\":true,\"type\":\"pie\"}]},\"layout\":{\"autotypenumbers\":\"strict\",\"colorway\":[\"#636efa\",\"#EF553B\",\"#00cc96\",\"#ab63fa\",\"#FFA15A\",\"#19d3f3\",\"#FF6692\",\"#B6E880\",\"#FF97FF\",\"#FECB52\"],\"font\":{\"color\":\"#2a3f5f\"},\"hovermode\":\"closest\",\"hoverlabel\":{\"align\":\"left\"},\"paper_bgcolor\":\"white\",\"plot_bgcolor\":\"#E5ECF6\",\"polar\":{\"bgcolor\":\"#E5ECF6\",\"angularaxis\":{\"gridcolor\":\"white\",\"linecolor\":\"white\",\"ticks\":\"\"},\"radialaxis\":{\"gridcolor\":\"white\",\"linecolor\":\"white\",\"ticks\":\"\"}},\"ternary\":{\"bgcolor\":\"#E5ECF6\",\"aaxis\":{\"gridcolor\":\"white\",\"linecolor\":\"white\",\"ticks\":\"\"},\"baxis\":{\"gridcolor\":\"white\",\"linecolor\":\"white\",\"ticks\":\"\"},\"caxis\":{\"gridcolor\":\"white\",\"linecolor\":\"white\",\"ticks\":\"\"}},\"coloraxis\":{\"colorbar\":{\"outlinewidth\":0,\"ticks\":\"\"}},\"colorscale\":{\"sequential\":[[0.0,\"#0d0887\"],[0.1111111111111111,\"#46039f\"],[0.2222222222222222,\"#7201a8\"],[0.3333333333333333,\"#9c179e\"],[0.4444444444444444,\"#bd3786\"],[0.5555555555555556,\"#d8576b\"],[0.6666666666666666,\"#ed7953\"],[0.7777777777777778,\"#fb9f3a\"],[0.8888888888888888,\"#fdca26\"],[1.0,\"#f0f921\"]],\"sequentialminus\":[[0.0,\"#0d0887\"],[0.1111111111111111,\"#46039f\"],[0.2222222222222222,\"#7201a8\"],[0.3333333333333333,\"#9c179e\"],[0.4444444444444444,\"#bd3786\"],[0.5555555555555556,\"#d8576b\"],[0.6666666666666666,\"#ed7953\"],[0.7777777777777778,\"#fb9f3a\"],[0.8888888888888888,\"#fdca26\"],[1.0,\"#f0f921\"]],\"diverging\":[[0,\"#8e0152\"],[0.1,\"#c51b7d\"],[0.2,\"#de77ae\"],[0.3,\"#f1b6da\"],[0.4,\"#fde0ef\"],[0.5,\"#f7f7f7\"],[0.6,\"#e6f5d0\"],[0.7,\"#b8e186\"],[0.8,\"#7fbc41\"],[0.9,\"#4d9221\"],[1,\"#276419\"]]},\"xaxis\":{\"gridcolor\":\"white\",\"linecolor\":\"white\",\"ticks\":\"\",\"title\":{\"standoff\":15},\"zerolinecolor\":\"white\",\"automargin\":true,\"zerolinewidth\":2},\"yaxis\":{\"gridcolor\":\"white\",\"linecolor\":\"white\",\"ticks\":\"\",\"title\":{\"standoff\":15},\"zerolinecolor\":\"white\",\"automargin\":true,\"zerolinewidth\":2},\"scene\":{\"xaxis\":{\"backgroundcolor\":\"#E5ECF6\",\"gridcolor\":\"white\",\"linecolor\":\"white\",\"showbackground\":true,\"ticks\":\"\",\"zerolinecolor\":\"white\",\"gridwidth\":2},\"yaxis\":{\"backgroundcolor\":\"#E5ECF6\",\"gridcolor\":\"white\",\"linecolor\":\"white\",\"showbackground\":true,\"ticks\":\"\",\"zerolinecolor\":\"white\",\"gridwidth\":2},\"zaxis\":{\"backgroundcolor\":\"#E5ECF6\",\"gridcolor\":\"white\",\"linecolor\":\"white\",\"showbackground\":true,\"ticks\":\"\",\"zerolinecolor\":\"white\",\"gridwidth\":2}},\"shapedefaults\":{\"line\":{\"color\":\"#2a3f5f\"}},\"annotationdefaults\":{\"arrowcolor\":\"#2a3f5f\",\"arrowhead\":0,\"arrowwidth\":1},\"geo\":{\"bgcolor\":\"white\",\"landcolor\":\"#E5ECF6\",\"subunitcolor\":\"white\",\"showland\":true,\"showlakes\":true,\"lakecolor\":\"white\"},\"title\":{\"x\":0.05},\"mapbox\":{\"style\":\"light\"}}},\"xaxis\":{\"anchor\":\"y\",\"domain\":[0.0,0.18400000000000002],\"title\":{\"text\":\"week_id\"}},\"yaxis\":{\"anchor\":\"x\",\"domain\":[0.0,1.0],\"title\":{\"text\":\"count\"}},\"xaxis2\":{\"anchor\":\"y2\",\"domain\":[0.20400000000000001,0.388],\"matches\":\"x\",\"title\":{\"text\":\"week_id\"}},\"yaxis2\":{\"anchor\":\"x2\",\"domain\":[0.0,1.0],\"matches\":\"y\",\"showticklabels\":false},\"xaxis3\":{\"anchor\":\"y3\",\"domain\":[0.40800000000000003,0.5920000000000001],\"matches\":\"x\",\"title\":{\"text\":\"week_id\"}},\"yaxis3\":{\"anchor\":\"x3\",\"domain\":[0.0,1.0],\"matches\":\"y\",\"showticklabels\":false},\"xaxis4\":{\"anchor\":\"y4\",\"domain\":[0.6120000000000001,0.7960000000000002],\"matches\":\"x\",\"title\":{\"text\":\"week_id\"}},\"yaxis4\":{\"anchor\":\"x4\",\"domain\":[0.0,1.0],\"matches\":\"y\",\"showticklabels\":false},\"xaxis5\":{\"anchor\":\"y5\",\"domain\":[0.8160000000000001,1.0],\"matches\":\"x\",\"title\":{\"text\":\"week_id\"}},\"yaxis5\":{\"anchor\":\"x5\",\"domain\":[0.0,1.0],\"matches\":\"y\",\"showticklabels\":false},\"annotations\":[{\"font\":{},\"showarrow\":false,\"text\":\"region=DE\",\"x\":0.09200000000000001,\"xanchor\":\"center\",\"xref\":\"paper\",\"y\":1.0,\"yanchor\":\"bottom\",\"yref\":\"paper\"},{\"font\":{},\"showarrow\":false,\"text\":\"region=GB\",\"x\":0.29600000000000004,\"xanchor\":\"center\",\"xref\":\"paper\",\"y\":1.0,\"yanchor\":\"bottom\",\"yref\":\"paper\"},{\"font\":{},\"showarrow\":false,\"text\":\"region=IN\",\"x\":0.5,\"xanchor\":\"center\",\"xref\":\"paper\",\"y\":1.0,\"yanchor\":\"bottom\",\"yref\":\"paper\"},{\"font\":{},\"showarrow\":false,\"text\":\"region=JP\",\"x\":0.7040000000000002,\"xanchor\":\"center\",\"xref\":\"paper\",\"y\":1.0,\"yanchor\":\"bottom\",\"yref\":\"paper\"},{\"font\":{},\"showarrow\":false,\"text\":\"region=US\",\"x\":0.908,\"xanchor\":\"center\",\"xref\":\"paper\",\"y\":1.0,\"yanchor\":\"bottom\",\"yref\":\"paper\"}],\"legend\":{\"title\":{\"text\":\"requester\"},\"tracegroupgap\":0},\"margin\":{\"t\":60},\"barmode\":\"relative\"},                        {\"responsive\": true}                    ).then(function(){\n",
       "                            \n",
       "var gd = document.getElementById('ab8682fe-0736-4bb2-ac28-0aa803bb31d8');\n",
       "var x = new MutationObserver(function (mutations, observer) {{\n",
       "        var display = window.getComputedStyle(gd).display;\n",
       "        if (!display || display === 'none') {{\n",
       "            console.log([gd, 'removed!']);\n",
       "            Plotly.purge(gd);\n",
       "            observer.disconnect();\n",
       "        }}\n",
       "}});\n",
       "\n",
       "// Listen for the removal of the full notebook cells\n",
       "var notebookContainer = gd.closest('#notebook-container');\n",
       "if (notebookContainer) {{\n",
       "    x.observe(notebookContainer, {childList: true});\n",
       "}}\n",
       "\n",
       "// Listen for the clearing of the current output cell\n",
       "var outputEl = gd.closest('.output');\n",
       "if (outputEl) {{\n",
       "    x.observe(outputEl, {childList: true});\n",
       "}}\n",
       "\n",
       "                        })                };                });            </script>        </div>"
      ]
     },
     "metadata": {},
     "output_type": "display_data"
    }
   ],
   "source": [
    "#  29. Identify major traffic shape changes (addition/removal) of major clients\n",
    "identification=ad_df.groupby(['week_id','region','requester'])['ad_id'].count().rename('count').reset_index()\n",
    "px.bar(identification, x='week_id', y='count', color = 'requester',facet_col='region')"
   ]
  },
  {
   "cell_type": "code",
   "execution_count": null,
   "id": "aeb6d5db-2c6e-4a8f-9ad8-3498c74d2bd9",
   "metadata": {},
   "outputs": [],
   "source": [
    "#30. Preset a WoW graph showing the **requests proportion** per customer in each region \n",
    "#(hint: [use stacked bars](https://plotly.com/python/bar-charts/)), from it:\n"
   ]
  },
  {
   "cell_type": "markdown",
   "id": "ccd49645-542e-4dbf-b0c4-b197c974a528",
   "metadata": {},
   "source": [
    "#  31. Identify major traffic shape changes (addition/removal) of major clients"
   ]
  },
  {
   "cell_type": "code",
   "execution_count": null,
   "id": "35fb4417-b980-4ffc-a0ee-cd562b29b602",
   "metadata": {},
   "outputs": [],
   "source": [
    "Analysis Bonus questions:\n",
    "1. Compute the per region success rate and CI in trailing weeks, Say, 4 weeks instead of 1 week - to allow for smoother estimations and smaller CIs"
   ]
  },
  {
   "cell_type": "markdown",
   "id": "a7b125da-e9d6-41d4-974c-cc333660995c",
   "metadata": {},
   "source": [
    "### Compactization"
   ]
  },
  {
   "cell_type": "markdown",
   "id": "905e4e19-8ceb-44b1-8496-eb14e107ccbd",
   "metadata": {},
   "source": [
    "* Are there duplicated ads? To compac the data, remove duplicated ads and instead add an ad_count column **(pay attention, this is not trivial at all)**"
   ]
  },
  {
   "cell_type": "markdown",
   "id": "cbd7201c-98c2-4d59-a76e-e098dc5d9e43",
   "metadata": {},
   "source": [
    "### Merges and joins"
   ]
  },
  {
   "cell_type": "markdown",
   "id": "d78fa97c-4736-41c5-a649-931808eb8b30",
   "metadata": {},
   "source": [
    "The Wow samples and annotations task were sent and recieve seperatly, per each week. The dataset you were working on was constructed from those files. You can see the files under the `data/weekly` folder, here are the first 10 files:"
   ]
  },
  {
   "cell_type": "code",
   "execution_count": 172,
   "id": "81341f62-9161-4f1a-a678-251baba01564",
   "metadata": {},
   "outputs": [
    {
     "ename": "FileNotFoundError",
     "evalue": "[WinError 3] The system cannot find the path specified: 'data/weekly/'",
     "output_type": "error",
     "traceback": [
      "\u001b[1;31m---------------------------------------------------------------------------\u001b[0m",
      "\u001b[1;31mFileNotFoundError\u001b[0m                         Traceback (most recent call last)",
      "\u001b[1;32m~\\AppData\\Local\\Temp\\ipykernel_12780\\3900050169.py\u001b[0m in \u001b[0;36m<module>\u001b[1;34m\u001b[0m\n\u001b[0;32m      1\u001b[0m \u001b[1;32mimport\u001b[0m \u001b[0mos\u001b[0m\u001b[1;33m\u001b[0m\u001b[1;33m\u001b[0m\u001b[0m\n\u001b[1;32m----> 2\u001b[1;33m \u001b[0mweekly_files\u001b[0m \u001b[1;33m=\u001b[0m \u001b[0mos\u001b[0m\u001b[1;33m.\u001b[0m\u001b[0mlistdir\u001b[0m\u001b[1;33m(\u001b[0m\u001b[1;34m'data/weekly/'\u001b[0m\u001b[1;33m)\u001b[0m\u001b[1;33m\u001b[0m\u001b[1;33m\u001b[0m\u001b[0m\n\u001b[0m\u001b[0;32m      3\u001b[0m \u001b[0msorted\u001b[0m\u001b[1;33m(\u001b[0m\u001b[0mweekly_files\u001b[0m\u001b[1;33m)\u001b[0m\u001b[1;33m[\u001b[0m\u001b[1;33m:\u001b[0m\u001b[1;36m10\u001b[0m\u001b[1;33m]\u001b[0m\u001b[1;33m\u001b[0m\u001b[1;33m\u001b[0m\u001b[0m\n",
      "\u001b[1;31mFileNotFoundError\u001b[0m: [WinError 3] The system cannot find the path specified: 'data/weekly/'"
     ]
    }
   ],
   "source": [
    "import os\n",
    "weekly_files = os.listdir('data/weekly/')\n",
    "sorted(weekly_files)[:10]"
   ]
  },
  {
   "cell_type": "markdown",
   "id": "a0882bd4-9b7a-4ea1-a047-348e5e3f0980",
   "metadata": {},
   "source": [
    "Your task is to reconstruct the dataset above. "
   ]
  },
  {
   "cell_type": "markdown",
   "id": "2405d189-8570-4c86-aa35-320a173779a1",
   "metadata": {},
   "source": [
    "### Visualizations"
   ]
  },
  {
   "cell_type": "markdown",
   "id": "8323da48-3adf-4a9b-b692-7dc528990d5c",
   "metadata": {},
   "source": [
    "Produce the following success rate graph per region:"
   ]
  },
  {
   "cell_type": "code",
   "execution_count": 96,
   "id": "42143ac6-1cee-42f8-9eeb-fe7d04683434",
   "metadata": {},
   "outputs": [
    {
     "data": {
      "application/vnd.plotly.v1+json": {
       "config": {
        "plotlyServerURL": "https://plot.ly"
       },
       "data": [
        {
         "error_y": {
          "array": [
           0.015841741621591608,
           0.01620214133972794,
           0.015814452025429384,
           0.016145568698129116,
           0.015802442584340257,
           0.015825607925248994,
           0.015061892331367835,
           0.0160341253686106,
           0.01555439002263373,
           0.01595113950476852,
           0.016805771202111207,
           0.017227572153532284,
           0.015736208288505252,
           0.015679366056619636,
           0.015286521429184956,
           0.015241020400256865,
           0.015220579606453408,
           0.01505302634999722,
           0.015813279692510337,
           0.01533148596761587,
           0.014638324950638286,
           0.01501922906209145,
           0.01427749197808858,
           0.014498196879692341,
           0.01478049052356122,
           0.015652663592974052
          ]
         },
         "hovertemplate": "region=DE<br>week_id=%{x}<br>Success_rate=%{y}<extra></extra>",
         "legendgroup": "DE",
         "line": {
          "color": "#1F77B4",
          "dash": "solid"
         },
         "mode": "lines",
         "name": "DE",
         "orientation": "v",
         "showlegend": true,
         "type": "scatter",
         "visible": true,
         "x": [
          "2021-week_33",
          "2021-week_34",
          "2021-week_35",
          "2021-week_36",
          "2021-week_37",
          "2021-week_38",
          "2021-week_39",
          "2021-week_40",
          "2021-week_41",
          "2021-week_42",
          "2021-week_43",
          "2021-week_44",
          "2021-week_45",
          "2021-week_46",
          "2021-week_47",
          "2021-week_48",
          "2021-week_49",
          "2021-week_50",
          "2021-week_51",
          "2022-week_01",
          "2022-week_02",
          "2022-week_03",
          "2022-week_04",
          "2022-week_05",
          "2022-week_06",
          "2022-week_52"
         ],
         "xaxis": "x",
         "y": [
          0.8058455114822547,
          0.7978813559322034,
          0.8069368992895947,
          0.795085381091212,
          0.8061564059900166,
          0.8058333333333333,
          0.8284171167428334,
          0.799082951229679,
          0.8145060441850771,
          0.8021702838063439,
          0.7714762301918265,
          0.7647058823529411,
          0.8084929225645295,
          0.8152081563296517,
          0.822037422037422,
          0.8221670802315963,
          0.8263976460697772,
          0.828761429758936,
          0.8050601410203235,
          0.8209825145711906,
          0.8412698412698413,
          0.8322119428090833,
          0.8528541226215645,
          0.8459277917716205,
          0.8354011579818031,
          0.8131821998320738
         ],
         "yaxis": "y"
        },
        {
         "error_y": {
          "array": [
           0.01242144189123231,
           0.012688393581111483,
           0.012179235430522127,
           0.012749658978748957,
           0.0123317370436007,
           0.012795604789887916,
           0.013795857356650693,
           0.013559944295216992,
           0.012979117072354458,
           0.013092245021972182,
           0.013247918909018198,
           0.012948213869355511,
           0.012223261768773653,
           0.01172523089593593,
           0.011228133004979626,
           0.01250638771630859,
           0.012723836238285208,
           0.012722301032230276,
           0.013050111873481996,
           0.012844275791000531,
           0.013031084029980173,
           0.013322502177332624,
           0.013159417708097034,
           0.01334460381812566,
           0.01233568682610417,
           0.013022105780641668
          ]
         },
         "hovertemplate": "region=GB<br>week_id=%{x}<br>Success_rate=%{y}<extra></extra>",
         "legendgroup": "GB",
         "line": {
          "color": "#FF7F0E",
          "dash": "solid"
         },
         "mode": "lines",
         "name": "GB",
         "orientation": "v",
         "showlegend": true,
         "type": "scatter",
         "visible": true,
         "x": [
          "2021-week_33",
          "2021-week_34",
          "2021-week_35",
          "2021-week_36",
          "2021-week_37",
          "2021-week_38",
          "2021-week_39",
          "2021-week_40",
          "2021-week_41",
          "2021-week_42",
          "2021-week_43",
          "2021-week_44",
          "2021-week_45",
          "2021-week_46",
          "2021-week_47",
          "2021-week_48",
          "2021-week_49",
          "2021-week_50",
          "2021-week_51",
          "2022-week_01",
          "2022-week_02",
          "2022-week_03",
          "2022-week_04",
          "2022-week_05",
          "2022-week_06",
          "2022-week_52"
         ],
         "xaxis": "x",
         "y": [
          0.849685534591195,
          0.8412299968622529,
          0.855095045185416,
          0.8379557494546588,
          0.8522477208425023,
          0.8378293601003765,
          0.8019338739862757,
          0.8103394581127374,
          0.8310430980637101,
          0.8297536323436513,
          0.8221875,
          0.8327067669172933,
          0.8534992223950233,
          0.8689503456945318,
          0.8810269254852849,
          0.8449347420758235,
          0.8396994364433312,
          0.839375,
          0.8301886792452831,
          0.8361015355687872,
          0.829940494832446,
          0.8214173228346456,
          0.8275426405559065,
          0.8207309388783869,
          0.8518518518518519,
          0.8307692307692308
         ],
         "yaxis": "y"
        },
        {
         "error_y": {
          "array": [
           0.015347218618285904,
           0.014897880227176688,
           0.014860306773267502,
           0.014660689575409037,
           0.014709438690326034,
           0.014601333562365404,
           0.014671274587798391,
           0.014636873424272754,
           0.014676957841904701,
           0.01476153813126855,
           0.015128610715464355,
           0.014519907636613526,
           0.014120255756661985,
           0.014388819222128972,
           0.01439742111856086,
           0.014597814772436908,
           0.01457338392852597,
           0.014683093394967333,
           0.015080046843528481,
           0.015097034376713019,
           0.01499219457845864,
           0.01469733568108528,
           0.014698874294937854,
           0.014938635370407039,
           0.015048540439883512,
           0.014777430668554704
          ]
         },
         "hovertemplate": "region=IN<br>week_id=%{x}<br>Success_rate=%{y}<extra></extra>",
         "legendgroup": "IN",
         "line": {
          "color": "#2CA02C",
          "dash": "solid"
         },
         "mode": "lines",
         "name": "IN",
         "orientation": "v",
         "showlegend": true,
         "type": "scatter",
         "visible": true,
         "x": [
          "2021-week_33",
          "2021-week_34",
          "2021-week_35",
          "2021-week_36",
          "2021-week_37",
          "2021-week_38",
          "2021-week_39",
          "2021-week_40",
          "2021-week_41",
          "2021-week_42",
          "2021-week_43",
          "2021-week_44",
          "2021-week_45",
          "2021-week_46",
          "2021-week_47",
          "2021-week_48",
          "2021-week_49",
          "2021-week_50",
          "2021-week_51",
          "2022-week_01",
          "2022-week_02",
          "2022-week_03",
          "2022-week_04",
          "2022-week_05",
          "2022-week_06",
          "2022-week_52"
         ],
         "xaxis": "x",
         "y": [
          0.7324780976220275,
          0.7530288909599254,
          0.7559987535057651,
          0.7650171179582944,
          0.7659440779139177,
          0.7716535433070866,
          0.7646326276463262,
          0.7684111563773112,
          0.7641568139390168,
          0.7605107443164123,
          0.746536523929471,
          0.7755359394703657,
          0.7895065584009994,
          0.7755417956656346,
          0.780119534444794,
          0.7750556792873051,
          0.7710616974632007,
          0.7658841940532082,
          0.7439403356121814,
          0.7471733668341709,
          0.7498440424204617,
          0.7639538509510446,
          0.7591510304521686,
          0.7529668956901936,
          0.7489028213166145,
          0.7628023876845743
         ],
         "yaxis": "y"
        },
        {
         "error_y": {
          "array": [
           0.022567061594892267,
           0.022492280006980565,
           0.02229880039235783,
           0.02239881765693253,
           0.02211079183999325,
           0.022753255531973833,
           0.022254932348179785,
           0.022036884230609056,
           0.021095958009834617,
           0.02041165793670121,
           0.020130744269165966,
           0.020300209168818098,
           0.020029105629969075,
           0.02070255736749451,
           0.0201784859515891,
           0.02080016955288089,
           0.020099328552167072,
           0.019449261659700134,
           0.019160373459579678,
           0.019405142510941303,
           0.019311174573904865,
           0.019658333506847977,
           0.018711462868199576,
           0.01961364401032071,
           0.013779104169256108
          ]
         },
         "hovertemplate": "region=JP<br>week_id=%{x}<br>Success_rate=%{y}<extra></extra>",
         "legendgroup": "JP",
         "line": {
          "color": "#D62728",
          "dash": "solid"
         },
         "mode": "lines",
         "name": "JP",
         "orientation": "v",
         "showlegend": true,
         "type": "scatter",
         "visible": true,
         "x": [
          "2021-week_33",
          "2021-week_34",
          "2021-week_35",
          "2021-week_36",
          "2021-week_37",
          "2021-week_38",
          "2021-week_39",
          "2021-week_40",
          "2021-week_41",
          "2021-week_42",
          "2021-week_43",
          "2021-week_44",
          "2021-week_45",
          "2021-week_46",
          "2021-week_47",
          "2021-week_48",
          "2021-week_49",
          "2021-week_50",
          "2022-week_01",
          "2022-week_02",
          "2022-week_03",
          "2022-week_04",
          "2022-week_05",
          "2022-week_06",
          "2022-week_52"
         ],
         "xaxis": "x",
         "y": [
          0.6908752327746741,
          0.6985616010006254,
          0.7132911392405064,
          0.7061044682190056,
          0.7019464720194647,
          0.6875784190715182,
          0.7112366603892027,
          0.7132262051915945,
          0.7603305785123967,
          0.776735459662289,
          0.7853566958698373,
          0.7774333539987601,
          0.7833846153846153,
          0.7696664568911264,
          0.7779141104294478,
          0.7609907120743034,
          0.7901077996195307,
          0.8021091811414393,
          0.8117573483427142,
          0.8029739776951673,
          0.8111533586818758,
          0.8007566204287516,
          0.821917808219178,
          0.7991266375545851,
          0.8045254556882464
         ],
         "yaxis": "y"
        },
        {
         "error_y": {
          "array": [
           0.00981399866983586,
           0.010190785679489786,
           0.010122150292841805,
           0.00975653771750121,
           0.010444868594931845,
           0.01099898337228462,
           0.010384180737036546,
           0.010235909438609515,
           0.010450003620656931,
           0.010727282163406423,
           0.010676396756148438,
           0.011203739243283,
           0.010089114594750538,
           0.010118566527706435,
           0.011148898544602024,
           0.011123352488979239,
           0.010903209992149013,
           0.011149009055661477,
           0.011832036362231785,
           0.011610715695170786,
           0.011433707387973224,
           0.01159959951566055,
           0.011629960773033693,
           0.011480135898660416,
           0.011367426136776687,
           0.011480135898660416
          ]
         },
         "hovertemplate": "region=US<br>week_id=%{x}<br>Success_rate=%{y}<extra></extra>",
         "legendgroup": "US",
         "line": {
          "color": "#9467BD",
          "dash": "solid"
         },
         "mode": "lines",
         "name": "US",
         "orientation": "v",
         "showlegend": true,
         "type": "scatter",
         "visible": true,
         "x": [
          "2021-week_33",
          "2021-week_34",
          "2021-week_35",
          "2021-week_36",
          "2021-week_37",
          "2021-week_38",
          "2021-week_39",
          "2021-week_40",
          "2021-week_41",
          "2021-week_42",
          "2021-week_43",
          "2021-week_44",
          "2021-week_45",
          "2021-week_46",
          "2021-week_47",
          "2021-week_48",
          "2021-week_49",
          "2021-week_50",
          "2021-week_51",
          "2022-week_01",
          "2022-week_02",
          "2022-week_03",
          "2022-week_04",
          "2022-week_05",
          "2022-week_06",
          "2022-week_52"
         ],
         "xaxis": "x",
         "y": [
          0.8877705083039759,
          0.8764353469795307,
          0.8792064289301859,
          0.8891402714932126,
          0.8701005025125628,
          0.8526315789473684,
          0.8711855927963982,
          0.8758465011286681,
          0.8694889779559118,
          0.8606393606393606,
          0.8625782227784731,
          0.8457300275482094,
          0.8796296296296297,
          0.8788485607008761,
          0.8475212819228843,
          0.8476309226932668,
          0.8555332999499249,
          0.8476572287647206,
          0.8230730730730731,
          0.8306310800698429,
          0.8366533864541833,
          0.8326212616235235,
          0.8304576144036009,
          0.8359179589794897,
          0.8401803607214429,
          0.8359179589794897
         ],
         "yaxis": "y"
        }
       ],
       "layout": {
        "autosize": true,
        "legend": {
         "title": {
          "text": "region"
         },
         "tracegroupgap": 0
        },
        "template": {
         "data": {
          "pie": [
           {
            "automargin": true,
            "type": "pie"
           }
          ]
         },
         "layout": {
          "xaxis": {
           "showgrid": true,
           "title": {
            "standoff": 15
           }
          },
          "yaxis": {
           "showgrid": true,
           "title": {
            "standoff": 15
           }
          }
         }
        },
        "title": {
         "text": "Success rate per region",
         "x": 0.5
        },
        "xaxis": {
         "anchor": "y",
         "autorange": true,
         "domain": [
          0,
          1
         ],
         "range": [
          -1.3888888888888888,
          26.38888888888889
         ],
         "title": {
          "text": "week_id"
         },
         "type": "category"
        },
        "yaxis": {
         "anchor": "x",
         "autorange": true,
         "domain": [
          0,
          1
         ],
         "range": [
          0.6518211832244794,
          0.9119007895257788
         ],
         "title": {
          "text": "Success_rate"
         },
         "type": "linear"
        }
       }
      },
      "image/png": "[encoded data removed]",
      "text/html": [
       "<div>                            <div id=\"32261b76-eb75-499b-99b1-d1e45facf405\" class=\"plotly-graph-div\" style=\"height:500px; width:100%;\"></div>            <script type=\"text/javascript\">                require([\"plotly\"], function(Plotly) {                    window.PLOTLYENV=window.PLOTLYENV || {};                                    if (document.getElementById(\"32261b76-eb75-499b-99b1-d1e45facf405\")) {                    Plotly.newPlot(                        \"32261b76-eb75-499b-99b1-d1e45facf405\",                        [{\"error_y\": {\"array\": [0.015841741621591608, 0.01620214133972794, 0.015814452025429384, 0.016145568698129116, 0.015802442584340257, 0.015825607925248994, 0.015061892331367835, 0.0160341253686106, 0.01555439002263373, 0.01595113950476852, 0.016805771202111207, 0.017227572153532284, 0.015736208288505252, 0.015679366056619636, 0.015286521429184956, 0.015241020400256865, 0.015220579606453408, 0.01505302634999722, 0.015813279692510337, 0.01533148596761587, 0.014638324950638286, 0.01501922906209145, 0.01427749197808858, 0.014498196879692341, 0.01478049052356122, 0.015652663592974052]}, \"hovertemplate\": \"region=DE<br>week_id=%{x}<br>Success_rate=%{y}<extra></extra>\", \"legendgroup\": \"DE\", \"line\": {\"color\": \"#1F77B4\", \"dash\": \"solid\"}, \"mode\": \"lines\", \"name\": \"DE\", \"orientation\": \"v\", \"showlegend\": true, \"type\": \"scatter\", \"x\": [\"2021-week_33\", \"2021-week_34\", \"2021-week_35\", \"2021-week_36\", \"2021-week_37\", \"2021-week_38\", \"2021-week_39\", \"2021-week_40\", \"2021-week_41\", \"2021-week_42\", \"2021-week_43\", \"2021-week_44\", \"2021-week_45\", \"2021-week_46\", \"2021-week_47\", \"2021-week_48\", \"2021-week_49\", \"2021-week_50\", \"2021-week_51\", \"2022-week_01\", \"2022-week_02\", \"2022-week_03\", \"2022-week_04\", \"2022-week_05\", \"2022-week_06\", \"2022-week_52\"], \"xaxis\": \"x\", \"y\": [0.8058455114822547, 0.7978813559322034, 0.8069368992895947, 0.795085381091212, 0.8061564059900166, 0.8058333333333333, 0.8284171167428334, 0.799082951229679, 0.8145060441850771, 0.8021702838063439, 0.7714762301918265, 0.7647058823529411, 0.8084929225645295, 0.8152081563296517, 0.822037422037422, 0.8221670802315963, 0.8263976460697772, 0.828761429758936, 0.8050601410203235, 0.8209825145711906, 0.8412698412698413, 0.8322119428090833, 0.8528541226215645, 0.8459277917716205, 0.8354011579818031, 0.8131821998320738], \"yaxis\": \"y\"}, {\"error_y\": {\"array\": [0.01242144189123231, 0.012688393581111483, 0.012179235430522127, 0.012749658978748957, 0.0123317370436007, 0.012795604789887916, 0.013795857356650693, 0.013559944295216992, 0.012979117072354458, 0.013092245021972182, 0.013247918909018198, 0.012948213869355511, 0.012223261768773653, 0.01172523089593593, 0.011228133004979626, 0.01250638771630859, 0.012723836238285208, 0.012722301032230276, 0.013050111873481996, 0.012844275791000531, 0.013031084029980173, 0.013322502177332624, 0.013159417708097034, 0.01334460381812566, 0.01233568682610417, 0.013022105780641668]}, \"hovertemplate\": \"region=GB<br>week_id=%{x}<br>Success_rate=%{y}<extra></extra>\", \"legendgroup\": \"GB\", \"line\": {\"color\": \"#FF7F0E\", \"dash\": \"solid\"}, \"mode\": \"lines\", \"name\": \"GB\", \"orientation\": \"v\", \"showlegend\": true, \"type\": \"scatter\", \"x\": [\"2021-week_33\", \"2021-week_34\", \"2021-week_35\", \"2021-week_36\", \"2021-week_37\", \"2021-week_38\", \"2021-week_39\", \"2021-week_40\", \"2021-week_41\", \"2021-week_42\", \"2021-week_43\", \"2021-week_44\", \"2021-week_45\", \"2021-week_46\", \"2021-week_47\", \"2021-week_48\", \"2021-week_49\", \"2021-week_50\", \"2021-week_51\", \"2022-week_01\", \"2022-week_02\", \"2022-week_03\", \"2022-week_04\", \"2022-week_05\", \"2022-week_06\", \"2022-week_52\"], \"xaxis\": \"x\", \"y\": [0.849685534591195, 0.8412299968622529, 0.855095045185416, 0.8379557494546588, 0.8522477208425023, 0.8378293601003765, 0.8019338739862757, 0.8103394581127374, 0.8310430980637101, 0.8297536323436513, 0.8221875, 0.8327067669172933, 0.8534992223950233, 0.8689503456945318, 0.8810269254852849, 0.8449347420758235, 0.8396994364433312, 0.839375, 0.8301886792452831, 0.8361015355687872, 0.829940494832446, 0.8214173228346456, 0.8275426405559065, 0.8207309388783869, 0.8518518518518519, 0.8307692307692308], \"yaxis\": \"y\"}, {\"error_y\": {\"array\": [0.015347218618285904, 0.014897880227176688, 0.014860306773267502, 0.014660689575409037, 0.014709438690326034, 0.014601333562365404, 0.014671274587798391, 0.014636873424272754, 0.014676957841904701, 0.01476153813126855, 0.015128610715464355, 0.014519907636613526, 0.014120255756661985, 0.014388819222128972, 0.01439742111856086, 0.014597814772436908, 0.01457338392852597, 0.014683093394967333, 0.015080046843528481, 0.015097034376713019, 0.01499219457845864, 0.01469733568108528, 0.014698874294937854, 0.014938635370407039, 0.015048540439883512, 0.014777430668554704]}, \"hovertemplate\": \"region=IN<br>week_id=%{x}<br>Success_rate=%{y}<extra></extra>\", \"legendgroup\": \"IN\", \"line\": {\"color\": \"#2CA02C\", \"dash\": \"solid\"}, \"mode\": \"lines\", \"name\": \"IN\", \"orientation\": \"v\", \"showlegend\": true, \"type\": \"scatter\", \"x\": [\"2021-week_33\", \"2021-week_34\", \"2021-week_35\", \"2021-week_36\", \"2021-week_37\", \"2021-week_38\", \"2021-week_39\", \"2021-week_40\", \"2021-week_41\", \"2021-week_42\", \"2021-week_43\", \"2021-week_44\", \"2021-week_45\", \"2021-week_46\", \"2021-week_47\", \"2021-week_48\", \"2021-week_49\", \"2021-week_50\", \"2021-week_51\", \"2022-week_01\", \"2022-week_02\", \"2022-week_03\", \"2022-week_04\", \"2022-week_05\", \"2022-week_06\", \"2022-week_52\"], \"xaxis\": \"x\", \"y\": [0.7324780976220275, 0.7530288909599254, 0.7559987535057651, 0.7650171179582944, 0.7659440779139177, 0.7716535433070866, 0.7646326276463262, 0.7684111563773112, 0.7641568139390168, 0.7605107443164123, 0.746536523929471, 0.7755359394703657, 0.7895065584009994, 0.7755417956656346, 0.780119534444794, 0.7750556792873051, 0.7710616974632007, 0.7658841940532082, 0.7439403356121814, 0.7471733668341709, 0.7498440424204617, 0.7639538509510446, 0.7591510304521686, 0.7529668956901936, 0.7489028213166145, 0.7628023876845743], \"yaxis\": \"y\"}, {\"error_y\": {\"array\": [0.022567061594892267, 0.022492280006980565, 0.02229880039235783, 0.02239881765693253, 0.02211079183999325, 0.022753255531973833, 0.022254932348179785, 0.022036884230609056, 0.021095958009834617, 0.02041165793670121, 0.020130744269165966, 0.020300209168818098, 0.020029105629969075, 0.02070255736749451, 0.0201784859515891, 0.02080016955288089, 0.020099328552167072, 0.019449261659700134, 0.019160373459579678, 0.019405142510941303, 0.019311174573904865, 0.019658333506847977, 0.018711462868199576, 0.01961364401032071, 0.013779104169256108]}, \"hovertemplate\": \"region=JP<br>week_id=%{x}<br>Success_rate=%{y}<extra></extra>\", \"legendgroup\": \"JP\", \"line\": {\"color\": \"#D62728\", \"dash\": \"solid\"}, \"mode\": \"lines\", \"name\": \"JP\", \"orientation\": \"v\", \"showlegend\": true, \"type\": \"scatter\", \"x\": [\"2021-week_33\", \"2021-week_34\", \"2021-week_35\", \"2021-week_36\", \"2021-week_37\", \"2021-week_38\", \"2021-week_39\", \"2021-week_40\", \"2021-week_41\", \"2021-week_42\", \"2021-week_43\", \"2021-week_44\", \"2021-week_45\", \"2021-week_46\", \"2021-week_47\", \"2021-week_48\", \"2021-week_49\", \"2021-week_50\", \"2022-week_01\", \"2022-week_02\", \"2022-week_03\", \"2022-week_04\", \"2022-week_05\", \"2022-week_06\", \"2022-week_52\"], \"xaxis\": \"x\", \"y\": [0.6908752327746741, 0.6985616010006254, 0.7132911392405064, 0.7061044682190056, 0.7019464720194647, 0.6875784190715182, 0.7112366603892027, 0.7132262051915945, 0.7603305785123967, 0.776735459662289, 0.7853566958698373, 0.7774333539987601, 0.7833846153846153, 0.7696664568911264, 0.7779141104294478, 0.7609907120743034, 0.7901077996195307, 0.8021091811414393, 0.8117573483427142, 0.8029739776951673, 0.8111533586818758, 0.8007566204287516, 0.821917808219178, 0.7991266375545851, 0.8045254556882464], \"yaxis\": \"y\"}, {\"error_y\": {\"array\": [0.00981399866983586, 0.010190785679489786, 0.010122150292841805, 0.00975653771750121, 0.010444868594931845, 0.01099898337228462, 0.010384180737036546, 0.010235909438609515, 0.010450003620656931, 0.010727282163406423, 0.010676396756148438, 0.011203739243283, 0.010089114594750538, 0.010118566527706435, 0.011148898544602024, 0.011123352488979239, 0.010903209992149013, 0.011149009055661477, 0.011832036362231785, 0.011610715695170786, 0.011433707387973224, 0.01159959951566055, 0.011629960773033693, 0.011480135898660416, 0.011367426136776687, 0.011480135898660416]}, \"hovertemplate\": \"region=US<br>week_id=%{x}<br>Success_rate=%{y}<extra></extra>\", \"legendgroup\": \"US\", \"line\": {\"color\": \"#9467BD\", \"dash\": \"solid\"}, \"mode\": \"lines\", \"name\": \"US\", \"orientation\": \"v\", \"showlegend\": true, \"type\": \"scatter\", \"x\": [\"2021-week_33\", \"2021-week_34\", \"2021-week_35\", \"2021-week_36\", \"2021-week_37\", \"2021-week_38\", \"2021-week_39\", \"2021-week_40\", \"2021-week_41\", \"2021-week_42\", \"2021-week_43\", \"2021-week_44\", \"2021-week_45\", \"2021-week_46\", \"2021-week_47\", \"2021-week_48\", \"2021-week_49\", \"2021-week_50\", \"2021-week_51\", \"2022-week_01\", \"2022-week_02\", \"2022-week_03\", \"2022-week_04\", \"2022-week_05\", \"2022-week_06\", \"2022-week_52\"], \"xaxis\": \"x\", \"y\": [0.8877705083039759, 0.8764353469795307, 0.8792064289301859, 0.8891402714932126, 0.8701005025125628, 0.8526315789473684, 0.8711855927963982, 0.8758465011286681, 0.8694889779559118, 0.8606393606393606, 0.8625782227784731, 0.8457300275482094, 0.8796296296296297, 0.8788485607008761, 0.8475212819228843, 0.8476309226932668, 0.8555332999499249, 0.8476572287647206, 0.8230730730730731, 0.8306310800698429, 0.8366533864541833, 0.8326212616235235, 0.8304576144036009, 0.8359179589794897, 0.8401803607214429, 0.8359179589794897], \"yaxis\": \"y\"}],                        {\"height\": 500, \"legend\": {\"title\": {\"text\": \"region\"}, \"tracegroupgap\": 0}, \"template\": {\"data\": {\"pie\": [{\"automargin\": true, \"type\": \"pie\"}]}, \"layout\": {\"xaxis\": {\"showgrid\": true, \"title\": {\"standoff\": 15}}, \"yaxis\": {\"showgrid\": true, \"title\": {\"standoff\": 15}}}}, \"title\": {\"text\": \"Success rate per region\", \"x\": 0.5}, \"xaxis\": {\"anchor\": \"y\", \"domain\": [0.0, 1.0], \"title\": {\"text\": \"week_id\"}}, \"yaxis\": {\"anchor\": \"x\", \"domain\": [0.0, 1.0], \"title\": {\"text\": \"Success_rate\"}}},                        {\"responsive\": true}                    ).then(function(){\n",
       "                            \n",
       "var gd = document.getElementById('32261b76-eb75-499b-99b1-d1e45facf405');\n",
       "var x = new MutationObserver(function (mutations, observer) {{\n",
       "        var display = window.getComputedStyle(gd).display;\n",
       "        if (!display || display === 'none') {{\n",
       "            console.log([gd, 'removed!']);\n",
       "            Plotly.purge(gd);\n",
       "            observer.disconnect();\n",
       "        }}\n",
       "}});\n",
       "\n",
       "// Listen for the removal of the full notebook cells\n",
       "var notebookContainer = gd.closest('#notebook-container');\n",
       "if (notebookContainer) {{\n",
       "    x.observe(notebookContainer, {childList: true});\n",
       "}}\n",
       "\n",
       "// Listen for the clearing of the current output cell\n",
       "var outputEl = gd.closest('.output');\n",
       "if (outputEl) {{\n",
       "    x.observe(outputEl, {childList: true});\n",
       "}}\n",
       "\n",
       "                        })                };                });            </script>        </div>"
      ]
     },
     "metadata": {},
     "output_type": "display_data"
    }
   ],
   "source": []
  },
  {
   "cell_type": "code",
   "execution_count": 324,
   "id": "f1cfb3b1-974f-42ac-a23e-f1187ecd8f73",
   "metadata": {},
   "outputs": [],
   "source": [
    "ad_df.to_excel('ad_shimon.xlsx')"
   ]
  },
  {
   "cell_type": "markdown",
   "id": "f417703c-0d93-4aee-8a3c-24d6c9e66978",
   "metadata": {},
   "source": [
    "Produce the following requestser proportion graph:"
   ]
  },
  {
   "cell_type": "code",
   "execution_count": 103,
   "id": "5d89892f-ca63-4273-b917-2c0d4ef91a79",
   "metadata": {},
   "outputs": [
    {
     "data": {
      "application/vnd.plotly.v1+json": {
       "config": {
        "linkText": "Export to plot.ly",
        "plotlyServerURL": "https://plot.ly",
        "showLink": true
       },
       "data": [
        {
         "marker": {
          "color": "rgba(255, 153, 51, 0.6)",
          "line": {
           "color": "rgba(255, 153, 51, 1.0)",
           "width": 1
          }
         },
         "name": "Allthetopbananas.com",
         "orientation": "v",
         "text": "",
         "type": "bar",
         "visible": true,
         "x": [
          "2021-week_33",
          "2021-week_34",
          "2021-week_35",
          "2021-week_36",
          "2021-week_37",
          "2021-week_38",
          "2021-week_39",
          "2021-week_40",
          "2021-week_41",
          "2021-week_42",
          "2021-week_43",
          "2021-week_44",
          "2021-week_45",
          "2021-week_46",
          "2021-week_47",
          "2021-week_48",
          "2021-week_49",
          "2021-week_50",
          "2021-week_51",
          "2022-week_01",
          "2022-week_02",
          "2022-week_03",
          "2022-week_04",
          "2022-week_05",
          "2022-week_06",
          "2022-week_52"
         ],
         "y": [
          0.0004876010030649206,
          0.00020875374017117806,
          0.0004870242816391846,
          0.0009728978457261987,
          0.000764313507504169,
          0.0009758137589740016,
          0.000416204217536071,
          0.0009718172983479105,
          0.0006954102920723226,
          0.0002782415136338342,
          0.00020881186051367718,
          0.0006993496048674732,
          0.00110803324099723,
          0.0007665505226480836,
          0.00034717400361060965,
          0.0004859761177450708,
          0.0005579967915184488,
          0.0005554012774229381,
          0.00046856696602889497,
          0.0004171011470281543,
          0.0004853359217915829,
          0.0005587762799469162,
          0.0005568316280364725,
          0.00034814092744743074,
          0.00027799013135033706,
          0.0008788449466415569
         ]
        },
        {
         "marker": {
          "color": "rgba(55, 128, 191, 0.6)",
          "line": {
           "color": "rgba(55, 128, 191, 1.0)",
           "width": 1
          }
         },
         "name": "Altammune",
         "orientation": "v",
         "text": "",
         "type": "bar",
         "visible": true,
         "x": [
          "2021-week_33",
          "2021-week_34",
          "2021-week_35",
          "2021-week_36",
          "2021-week_37",
          "2021-week_38",
          "2021-week_39",
          "2021-week_40",
          "2021-week_41",
          "2021-week_42",
          "2021-week_43",
          "2021-week_44",
          "2021-week_45",
          "2021-week_46",
          "2021-week_47",
          "2021-week_48",
          "2021-week_49",
          "2021-week_50",
          "2021-week_51",
          "2022-week_01",
          "2022-week_02",
          "2022-week_03",
          "2022-week_04",
          "2022-week_05",
          "2022-week_06",
          "2022-week_52"
         ],
         "y": [
          "",
          "",
          6.957489737702637e-05,
          "",
          "",
          6.970098278385725e-05,
          "",
          0.00013883104262113008,
          "",
          6.956037840845854e-05,
          "",
          "",
          "",
          "",
          "",
          "",
          "",
          "",
          "",
          "",
          "",
          "",
          "",
          "",
          "",
          ""
         ]
        },
        {
         "marker": {
          "color": "rgba(50, 171, 96, 0.6)",
          "line": {
           "color": "rgba(50, 171, 96, 1.0)",
           "width": 1
          }
         },
         "name": "Bizanga",
         "orientation": "v",
         "text": "",
         "type": "bar",
         "visible": true,
         "x": [
          "2021-week_33",
          "2021-week_34",
          "2021-week_35",
          "2021-week_36",
          "2021-week_37",
          "2021-week_38",
          "2021-week_39",
          "2021-week_40",
          "2021-week_41",
          "2021-week_42",
          "2021-week_43",
          "2021-week_44",
          "2021-week_45",
          "2021-week_46",
          "2021-week_47",
          "2021-week_48",
          "2021-week_49",
          "2021-week_50",
          "2021-week_51",
          "2022-week_01",
          "2022-week_02",
          "2022-week_03",
          "2022-week_04",
          "2022-week_05",
          "2022-week_06",
          "2022-week_52"
         ],
         "y": [
          0.007174700473669545,
          0.006888873425648877,
          0.005705141584916162,
          0.005281445448227936,
          0.005350194552529183,
          0.005436676657140866,
          0.004786348501664817,
          0.004442593363876163,
          0.005980528511821975,
          0.006886477462437396,
          0.004941880698823693,
          0.004126162668718092,
          0.004224376731301939,
          0.006202090592334495,
          0.007082349673656437,
          0.006248264371008053,
          0.0076724558833786705,
          0.006803665648430992,
          0.006794221007418977,
          0.007438303788668752,
          0.006378700686403661,
          0.004540057274568694,
          0.003758613489246189,
          0.0034117810889848213,
          0.003891861838904719,
          0.006089139987445072
         ]
        },
        {
         "marker": {
          "color": "rgba(128, 0, 128, 0.6)",
          "line": {
           "color": "rgba(128, 0, 128, 1.0)",
           "width": 1
          }
         },
         "name": "Crescendo Networks",
         "orientation": "v",
         "text": "",
         "type": "bar",
         "visible": true,
         "x": [
          "2021-week_33",
          "2021-week_34",
          "2021-week_35",
          "2021-week_36",
          "2021-week_37",
          "2021-week_38",
          "2021-week_39",
          "2021-week_40",
          "2021-week_41",
          "2021-week_42",
          "2021-week_43",
          "2021-week_44",
          "2021-week_45",
          "2021-week_46",
          "2021-week_47",
          "2021-week_48",
          "2021-week_49",
          "2021-week_50",
          "2021-week_51",
          "2022-week_01",
          "2022-week_02",
          "2022-week_03",
          "2022-week_04",
          "2022-week_05",
          "2022-week_06",
          "2022-week_52"
         ],
         "y": [
          0.0030649205906937865,
          0.0057059355646788676,
          0.00480066791901482,
          0.007366226546212648,
          0.006183991106170094,
          0.006482191398898725,
          0.0054106548279689234,
          0.017700957934194086,
          0.006397774687065368,
          0.0034084585420144685,
          0.004106633256768985,
          0.004685642352612071,
          0.0033240997229916896,
          0.010871080139372822,
          0.003749479238994584,
          0.003748958622604832,
          0.004463974332147591,
          0.003957234101638433,
          0.006247559547051933,
          0.0026416405978449773,
          0.0033973514525410804,
          0.002584340294754488,
          0.0030625739542005986,
          0.003342152903495335,
          0.002084925985127528,
          0.005712492153170119
         ]
        },
        {
         "marker": {
          "color": "rgba(219, 64, 82, 0.6)",
          "line": {
           "color": "rgba(219, 64, 82, 1.0)",
           "width": 1
          }
         },
         "name": "Cue",
         "orientation": "v",
         "text": "",
         "type": "bar",
         "visible": true,
         "x": [
          "2021-week_33",
          "2021-week_34",
          "2021-week_35",
          "2021-week_36",
          "2021-week_37",
          "2021-week_38",
          "2021-week_39",
          "2021-week_40",
          "2021-week_41",
          "2021-week_42",
          "2021-week_43",
          "2021-week_44",
          "2021-week_45",
          "2021-week_46",
          "2021-week_47",
          "2021-week_48",
          "2021-week_49",
          "2021-week_50",
          "2021-week_51",
          "2022-week_01",
          "2022-week_02",
          "2022-week_03",
          "2022-week_04",
          "2022-week_05",
          "2022-week_06",
          "2022-week_52"
         ],
         "y": [
          "",
          6.958458005705935e-05,
          "",
          "",
          "",
          0.0001394019655677145,
          "",
          6.941552131056504e-05,
          "",
          "",
          "",
          "",
          "",
          "",
          "",
          "",
          "",
          "",
          "",
          "",
          "",
          "",
          "",
          "",
          "",
          ""
         ]
        },
        {
         "marker": {
          "color": "rgba(0, 128, 128, 0.6)",
          "line": {
           "color": "rgba(0, 128, 128, 1.0)",
           "width": 1
          }
         },
         "name": "Cuiker",
         "orientation": "v",
         "text": "",
         "type": "bar",
         "visible": true,
         "x": [
          "2021-week_33",
          "2021-week_34",
          "2021-week_35",
          "2021-week_36",
          "2021-week_37",
          "2021-week_38",
          "2021-week_39",
          "2021-week_40",
          "2021-week_41",
          "2021-week_42",
          "2021-week_43",
          "2021-week_44",
          "2021-week_45",
          "2021-week_46",
          "2021-week_47",
          "2021-week_48",
          "2021-week_49",
          "2021-week_50",
          "2021-week_51",
          "2022-week_01",
          "2022-week_02",
          "2022-week_03",
          "2022-week_04",
          "2022-week_05",
          "2022-week_06",
          "2022-week_52"
         ],
         "y": [
          6.965728615213152e-05,
          6.958458005705935e-05,
          6.957489737702637e-05,
          6.949270326615705e-05,
          "",
          "",
          "",
          "",
          6.954102920723227e-05,
          6.956037840845854e-05,
          6.960395350455906e-05,
          "",
          6.925207756232688e-05,
          6.968641114982578e-05,
          0.00013886960144424384,
          "",
          0.0002092487968194183,
          0.00013885031935573453,
          7.809449433814917e-05,
          6.951685783802571e-05,
          6.933370311308327e-05,
          6.984703499336453e-05,
          "",
          "",
          6.949753283758427e-05,
          6.277463904582549e-05
         ]
        },
        {
         "marker": {
          "color": "rgba(255, 255, 51, 0.6)",
          "line": {
           "color": "rgba(255, 255, 51, 1.0)",
           "width": 1
          }
         },
         "name": "Derceto",
         "orientation": "v",
         "text": "",
         "type": "bar",
         "visible": true,
         "x": [
          "2021-week_33",
          "2021-week_34",
          "2021-week_35",
          "2021-week_36",
          "2021-week_37",
          "2021-week_38",
          "2021-week_39",
          "2021-week_40",
          "2021-week_41",
          "2021-week_42",
          "2021-week_43",
          "2021-week_44",
          "2021-week_45",
          "2021-week_46",
          "2021-week_47",
          "2021-week_48",
          "2021-week_49",
          "2021-week_50",
          "2021-week_51",
          "2022-week_01",
          "2022-week_02",
          "2022-week_03",
          "2022-week_04",
          "2022-week_05",
          "2022-week_06",
          "2022-week_52"
         ],
         "y": [
          "",
          "",
          "",
          "",
          6.948304613674263e-05,
          "",
          "",
          "",
          "",
          "",
          "",
          "",
          "",
          "",
          "",
          "",
          "",
          "",
          "",
          "",
          "",
          "",
          "",
          "",
          "",
          ""
         ]
        },
        {
         "marker": {
          "color": "rgba(128, 128, 0, 0.6)",
          "line": {
           "color": "rgba(128, 128, 0, 1.0)",
           "width": 1
          }
         },
         "name": "Doctorfun Entertainment, Ltd",
         "orientation": "v",
         "text": "",
         "type": "bar",
         "visible": true,
         "x": [
          "2021-week_33",
          "2021-week_34",
          "2021-week_35",
          "2021-week_36",
          "2021-week_37",
          "2021-week_38",
          "2021-week_39",
          "2021-week_40",
          "2021-week_41",
          "2021-week_42",
          "2021-week_43",
          "2021-week_44",
          "2021-week_45",
          "2021-week_46",
          "2021-week_47",
          "2021-week_48",
          "2021-week_49",
          "2021-week_50",
          "2021-week_51",
          "2022-week_01",
          "2022-week_02",
          "2022-week_03",
          "2022-week_04",
          "2022-week_05",
          "2022-week_06",
          "2022-week_52"
         ],
         "y": [
          "",
          "",
          0.0002782995895081055,
          0.00048644892286309936,
          0.0009032795997776543,
          0.0010455147417578587,
          0.0012486126526082132,
          0.0009718172983479105,
          0.0012517385257301808,
          0.0017390094602114635,
          0.0009744553490638268,
          0.0009091544863277152,
          6.925207756232688e-05,
          6.968641114982578e-05,
          "",
          0.00013885031935573453,
          0.0002092487968194183,
          "",
          7.809449433814917e-05,
          6.951685783802571e-05,
          0.0004853359217915829,
          0.0007683173849270099,
          0.0008352474420547087,
          0.0007659100403843476,
          0.0008339703940510112,
          6.277463904582549e-05
         ]
        },
        {
         "marker": {
          "color": "rgba(251, 128, 114, 0.6)",
          "line": {
           "color": "rgba(251, 128, 114, 1.0)",
           "width": 1
          }
         },
         "name": "Earth Networks",
         "orientation": "v",
         "text": "",
         "type": "bar",
         "visible": true,
         "x": [
          "2021-week_33",
          "2021-week_34",
          "2021-week_35",
          "2021-week_36",
          "2021-week_37",
          "2021-week_38",
          "2021-week_39",
          "2021-week_40",
          "2021-week_41",
          "2021-week_42",
          "2021-week_43",
          "2021-week_44",
          "2021-week_45",
          "2021-week_46",
          "2021-week_47",
          "2021-week_48",
          "2021-week_49",
          "2021-week_50",
          "2021-week_51",
          "2022-week_01",
          "2022-week_02",
          "2022-week_03",
          "2022-week_04",
          "2022-week_05",
          "2022-week_06",
          "2022-week_52"
         ],
         "y": [
          "",
          "",
          6.957489737702637e-05,
          0.0001389854065323141,
          "",
          "",
          "",
          "",
          6.954102920723227e-05,
          "",
          "",
          "",
          "",
          "",
          "",
          "",
          "",
          "",
          "",
          "",
          "",
          "",
          "",
          "",
          "",
          ""
         ]
        },
        {
         "marker": {
          "color": "rgba(128, 177, 211, 0.6)",
          "line": {
           "color": "rgba(128, 177, 211, 1.0)",
           "width": 1
          }
         },
         "name": "Extreme DA",
         "orientation": "v",
         "text": "",
         "type": "bar",
         "visible": true,
         "x": [
          "2021-week_33",
          "2021-week_34",
          "2021-week_35",
          "2021-week_36",
          "2021-week_37",
          "2021-week_38",
          "2021-week_39",
          "2021-week_40",
          "2021-week_41",
          "2021-week_42",
          "2021-week_43",
          "2021-week_44",
          "2021-week_45",
          "2021-week_46",
          "2021-week_47",
          "2021-week_48",
          "2021-week_49",
          "2021-week_50",
          "2021-week_51",
          "2022-week_01",
          "2022-week_02",
          "2022-week_03",
          "2022-week_04",
          "2022-week_05",
          "2022-week_06",
          "2022-week_52"
         ],
         "y": [
          0.03517692950682642,
          0.08892909331292186,
          0.09601335838029638,
          0.09263377345378736,
          0.0883129516397999,
          0.14776608350177736,
          0.170019422863485,
          0.1646536165486603,
          0.1588317107093185,
          0.14322481914301613,
          0.15653929143175332,
          0.16791384012868033,
          0.18421052631578946,
          0.19658536585365854,
          0.20844327176781002,
          0.18286587059150236,
          0.12582827648741018,
          0.13843376839766733,
          0.21288559156579462,
          0.20208550573514078,
          0.19663038202870414,
          0.17531605783334497,
          0.16906800306257394,
          0.17156384904609387,
          0.16686357634303983,
          0.16064030131826743
         ]
        },
        {
         "marker": {
          "color": "rgba(128, 177, 211, 0.6)",
          "line": {
           "color": "rgba(128, 177, 211, 0.8999999999999999)",
           "width": 1
          }
         },
         "name": "Fancy",
         "orientation": "v",
         "text": "",
         "type": "bar",
         "visible": true,
         "x": [
          "2021-week_33",
          "2021-week_34",
          "2021-week_35",
          "2021-week_36",
          "2021-week_37",
          "2021-week_38",
          "2021-week_39",
          "2021-week_40",
          "2021-week_41",
          "2021-week_42",
          "2021-week_43",
          "2021-week_44",
          "2021-week_45",
          "2021-week_46",
          "2021-week_47",
          "2021-week_48",
          "2021-week_49",
          "2021-week_50",
          "2021-week_51",
          "2022-week_01",
          "2022-week_02",
          "2022-week_03",
          "2022-week_04",
          "2022-week_05",
          "2022-week_06",
          "2022-week_52"
         ],
         "y": [
          0.06485093340763444,
          0.05260594252313687,
          0.06129548458916023,
          0.0739402362751911,
          0.0821289605336298,
          0.08106224297762599,
          0.07450055493895671,
          0.08322921005136749,
          0.10069541029207232,
          0.07957707289927657,
          0.08561286281060765,
          0.0904259039093643,
          0.09217451523545707,
          0.0713588850174216,
          0.039786140813775864,
          0.07025826159400167,
          0.11494733905280044,
          0.11170508192168842,
          0.09160484185864896,
          0.06743135210288495,
          0.0704430423628926,
          0.09170915694628763,
          0.12382543328461057,
          0.13681938448684028,
          0.15671693654875252,
          0.08242310106716887
         ]
        },
        {
         "marker": {
          "color": "rgba(255, 153, 51, 0.6)",
          "line": {
           "color": "rgba(255, 153, 51, 0.8999999999999999)",
           "width": 1
          }
         },
         "name": "FlagTap",
         "orientation": "v",
         "text": "",
         "type": "bar",
         "visible": true,
         "x": [
          "2021-week_33",
          "2021-week_34",
          "2021-week_35",
          "2021-week_36",
          "2021-week_37",
          "2021-week_38",
          "2021-week_39",
          "2021-week_40",
          "2021-week_41",
          "2021-week_42",
          "2021-week_43",
          "2021-week_44",
          "2021-week_45",
          "2021-week_46",
          "2021-week_47",
          "2021-week_48",
          "2021-week_49",
          "2021-week_50",
          "2021-week_51",
          "2022-week_01",
          "2022-week_02",
          "2022-week_03",
          "2022-week_04",
          "2022-week_05",
          "2022-week_06",
          "2022-week_52"
         ],
         "y": [
          0.00013931457230426304,
          "",
          "",
          "",
          "",
          "",
          "",
          "",
          "",
          "",
          "",
          "",
          "",
          "",
          "",
          "",
          "",
          "",
          "",
          "",
          "",
          "",
          "",
          "",
          "",
          ""
         ]
        },
        {
         "marker": {
          "color": "rgba(55, 128, 191, 0.6)",
          "line": {
           "color": "rgba(55, 128, 191, 0.8999999999999999)",
           "width": 1
          }
         },
         "name": "Fry Multimedia",
         "orientation": "v",
         "text": "",
         "type": "bar",
         "visible": true,
         "x": [
          "2021-week_33",
          "2021-week_34",
          "2021-week_35",
          "2021-week_36",
          "2021-week_37",
          "2021-week_38",
          "2021-week_39",
          "2021-week_40",
          "2021-week_41",
          "2021-week_42",
          "2021-week_43",
          "2021-week_44",
          "2021-week_45",
          "2021-week_46",
          "2021-week_47",
          "2021-week_48",
          "2021-week_49",
          "2021-week_50",
          "2021-week_51",
          "2022-week_01",
          "2022-week_02",
          "2022-week_03",
          "2022-week_04",
          "2022-week_05",
          "2022-week_06",
          "2022-week_52"
         ],
         "y": [
          0.01567288938422959,
          0.017744067914550136,
          0.017950323523272804,
          0.01716469770674079,
          0.017857142857142856,
          0.01575242210915174,
          0.014567147613762486,
          0.018256282104678605,
          0.0196105702364395,
          0.0134251530328325,
          0.012111087909793277,
          0.01258829288761452,
          0.010110803324099723,
          0.00975609756097561,
          0.011803916122760728,
          0.014509858372674257,
          0.012624677408104903,
          0.009233546237156345,
          0.01101132370167903,
          0.016336461591936045,
          0.016501421340913817,
          0.014178948103653,
          0.012041483956288717,
          0.009956830524996518,
          0.012162068246577246,
          0.006528562460765851
         ]
        },
        {
         "marker": {
          "color": "rgba(50, 171, 96, 0.6)",
          "line": {
           "color": "rgba(50, 171, 96, 0.8999999999999999)",
           "width": 1
          }
         },
         "name": "G-mode",
         "orientation": "v",
         "text": "",
         "type": "bar",
         "visible": true,
         "x": [
          "2021-week_33",
          "2021-week_34",
          "2021-week_35",
          "2021-week_36",
          "2021-week_37",
          "2021-week_38",
          "2021-week_39",
          "2021-week_40",
          "2021-week_41",
          "2021-week_42",
          "2021-week_43",
          "2021-week_44",
          "2021-week_45",
          "2021-week_46",
          "2021-week_47",
          "2021-week_48",
          "2021-week_49",
          "2021-week_50",
          "2021-week_51",
          "2022-week_01",
          "2022-week_02",
          "2022-week_03",
          "2022-week_04",
          "2022-week_05",
          "2022-week_06",
          "2022-week_52"
         ],
         "y": [
          0.0026469768737809973,
          0.0026442140421682556,
          0.0030612954845891604,
          0.005628908964558721,
          0.005350194552529183,
          0.002997142259705862,
          0.004786348501664817,
          0.004928502013050118,
          0.005563282336578581,
          0.0025041736227045075,
          0.0021577225586413306,
          0.002587593538009651,
          0.004293628808864266,
          0.0029965156794425087,
          0.002846826829606999,
          0.0036101083032490976,
          0.00411522633744856,
          0.002360455429047487,
          0.004607575165950801,
          0.0022940563086548487,
          0.003328017749427997,
          0.002374799189774394,
          0.0027841581401823624,
          0.002297730121153043,
          0.0014594481895892695,
          0.004331450094161958
         ]
        },
        {
         "marker": {
          "color": "rgba(128, 0, 128, 0.6)",
          "line": {
           "color": "rgba(128, 0, 128, 0.8999999999999999)",
           "width": 1
          }
         },
         "name": "Glory Medical",
         "orientation": "v",
         "text": "",
         "type": "bar",
         "visible": true,
         "x": [
          "2021-week_33",
          "2021-week_34",
          "2021-week_35",
          "2021-week_36",
          "2021-week_37",
          "2021-week_38",
          "2021-week_39",
          "2021-week_40",
          "2021-week_41",
          "2021-week_42",
          "2021-week_43",
          "2021-week_44",
          "2021-week_45",
          "2021-week_46",
          "2021-week_47",
          "2021-week_48",
          "2021-week_49",
          "2021-week_50",
          "2021-week_51",
          "2022-week_01",
          "2022-week_02",
          "2022-week_03",
          "2022-week_04",
          "2022-week_05",
          "2022-week_06",
          "2022-week_52"
         ],
         "y": [
          0.0034132070214544443,
          0.0007654303806276529,
          0.00013914979475405275,
          0.0006254343293954135,
          0.0002084491384102279,
          0.00034850491391928625,
          0.0002081021087680355,
          0.00020824656393169514,
          6.954102920723227e-05,
          6.956037840845854e-05,
          6.960395350455906e-05,
          0.0003496748024337366,
          "",
          0.00013937282229965157,
          0.00020830440216636578,
          0.00027770063871146905,
          0.0004184975936388366,
          0.0003471257983893363,
          0.00031237797735259666,
          0.00013903371567605143,
          0.00013866740622616653,
          6.984703499336453e-05,
          "",
          0.0001392563709789723,
          "",
          6.277463904582549e-05
         ]
        },
        {
         "marker": {
          "color": "rgba(219, 64, 82, 0.6)",
          "line": {
           "color": "rgba(219, 64, 82, 0.8999999999999999)",
           "width": 1
          }
         },
         "name": "Joules Clothing",
         "orientation": "v",
         "text": "",
         "type": "bar",
         "visible": true,
         "x": [
          "2021-week_33",
          "2021-week_34",
          "2021-week_35",
          "2021-week_36",
          "2021-week_37",
          "2021-week_38",
          "2021-week_39",
          "2021-week_40",
          "2021-week_41",
          "2021-week_42",
          "2021-week_43",
          "2021-week_44",
          "2021-week_45",
          "2021-week_46",
          "2021-week_47",
          "2021-week_48",
          "2021-week_49",
          "2021-week_50",
          "2021-week_51",
          "2022-week_01",
          "2022-week_02",
          "2022-week_03",
          "2022-week_04",
          "2022-week_05",
          "2022-week_06",
          "2022-week_52"
         ],
         "y": [
          0.00027862914460852607,
          6.958458005705935e-05,
          0.00034787448688513185,
          0.00020847810979847116,
          "",
          6.970098278385725e-05,
          "",
          "",
          6.954102920723227e-05,
          0.0001391207568169171,
          "",
          0.00020980488146024197,
          6.925207756232688e-05,
          0.00013937282229965157,
          6.943480072212192e-05,
          "",
          "",
          "",
          "",
          "",
          6.933370311308327e-05,
          "",
          "",
          "",
          "",
          ""
         ]
        },
        {
         "marker": {
          "color": "rgba(0, 128, 128, 0.6)",
          "line": {
           "color": "rgba(0, 128, 128, 0.8999999999999999)",
           "width": 1
          }
         },
         "name": "Jun Group",
         "orientation": "v",
         "text": "",
         "type": "bar",
         "visible": true,
         "x": [
          "2021-week_33",
          "2021-week_34",
          "2021-week_35",
          "2021-week_36",
          "2021-week_37",
          "2021-week_38",
          "2021-week_39",
          "2021-week_40",
          "2021-week_41",
          "2021-week_42",
          "2021-week_43",
          "2021-week_44",
          "2021-week_45",
          "2021-week_46",
          "2021-week_47",
          "2021-week_48",
          "2021-week_49",
          "2021-week_50",
          "2021-week_51",
          "2022-week_01",
          "2022-week_02",
          "2022-week_03",
          "2022-week_04",
          "2022-week_05",
          "2022-week_06",
          "2022-week_52"
         ],
         "y": [
          "",
          "",
          "",
          "",
          "",
          "",
          "",
          "",
          "",
          "",
          "",
          6.993496048674733e-05,
          "",
          "",
          "",
          "",
          "",
          "",
          7.809449433814917e-05,
          "",
          "",
          "",
          0.00013920790700911812,
          "",
          "",
          ""
         ]
        },
        {
         "marker": {
          "color": "rgba(255, 255, 51, 0.6)",
          "line": {
           "color": "rgba(255, 255, 51, 0.8999999999999999)",
           "width": 1
          }
         },
         "name": "LocalVox Media",
         "orientation": "v",
         "text": "",
         "type": "bar",
         "visible": true,
         "x": [
          "2021-week_33",
          "2021-week_34",
          "2021-week_35",
          "2021-week_36",
          "2021-week_37",
          "2021-week_38",
          "2021-week_39",
          "2021-week_40",
          "2021-week_41",
          "2021-week_42",
          "2021-week_43",
          "2021-week_44",
          "2021-week_45",
          "2021-week_46",
          "2021-week_47",
          "2021-week_48",
          "2021-week_49",
          "2021-week_50",
          "2021-week_51",
          "2022-week_01",
          "2022-week_02",
          "2022-week_03",
          "2022-week_04",
          "2022-week_05",
          "2022-week_06",
          "2022-week_52"
         ],
         "y": [
          0.015254945667316801,
          0.020875374017117806,
          0.01551520211507688,
          0.01535788742182071,
          0.01764869371873263,
          0.015961525057503312,
          0.013665371809100999,
          0.016034985422740525,
          0.015716272600834493,
          0.011268781302170284,
          0.009396533723115472,
          0.014546471781243443,
          0.017243767313019392,
          0.016445993031358887,
          0.017914178586307457,
          0.01825881699527909,
          0.02218037246285834,
          0.016870313801721742,
          0.01663412729402577,
          0.016127911018421967,
          0.01504541357553907,
          0.011175525598938325,
          0.0119022760492796,
          0.011001253307338811,
          0.010146639794287303,
          0.021468926553672316
         ]
        },
        {
         "marker": {
          "color": "rgba(128, 128, 0, 0.6)",
          "line": {
           "color": "rgba(128, 128, 0, 0.8999999999999999)",
           "width": 1
          }
         },
         "name": "Marketo Japan",
         "orientation": "v",
         "text": "",
         "type": "bar",
         "visible": true,
         "x": [
          "2021-week_33",
          "2021-week_34",
          "2021-week_35",
          "2021-week_36",
          "2021-week_37",
          "2021-week_38",
          "2021-week_39",
          "2021-week_40",
          "2021-week_41",
          "2021-week_42",
          "2021-week_43",
          "2021-week_44",
          "2021-week_45",
          "2021-week_46",
          "2021-week_47",
          "2021-week_48",
          "2021-week_49",
          "2021-week_50",
          "2021-week_51",
          "2022-week_01",
          "2022-week_02",
          "2022-week_03",
          "2022-week_04",
          "2022-week_05",
          "2022-week_06",
          "2022-week_52"
         ],
         "y": [
          "",
          "",
          "",
          "",
          6.948304613674263e-05,
          "",
          "",
          "",
          "",
          "",
          "",
          "",
          "",
          "",
          "",
          "",
          "",
          "",
          "",
          "",
          "",
          "",
          "",
          "",
          "",
          ""
         ]
        },
        {
         "marker": {
          "color": "rgba(251, 128, 114, 0.6)",
          "line": {
           "color": "rgba(251, 128, 114, 0.8999999999999999)",
           "width": 1
          }
         },
         "name": "Metranome",
         "orientation": "v",
         "text": "",
         "type": "bar",
         "visible": true,
         "x": [
          "2021-week_33",
          "2021-week_34",
          "2021-week_35",
          "2021-week_36",
          "2021-week_37",
          "2021-week_38",
          "2021-week_39",
          "2021-week_40",
          "2021-week_41",
          "2021-week_42",
          "2021-week_43",
          "2021-week_44",
          "2021-week_45",
          "2021-week_46",
          "2021-week_47",
          "2021-week_48",
          "2021-week_49",
          "2021-week_50",
          "2021-week_51",
          "2022-week_01",
          "2022-week_02",
          "2022-week_03",
          "2022-week_04",
          "2022-week_05",
          "2022-week_06",
          "2022-week_52"
         ],
         "y": [
          0.00027862914460852607,
          0.00020875374017117806,
          0.0002782995895081055,
          0.00034746351633078526,
          6.948304613674263e-05,
          6.970098278385725e-05,
          0.00013873473917869035,
          0.00013883104262113008,
          "",
          "",
          "",
          6.993496048674733e-05,
          "",
          6.968641114982578e-05,
          "",
          "",
          0.0001394991978796122,
          0.00013885031935573453,
          7.809449433814917e-05,
          "",
          "",
          "",
          0.00013920790700911812,
          6.962818548948615e-05,
          6.949753283758427e-05,
          6.277463904582549e-05
         ]
        },
        {
         "marker": {
          "color": "rgba(251, 128, 114, 0.6)",
          "line": {
           "color": "rgba(251, 128, 114, 0.7999999999999998)",
           "width": 1
          }
         },
         "name": "Mission Street Manufacturing",
         "orientation": "v",
         "text": "",
         "type": "bar",
         "visible": true,
         "x": [
          "2021-week_33",
          "2021-week_34",
          "2021-week_35",
          "2021-week_36",
          "2021-week_37",
          "2021-week_38",
          "2021-week_39",
          "2021-week_40",
          "2021-week_41",
          "2021-week_42",
          "2021-week_43",
          "2021-week_44",
          "2021-week_45",
          "2021-week_46",
          "2021-week_47",
          "2021-week_48",
          "2021-week_49",
          "2021-week_50",
          "2021-week_51",
          "2022-week_01",
          "2022-week_02",
          "2022-week_03",
          "2022-week_04",
          "2022-week_05",
          "2022-week_06",
          "2022-week_52"
         ],
         "y": [
          0.0009752020061298412,
          0.0006958458005705936,
          0.0010436234606553956,
          0.00034746351633078526,
          0.0003474152306837132,
          0.0006273088450547153,
          0.000416204217536071,
          0.0003470776065528252,
          0.0004172461752433936,
          0.00041736227045075126,
          0.00041762372102735435,
          0.0009091544863277152,
          0.0006232686980609418,
          0.0005574912891986063,
          0.0005554784057769754,
          0.00041655095806720355,
          0.0009067447862174793,
          0.00041655095806720355,
          0.0003904724716907458,
          0.0003475842891901286,
          0.00020800110933924982,
          0.0004889292449535517,
          6.960395350455906e-05,
          0.00020888455646845844,
          0.0005559802627006741,
          0.00025109855618330194
         ]
        },
        {
         "marker": {
          "color": "rgba(128, 177, 211, 0.6)",
          "line": {
           "color": "rgba(128, 177, 211, 0.7999999999999998)",
           "width": 1
          }
         },
         "name": "MoJoe Brewing Company",
         "orientation": "v",
         "text": "",
         "type": "bar",
         "visible": true,
         "x": [
          "2021-week_33",
          "2021-week_34",
          "2021-week_35",
          "2021-week_36",
          "2021-week_37",
          "2021-week_38",
          "2021-week_39",
          "2021-week_40",
          "2021-week_41",
          "2021-week_42",
          "2021-week_43",
          "2021-week_44",
          "2021-week_45",
          "2021-week_46",
          "2021-week_47",
          "2021-week_48",
          "2021-week_49",
          "2021-week_50",
          "2021-week_51",
          "2022-week_01",
          "2022-week_02",
          "2022-week_03",
          "2022-week_04",
          "2022-week_05",
          "2022-week_06",
          "2022-week_52"
         ],
         "y": [
          0.09424630816383393,
          0.07890891378470531,
          0.10387532178390037,
          0.08881167477414871,
          0.09672040022234575,
          0.0759740712344044,
          0.08011931187569367,
          0.07309454394002499,
          0.05744089012517385,
          0.041666666666666664,
          0.0680030625739542,
          0.06007413105811595,
          0.056509695290858725,
          0.09874564459930314,
          0.0611026246354673,
          0.13732296584282144,
          0.0823045267489712,
          0.12454873646209386,
          0.07169074580242094,
          0.07897115050399722,
          0.08028842820495043,
          0.10169728295033875,
          0.06507969652676272,
          0.08174348976465673,
          0.06393773021057753,
          0.14055241682360325
         ]
        },
        {
         "marker": {
          "color": "rgba(255, 153, 51, 0.6)",
          "line": {
           "color": "rgba(255, 153, 51, 0.7999999999999998)",
           "width": 1
          }
         },
         "name": "Modanisa",
         "orientation": "v",
         "text": "",
         "type": "bar",
         "visible": true,
         "x": [
          "2021-week_33",
          "2021-week_34",
          "2021-week_35",
          "2021-week_36",
          "2021-week_37",
          "2021-week_38",
          "2021-week_39",
          "2021-week_40",
          "2021-week_41",
          "2021-week_42",
          "2021-week_43",
          "2021-week_44",
          "2021-week_45",
          "2021-week_46",
          "2021-week_47",
          "2021-week_48",
          "2021-week_49",
          "2021-week_50",
          "2021-week_51",
          "2022-week_01",
          "2022-week_02",
          "2022-week_03",
          "2022-week_04",
          "2022-week_05",
          "2022-week_06",
          "2022-week_52"
         ],
         "y": [
          0.009055447199777097,
          0.008141395866675945,
          0.007583663814095874,
          0.007157748436414177,
          0.006461923290717065,
          0.005854882553844009,
          0.02746947835738069,
          0.024711925586561156,
          0.026564673157162728,
          0.022746243739565943,
          0.03048653163499687,
          0.01594517099097839,
          0.006232686980609419,
          0.006480836236933798,
          0.007290654075822803,
          0.006525965009719522,
          0.006277463904582548,
          0.005762288253262983,
          0.004919953143303397,
          0.004449078901633646,
          0.003328017749427997,
          0.0034923517496682267,
          0.0027841581401823624,
          0.004108062943879683,
          0.0025714087149906178,
          0.004331450094161958
         ]
        },
        {
         "marker": {
          "color": "rgba(55, 128, 191, 0.6)",
          "line": {
           "color": "rgba(55, 128, 191, 0.7999999999999998)",
           "width": 1
          }
         },
         "name": "OpenDesks, Inc.",
         "orientation": "v",
         "text": "",
         "type": "bar",
         "visible": true,
         "x": [
          "2021-week_33",
          "2021-week_34",
          "2021-week_35",
          "2021-week_36",
          "2021-week_37",
          "2021-week_38",
          "2021-week_39",
          "2021-week_40",
          "2021-week_41",
          "2021-week_42",
          "2021-week_43",
          "2021-week_44",
          "2021-week_45",
          "2021-week_46",
          "2021-week_47",
          "2021-week_48",
          "2021-week_49",
          "2021-week_50",
          "2021-week_51",
          "2022-week_01",
          "2022-week_02",
          "2022-week_03",
          "2022-week_04",
          "2022-week_05",
          "2022-week_06",
          "2022-week_52"
         ],
         "y": [
          0.00041794371691278906,
          0.0004175074803423561,
          0.0004870242816391846,
          0.001320361362056984,
          0.0009032795997776543,
          0.0012546176901094305,
          0.00201165371809101,
          0.0023601277245592113,
          0.0018080667593880389,
          0.0019476905954368391,
          0.001113663256072945,
          0.0018882439331421778,
          0.001592797783933518,
          0.0029965156794425087,
          0.002569087626718511,
          0.0014579283532352124,
          0.0015344911766757342,
          0.0008331019161344071,
          0.002420929324482624,
          0.00145985401459854,
          0.0016640088747139985,
          0.001187399594887197,
          0.0009048513955592678,
          0.0008355382258738338,
          0.0009034679268885954,
          0.0018832391713747645
         ]
        },
        {
         "marker": {
          "color": "rgba(50, 171, 96, 0.6)",
          "line": {
           "color": "rgba(50, 171, 96, 0.7999999999999998)",
           "width": 1
          }
         },
         "name": "PageBites",
         "orientation": "v",
         "text": "",
         "type": "bar",
         "visible": true,
         "x": [
          "2021-week_33",
          "2021-week_34",
          "2021-week_35",
          "2021-week_36",
          "2021-week_37",
          "2021-week_38",
          "2021-week_39",
          "2021-week_40",
          "2021-week_41",
          "2021-week_42",
          "2021-week_43",
          "2021-week_44",
          "2021-week_45",
          "2021-week_46",
          "2021-week_47",
          "2021-week_48",
          "2021-week_49",
          "2021-week_50",
          "2021-week_51",
          "2022-week_01",
          "2022-week_02",
          "2022-week_03",
          "2022-week_04",
          "2022-week_05",
          "2022-week_06",
          "2022-week_52"
         ],
         "y": [
          0.0016021175814990248,
          0.0006958458005705936,
          0.001113198358032422,
          0.0008339124391938846,
          0.0012506948304613673,
          0.0007667108106224297,
          0.00048557158712541623,
          6.941552131056504e-05,
          0.0004867872044506259,
          0.0005564830272676684,
          0.00027841581401823624,
          0.00020980488146024197,
          "",
          "",
          "",
          "",
          "",
          "",
          "",
          "",
          0.00013866740622616653,
          0.0002095411049800936,
          0.00020881186051367718,
          0.00020888455646845844,
          0.00027799013135033706,
          ""
         ]
        },
        {
         "marker": {
          "color": "rgba(128, 0, 128, 0.6)",
          "line": {
           "color": "rgba(128, 0, 128, 0.7999999999999998)",
           "width": 1
          }
         },
         "name": "Pole Star",
         "orientation": "v",
         "text": "",
         "type": "bar",
         "visible": true,
         "x": [
          "2021-week_33",
          "2021-week_34",
          "2021-week_35",
          "2021-week_36",
          "2021-week_37",
          "2021-week_38",
          "2021-week_39",
          "2021-week_40",
          "2021-week_41",
          "2021-week_42",
          "2021-week_43",
          "2021-week_44",
          "2021-week_45",
          "2021-week_46",
          "2021-week_47",
          "2021-week_48",
          "2021-week_49",
          "2021-week_50",
          "2021-week_51",
          "2022-week_01",
          "2022-week_02",
          "2022-week_03",
          "2022-week_04",
          "2022-week_05",
          "2022-week_06",
          "2022-week_52"
         ],
         "y": [
          0.0030649205906937865,
          0.0017396145014264839,
          "",
          "",
          6.948304613674263e-05,
          6.970098278385725e-05,
          0.00013873473917869035,
          6.941552131056504e-05,
          0.0011821974965229485,
          0.00020868113522537563,
          0.00020881186051367718,
          0.0006294146443807259,
          0.0017313019390581717,
          0.0011149825783972125,
          "",
          "",
          0.0001394991978796122,
          6.942515967786726e-05,
          7.809449433814917e-05,
          0.0003475842891901286,
          0.0003466685155654163,
          0.00034923517496682265,
          0.0015312869771002993,
          0.001392563709789723,
          0.0016679407881020224,
          0.00012554927809165097
         ]
        },
        {
         "marker": {
          "color": "rgba(219, 64, 82, 0.6)",
          "line": {
           "color": "rgba(219, 64, 82, 0.7999999999999998)",
           "width": 1
          }
         },
         "name": "Puentes Company",
         "orientation": "v",
         "text": "",
         "type": "bar",
         "visible": true,
         "x": [
          "2021-week_33",
          "2021-week_34",
          "2021-week_35",
          "2021-week_36",
          "2021-week_37",
          "2021-week_38",
          "2021-week_39",
          "2021-week_40",
          "2021-week_41",
          "2021-week_42",
          "2021-week_43",
          "2021-week_44",
          "2021-week_45",
          "2021-week_46",
          "2021-week_47",
          "2021-week_48",
          "2021-week_49",
          "2021-week_50",
          "2021-week_51",
          "2022-week_01",
          "2022-week_02",
          "2022-week_03",
          "2022-week_04",
          "2022-week_05",
          "2022-week_06",
          "2022-week_52"
         ],
         "y": [
          0.09452493730844247,
          0.08197063530721592,
          0.07521046406456551,
          0.07588603196664351,
          0.07406892718176765,
          0.0683069631281801,
          0.06804938956714761,
          0.06976259891711786,
          0.08817802503477051,
          0.07206455203116305,
          0.06333959768914875,
          0.07720819637736905,
          0.10297783933518005,
          0.0932404181184669,
          0.09061241494236912,
          0.0814357123021383,
          0.09130222501220618,
          0.08497639544570952,
          0.10378758297540024,
          0.09336114007646855,
          0.09061914996879983,
          0.06635468324369631,
          0.05902415257186608,
          0.05653808661746275,
          0.0583084300507332,
          0.06936597614563716
         ]
        },
        {
         "marker": {
          "color": "rgba(0, 128, 128, 0.6)",
          "line": {
           "color": "rgba(0, 128, 128, 0.7999999999999998)",
           "width": 1
          }
         },
         "name": "PureSafe water systems",
         "orientation": "v",
         "text": "",
         "type": "bar",
         "visible": true,
         "x": [
          "2021-week_33",
          "2021-week_34",
          "2021-week_35",
          "2021-week_36",
          "2021-week_37",
          "2021-week_38",
          "2021-week_39",
          "2021-week_40",
          "2021-week_41",
          "2021-week_42",
          "2021-week_43",
          "2021-week_44",
          "2021-week_45",
          "2021-week_46",
          "2021-week_47",
          "2021-week_48",
          "2021-week_49",
          "2021-week_50",
          "2021-week_51",
          "2022-week_01",
          "2022-week_02",
          "2022-week_03",
          "2022-week_04",
          "2022-week_05",
          "2022-week_06",
          "2022-week_52"
         ],
         "y": [
          "",
          "",
          "",
          "",
          "",
          "",
          "",
          "",
          "",
          "",
          "",
          "",
          "",
          "",
          "",
          "",
          "",
          "",
          "",
          "",
          "",
          "",
          "",
          6.962818548948615e-05,
          "",
          ""
         ]
        },
        {
         "marker": {
          "color": "rgba(255, 255, 51, 0.6)",
          "line": {
           "color": "rgba(255, 255, 51, 0.7999999999999998)",
           "width": 1
          }
         },
         "name": "RelayFoods",
         "orientation": "v",
         "text": "",
         "type": "bar",
         "visible": true,
         "x": [
          "2021-week_33",
          "2021-week_34",
          "2021-week_35",
          "2021-week_36",
          "2021-week_37",
          "2021-week_38",
          "2021-week_39",
          "2021-week_40",
          "2021-week_41",
          "2021-week_42",
          "2021-week_43",
          "2021-week_44",
          "2021-week_45",
          "2021-week_46",
          "2021-week_47",
          "2021-week_48",
          "2021-week_49",
          "2021-week_50",
          "2021-week_51",
          "2022-week_01",
          "2022-week_02",
          "2022-week_03",
          "2022-week_04",
          "2022-week_05",
          "2022-week_06",
          "2022-week_52"
         ],
         "y": [
          0.10929228197269435,
          0.06297404495163872,
          0.06880957350587907,
          0.06949270326615706,
          0.06663424124513619,
          0.06754025231755768,
          0.052372364039955606,
          0.04602249062890462,
          0.05660639777468707,
          0.2598775737340011,
          0.24131690680030626,
          0.2721169312539338,
          0.3479224376731302,
          0.31679442508710803,
          0.3327315650604083,
          0.2905442932518745,
          0.32370788867964007,
          0.3126214940294363,
          0.28621632174931666,
          0.26930830726451166,
          0.2656867503293351,
          0.24760773905147726,
          0.247511658662212,
          0.22629160284082997,
          0.23650010424629925,
          0.3747018204645323
         ]
        },
        {
         "marker": {
          "color": "rgba(128, 128, 0, 0.6)",
          "line": {
           "color": "rgba(128, 128, 0, 0.7999999999999998)",
           "width": 1
          }
         },
         "name": "SOLOMO365",
         "orientation": "v",
         "text": "",
         "type": "bar",
         "visible": true,
         "x": [
          "2021-week_33",
          "2021-week_34",
          "2021-week_35",
          "2021-week_36",
          "2021-week_37",
          "2021-week_38",
          "2021-week_39",
          "2021-week_40",
          "2021-week_41",
          "2021-week_42",
          "2021-week_43",
          "2021-week_44",
          "2021-week_45",
          "2021-week_46",
          "2021-week_47",
          "2021-week_48",
          "2021-week_49",
          "2021-week_50",
          "2021-week_51",
          "2022-week_01",
          "2022-week_02",
          "2022-week_03",
          "2022-week_04",
          "2022-week_05",
          "2022-week_06",
          "2022-week_52"
         ],
         "y": [
          0.05544719977709668,
          0.06039941548952752,
          0.05976483684686565,
          0.05573314801945796,
          0.055586436909394105,
          0.05813061964173695,
          0.049944506104328525,
          0.014993752603082049,
          "",
          "",
          "",
          "",
          "",
          "",
          "",
          "",
          "",
          "",
          "",
          "",
          "",
          "",
          "",
          "",
          "",
          ""
         ]
        },
        {
         "marker": {
          "color": "rgba(128, 128, 0, 0.6)",
          "line": {
           "color": "rgba(128, 128, 0, 0.7)",
           "width": 1
          }
         },
         "name": "Search Million Culture",
         "orientation": "v",
         "text": "",
         "type": "bar",
         "visible": true,
         "x": [
          "2021-week_33",
          "2021-week_34",
          "2021-week_35",
          "2021-week_36",
          "2021-week_37",
          "2021-week_38",
          "2021-week_39",
          "2021-week_40",
          "2021-week_41",
          "2021-week_42",
          "2021-week_43",
          "2021-week_44",
          "2021-week_45",
          "2021-week_46",
          "2021-week_47",
          "2021-week_48",
          "2021-week_49",
          "2021-week_50",
          "2021-week_51",
          "2022-week_01",
          "2022-week_02",
          "2022-week_03",
          "2022-week_04",
          "2022-week_05",
          "2022-week_06",
          "2022-week_52"
         ],
         "y": [
          0.35218723878517694,
          0.39043907870016004,
          0.35030960829332775,
          0.35392633773453785,
          0.3494302390216787,
          0.33372830556910854,
          0.3140260821309656,
          0.3306261280022213,
          0.3364394993045897,
          0.25994713411240955,
          0.24110809493979257,
          0.1897335478005455,
          0.0853185595567867,
          0.09337979094076655,
          0.09665324260519373,
          0.11538461538461539,
          0.13287298598033062,
          0.12350735906692585,
          0.12526356891839124,
          0.19443865137295793,
          0.2046730915898218,
          0.23342879094782426,
          0.25440245005916334,
          0.25163626235900294,
          0.23816804503440128,
          0.0743879472693032
         ]
        },
        {
         "marker": {
          "color": "rgba(251, 128, 114, 0.6)",
          "line": {
           "color": "rgba(251, 128, 114, 0.7)",
           "width": 1
          }
         },
         "name": "Sensor Tower",
         "orientation": "v",
         "text": "",
         "type": "bar",
         "visible": true,
         "x": [
          "2021-week_33",
          "2021-week_34",
          "2021-week_35",
          "2021-week_36",
          "2021-week_37",
          "2021-week_38",
          "2021-week_39",
          "2021-week_40",
          "2021-week_41",
          "2021-week_42",
          "2021-week_43",
          "2021-week_44",
          "2021-week_45",
          "2021-week_46",
          "2021-week_47",
          "2021-week_48",
          "2021-week_49",
          "2021-week_50",
          "2021-week_51",
          "2022-week_01",
          "2022-week_02",
          "2022-week_03",
          "2022-week_04",
          "2022-week_05",
          "2022-week_06",
          "2022-week_52"
         ],
         "y": [
          0.03629144608526052,
          0.03374852132767379,
          0.031308703819661866,
          0.018763029881862403,
          0.012854363535297387,
          0.008712622847982156,
          0.0076997780244173145,
          0.006455643481882549,
          0.00674547983310153,
          0.006816917084028937,
          0.005568316280364725,
          0.005384991957479544,
          0.00574792243767313,
          0.004320557491289199,
          0.004443827246215803,
          0.005554012774229381,
          0.007463207086559252,
          0.004859761177450708,
          0.003358063256540414,
          0.003475842891901286,
          0.0029813492338625807,
          0.00447021023957533,
          0.004315445117282661,
          0.003899178387411224,
          0.004169851970255056,
          0.004205900816070308
         ]
        },
        {
         "marker": {
          "color": "rgba(128, 177, 211, 0.6)",
          "line": {
           "color": "rgba(128, 177, 211, 0.7)",
           "width": 1
          }
         },
         "name": "Tab Solutions",
         "orientation": "v",
         "text": "",
         "type": "bar",
         "visible": true,
         "x": [
          "2021-week_33",
          "2021-week_34",
          "2021-week_35",
          "2021-week_36",
          "2021-week_37",
          "2021-week_38",
          "2021-week_39",
          "2021-week_40",
          "2021-week_41",
          "2021-week_42",
          "2021-week_43",
          "2021-week_44",
          "2021-week_45",
          "2021-week_46",
          "2021-week_47",
          "2021-week_48",
          "2021-week_49",
          "2021-week_50",
          "2021-week_51",
          "2022-week_01",
          "2022-week_02",
          "2022-week_03",
          "2022-week_04",
          "2022-week_05",
          "2022-week_06",
          "2022-week_52"
         ],
         "y": [
          0.0672192811368069,
          0.054345557024563354,
          0.04981562652195088,
          0.055524669909659485,
          0.05885214007782101,
          0.04000836411793406,
          0.05292730299667037,
          0.06774954879911148,
          0.0672461752433936,
          0.047996661101836396,
          0.04719148047609104,
          0.05063291139240506,
          0.04113573407202216,
          0.014355400696864112,
          0.016594917372587142,
          0.0197167453485143,
          0.031317569923972936,
          0.02256317689530686,
          0.019992190550566186,
          0.010983663538408064,
          0.012618733966581155,
          0.01494726548858001,
          0.016565740934085055,
          0.01392563709789723,
          0.01709639307804573,
          0.013998744507219083
         ]
        },
        {
         "marker": {
          "color": "rgba(255, 153, 51, 0.6)",
          "line": {
           "color": "rgba(255, 153, 51, 0.7)",
           "width": 1
          }
         },
         "name": "VarVee",
         "orientation": "v",
         "text": "",
         "type": "bar",
         "visible": true,
         "x": [
          "2021-week_33",
          "2021-week_34",
          "2021-week_35",
          "2021-week_36",
          "2021-week_37",
          "2021-week_38",
          "2021-week_39",
          "2021-week_40",
          "2021-week_41",
          "2021-week_42",
          "2021-week_43",
          "2021-week_44",
          "2021-week_45",
          "2021-week_46",
          "2021-week_47",
          "2021-week_48",
          "2021-week_49",
          "2021-week_50",
          "2021-week_51",
          "2022-week_01",
          "2022-week_02",
          "2022-week_03",
          "2022-week_04",
          "2022-week_05",
          "2022-week_06",
          "2022-week_52"
         ],
         "y": [
          0.00229869044302034,
          0.004662166863822976,
          0.004870242816391846,
          0.006879777623349548,
          0.0074346859366314615,
          0.007179201226737297,
          0.005063817980022198,
          0.004789670970428988,
          0.005563282336578581,
          0.0023650528658875902,
          0.0029929700006960393,
          0.003217008182390377,
          0.003601108033240997,
          0.0024390243902439024,
          0.002707957228162755,
          0.0017356289919466814,
          0.0004882471925786427,
          0.0006248264371008053,
          0.00046856696602889497,
          0.00027806743135210286,
          0.0006933370311308326,
          0.0007683173849270099,
          0.0010440593025683859,
          0.0007659100403843476,
          0.0006949753283758427,
          0.0003766478342749529
         ]
        },
        {
         "marker": {
          "color": "rgba(55, 128, 191, 0.6)",
          "line": {
           "color": "rgba(55, 128, 191, 0.7)",
           "width": 1
          }
         },
         "name": "aPriori Technologies",
         "orientation": "v",
         "text": "",
         "type": "bar",
         "visible": true,
         "x": [
          "2021-week_33",
          "2021-week_34",
          "2021-week_35",
          "2021-week_36",
          "2021-week_37",
          "2021-week_38",
          "2021-week_39",
          "2021-week_40",
          "2021-week_41",
          "2021-week_42",
          "2021-week_43",
          "2021-week_44",
          "2021-week_45",
          "2021-week_46",
          "2021-week_47",
          "2021-week_48",
          "2021-week_49",
          "2021-week_50",
          "2021-week_51",
          "2022-week_01",
          "2022-week_02",
          "2022-week_03",
          "2022-week_04",
          "2022-week_05",
          "2022-week_06",
          "2022-week_52"
         ],
         "y": [
          0.002995263304541655,
          0.0029225523623964927,
          0.003965769150490503,
          0.0029881862404447534,
          0.0027098387993329627,
          0.002439534397435004,
          0.0039539400665926745,
          0.004442593363876163,
          0.0035465924895688454,
          0.002295492487479132,
          0.002853762093686921,
          0.002307853696062662,
          0.003670360110803324,
          0.005156794425087108,
          0.004999305651992779,
          0.003262982504859761,
          0.0034874799469903047,
          0.00354068314357123,
          0.004139008199921906,
          0.0032672923183872087,
          0.002010677390279415,
          0.0017461758748341133,
          0.0020881186051367718,
          0.002297730121153043,
          0.002015428452289944,
          0.0038292529817953547
         ]
        },
        {
         "marker": {
          "color": "rgba(50, 171, 96, 0.6)",
          "line": {
           "color": "rgba(50, 171, 96, 0.7)",
           "width": 1
          }
         },
         "name": "iDreamsky Technology",
         "orientation": "v",
         "text": "",
         "type": "bar",
         "visible": true,
         "x": [
          "2021-week_33",
          "2021-week_34",
          "2021-week_35",
          "2021-week_36",
          "2021-week_37",
          "2021-week_38",
          "2021-week_39",
          "2021-week_40",
          "2021-week_41",
          "2021-week_42",
          "2021-week_43",
          "2021-week_44",
          "2021-week_45",
          "2021-week_46",
          "2021-week_47",
          "2021-week_48",
          "2021-week_49",
          "2021-week_50",
          "2021-week_51",
          "2022-week_01",
          "2022-week_02",
          "2022-week_03",
          "2022-week_04",
          "2022-week_05",
          "2022-week_06",
          "2022-week_52"
         ],
         "y": [
          0.021872387851769294,
          0.021153712337346045,
          0.035761497251791556,
          0.04211257817929118,
          0.04175931072818232,
          0.05123022234613508,
          0.04557436182019978,
          0.042759961127308066,
          0.032753824756606396,
          0.018433500278241515,
          0.018932275353240064,
          0.020560878383103713,
          0.0260387811634349,
          0.04494773519163763,
          0.08734897930842939,
          0.036239933351846706,
          0.02483085722257097,
          0.02513190780338795,
          0.026395939086294416,
          0.024261383385470976,
          0.021770782777508147,
          0.01990640497310889,
          0.016356929073571377,
          0.016362623590029244,
          0.018555841267634997,
          0.02366603892027621
         ]
        }
       ],
       "layout": {
        "autosize": true,
        "barmode": "stack",
        "legend": {
         "bgcolor": "#F5F6F9",
         "font": {
          "color": "#4D5663"
         },
         "traceorder": "normal"
        },
        "paper_bgcolor": "#F5F6F9",
        "plot_bgcolor": "#F5F6F9",
        "template": {
         "data": {
          "bar": [
           {
            "error_x": {
             "color": "#2a3f5f"
            },
            "error_y": {
             "color": "#2a3f5f"
            },
            "marker": {
             "line": {
              "color": "#E5ECF6",
              "width": 0.5
             }
            },
            "type": "bar"
           }
          ],
          "barpolar": [
           {
            "marker": {
             "line": {
              "color": "#E5ECF6",
              "width": 0.5
             }
            },
            "type": "barpolar"
           }
          ],
          "carpet": [
           {
            "aaxis": {
             "endlinecolor": "#2a3f5f",
             "gridcolor": "white",
             "linecolor": "white",
             "minorgridcolor": "white",
             "startlinecolor": "#2a3f5f"
            },
            "baxis": {
             "endlinecolor": "#2a3f5f",
             "gridcolor": "white",
             "linecolor": "white",
             "minorgridcolor": "white",
             "startlinecolor": "#2a3f5f"
            },
            "type": "carpet"
           }
          ],
          "choropleth": [
           {
            "colorbar": {
             "outlinewidth": 0,
             "ticks": ""
            },
            "type": "choropleth"
           }
          ],
          "contour": [
           {
            "colorbar": {
             "outlinewidth": 0,
             "ticks": ""
            },
            "colorscale": [
             [
              0,
              "#0d0887"
             ],
             [
              0.1111111111111111,
              "#46039f"
             ],
             [
              0.2222222222222222,
              "#7201a8"
             ],
             [
              0.3333333333333333,
              "#9c179e"
             ],
             [
              0.4444444444444444,
              "#bd3786"
             ],
             [
              0.5555555555555556,
              "#d8576b"
             ],
             [
              0.6666666666666666,
              "#ed7953"
             ],
             [
              0.7777777777777778,
              "#fb9f3a"
             ],
             [
              0.8888888888888888,
              "#fdca26"
             ],
             [
              1,
              "#f0f921"
             ]
            ],
            "type": "contour"
           }
          ],
          "contourcarpet": [
           {
            "colorbar": {
             "outlinewidth": 0,
             "ticks": ""
            },
            "type": "contourcarpet"
           }
          ],
          "heatmap": [
           {
            "colorbar": {
             "outlinewidth": 0,
             "ticks": ""
            },
            "colorscale": [
             [
              0,
              "#0d0887"
             ],
             [
              0.1111111111111111,
              "#46039f"
             ],
             [
              0.2222222222222222,
              "#7201a8"
             ],
             [
              0.3333333333333333,
              "#9c179e"
             ],
             [
              0.4444444444444444,
              "#bd3786"
             ],
             [
              0.5555555555555556,
              "#d8576b"
             ],
             [
              0.6666666666666666,
              "#ed7953"
             ],
             [
              0.7777777777777778,
              "#fb9f3a"
             ],
             [
              0.8888888888888888,
              "#fdca26"
             ],
             [
              1,
              "#f0f921"
             ]
            ],
            "type": "heatmap"
           }
          ],
          "heatmapgl": [
           {
            "colorbar": {
             "outlinewidth": 0,
             "ticks": ""
            },
            "colorscale": [
             [
              0,
              "#0d0887"
             ],
             [
              0.1111111111111111,
              "#46039f"
             ],
             [
              0.2222222222222222,
              "#7201a8"
             ],
             [
              0.3333333333333333,
              "#9c179e"
             ],
             [
              0.4444444444444444,
              "#bd3786"
             ],
             [
              0.5555555555555556,
              "#d8576b"
             ],
             [
              0.6666666666666666,
              "#ed7953"
             ],
             [
              0.7777777777777778,
              "#fb9f3a"
             ],
             [
              0.8888888888888888,
              "#fdca26"
             ],
             [
              1,
              "#f0f921"
             ]
            ],
            "type": "heatmapgl"
           }
          ],
          "histogram": [
           {
            "marker": {
             "colorbar": {
              "outlinewidth": 0,
              "ticks": ""
             }
            },
            "type": "histogram"
           }
          ],
          "histogram2d": [
           {
            "colorbar": {
             "outlinewidth": 0,
             "ticks": ""
            },
            "colorscale": [
             [
              0,
              "#0d0887"
             ],
             [
              0.1111111111111111,
              "#46039f"
             ],
             [
              0.2222222222222222,
              "#7201a8"
             ],
             [
              0.3333333333333333,
              "#9c179e"
             ],
             [
              0.4444444444444444,
              "#bd3786"
             ],
             [
              0.5555555555555556,
              "#d8576b"
             ],
             [
              0.6666666666666666,
              "#ed7953"
             ],
             [
              0.7777777777777778,
              "#fb9f3a"
             ],
             [
              0.8888888888888888,
              "#fdca26"
             ],
             [
              1,
              "#f0f921"
             ]
            ],
            "type": "histogram2d"
           }
          ],
          "histogram2dcontour": [
           {
            "colorbar": {
             "outlinewidth": 0,
             "ticks": ""
            },
            "colorscale": [
             [
              0,
              "#0d0887"
             ],
             [
              0.1111111111111111,
              "#46039f"
             ],
             [
              0.2222222222222222,
              "#7201a8"
             ],
             [
              0.3333333333333333,
              "#9c179e"
             ],
             [
              0.4444444444444444,
              "#bd3786"
             ],
             [
              0.5555555555555556,
              "#d8576b"
             ],
             [
              0.6666666666666666,
              "#ed7953"
             ],
             [
              0.7777777777777778,
              "#fb9f3a"
             ],
             [
              0.8888888888888888,
              "#fdca26"
             ],
             [
              1,
              "#f0f921"
             ]
            ],
            "type": "histogram2dcontour"
           }
          ],
          "mesh3d": [
           {
            "colorbar": {
             "outlinewidth": 0,
             "ticks": ""
            },
            "type": "mesh3d"
           }
          ],
          "parcoords": [
           {
            "line": {
             "colorbar": {
              "outlinewidth": 0,
              "ticks": ""
             }
            },
            "type": "parcoords"
           }
          ],
          "pie": [
           {
            "automargin": true,
            "type": "pie"
           }
          ],
          "scatter": [
           {
            "marker": {
             "colorbar": {
              "outlinewidth": 0,
              "ticks": ""
             }
            },
            "type": "scatter"
           }
          ],
          "scatter3d": [
           {
            "line": {
             "colorbar": {
              "outlinewidth": 0,
              "ticks": ""
             }
            },
            "marker": {
             "colorbar": {
              "outlinewidth": 0,
              "ticks": ""
             }
            },
            "type": "scatter3d"
           }
          ],
          "scattercarpet": [
           {
            "marker": {
             "colorbar": {
              "outlinewidth": 0,
              "ticks": ""
             }
            },
            "type": "scattercarpet"
           }
          ],
          "scattergeo": [
           {
            "marker": {
             "colorbar": {
              "outlinewidth": 0,
              "ticks": ""
             }
            },
            "type": "scattergeo"
           }
          ],
          "scattergl": [
           {
            "marker": {
             "colorbar": {
              "outlinewidth": 0,
              "ticks": ""
             }
            },
            "type": "scattergl"
           }
          ],
          "scattermapbox": [
           {
            "marker": {
             "colorbar": {
              "outlinewidth": 0,
              "ticks": ""
             }
            },
            "type": "scattermapbox"
           }
          ],
          "scatterpolar": [
           {
            "marker": {
             "colorbar": {
              "outlinewidth": 0,
              "ticks": ""
             }
            },
            "type": "scatterpolar"
           }
          ],
          "scatterpolargl": [
           {
            "marker": {
             "colorbar": {
              "outlinewidth": 0,
              "ticks": ""
             }
            },
            "type": "scatterpolargl"
           }
          ],
          "scatterternary": [
           {
            "marker": {
             "colorbar": {
              "outlinewidth": 0,
              "ticks": ""
             }
            },
            "type": "scatterternary"
           }
          ],
          "surface": [
           {
            "colorbar": {
             "outlinewidth": 0,
             "ticks": ""
            },
            "colorscale": [
             [
              0,
              "#0d0887"
             ],
             [
              0.1111111111111111,
              "#46039f"
             ],
             [
              0.2222222222222222,
              "#7201a8"
             ],
             [
              0.3333333333333333,
              "#9c179e"
             ],
             [
              0.4444444444444444,
              "#bd3786"
             ],
             [
              0.5555555555555556,
              "#d8576b"
             ],
             [
              0.6666666666666666,
              "#ed7953"
             ],
             [
              0.7777777777777778,
              "#fb9f3a"
             ],
             [
              0.8888888888888888,
              "#fdca26"
             ],
             [
              1,
              "#f0f921"
             ]
            ],
            "type": "surface"
           }
          ],
          "table": [
           {
            "cells": {
             "fill": {
              "color": "#EBF0F8"
             },
             "line": {
              "color": "white"
             }
            },
            "header": {
             "fill": {
              "color": "#C8D4E3"
             },
             "line": {
              "color": "white"
             }
            },
            "type": "table"
           }
          ]
         },
         "layout": {
          "annotationdefaults": {
           "arrowcolor": "#2a3f5f",
           "arrowhead": 0,
           "arrowwidth": 1
          },
          "autotypenumbers": "strict",
          "coloraxis": {
           "colorbar": {
            "outlinewidth": 0,
            "ticks": ""
           }
          },
          "colorscale": {
           "diverging": [
            [
             0,
             "#8e0152"
            ],
            [
             0.1,
             "#c51b7d"
            ],
            [
             0.2,
             "#de77ae"
            ],
            [
             0.3,
             "#f1b6da"
            ],
            [
             0.4,
             "#fde0ef"
            ],
            [
             0.5,
             "#f7f7f7"
            ],
            [
             0.6,
             "#e6f5d0"
            ],
            [
             0.7,
             "#b8e186"
            ],
            [
             0.8,
             "#7fbc41"
            ],
            [
             0.9,
             "#4d9221"
            ],
            [
             1,
             "#276419"
            ]
           ],
           "sequential": [
            [
             0,
             "#0d0887"
            ],
            [
             0.1111111111111111,
             "#46039f"
            ],
            [
             0.2222222222222222,
             "#7201a8"
            ],
            [
             0.3333333333333333,
             "#9c179e"
            ],
            [
             0.4444444444444444,
             "#bd3786"
            ],
            [
             0.5555555555555556,
             "#d8576b"
            ],
            [
             0.6666666666666666,
             "#ed7953"
            ],
            [
             0.7777777777777778,
             "#fb9f3a"
            ],
            [
             0.8888888888888888,
             "#fdca26"
            ],
            [
             1,
             "#f0f921"
            ]
           ],
           "sequentialminus": [
            [
             0,
             "#0d0887"
            ],
            [
             0.1111111111111111,
             "#46039f"
            ],
            [
             0.2222222222222222,
             "#7201a8"
            ],
            [
             0.3333333333333333,
             "#9c179e"
            ],
            [
             0.4444444444444444,
             "#bd3786"
            ],
            [
             0.5555555555555556,
             "#d8576b"
            ],
            [
             0.6666666666666666,
             "#ed7953"
            ],
            [
             0.7777777777777778,
             "#fb9f3a"
            ],
            [
             0.8888888888888888,
             "#fdca26"
            ],
            [
             1,
             "#f0f921"
            ]
           ]
          },
          "colorway": [
           "#636efa",
           "#EF553B",
           "#00cc96",
           "#ab63fa",
           "#FFA15A",
           "#19d3f3",
           "#FF6692",
           "#B6E880",
           "#FF97FF",
           "#FECB52"
          ],
          "font": {
           "color": "#2a3f5f"
          },
          "geo": {
           "bgcolor": "white",
           "lakecolor": "white",
           "landcolor": "#E5ECF6",
           "showlakes": true,
           "showland": true,
           "subunitcolor": "white"
          },
          "hoverlabel": {
           "align": "left"
          },
          "hovermode": "closest",
          "mapbox": {
           "style": "light"
          },
          "paper_bgcolor": "white",
          "plot_bgcolor": "#E5ECF6",
          "polar": {
           "angularaxis": {
            "gridcolor": "white",
            "linecolor": "white",
            "ticks": ""
           },
           "bgcolor": "#E5ECF6",
           "radialaxis": {
            "gridcolor": "white",
            "linecolor": "white",
            "ticks": ""
           }
          },
          "scene": {
           "xaxis": {
            "backgroundcolor": "#E5ECF6",
            "gridcolor": "white",
            "gridwidth": 2,
            "linecolor": "white",
            "showbackground": true,
            "ticks": "",
            "zerolinecolor": "white"
           },
           "yaxis": {
            "backgroundcolor": "#E5ECF6",
            "gridcolor": "white",
            "gridwidth": 2,
            "linecolor": "white",
            "showbackground": true,
            "ticks": "",
            "zerolinecolor": "white"
           },
           "zaxis": {
            "backgroundcolor": "#E5ECF6",
            "gridcolor": "white",
            "gridwidth": 2,
            "linecolor": "white",
            "showbackground": true,
            "ticks": "",
            "zerolinecolor": "white"
           }
          },
          "shapedefaults": {
           "line": {
            "color": "#2a3f5f"
           }
          },
          "ternary": {
           "aaxis": {
            "gridcolor": "white",
            "linecolor": "white",
            "ticks": ""
           },
           "baxis": {
            "gridcolor": "white",
            "linecolor": "white",
            "ticks": ""
           },
           "bgcolor": "#E5ECF6",
           "caxis": {
            "gridcolor": "white",
            "linecolor": "white",
            "ticks": ""
           }
          },
          "title": {
           "x": 0.05
          },
          "xaxis": {
           "automargin": true,
           "gridcolor": "white",
           "linecolor": "white",
           "ticks": "",
           "title": {
            "standoff": 15
           },
           "zerolinecolor": "white",
           "zerolinewidth": 2
          },
          "yaxis": {
           "automargin": true,
           "gridcolor": "white",
           "linecolor": "white",
           "ticks": "",
           "title": {
            "standoff": 15
           },
           "zerolinecolor": "white",
           "zerolinewidth": 2
          }
         }
        },
        "title": {
         "font": {
          "color": "#4D5663"
         }
        },
        "xaxis": {
         "autorange": true,
         "gridcolor": "#E1E5ED",
         "range": [
          -0.5,
          25.5
         ],
         "showgrid": true,
         "tickfont": {
          "color": "#4D5663"
         },
         "title": {
          "font": {
           "color": "#4D5663"
          },
          "text": ""
         },
         "type": "category",
         "zerolinecolor": "#E1E5ED"
        },
        "yaxis": {
         "autorange": true,
         "gridcolor": "#E1E5ED",
         "range": [
          0,
          1.0526315789473686
         ],
         "showgrid": true,
         "tickfont": {
          "color": "#4D5663"
         },
         "title": {
          "font": {
           "color": "#4D5663"
          },
          "text": ""
         },
         "type": "linear",
         "zerolinecolor": "#E1E5ED"
        }
       }
      },
      "image/png": "[encoded data removed]",
      "text/html": [
       "<div>                            <div id=\"87e783d2-8496-4ebd-b03e-132298be48dd\" class=\"plotly-graph-div\" style=\"height:525px; width:100%;\"></div>            <script type=\"text/javascript\">                require([\"plotly\"], function(Plotly) {                    window.PLOTLYENV=window.PLOTLYENV || {};\n",
       "                    window.PLOTLYENV.BASE_URL='https://plot.ly';                                    if (document.getElementById(\"87e783d2-8496-4ebd-b03e-132298be48dd\")) {                    Plotly.newPlot(                        \"87e783d2-8496-4ebd-b03e-132298be48dd\",                        [{\"marker\": {\"color\": \"rgba(255, 153, 51, 0.6)\", \"line\": {\"color\": \"rgba(255, 153, 51, 1.0)\", \"width\": 1}}, \"name\": \"Allthetopbananas.com\", \"orientation\": \"v\", \"text\": \"\", \"type\": \"bar\", \"x\": [\"2021-week_33\", \"2021-week_34\", \"2021-week_35\", \"2021-week_36\", \"2021-week_37\", \"2021-week_38\", \"2021-week_39\", \"2021-week_40\", \"2021-week_41\", \"2021-week_42\", \"2021-week_43\", \"2021-week_44\", \"2021-week_45\", \"2021-week_46\", \"2021-week_47\", \"2021-week_48\", \"2021-week_49\", \"2021-week_50\", \"2021-week_51\", \"2022-week_01\", \"2022-week_02\", \"2022-week_03\", \"2022-week_04\", \"2022-week_05\", \"2022-week_06\", \"2022-week_52\"], \"y\": [0.0004876010030649206, 0.00020875374017117806, 0.0004870242816391846, 0.0009728978457261987, 0.000764313507504169, 0.0009758137589740016, 0.000416204217536071, 0.0009718172983479105, 0.0006954102920723226, 0.0002782415136338342, 0.00020881186051367718, 0.0006993496048674732, 0.00110803324099723, 0.0007665505226480836, 0.00034717400361060965, 0.0004859761177450708, 0.0005579967915184488, 0.0005554012774229381, 0.00046856696602889497, 0.0004171011470281543, 0.0004853359217915829, 0.0005587762799469162, 0.0005568316280364725, 0.00034814092744743074, 0.00027799013135033706, 0.0008788449466415569]}, {\"marker\": {\"color\": \"rgba(55, 128, 191, 0.6)\", \"line\": {\"color\": \"rgba(55, 128, 191, 1.0)\", \"width\": 1}}, \"name\": \"Altammune\", \"orientation\": \"v\", \"text\": \"\", \"type\": \"bar\", \"x\": [\"2021-week_33\", \"2021-week_34\", \"2021-week_35\", \"2021-week_36\", \"2021-week_37\", \"2021-week_38\", \"2021-week_39\", \"2021-week_40\", \"2021-week_41\", \"2021-week_42\", \"2021-week_43\", \"2021-week_44\", \"2021-week_45\", \"2021-week_46\", \"2021-week_47\", \"2021-week_48\", \"2021-week_49\", \"2021-week_50\", \"2021-week_51\", \"2022-week_01\", \"2022-week_02\", \"2022-week_03\", \"2022-week_04\", \"2022-week_05\", \"2022-week_06\", \"2022-week_52\"], \"y\": [\"\", \"\", 6.957489737702637e-05, \"\", \"\", 6.970098278385725e-05, \"\", 0.00013883104262113008, \"\", 6.956037840845854e-05, \"\", \"\", \"\", \"\", \"\", \"\", \"\", \"\", \"\", \"\", \"\", \"\", \"\", \"\", \"\", \"\"]}, {\"marker\": {\"color\": \"rgba(50, 171, 96, 0.6)\", \"line\": {\"color\": \"rgba(50, 171, 96, 1.0)\", \"width\": 1}}, \"name\": \"Bizanga\", \"orientation\": \"v\", \"text\": \"\", \"type\": \"bar\", \"x\": [\"2021-week_33\", \"2021-week_34\", \"2021-week_35\", \"2021-week_36\", \"2021-week_37\", \"2021-week_38\", \"2021-week_39\", \"2021-week_40\", \"2021-week_41\", \"2021-week_42\", \"2021-week_43\", \"2021-week_44\", \"2021-week_45\", \"2021-week_46\", \"2021-week_47\", \"2021-week_48\", \"2021-week_49\", \"2021-week_50\", \"2021-week_51\", \"2022-week_01\", \"2022-week_02\", \"2022-week_03\", \"2022-week_04\", \"2022-week_05\", \"2022-week_06\", \"2022-week_52\"], \"y\": [0.007174700473669545, 0.006888873425648877, 0.005705141584916162, 0.005281445448227936, 0.005350194552529183, 0.005436676657140866, 0.004786348501664817, 0.004442593363876163, 0.005980528511821975, 0.006886477462437396, 0.004941880698823693, 0.004126162668718092, 0.004224376731301939, 0.006202090592334495, 0.007082349673656437, 0.006248264371008053, 0.0076724558833786705, 0.006803665648430992, 0.006794221007418977, 0.007438303788668752, 0.006378700686403661, 0.004540057274568694, 0.003758613489246189, 0.0034117810889848213, 0.003891861838904719, 0.006089139987445072]}, {\"marker\": {\"color\": \"rgba(128, 0, 128, 0.6)\", \"line\": {\"color\": \"rgba(128, 0, 128, 1.0)\", \"width\": 1}}, \"name\": \"Crescendo Networks\", \"orientation\": \"v\", \"text\": \"\", \"type\": \"bar\", \"x\": [\"2021-week_33\", \"2021-week_34\", \"2021-week_35\", \"2021-week_36\", \"2021-week_37\", \"2021-week_38\", \"2021-week_39\", \"2021-week_40\", \"2021-week_41\", \"2021-week_42\", \"2021-week_43\", \"2021-week_44\", \"2021-week_45\", \"2021-week_46\", \"2021-week_47\", \"2021-week_48\", \"2021-week_49\", \"2021-week_50\", \"2021-week_51\", \"2022-week_01\", \"2022-week_02\", \"2022-week_03\", \"2022-week_04\", \"2022-week_05\", \"2022-week_06\", \"2022-week_52\"], \"y\": [0.0030649205906937865, 0.0057059355646788676, 0.00480066791901482, 0.007366226546212648, 0.006183991106170094, 0.006482191398898725, 0.0054106548279689234, 0.017700957934194086, 0.006397774687065368, 0.0034084585420144685, 0.004106633256768985, 0.004685642352612071, 0.0033240997229916896, 0.010871080139372822, 0.003749479238994584, 0.003748958622604832, 0.004463974332147591, 0.003957234101638433, 0.006247559547051933, 0.0026416405978449773, 0.0033973514525410804, 0.002584340294754488, 0.0030625739542005986, 0.003342152903495335, 0.002084925985127528, 0.005712492153170119]}, {\"marker\": {\"color\": \"rgba(219, 64, 82, 0.6)\", \"line\": {\"color\": \"rgba(219, 64, 82, 1.0)\", \"width\": 1}}, \"name\": \"Cue\", \"orientation\": \"v\", \"text\": \"\", \"type\": \"bar\", \"x\": [\"2021-week_33\", \"2021-week_34\", \"2021-week_35\", \"2021-week_36\", \"2021-week_37\", \"2021-week_38\", \"2021-week_39\", \"2021-week_40\", \"2021-week_41\", \"2021-week_42\", \"2021-week_43\", \"2021-week_44\", \"2021-week_45\", \"2021-week_46\", \"2021-week_47\", \"2021-week_48\", \"2021-week_49\", \"2021-week_50\", \"2021-week_51\", \"2022-week_01\", \"2022-week_02\", \"2022-week_03\", \"2022-week_04\", \"2022-week_05\", \"2022-week_06\", \"2022-week_52\"], \"y\": [\"\", 6.958458005705935e-05, \"\", \"\", \"\", 0.0001394019655677145, \"\", 6.941552131056504e-05, \"\", \"\", \"\", \"\", \"\", \"\", \"\", \"\", \"\", \"\", \"\", \"\", \"\", \"\", \"\", \"\", \"\", \"\"]}, {\"marker\": {\"color\": \"rgba(0, 128, 128, 0.6)\", \"line\": {\"color\": \"rgba(0, 128, 128, 1.0)\", \"width\": 1}}, \"name\": \"Cuiker\", \"orientation\": \"v\", \"text\": \"\", \"type\": \"bar\", \"x\": [\"2021-week_33\", \"2021-week_34\", \"2021-week_35\", \"2021-week_36\", \"2021-week_37\", \"2021-week_38\", \"2021-week_39\", \"2021-week_40\", \"2021-week_41\", \"2021-week_42\", \"2021-week_43\", \"2021-week_44\", \"2021-week_45\", \"2021-week_46\", \"2021-week_47\", \"2021-week_48\", \"2021-week_49\", \"2021-week_50\", \"2021-week_51\", \"2022-week_01\", \"2022-week_02\", \"2022-week_03\", \"2022-week_04\", \"2022-week_05\", \"2022-week_06\", \"2022-week_52\"], \"y\": [6.965728615213152e-05, 6.958458005705935e-05, 6.957489737702637e-05, 6.949270326615705e-05, \"\", \"\", \"\", \"\", 6.954102920723227e-05, 6.956037840845854e-05, 6.960395350455906e-05, \"\", 6.925207756232688e-05, 6.968641114982578e-05, 0.00013886960144424384, \"\", 0.0002092487968194183, 0.00013885031935573453, 7.809449433814917e-05, 6.951685783802571e-05, 6.933370311308327e-05, 6.984703499336453e-05, \"\", \"\", 6.949753283758427e-05, 6.277463904582549e-05]}, {\"marker\": {\"color\": \"rgba(255, 255, 51, 0.6)\", \"line\": {\"color\": \"rgba(255, 255, 51, 1.0)\", \"width\": 1}}, \"name\": \"Derceto\", \"orientation\": \"v\", \"text\": \"\", \"type\": \"bar\", \"x\": [\"2021-week_33\", \"2021-week_34\", \"2021-week_35\", \"2021-week_36\", \"2021-week_37\", \"2021-week_38\", \"2021-week_39\", \"2021-week_40\", \"2021-week_41\", \"2021-week_42\", \"2021-week_43\", \"2021-week_44\", \"2021-week_45\", \"2021-week_46\", \"2021-week_47\", \"2021-week_48\", \"2021-week_49\", \"2021-week_50\", \"2021-week_51\", \"2022-week_01\", \"2022-week_02\", \"2022-week_03\", \"2022-week_04\", \"2022-week_05\", \"2022-week_06\", \"2022-week_52\"], \"y\": [\"\", \"\", \"\", \"\", 6.948304613674263e-05, \"\", \"\", \"\", \"\", \"\", \"\", \"\", \"\", \"\", \"\", \"\", \"\", \"\", \"\", \"\", \"\", \"\", \"\", \"\", \"\", \"\"]}, {\"marker\": {\"color\": \"rgba(128, 128, 0, 0.6)\", \"line\": {\"color\": \"rgba(128, 128, 0, 1.0)\", \"width\": 1}}, \"name\": \"Doctorfun Entertainment, Ltd\", \"orientation\": \"v\", \"text\": \"\", \"type\": \"bar\", \"x\": [\"2021-week_33\", \"2021-week_34\", \"2021-week_35\", \"2021-week_36\", \"2021-week_37\", \"2021-week_38\", \"2021-week_39\", \"2021-week_40\", \"2021-week_41\", \"2021-week_42\", \"2021-week_43\", \"2021-week_44\", \"2021-week_45\", \"2021-week_46\", \"2021-week_47\", \"2021-week_48\", \"2021-week_49\", \"2021-week_50\", \"2021-week_51\", \"2022-week_01\", \"2022-week_02\", \"2022-week_03\", \"2022-week_04\", \"2022-week_05\", \"2022-week_06\", \"2022-week_52\"], \"y\": [\"\", \"\", 0.0002782995895081055, 0.00048644892286309936, 0.0009032795997776543, 0.0010455147417578587, 0.0012486126526082132, 0.0009718172983479105, 0.0012517385257301808, 0.0017390094602114635, 0.0009744553490638268, 0.0009091544863277152, 6.925207756232688e-05, 6.968641114982578e-05, \"\", 0.00013885031935573453, 0.0002092487968194183, \"\", 7.809449433814917e-05, 6.951685783802571e-05, 0.0004853359217915829, 0.0007683173849270099, 0.0008352474420547087, 0.0007659100403843476, 0.0008339703940510112, 6.277463904582549e-05]}, {\"marker\": {\"color\": \"rgba(251, 128, 114, 0.6)\", \"line\": {\"color\": \"rgba(251, 128, 114, 1.0)\", \"width\": 1}}, \"name\": \"Earth Networks\", \"orientation\": \"v\", \"text\": \"\", \"type\": \"bar\", \"x\": [\"2021-week_33\", \"2021-week_34\", \"2021-week_35\", \"2021-week_36\", \"2021-week_37\", \"2021-week_38\", \"2021-week_39\", \"2021-week_40\", \"2021-week_41\", \"2021-week_42\", \"2021-week_43\", \"2021-week_44\", \"2021-week_45\", \"2021-week_46\", \"2021-week_47\", \"2021-week_48\", \"2021-week_49\", \"2021-week_50\", \"2021-week_51\", \"2022-week_01\", \"2022-week_02\", \"2022-week_03\", \"2022-week_04\", \"2022-week_05\", \"2022-week_06\", \"2022-week_52\"], \"y\": [\"\", \"\", 6.957489737702637e-05, 0.0001389854065323141, \"\", \"\", \"\", \"\", 6.954102920723227e-05, \"\", \"\", \"\", \"\", \"\", \"\", \"\", \"\", \"\", \"\", \"\", \"\", \"\", \"\", \"\", \"\", \"\"]}, {\"marker\": {\"color\": \"rgba(128, 177, 211, 0.6)\", \"line\": {\"color\": \"rgba(128, 177, 211, 1.0)\", \"width\": 1}}, \"name\": \"Extreme DA\", \"orientation\": \"v\", \"text\": \"\", \"type\": \"bar\", \"x\": [\"2021-week_33\", \"2021-week_34\", \"2021-week_35\", \"2021-week_36\", \"2021-week_37\", \"2021-week_38\", \"2021-week_39\", \"2021-week_40\", \"2021-week_41\", \"2021-week_42\", \"2021-week_43\", \"2021-week_44\", \"2021-week_45\", \"2021-week_46\", \"2021-week_47\", \"2021-week_48\", \"2021-week_49\", \"2021-week_50\", \"2021-week_51\", \"2022-week_01\", \"2022-week_02\", \"2022-week_03\", \"2022-week_04\", \"2022-week_05\", \"2022-week_06\", \"2022-week_52\"], \"y\": [0.03517692950682642, 0.08892909331292186, 0.09601335838029638, 0.09263377345378736, 0.0883129516397999, 0.14776608350177736, 0.170019422863485, 0.1646536165486603, 0.1588317107093185, 0.14322481914301613, 0.15653929143175332, 0.16791384012868033, 0.18421052631578946, 0.19658536585365854, 0.20844327176781002, 0.18286587059150236, 0.12582827648741018, 0.13843376839766733, 0.21288559156579462, 0.20208550573514078, 0.19663038202870414, 0.17531605783334497, 0.16906800306257394, 0.17156384904609387, 0.16686357634303983, 0.16064030131826743]}, {\"marker\": {\"color\": \"rgba(128, 177, 211, 0.6)\", \"line\": {\"color\": \"rgba(128, 177, 211, 0.8999999999999999)\", \"width\": 1}}, \"name\": \"Fancy\", \"orientation\": \"v\", \"text\": \"\", \"type\": \"bar\", \"x\": [\"2021-week_33\", \"2021-week_34\", \"2021-week_35\", \"2021-week_36\", \"2021-week_37\", \"2021-week_38\", \"2021-week_39\", \"2021-week_40\", \"2021-week_41\", \"2021-week_42\", \"2021-week_43\", \"2021-week_44\", \"2021-week_45\", \"2021-week_46\", \"2021-week_47\", \"2021-week_48\", \"2021-week_49\", \"2021-week_50\", \"2021-week_51\", \"2022-week_01\", \"2022-week_02\", \"2022-week_03\", \"2022-week_04\", \"2022-week_05\", \"2022-week_06\", \"2022-week_52\"], \"y\": [0.06485093340763444, 0.05260594252313687, 0.06129548458916023, 0.0739402362751911, 0.0821289605336298, 0.08106224297762599, 0.07450055493895671, 0.08322921005136749, 0.10069541029207232, 0.07957707289927657, 0.08561286281060765, 0.0904259039093643, 0.09217451523545707, 0.0713588850174216, 0.039786140813775864, 0.07025826159400167, 0.11494733905280044, 0.11170508192168842, 0.09160484185864896, 0.06743135210288495, 0.0704430423628926, 0.09170915694628763, 0.12382543328461057, 0.13681938448684028, 0.15671693654875252, 0.08242310106716887]}, {\"marker\": {\"color\": \"rgba(255, 153, 51, 0.6)\", \"line\": {\"color\": \"rgba(255, 153, 51, 0.8999999999999999)\", \"width\": 1}}, \"name\": \"FlagTap\", \"orientation\": \"v\", \"text\": \"\", \"type\": \"bar\", \"x\": [\"2021-week_33\", \"2021-week_34\", \"2021-week_35\", \"2021-week_36\", \"2021-week_37\", \"2021-week_38\", \"2021-week_39\", \"2021-week_40\", \"2021-week_41\", \"2021-week_42\", \"2021-week_43\", \"2021-week_44\", \"2021-week_45\", \"2021-week_46\", \"2021-week_47\", \"2021-week_48\", \"2021-week_49\", \"2021-week_50\", \"2021-week_51\", \"2022-week_01\", \"2022-week_02\", \"2022-week_03\", \"2022-week_04\", \"2022-week_05\", \"2022-week_06\", \"2022-week_52\"], \"y\": [0.00013931457230426304, \"\", \"\", \"\", \"\", \"\", \"\", \"\", \"\", \"\", \"\", \"\", \"\", \"\", \"\", \"\", \"\", \"\", \"\", \"\", \"\", \"\", \"\", \"\", \"\", \"\"]}, {\"marker\": {\"color\": \"rgba(55, 128, 191, 0.6)\", \"line\": {\"color\": \"rgba(55, 128, 191, 0.8999999999999999)\", \"width\": 1}}, \"name\": \"Fry Multimedia\", \"orientation\": \"v\", \"text\": \"\", \"type\": \"bar\", \"x\": [\"2021-week_33\", \"2021-week_34\", \"2021-week_35\", \"2021-week_36\", \"2021-week_37\", \"2021-week_38\", \"2021-week_39\", \"2021-week_40\", \"2021-week_41\", \"2021-week_42\", \"2021-week_43\", \"2021-week_44\", \"2021-week_45\", \"2021-week_46\", \"2021-week_47\", \"2021-week_48\", \"2021-week_49\", \"2021-week_50\", \"2021-week_51\", \"2022-week_01\", \"2022-week_02\", \"2022-week_03\", \"2022-week_04\", \"2022-week_05\", \"2022-week_06\", \"2022-week_52\"], \"y\": [0.01567288938422959, 0.017744067914550136, 0.017950323523272804, 0.01716469770674079, 0.017857142857142856, 0.01575242210915174, 0.014567147613762486, 0.018256282104678605, 0.0196105702364395, 0.0134251530328325, 0.012111087909793277, 0.01258829288761452, 0.010110803324099723, 0.00975609756097561, 0.011803916122760728, 0.014509858372674257, 0.012624677408104903, 0.009233546237156345, 0.01101132370167903, 0.016336461591936045, 0.016501421340913817, 0.014178948103653, 0.012041483956288717, 0.009956830524996518, 0.012162068246577246, 0.006528562460765851]}, {\"marker\": {\"color\": \"rgba(50, 171, 96, 0.6)\", \"line\": {\"color\": \"rgba(50, 171, 96, 0.8999999999999999)\", \"width\": 1}}, \"name\": \"G-mode\", \"orientation\": \"v\", \"text\": \"\", \"type\": \"bar\", \"x\": [\"2021-week_33\", \"2021-week_34\", \"2021-week_35\", \"2021-week_36\", \"2021-week_37\", \"2021-week_38\", \"2021-week_39\", \"2021-week_40\", \"2021-week_41\", \"2021-week_42\", \"2021-week_43\", \"2021-week_44\", \"2021-week_45\", \"2021-week_46\", \"2021-week_47\", \"2021-week_48\", \"2021-week_49\", \"2021-week_50\", \"2021-week_51\", \"2022-week_01\", \"2022-week_02\", \"2022-week_03\", \"2022-week_04\", \"2022-week_05\", \"2022-week_06\", \"2022-week_52\"], \"y\": [0.0026469768737809973, 0.0026442140421682556, 0.0030612954845891604, 0.005628908964558721, 0.005350194552529183, 0.002997142259705862, 0.004786348501664817, 0.004928502013050118, 0.005563282336578581, 0.0025041736227045075, 0.0021577225586413306, 0.002587593538009651, 0.004293628808864266, 0.0029965156794425087, 0.002846826829606999, 0.0036101083032490976, 0.00411522633744856, 0.002360455429047487, 0.004607575165950801, 0.0022940563086548487, 0.003328017749427997, 0.002374799189774394, 0.0027841581401823624, 0.002297730121153043, 0.0014594481895892695, 0.004331450094161958]}, {\"marker\": {\"color\": \"rgba(128, 0, 128, 0.6)\", \"line\": {\"color\": \"rgba(128, 0, 128, 0.8999999999999999)\", \"width\": 1}}, \"name\": \"Glory Medical\", \"orientation\": \"v\", \"text\": \"\", \"type\": \"bar\", \"x\": [\"2021-week_33\", \"2021-week_34\", \"2021-week_35\", \"2021-week_36\", \"2021-week_37\", \"2021-week_38\", \"2021-week_39\", \"2021-week_40\", \"2021-week_41\", \"2021-week_42\", \"2021-week_43\", \"2021-week_44\", \"2021-week_45\", \"2021-week_46\", \"2021-week_47\", \"2021-week_48\", \"2021-week_49\", \"2021-week_50\", \"2021-week_51\", \"2022-week_01\", \"2022-week_02\", \"2022-week_03\", \"2022-week_04\", \"2022-week_05\", \"2022-week_06\", \"2022-week_52\"], \"y\": [0.0034132070214544443, 0.0007654303806276529, 0.00013914979475405275, 0.0006254343293954135, 0.0002084491384102279, 0.00034850491391928625, 0.0002081021087680355, 0.00020824656393169514, 6.954102920723227e-05, 6.956037840845854e-05, 6.960395350455906e-05, 0.0003496748024337366, \"\", 0.00013937282229965157, 0.00020830440216636578, 0.00027770063871146905, 0.0004184975936388366, 0.0003471257983893363, 0.00031237797735259666, 0.00013903371567605143, 0.00013866740622616653, 6.984703499336453e-05, \"\", 0.0001392563709789723, \"\", 6.277463904582549e-05]}, {\"marker\": {\"color\": \"rgba(219, 64, 82, 0.6)\", \"line\": {\"color\": \"rgba(219, 64, 82, 0.8999999999999999)\", \"width\": 1}}, \"name\": \"Joules Clothing\", \"orientation\": \"v\", \"text\": \"\", \"type\": \"bar\", \"x\": [\"2021-week_33\", \"2021-week_34\", \"2021-week_35\", \"2021-week_36\", \"2021-week_37\", \"2021-week_38\", \"2021-week_39\", \"2021-week_40\", \"2021-week_41\", \"2021-week_42\", \"2021-week_43\", \"2021-week_44\", \"2021-week_45\", \"2021-week_46\", \"2021-week_47\", \"2021-week_48\", \"2021-week_49\", \"2021-week_50\", \"2021-week_51\", \"2022-week_01\", \"2022-week_02\", \"2022-week_03\", \"2022-week_04\", \"2022-week_05\", \"2022-week_06\", \"2022-week_52\"], \"y\": [0.00027862914460852607, 6.958458005705935e-05, 0.00034787448688513185, 0.00020847810979847116, \"\", 6.970098278385725e-05, \"\", \"\", 6.954102920723227e-05, 0.0001391207568169171, \"\", 0.00020980488146024197, 6.925207756232688e-05, 0.00013937282229965157, 6.943480072212192e-05, \"\", \"\", \"\", \"\", \"\", 6.933370311308327e-05, \"\", \"\", \"\", \"\", \"\"]}, {\"marker\": {\"color\": \"rgba(0, 128, 128, 0.6)\", \"line\": {\"color\": \"rgba(0, 128, 128, 0.8999999999999999)\", \"width\": 1}}, \"name\": \"Jun Group\", \"orientation\": \"v\", \"text\": \"\", \"type\": \"bar\", \"x\": [\"2021-week_33\", \"2021-week_34\", \"2021-week_35\", \"2021-week_36\", \"2021-week_37\", \"2021-week_38\", \"2021-week_39\", \"2021-week_40\", \"2021-week_41\", \"2021-week_42\", \"2021-week_43\", \"2021-week_44\", \"2021-week_45\", \"2021-week_46\", \"2021-week_47\", \"2021-week_48\", \"2021-week_49\", \"2021-week_50\", \"2021-week_51\", \"2022-week_01\", \"2022-week_02\", \"2022-week_03\", \"2022-week_04\", \"2022-week_05\", \"2022-week_06\", \"2022-week_52\"], \"y\": [\"\", \"\", \"\", \"\", \"\", \"\", \"\", \"\", \"\", \"\", \"\", 6.993496048674733e-05, \"\", \"\", \"\", \"\", \"\", \"\", 7.809449433814917e-05, \"\", \"\", \"\", 0.00013920790700911812, \"\", \"\", \"\"]}, {\"marker\": {\"color\": \"rgba(255, 255, 51, 0.6)\", \"line\": {\"color\": \"rgba(255, 255, 51, 0.8999999999999999)\", \"width\": 1}}, \"name\": \"LocalVox Media\", \"orientation\": \"v\", \"text\": \"\", \"type\": \"bar\", \"x\": [\"2021-week_33\", \"2021-week_34\", \"2021-week_35\", \"2021-week_36\", \"2021-week_37\", \"2021-week_38\", \"2021-week_39\", \"2021-week_40\", \"2021-week_41\", \"2021-week_42\", \"2021-week_43\", \"2021-week_44\", \"2021-week_45\", \"2021-week_46\", \"2021-week_47\", \"2021-week_48\", \"2021-week_49\", \"2021-week_50\", \"2021-week_51\", \"2022-week_01\", \"2022-week_02\", \"2022-week_03\", \"2022-week_04\", \"2022-week_05\", \"2022-week_06\", \"2022-week_52\"], \"y\": [0.015254945667316801, 0.020875374017117806, 0.01551520211507688, 0.01535788742182071, 0.01764869371873263, 0.015961525057503312, 0.013665371809100999, 0.016034985422740525, 0.015716272600834493, 0.011268781302170284, 0.009396533723115472, 0.014546471781243443, 0.017243767313019392, 0.016445993031358887, 0.017914178586307457, 0.01825881699527909, 0.02218037246285834, 0.016870313801721742, 0.01663412729402577, 0.016127911018421967, 0.01504541357553907, 0.011175525598938325, 0.0119022760492796, 0.011001253307338811, 0.010146639794287303, 0.021468926553672316]}, {\"marker\": {\"color\": \"rgba(128, 128, 0, 0.6)\", \"line\": {\"color\": \"rgba(128, 128, 0, 0.8999999999999999)\", \"width\": 1}}, \"name\": \"Marketo Japan\", \"orientation\": \"v\", \"text\": \"\", \"type\": \"bar\", \"x\": [\"2021-week_33\", \"2021-week_34\", \"2021-week_35\", \"2021-week_36\", \"2021-week_37\", \"2021-week_38\", \"2021-week_39\", \"2021-week_40\", \"2021-week_41\", \"2021-week_42\", \"2021-week_43\", \"2021-week_44\", \"2021-week_45\", \"2021-week_46\", \"2021-week_47\", \"2021-week_48\", \"2021-week_49\", \"2021-week_50\", \"2021-week_51\", \"2022-week_01\", \"2022-week_02\", \"2022-week_03\", \"2022-week_04\", \"2022-week_05\", \"2022-week_06\", \"2022-week_52\"], \"y\": [\"\", \"\", \"\", \"\", 6.948304613674263e-05, \"\", \"\", \"\", \"\", \"\", \"\", \"\", \"\", \"\", \"\", \"\", \"\", \"\", \"\", \"\", \"\", \"\", \"\", \"\", \"\", \"\"]}, {\"marker\": {\"color\": \"rgba(251, 128, 114, 0.6)\", \"line\": {\"color\": \"rgba(251, 128, 114, 0.8999999999999999)\", \"width\": 1}}, \"name\": \"Metranome\", \"orientation\": \"v\", \"text\": \"\", \"type\": \"bar\", \"x\": [\"2021-week_33\", \"2021-week_34\", \"2021-week_35\", \"2021-week_36\", \"2021-week_37\", \"2021-week_38\", \"2021-week_39\", \"2021-week_40\", \"2021-week_41\", \"2021-week_42\", \"2021-week_43\", \"2021-week_44\", \"2021-week_45\", \"2021-week_46\", \"2021-week_47\", \"2021-week_48\", \"2021-week_49\", \"2021-week_50\", \"2021-week_51\", \"2022-week_01\", \"2022-week_02\", \"2022-week_03\", \"2022-week_04\", \"2022-week_05\", \"2022-week_06\", \"2022-week_52\"], \"y\": [0.00027862914460852607, 0.00020875374017117806, 0.0002782995895081055, 0.00034746351633078526, 6.948304613674263e-05, 6.970098278385725e-05, 0.00013873473917869035, 0.00013883104262113008, \"\", \"\", \"\", 6.993496048674733e-05, \"\", 6.968641114982578e-05, \"\", \"\", 0.0001394991978796122, 0.00013885031935573453, 7.809449433814917e-05, \"\", \"\", \"\", 0.00013920790700911812, 6.962818548948615e-05, 6.949753283758427e-05, 6.277463904582549e-05]}, {\"marker\": {\"color\": \"rgba(251, 128, 114, 0.6)\", \"line\": {\"color\": \"rgba(251, 128, 114, 0.7999999999999998)\", \"width\": 1}}, \"name\": \"Mission Street Manufacturing\", \"orientation\": \"v\", \"text\": \"\", \"type\": \"bar\", \"x\": [\"2021-week_33\", \"2021-week_34\", \"2021-week_35\", \"2021-week_36\", \"2021-week_37\", \"2021-week_38\", \"2021-week_39\", \"2021-week_40\", \"2021-week_41\", \"2021-week_42\", \"2021-week_43\", \"2021-week_44\", \"2021-week_45\", \"2021-week_46\", \"2021-week_47\", \"2021-week_48\", \"2021-week_49\", \"2021-week_50\", \"2021-week_51\", \"2022-week_01\", \"2022-week_02\", \"2022-week_03\", \"2022-week_04\", \"2022-week_05\", \"2022-week_06\", \"2022-week_52\"], \"y\": [0.0009752020061298412, 0.0006958458005705936, 0.0010436234606553956, 0.00034746351633078526, 0.0003474152306837132, 0.0006273088450547153, 0.000416204217536071, 0.0003470776065528252, 0.0004172461752433936, 0.00041736227045075126, 0.00041762372102735435, 0.0009091544863277152, 0.0006232686980609418, 0.0005574912891986063, 0.0005554784057769754, 0.00041655095806720355, 0.0009067447862174793, 0.00041655095806720355, 0.0003904724716907458, 0.0003475842891901286, 0.00020800110933924982, 0.0004889292449535517, 6.960395350455906e-05, 0.00020888455646845844, 0.0005559802627006741, 0.00025109855618330194]}, {\"marker\": {\"color\": \"rgba(128, 177, 211, 0.6)\", \"line\": {\"color\": \"rgba(128, 177, 211, 0.7999999999999998)\", \"width\": 1}}, \"name\": \"MoJoe Brewing Company\", \"orientation\": \"v\", \"text\": \"\", \"type\": \"bar\", \"x\": [\"2021-week_33\", \"2021-week_34\", \"2021-week_35\", \"2021-week_36\", \"2021-week_37\", \"2021-week_38\", \"2021-week_39\", \"2021-week_40\", \"2021-week_41\", \"2021-week_42\", \"2021-week_43\", \"2021-week_44\", \"2021-week_45\", \"2021-week_46\", \"2021-week_47\", \"2021-week_48\", \"2021-week_49\", \"2021-week_50\", \"2021-week_51\", \"2022-week_01\", \"2022-week_02\", \"2022-week_03\", \"2022-week_04\", \"2022-week_05\", \"2022-week_06\", \"2022-week_52\"], \"y\": [0.09424630816383393, 0.07890891378470531, 0.10387532178390037, 0.08881167477414871, 0.09672040022234575, 0.0759740712344044, 0.08011931187569367, 0.07309454394002499, 0.05744089012517385, 0.041666666666666664, 0.0680030625739542, 0.06007413105811595, 0.056509695290858725, 0.09874564459930314, 0.0611026246354673, 0.13732296584282144, 0.0823045267489712, 0.12454873646209386, 0.07169074580242094, 0.07897115050399722, 0.08028842820495043, 0.10169728295033875, 0.06507969652676272, 0.08174348976465673, 0.06393773021057753, 0.14055241682360325]}, {\"marker\": {\"color\": \"rgba(255, 153, 51, 0.6)\", \"line\": {\"color\": \"rgba(255, 153, 51, 0.7999999999999998)\", \"width\": 1}}, \"name\": \"Modanisa\", \"orientation\": \"v\", \"text\": \"\", \"type\": \"bar\", \"x\": [\"2021-week_33\", \"2021-week_34\", \"2021-week_35\", \"2021-week_36\", \"2021-week_37\", \"2021-week_38\", \"2021-week_39\", \"2021-week_40\", \"2021-week_41\", \"2021-week_42\", \"2021-week_43\", \"2021-week_44\", \"2021-week_45\", \"2021-week_46\", \"2021-week_47\", \"2021-week_48\", \"2021-week_49\", \"2021-week_50\", \"2021-week_51\", \"2022-week_01\", \"2022-week_02\", \"2022-week_03\", \"2022-week_04\", \"2022-week_05\", \"2022-week_06\", \"2022-week_52\"], \"y\": [0.009055447199777097, 0.008141395866675945, 0.007583663814095874, 0.007157748436414177, 0.006461923290717065, 0.005854882553844009, 0.02746947835738069, 0.024711925586561156, 0.026564673157162728, 0.022746243739565943, 0.03048653163499687, 0.01594517099097839, 0.006232686980609419, 0.006480836236933798, 0.007290654075822803, 0.006525965009719522, 0.006277463904582548, 0.005762288253262983, 0.004919953143303397, 0.004449078901633646, 0.003328017749427997, 0.0034923517496682267, 0.0027841581401823624, 0.004108062943879683, 0.0025714087149906178, 0.004331450094161958]}, {\"marker\": {\"color\": \"rgba(55, 128, 191, 0.6)\", \"line\": {\"color\": \"rgba(55, 128, 191, 0.7999999999999998)\", \"width\": 1}}, \"name\": \"OpenDesks, Inc.\", \"orientation\": \"v\", \"text\": \"\", \"type\": \"bar\", \"x\": [\"2021-week_33\", \"2021-week_34\", \"2021-week_35\", \"2021-week_36\", \"2021-week_37\", \"2021-week_38\", \"2021-week_39\", \"2021-week_40\", \"2021-week_41\", \"2021-week_42\", \"2021-week_43\", \"2021-week_44\", \"2021-week_45\", \"2021-week_46\", \"2021-week_47\", \"2021-week_48\", \"2021-week_49\", \"2021-week_50\", \"2021-week_51\", \"2022-week_01\", \"2022-week_02\", \"2022-week_03\", \"2022-week_04\", \"2022-week_05\", \"2022-week_06\", \"2022-week_52\"], \"y\": [0.00041794371691278906, 0.0004175074803423561, 0.0004870242816391846, 0.001320361362056984, 0.0009032795997776543, 0.0012546176901094305, 0.00201165371809101, 0.0023601277245592113, 0.0018080667593880389, 0.0019476905954368391, 0.001113663256072945, 0.0018882439331421778, 0.001592797783933518, 0.0029965156794425087, 0.002569087626718511, 0.0014579283532352124, 0.0015344911766757342, 0.0008331019161344071, 0.002420929324482624, 0.00145985401459854, 0.0016640088747139985, 0.001187399594887197, 0.0009048513955592678, 0.0008355382258738338, 0.0009034679268885954, 0.0018832391713747645]}, {\"marker\": {\"color\": \"rgba(50, 171, 96, 0.6)\", \"line\": {\"color\": \"rgba(50, 171, 96, 0.7999999999999998)\", \"width\": 1}}, \"name\": \"PageBites\", \"orientation\": \"v\", \"text\": \"\", \"type\": \"bar\", \"x\": [\"2021-week_33\", \"2021-week_34\", \"2021-week_35\", \"2021-week_36\", \"2021-week_37\", \"2021-week_38\", \"2021-week_39\", \"2021-week_40\", \"2021-week_41\", \"2021-week_42\", \"2021-week_43\", \"2021-week_44\", \"2021-week_45\", \"2021-week_46\", \"2021-week_47\", \"2021-week_48\", \"2021-week_49\", \"2021-week_50\", \"2021-week_51\", \"2022-week_01\", \"2022-week_02\", \"2022-week_03\", \"2022-week_04\", \"2022-week_05\", \"2022-week_06\", \"2022-week_52\"], \"y\": [0.0016021175814990248, 0.0006958458005705936, 0.001113198358032422, 0.0008339124391938846, 0.0012506948304613673, 0.0007667108106224297, 0.00048557158712541623, 6.941552131056504e-05, 0.0004867872044506259, 0.0005564830272676684, 0.00027841581401823624, 0.00020980488146024197, \"\", \"\", \"\", \"\", \"\", \"\", \"\", \"\", 0.00013866740622616653, 0.0002095411049800936, 0.00020881186051367718, 0.00020888455646845844, 0.00027799013135033706, \"\"]}, {\"marker\": {\"color\": \"rgba(128, 0, 128, 0.6)\", \"line\": {\"color\": \"rgba(128, 0, 128, 0.7999999999999998)\", \"width\": 1}}, \"name\": \"Pole Star\", \"orientation\": \"v\", \"text\": \"\", \"type\": \"bar\", \"x\": [\"2021-week_33\", \"2021-week_34\", \"2021-week_35\", \"2021-week_36\", \"2021-week_37\", \"2021-week_38\", \"2021-week_39\", \"2021-week_40\", \"2021-week_41\", \"2021-week_42\", \"2021-week_43\", \"2021-week_44\", \"2021-week_45\", \"2021-week_46\", \"2021-week_47\", \"2021-week_48\", \"2021-week_49\", \"2021-week_50\", \"2021-week_51\", \"2022-week_01\", \"2022-week_02\", \"2022-week_03\", \"2022-week_04\", \"2022-week_05\", \"2022-week_06\", \"2022-week_52\"], \"y\": [0.0030649205906937865, 0.0017396145014264839, \"\", \"\", 6.948304613674263e-05, 6.970098278385725e-05, 0.00013873473917869035, 6.941552131056504e-05, 0.0011821974965229485, 0.00020868113522537563, 0.00020881186051367718, 0.0006294146443807259, 0.0017313019390581717, 0.0011149825783972125, \"\", \"\", 0.0001394991978796122, 6.942515967786726e-05, 7.809449433814917e-05, 0.0003475842891901286, 0.0003466685155654163, 0.00034923517496682265, 0.0015312869771002993, 0.001392563709789723, 0.0016679407881020224, 0.00012554927809165097]}, {\"marker\": {\"color\": \"rgba(219, 64, 82, 0.6)\", \"line\": {\"color\": \"rgba(219, 64, 82, 0.7999999999999998)\", \"width\": 1}}, \"name\": \"Puentes Company\", \"orientation\": \"v\", \"text\": \"\", \"type\": \"bar\", \"x\": [\"2021-week_33\", \"2021-week_34\", \"2021-week_35\", \"2021-week_36\", \"2021-week_37\", \"2021-week_38\", \"2021-week_39\", \"2021-week_40\", \"2021-week_41\", \"2021-week_42\", \"2021-week_43\", \"2021-week_44\", \"2021-week_45\", \"2021-week_46\", \"2021-week_47\", \"2021-week_48\", \"2021-week_49\", \"2021-week_50\", \"2021-week_51\", \"2022-week_01\", \"2022-week_02\", \"2022-week_03\", \"2022-week_04\", \"2022-week_05\", \"2022-week_06\", \"2022-week_52\"], \"y\": [0.09452493730844247, 0.08197063530721592, 0.07521046406456551, 0.07588603196664351, 0.07406892718176765, 0.0683069631281801, 0.06804938956714761, 0.06976259891711786, 0.08817802503477051, 0.07206455203116305, 0.06333959768914875, 0.07720819637736905, 0.10297783933518005, 0.0932404181184669, 0.09061241494236912, 0.0814357123021383, 0.09130222501220618, 0.08497639544570952, 0.10378758297540024, 0.09336114007646855, 0.09061914996879983, 0.06635468324369631, 0.05902415257186608, 0.05653808661746275, 0.0583084300507332, 0.06936597614563716]}, {\"marker\": {\"color\": \"rgba(0, 128, 128, 0.6)\", \"line\": {\"color\": \"rgba(0, 128, 128, 0.7999999999999998)\", \"width\": 1}}, \"name\": \"PureSafe water systems\", \"orientation\": \"v\", \"text\": \"\", \"type\": \"bar\", \"x\": [\"2021-week_33\", \"2021-week_34\", \"2021-week_35\", \"2021-week_36\", \"2021-week_37\", \"2021-week_38\", \"2021-week_39\", \"2021-week_40\", \"2021-week_41\", \"2021-week_42\", \"2021-week_43\", \"2021-week_44\", \"2021-week_45\", \"2021-week_46\", \"2021-week_47\", \"2021-week_48\", \"2021-week_49\", \"2021-week_50\", \"2021-week_51\", \"2022-week_01\", \"2022-week_02\", \"2022-week_03\", \"2022-week_04\", \"2022-week_05\", \"2022-week_06\", \"2022-week_52\"], \"y\": [\"\", \"\", \"\", \"\", \"\", \"\", \"\", \"\", \"\", \"\", \"\", \"\", \"\", \"\", \"\", \"\", \"\", \"\", \"\", \"\", \"\", \"\", \"\", 6.962818548948615e-05, \"\", \"\"]}, {\"marker\": {\"color\": \"rgba(255, 255, 51, 0.6)\", \"line\": {\"color\": \"rgba(255, 255, 51, 0.7999999999999998)\", \"width\": 1}}, \"name\": \"RelayFoods\", \"orientation\": \"v\", \"text\": \"\", \"type\": \"bar\", \"x\": [\"2021-week_33\", \"2021-week_34\", \"2021-week_35\", \"2021-week_36\", \"2021-week_37\", \"2021-week_38\", \"2021-week_39\", \"2021-week_40\", \"2021-week_41\", \"2021-week_42\", \"2021-week_43\", \"2021-week_44\", \"2021-week_45\", \"2021-week_46\", \"2021-week_47\", \"2021-week_48\", \"2021-week_49\", \"2021-week_50\", \"2021-week_51\", \"2022-week_01\", \"2022-week_02\", \"2022-week_03\", \"2022-week_04\", \"2022-week_05\", \"2022-week_06\", \"2022-week_52\"], \"y\": [0.10929228197269435, 0.06297404495163872, 0.06880957350587907, 0.06949270326615706, 0.06663424124513619, 0.06754025231755768, 0.052372364039955606, 0.04602249062890462, 0.05660639777468707, 0.2598775737340011, 0.24131690680030626, 0.2721169312539338, 0.3479224376731302, 0.31679442508710803, 0.3327315650604083, 0.2905442932518745, 0.32370788867964007, 0.3126214940294363, 0.28621632174931666, 0.26930830726451166, 0.2656867503293351, 0.24760773905147726, 0.247511658662212, 0.22629160284082997, 0.23650010424629925, 0.3747018204645323]}, {\"marker\": {\"color\": \"rgba(128, 128, 0, 0.6)\", \"line\": {\"color\": \"rgba(128, 128, 0, 0.7999999999999998)\", \"width\": 1}}, \"name\": \"SOLOMO365\", \"orientation\": \"v\", \"text\": \"\", \"type\": \"bar\", \"x\": [\"2021-week_33\", \"2021-week_34\", \"2021-week_35\", \"2021-week_36\", \"2021-week_37\", \"2021-week_38\", \"2021-week_39\", \"2021-week_40\", \"2021-week_41\", \"2021-week_42\", \"2021-week_43\", \"2021-week_44\", \"2021-week_45\", \"2021-week_46\", \"2021-week_47\", \"2021-week_48\", \"2021-week_49\", \"2021-week_50\", \"2021-week_51\", \"2022-week_01\", \"2022-week_02\", \"2022-week_03\", \"2022-week_04\", \"2022-week_05\", \"2022-week_06\", \"2022-week_52\"], \"y\": [0.05544719977709668, 0.06039941548952752, 0.05976483684686565, 0.05573314801945796, 0.055586436909394105, 0.05813061964173695, 0.049944506104328525, 0.014993752603082049, \"\", \"\", \"\", \"\", \"\", \"\", \"\", \"\", \"\", \"\", \"\", \"\", \"\", \"\", \"\", \"\", \"\", \"\"]}, {\"marker\": {\"color\": \"rgba(128, 128, 0, 0.6)\", \"line\": {\"color\": \"rgba(128, 128, 0, 0.7)\", \"width\": 1}}, \"name\": \"Search Million Culture\", \"orientation\": \"v\", \"text\": \"\", \"type\": \"bar\", \"x\": [\"2021-week_33\", \"2021-week_34\", \"2021-week_35\", \"2021-week_36\", \"2021-week_37\", \"2021-week_38\", \"2021-week_39\", \"2021-week_40\", \"2021-week_41\", \"2021-week_42\", \"2021-week_43\", \"2021-week_44\", \"2021-week_45\", \"2021-week_46\", \"2021-week_47\", \"2021-week_48\", \"2021-week_49\", \"2021-week_50\", \"2021-week_51\", \"2022-week_01\", \"2022-week_02\", \"2022-week_03\", \"2022-week_04\", \"2022-week_05\", \"2022-week_06\", \"2022-week_52\"], \"y\": [0.35218723878517694, 0.39043907870016004, 0.35030960829332775, 0.35392633773453785, 0.3494302390216787, 0.33372830556910854, 0.3140260821309656, 0.3306261280022213, 0.3364394993045897, 0.25994713411240955, 0.24110809493979257, 0.1897335478005455, 0.0853185595567867, 0.09337979094076655, 0.09665324260519373, 0.11538461538461539, 0.13287298598033062, 0.12350735906692585, 0.12526356891839124, 0.19443865137295793, 0.2046730915898218, 0.23342879094782426, 0.25440245005916334, 0.25163626235900294, 0.23816804503440128, 0.0743879472693032]}, {\"marker\": {\"color\": \"rgba(251, 128, 114, 0.6)\", \"line\": {\"color\": \"rgba(251, 128, 114, 0.7)\", \"width\": 1}}, \"name\": \"Sensor Tower\", \"orientation\": \"v\", \"text\": \"\", \"type\": \"bar\", \"x\": [\"2021-week_33\", \"2021-week_34\", \"2021-week_35\", \"2021-week_36\", \"2021-week_37\", \"2021-week_38\", \"2021-week_39\", \"2021-week_40\", \"2021-week_41\", \"2021-week_42\", \"2021-week_43\", \"2021-week_44\", \"2021-week_45\", \"2021-week_46\", \"2021-week_47\", \"2021-week_48\", \"2021-week_49\", \"2021-week_50\", \"2021-week_51\", \"2022-week_01\", \"2022-week_02\", \"2022-week_03\", \"2022-week_04\", \"2022-week_05\", \"2022-week_06\", \"2022-week_52\"], \"y\": [0.03629144608526052, 0.03374852132767379, 0.031308703819661866, 0.018763029881862403, 0.012854363535297387, 0.008712622847982156, 0.0076997780244173145, 0.006455643481882549, 0.00674547983310153, 0.006816917084028937, 0.005568316280364725, 0.005384991957479544, 0.00574792243767313, 0.004320557491289199, 0.004443827246215803, 0.005554012774229381, 0.007463207086559252, 0.004859761177450708, 0.003358063256540414, 0.003475842891901286, 0.0029813492338625807, 0.00447021023957533, 0.004315445117282661, 0.003899178387411224, 0.004169851970255056, 0.004205900816070308]}, {\"marker\": {\"color\": \"rgba(128, 177, 211, 0.6)\", \"line\": {\"color\": \"rgba(128, 177, 211, 0.7)\", \"width\": 1}}, \"name\": \"Tab Solutions\", \"orientation\": \"v\", \"text\": \"\", \"type\": \"bar\", \"x\": [\"2021-week_33\", \"2021-week_34\", \"2021-week_35\", \"2021-week_36\", \"2021-week_37\", \"2021-week_38\", \"2021-week_39\", \"2021-week_40\", \"2021-week_41\", \"2021-week_42\", \"2021-week_43\", \"2021-week_44\", \"2021-week_45\", \"2021-week_46\", \"2021-week_47\", \"2021-week_48\", \"2021-week_49\", \"2021-week_50\", \"2021-week_51\", \"2022-week_01\", \"2022-week_02\", \"2022-week_03\", \"2022-week_04\", \"2022-week_05\", \"2022-week_06\", \"2022-week_52\"], \"y\": [0.0672192811368069, 0.054345557024563354, 0.04981562652195088, 0.055524669909659485, 0.05885214007782101, 0.04000836411793406, 0.05292730299667037, 0.06774954879911148, 0.0672461752433936, 0.047996661101836396, 0.04719148047609104, 0.05063291139240506, 0.04113573407202216, 0.014355400696864112, 0.016594917372587142, 0.0197167453485143, 0.031317569923972936, 0.02256317689530686, 0.019992190550566186, 0.010983663538408064, 0.012618733966581155, 0.01494726548858001, 0.016565740934085055, 0.01392563709789723, 0.01709639307804573, 0.013998744507219083]}, {\"marker\": {\"color\": \"rgba(255, 153, 51, 0.6)\", \"line\": {\"color\": \"rgba(255, 153, 51, 0.7)\", \"width\": 1}}, \"name\": \"VarVee\", \"orientation\": \"v\", \"text\": \"\", \"type\": \"bar\", \"x\": [\"2021-week_33\", \"2021-week_34\", \"2021-week_35\", \"2021-week_36\", \"2021-week_37\", \"2021-week_38\", \"2021-week_39\", \"2021-week_40\", \"2021-week_41\", \"2021-week_42\", \"2021-week_43\", \"2021-week_44\", \"2021-week_45\", \"2021-week_46\", \"2021-week_47\", \"2021-week_48\", \"2021-week_49\", \"2021-week_50\", \"2021-week_51\", \"2022-week_01\", \"2022-week_02\", \"2022-week_03\", \"2022-week_04\", \"2022-week_05\", \"2022-week_06\", \"2022-week_52\"], \"y\": [0.00229869044302034, 0.004662166863822976, 0.004870242816391846, 0.006879777623349548, 0.0074346859366314615, 0.007179201226737297, 0.005063817980022198, 0.004789670970428988, 0.005563282336578581, 0.0023650528658875902, 0.0029929700006960393, 0.003217008182390377, 0.003601108033240997, 0.0024390243902439024, 0.002707957228162755, 0.0017356289919466814, 0.0004882471925786427, 0.0006248264371008053, 0.00046856696602889497, 0.00027806743135210286, 0.0006933370311308326, 0.0007683173849270099, 0.0010440593025683859, 0.0007659100403843476, 0.0006949753283758427, 0.0003766478342749529]}, {\"marker\": {\"color\": \"rgba(55, 128, 191, 0.6)\", \"line\": {\"color\": \"rgba(55, 128, 191, 0.7)\", \"width\": 1}}, \"name\": \"aPriori Technologies\", \"orientation\": \"v\", \"text\": \"\", \"type\": \"bar\", \"x\": [\"2021-week_33\", \"2021-week_34\", \"2021-week_35\", \"2021-week_36\", \"2021-week_37\", \"2021-week_38\", \"2021-week_39\", \"2021-week_40\", \"2021-week_41\", \"2021-week_42\", \"2021-week_43\", \"2021-week_44\", \"2021-week_45\", \"2021-week_46\", \"2021-week_47\", \"2021-week_48\", \"2021-week_49\", \"2021-week_50\", \"2021-week_51\", \"2022-week_01\", \"2022-week_02\", \"2022-week_03\", \"2022-week_04\", \"2022-week_05\", \"2022-week_06\", \"2022-week_52\"], \"y\": [0.002995263304541655, 0.0029225523623964927, 0.003965769150490503, 0.0029881862404447534, 0.0027098387993329627, 0.002439534397435004, 0.0039539400665926745, 0.004442593363876163, 0.0035465924895688454, 0.002295492487479132, 0.002853762093686921, 0.002307853696062662, 0.003670360110803324, 0.005156794425087108, 0.004999305651992779, 0.003262982504859761, 0.0034874799469903047, 0.00354068314357123, 0.004139008199921906, 0.0032672923183872087, 0.002010677390279415, 0.0017461758748341133, 0.0020881186051367718, 0.002297730121153043, 0.002015428452289944, 0.0038292529817953547]}, {\"marker\": {\"color\": \"rgba(50, 171, 96, 0.6)\", \"line\": {\"color\": \"rgba(50, 171, 96, 0.7)\", \"width\": 1}}, \"name\": \"iDreamsky Technology\", \"orientation\": \"v\", \"text\": \"\", \"type\": \"bar\", \"x\": [\"2021-week_33\", \"2021-week_34\", \"2021-week_35\", \"2021-week_36\", \"2021-week_37\", \"2021-week_38\", \"2021-week_39\", \"2021-week_40\", \"2021-week_41\", \"2021-week_42\", \"2021-week_43\", \"2021-week_44\", \"2021-week_45\", \"2021-week_46\", \"2021-week_47\", \"2021-week_48\", \"2021-week_49\", \"2021-week_50\", \"2021-week_51\", \"2022-week_01\", \"2022-week_02\", \"2022-week_03\", \"2022-week_04\", \"2022-week_05\", \"2022-week_06\", \"2022-week_52\"], \"y\": [0.021872387851769294, 0.021153712337346045, 0.035761497251791556, 0.04211257817929118, 0.04175931072818232, 0.05123022234613508, 0.04557436182019978, 0.042759961127308066, 0.032753824756606396, 0.018433500278241515, 0.018932275353240064, 0.020560878383103713, 0.0260387811634349, 0.04494773519163763, 0.08734897930842939, 0.036239933351846706, 0.02483085722257097, 0.02513190780338795, 0.026395939086294416, 0.024261383385470976, 0.021770782777508147, 0.01990640497310889, 0.016356929073571377, 0.016362623590029244, 0.018555841267634997, 0.02366603892027621]}],                        {\"barmode\": \"stack\", \"legend\": {\"bgcolor\": \"#F5F6F9\", \"font\": {\"color\": \"#4D5663\"}, \"traceorder\": \"normal\"}, \"paper_bgcolor\": \"#F5F6F9\", \"plot_bgcolor\": \"#F5F6F9\", \"template\": {\"data\": {\"bar\": [{\"error_x\": {\"color\": \"#2a3f5f\"}, \"error_y\": {\"color\": \"#2a3f5f\"}, \"marker\": {\"line\": {\"color\": \"#E5ECF6\", \"width\": 0.5}}, \"type\": \"bar\"}], \"barpolar\": [{\"marker\": {\"line\": {\"color\": \"#E5ECF6\", \"width\": 0.5}}, \"type\": \"barpolar\"}], \"carpet\": [{\"aaxis\": {\"endlinecolor\": \"#2a3f5f\", \"gridcolor\": \"white\", \"linecolor\": \"white\", \"minorgridcolor\": \"white\", \"startlinecolor\": \"#2a3f5f\"}, \"baxis\": {\"endlinecolor\": \"#2a3f5f\", \"gridcolor\": \"white\", \"linecolor\": \"white\", \"minorgridcolor\": \"white\", \"startlinecolor\": \"#2a3f5f\"}, \"type\": \"carpet\"}], \"choropleth\": [{\"colorbar\": {\"outlinewidth\": 0, \"ticks\": \"\"}, \"type\": \"choropleth\"}], \"contour\": [{\"colorbar\": {\"outlinewidth\": 0, \"ticks\": \"\"}, \"colorscale\": [[0.0, \"#0d0887\"], [0.1111111111111111, \"#46039f\"], [0.2222222222222222, \"#7201a8\"], [0.3333333333333333, \"#9c179e\"], [0.4444444444444444, \"#bd3786\"], [0.5555555555555556, \"#d8576b\"], [0.6666666666666666, \"#ed7953\"], [0.7777777777777778, \"#fb9f3a\"], [0.8888888888888888, \"#fdca26\"], [1.0, \"#f0f921\"]], \"type\": \"contour\"}], \"contourcarpet\": [{\"colorbar\": {\"outlinewidth\": 0, \"ticks\": \"\"}, \"type\": \"contourcarpet\"}], \"heatmap\": [{\"colorbar\": {\"outlinewidth\": 0, \"ticks\": \"\"}, \"colorscale\": [[0.0, \"#0d0887\"], [0.1111111111111111, \"#46039f\"], [0.2222222222222222, \"#7201a8\"], [0.3333333333333333, \"#9c179e\"], [0.4444444444444444, \"#bd3786\"], [0.5555555555555556, \"#d8576b\"], [0.6666666666666666, \"#ed7953\"], [0.7777777777777778, \"#fb9f3a\"], [0.8888888888888888, \"#fdca26\"], [1.0, \"#f0f921\"]], \"type\": \"heatmap\"}], \"heatmapgl\": [{\"colorbar\": {\"outlinewidth\": 0, \"ticks\": \"\"}, \"colorscale\": [[0.0, \"#0d0887\"], [0.1111111111111111, \"#46039f\"], [0.2222222222222222, \"#7201a8\"], [0.3333333333333333, \"#9c179e\"], [0.4444444444444444, \"#bd3786\"], [0.5555555555555556, \"#d8576b\"], [0.6666666666666666, \"#ed7953\"], [0.7777777777777778, \"#fb9f3a\"], [0.8888888888888888, \"#fdca26\"], [1.0, \"#f0f921\"]], \"type\": \"heatmapgl\"}], \"histogram\": [{\"marker\": {\"colorbar\": {\"outlinewidth\": 0, \"ticks\": \"\"}}, \"type\": \"histogram\"}], \"histogram2d\": [{\"colorbar\": {\"outlinewidth\": 0, \"ticks\": \"\"}, \"colorscale\": [[0.0, \"#0d0887\"], [0.1111111111111111, \"#46039f\"], [0.2222222222222222, \"#7201a8\"], [0.3333333333333333, \"#9c179e\"], [0.4444444444444444, \"#bd3786\"], [0.5555555555555556, \"#d8576b\"], [0.6666666666666666, \"#ed7953\"], [0.7777777777777778, \"#fb9f3a\"], [0.8888888888888888, \"#fdca26\"], [1.0, \"#f0f921\"]], \"type\": \"histogram2d\"}], \"histogram2dcontour\": [{\"colorbar\": {\"outlinewidth\": 0, \"ticks\": \"\"}, \"colorscale\": [[0.0, \"#0d0887\"], [0.1111111111111111, \"#46039f\"], [0.2222222222222222, \"#7201a8\"], [0.3333333333333333, \"#9c179e\"], [0.4444444444444444, \"#bd3786\"], [0.5555555555555556, \"#d8576b\"], [0.6666666666666666, \"#ed7953\"], [0.7777777777777778, \"#fb9f3a\"], [0.8888888888888888, \"#fdca26\"], [1.0, \"#f0f921\"]], \"type\": \"histogram2dcontour\"}], \"mesh3d\": [{\"colorbar\": {\"outlinewidth\": 0, \"ticks\": \"\"}, \"type\": \"mesh3d\"}], \"parcoords\": [{\"line\": {\"colorbar\": {\"outlinewidth\": 0, \"ticks\": \"\"}}, \"type\": \"parcoords\"}], \"pie\": [{\"automargin\": true, \"type\": \"pie\"}], \"scatter\": [{\"marker\": {\"colorbar\": {\"outlinewidth\": 0, \"ticks\": \"\"}}, \"type\": \"scatter\"}], \"scatter3d\": [{\"line\": {\"colorbar\": {\"outlinewidth\": 0, \"ticks\": \"\"}}, \"marker\": {\"colorbar\": {\"outlinewidth\": 0, \"ticks\": \"\"}}, \"type\": \"scatter3d\"}], \"scattercarpet\": [{\"marker\": {\"colorbar\": {\"outlinewidth\": 0, \"ticks\": \"\"}}, \"type\": \"scattercarpet\"}], \"scattergeo\": [{\"marker\": {\"colorbar\": {\"outlinewidth\": 0, \"ticks\": \"\"}}, \"type\": \"scattergeo\"}], \"scattergl\": [{\"marker\": {\"colorbar\": {\"outlinewidth\": 0, \"ticks\": \"\"}}, \"type\": \"scattergl\"}], \"scattermapbox\": [{\"marker\": {\"colorbar\": {\"outlinewidth\": 0, \"ticks\": \"\"}}, \"type\": \"scattermapbox\"}], \"scatterpolar\": [{\"marker\": {\"colorbar\": {\"outlinewidth\": 0, \"ticks\": \"\"}}, \"type\": \"scatterpolar\"}], \"scatterpolargl\": [{\"marker\": {\"colorbar\": {\"outlinewidth\": 0, \"ticks\": \"\"}}, \"type\": \"scatterpolargl\"}], \"scatterternary\": [{\"marker\": {\"colorbar\": {\"outlinewidth\": 0, \"ticks\": \"\"}}, \"type\": \"scatterternary\"}], \"surface\": [{\"colorbar\": {\"outlinewidth\": 0, \"ticks\": \"\"}, \"colorscale\": [[0.0, \"#0d0887\"], [0.1111111111111111, \"#46039f\"], [0.2222222222222222, \"#7201a8\"], [0.3333333333333333, \"#9c179e\"], [0.4444444444444444, \"#bd3786\"], [0.5555555555555556, \"#d8576b\"], [0.6666666666666666, \"#ed7953\"], [0.7777777777777778, \"#fb9f3a\"], [0.8888888888888888, \"#fdca26\"], [1.0, \"#f0f921\"]], \"type\": \"surface\"}], \"table\": [{\"cells\": {\"fill\": {\"color\": \"#EBF0F8\"}, \"line\": {\"color\": \"white\"}}, \"header\": {\"fill\": {\"color\": \"#C8D4E3\"}, \"line\": {\"color\": \"white\"}}, \"type\": \"table\"}]}, \"layout\": {\"annotationdefaults\": {\"arrowcolor\": \"#2a3f5f\", \"arrowhead\": 0, \"arrowwidth\": 1}, \"autotypenumbers\": \"strict\", \"coloraxis\": {\"colorbar\": {\"outlinewidth\": 0, \"ticks\": \"\"}}, \"colorscale\": {\"diverging\": [[0, \"#8e0152\"], [0.1, \"#c51b7d\"], [0.2, \"#de77ae\"], [0.3, \"#f1b6da\"], [0.4, \"#fde0ef\"], [0.5, \"#f7f7f7\"], [0.6, \"#e6f5d0\"], [0.7, \"#b8e186\"], [0.8, \"#7fbc41\"], [0.9, \"#4d9221\"], [1, \"#276419\"]], \"sequential\": [[0.0, \"#0d0887\"], [0.1111111111111111, \"#46039f\"], [0.2222222222222222, \"#7201a8\"], [0.3333333333333333, \"#9c179e\"], [0.4444444444444444, \"#bd3786\"], [0.5555555555555556, \"#d8576b\"], [0.6666666666666666, \"#ed7953\"], [0.7777777777777778, \"#fb9f3a\"], [0.8888888888888888, \"#fdca26\"], [1.0, \"#f0f921\"]], \"sequentialminus\": [[0.0, \"#0d0887\"], [0.1111111111111111, \"#46039f\"], [0.2222222222222222, \"#7201a8\"], [0.3333333333333333, \"#9c179e\"], [0.4444444444444444, \"#bd3786\"], [0.5555555555555556, \"#d8576b\"], [0.6666666666666666, \"#ed7953\"], [0.7777777777777778, \"#fb9f3a\"], [0.8888888888888888, \"#fdca26\"], [1.0, \"#f0f921\"]]}, \"colorway\": [\"#636efa\", \"#EF553B\", \"#00cc96\", \"#ab63fa\", \"#FFA15A\", \"#19d3f3\", \"#FF6692\", \"#B6E880\", \"#FF97FF\", \"#FECB52\"], \"font\": {\"color\": \"#2a3f5f\"}, \"geo\": {\"bgcolor\": \"white\", \"lakecolor\": \"white\", \"landcolor\": \"#E5ECF6\", \"showlakes\": true, \"showland\": true, \"subunitcolor\": \"white\"}, \"hoverlabel\": {\"align\": \"left\"}, \"hovermode\": \"closest\", \"mapbox\": {\"style\": \"light\"}, \"paper_bgcolor\": \"white\", \"plot_bgcolor\": \"#E5ECF6\", \"polar\": {\"angularaxis\": {\"gridcolor\": \"white\", \"linecolor\": \"white\", \"ticks\": \"\"}, \"bgcolor\": \"#E5ECF6\", \"radialaxis\": {\"gridcolor\": \"white\", \"linecolor\": \"white\", \"ticks\": \"\"}}, \"scene\": {\"xaxis\": {\"backgroundcolor\": \"#E5ECF6\", \"gridcolor\": \"white\", \"gridwidth\": 2, \"linecolor\": \"white\", \"showbackground\": true, \"ticks\": \"\", \"zerolinecolor\": \"white\"}, \"yaxis\": {\"backgroundcolor\": \"#E5ECF6\", \"gridcolor\": \"white\", \"gridwidth\": 2, \"linecolor\": \"white\", \"showbackground\": true, \"ticks\": \"\", \"zerolinecolor\": \"white\"}, \"zaxis\": {\"backgroundcolor\": \"#E5ECF6\", \"gridcolor\": \"white\", \"gridwidth\": 2, \"linecolor\": \"white\", \"showbackground\": true, \"ticks\": \"\", \"zerolinecolor\": \"white\"}}, \"shapedefaults\": {\"line\": {\"color\": \"#2a3f5f\"}}, \"ternary\": {\"aaxis\": {\"gridcolor\": \"white\", \"linecolor\": \"white\", \"ticks\": \"\"}, \"baxis\": {\"gridcolor\": \"white\", \"linecolor\": \"white\", \"ticks\": \"\"}, \"bgcolor\": \"#E5ECF6\", \"caxis\": {\"gridcolor\": \"white\", \"linecolor\": \"white\", \"ticks\": \"\"}}, \"title\": {\"x\": 0.05}, \"xaxis\": {\"automargin\": true, \"gridcolor\": \"white\", \"linecolor\": \"white\", \"ticks\": \"\", \"title\": {\"standoff\": 15}, \"zerolinecolor\": \"white\", \"zerolinewidth\": 2}, \"yaxis\": {\"automargin\": true, \"gridcolor\": \"white\", \"linecolor\": \"white\", \"ticks\": \"\", \"title\": {\"standoff\": 15}, \"zerolinecolor\": \"white\", \"zerolinewidth\": 2}}}, \"title\": {\"font\": {\"color\": \"#4D5663\"}}, \"xaxis\": {\"gridcolor\": \"#E1E5ED\", \"showgrid\": true, \"tickfont\": {\"color\": \"#4D5663\"}, \"title\": {\"font\": {\"color\": \"#4D5663\"}, \"text\": \"\"}, \"zerolinecolor\": \"#E1E5ED\"}, \"yaxis\": {\"gridcolor\": \"#E1E5ED\", \"showgrid\": true, \"tickfont\": {\"color\": \"#4D5663\"}, \"title\": {\"font\": {\"color\": \"#4D5663\"}, \"text\": \"\"}, \"zerolinecolor\": \"#E1E5ED\"}},                        {\"showLink\": true, \"linkText\": \"Export to plot.ly\", \"plotlyServerURL\": \"https://plot.ly\", \"responsive\": true}                    ).then(function(){\n",
       "                            \n",
       "var gd = document.getElementById('87e783d2-8496-4ebd-b03e-132298be48dd');\n",
       "var x = new MutationObserver(function (mutations, observer) {{\n",
       "        var display = window.getComputedStyle(gd).display;\n",
       "        if (!display || display === 'none') {{\n",
       "            console.log([gd, 'removed!']);\n",
       "            Plotly.purge(gd);\n",
       "            observer.disconnect();\n",
       "        }}\n",
       "}});\n",
       "\n",
       "// Listen for the removal of the full notebook cells\n",
       "var notebookContainer = gd.closest('#notebook-container');\n",
       "if (notebookContainer) {{\n",
       "    x.observe(notebookContainer, {childList: true});\n",
       "}}\n",
       "\n",
       "// Listen for the clearing of the current output cell\n",
       "var outputEl = gd.closest('.output');\n",
       "if (outputEl) {{\n",
       "    x.observe(outputEl, {childList: true});\n",
       "}}\n",
       "\n",
       "                        })                };                });            </script>        </div>"
      ]
     },
     "metadata": {},
     "output_type": "display_data"
    }
   ],
   "source": []
  },
  {
   "cell_type": "markdown",
   "id": "a0a44ecb-56c0-4341-94f7-0642ebf71d85",
   "metadata": {},
   "source": [
    "## Appendix"
   ]
  },
  {
   "cell_type": "markdown",
   "id": "0f8d9f04-e707-42ed-b09c-8edbf46a820e",
   "metadata": {},
   "source": [
    "Code to create weekly files:"
   ]
  },
  {
   "cell_type": "code",
   "execution_count": null,
   "id": "4d91c99c-0649-459d-ae1c-5b7cce5a6177",
   "metadata": {},
   "outputs": [
    {
     "ename": "NameError",
     "evalue": "name 'ad_recs_annotated' is not defined",
     "output_type": "error",
     "traceback": [
      "\u001b[1;31m---------------------------------------------------------------------------\u001b[0m",
      "\u001b[1;31mNameError\u001b[0m                                 Traceback (most recent call last)",
      "\u001b[1;32m~\\AppData\\Local\\Temp\\ipykernel_12780\\3481442114.py\u001b[0m in \u001b[0;36m<module>\u001b[1;34m\u001b[0m\n\u001b[1;32m----> 1\u001b[1;33m \u001b[1;32mfor\u001b[0m \u001b[0ml\u001b[0m \u001b[1;32min\u001b[0m \u001b[0mad_recs_annotated\u001b[0m\u001b[1;33m.\u001b[0m\u001b[0mregion\u001b[0m\u001b[1;33m.\u001b[0m\u001b[0munique\u001b[0m\u001b[1;33m(\u001b[0m\u001b[1;33m)\u001b[0m\u001b[1;33m:\u001b[0m\u001b[1;33m\u001b[0m\u001b[1;33m\u001b[0m\u001b[0m\n\u001b[0m\u001b[0;32m      2\u001b[0m        \u001b[1;32mfor\u001b[0m \u001b[0mw\u001b[0m \u001b[1;32min\u001b[0m \u001b[0mad_recs_annotated\u001b[0m\u001b[1;33m.\u001b[0m\u001b[0mweek_id\u001b[0m\u001b[1;33m.\u001b[0m\u001b[0munique\u001b[0m\u001b[1;33m(\u001b[0m\u001b[1;33m)\u001b[0m\u001b[1;33m:\u001b[0m\u001b[1;33m\u001b[0m\u001b[1;33m\u001b[0m\u001b[0m\n\u001b[0;32m      3\u001b[0m         \u001b[0mw_id\u001b[0m \u001b[1;33m=\u001b[0m \u001b[0mw\u001b[0m\u001b[1;33m.\u001b[0m\u001b[0msplit\u001b[0m\u001b[1;33m(\u001b[0m\u001b[1;34m'_'\u001b[0m\u001b[1;33m)\u001b[0m\u001b[1;33m[\u001b[0m\u001b[1;36m1\u001b[0m\u001b[1;33m]\u001b[0m\u001b[1;33m\u001b[0m\u001b[1;33m\u001b[0m\u001b[0m\n\u001b[0;32m      4\u001b[0m         \u001b[0my\u001b[0m \u001b[1;33m=\u001b[0m \u001b[0mw\u001b[0m\u001b[1;33m.\u001b[0m\u001b[0msplit\u001b[0m\u001b[1;33m(\u001b[0m\u001b[1;34m'-'\u001b[0m\u001b[1;33m)\u001b[0m\u001b[1;33m[\u001b[0m\u001b[1;36m0\u001b[0m\u001b[1;33m]\u001b[0m\u001b[1;33m\u001b[0m\u001b[1;33m\u001b[0m\u001b[0m\n\u001b[0;32m      5\u001b[0m         \u001b[0mquery\u001b[0m \u001b[1;33m=\u001b[0m \u001b[1;34mf'week_id == \"{w}\" and region == \"{l}\"'\u001b[0m\u001b[1;33m\u001b[0m\u001b[1;33m\u001b[0m\u001b[0m\n",
      "\u001b[1;31mNameError\u001b[0m: name 'ad_recs_annotated' is not defined"
     ]
    }
   ],
   "source": [
    "# for l in ad_recs_annotated.region.unique():\n",
    "#     for w in ad_recs_annotated.week_id.unique():\n",
    "#         w_id = w.split('_')[1]\n",
    "#         y = w.split('-')[0]\n",
    "#         query = f'week_id == \"{w}\" and region == \"{l}\"'\n",
    "#         sample_f_name = f'{y}_{w_id}_{l}__Sample.csv'\n",
    "#         ad_recs_annotated.query(query)[['week_id','ad_id','requester','region','recommendation_type', 'rec_provider']].to_csv(f'data/weekly/{sample_f_name}', index=False)\n",
    "#         for s in ad_recs_annotated.recommendation_type.unique():\n",
    "#             ann_f_name = f'{y}_{w_id}_{l}_{s}_annotation_result.csv'\n",
    "#             query = f'week_id == \"{w}\" and region == \"{l}\" and recommendation_type == \"{s}\"'\n",
    "#             sss = ad_recs_annotated.query(query)\n",
    "#             if sss.empty:\n",
    "#                 continue            \n",
    "#             sss[['region','ad_id','is_success','is_sever']].drop_duplicates(subset=['ad_id']).to_csv(f'data/weekly/{ann_f_name}', index=False)"
   ]
  },
  {
   "cell_type": "code",
   "execution_count": null,
   "id": "9add90ce-739f-4dce-9892-f14d07022f20",
   "metadata": {},
   "outputs": [],
   "source": []
  },
  {
   "cell_type": "code",
   "execution_count": null,
   "id": "e54738ff-4d29-4487-b42c-ee048bd0be54",
   "metadata": {},
   "outputs": [],
   "source": []
  }
 ],
 "metadata": {
  "kernelspec": {
   "display_name": "Python 3 (ipykernel)",
   "language": "python",
   "name": "python3"
  },
  "language_info": {
   "codemirror_mode": {
    "name": "ipython",
    "version": 3
   },
   "file_extension": ".py",
   "mimetype": "text/x-python",
   "name": "python",
   "nbconvert_exporter": "python",
   "pygments_lexer": "ipython3",
   "version": "3.9.13"
  }
 },
 "nbformat": 4,
 "nbformat_minor": 5
}
